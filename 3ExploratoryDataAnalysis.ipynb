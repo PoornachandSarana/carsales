{
 "cells": [
  {
   "cell_type": "code",
   "execution_count": 1,
   "id": "17b9e951",
   "metadata": {},
   "outputs": [],
   "source": [
    "import pandas as pd\n",
    "import numpy as np\n",
    "from pandas import DataFrame\n",
    "import seaborn as sns\n",
    "import matplotlib.pyplot as plt\n",
    "%matplotlib inline"
   ]
  },
  {
   "cell_type": "code",
   "execution_count": 2,
   "id": "db9a8fb0",
   "metadata": {},
   "outputs": [],
   "source": [
    "df=pd.read_csv(\"Car_sales_details_P3.csv\")"
   ]
  },
  {
   "cell_type": "code",
   "execution_count": 3,
   "id": "91b70fc4",
   "metadata": {},
   "outputs": [
    {
     "data": {
      "text/html": [
       "<div>\n",
       "<style scoped>\n",
       "    .dataframe tbody tr th:only-of-type {\n",
       "        vertical-align: middle;\n",
       "    }\n",
       "\n",
       "    .dataframe tbody tr th {\n",
       "        vertical-align: top;\n",
       "    }\n",
       "\n",
       "    .dataframe thead th {\n",
       "        text-align: right;\n",
       "    }\n",
       "</style>\n",
       "<table border=\"1\" class=\"dataframe\">\n",
       "  <thead>\n",
       "    <tr style=\"text-align: right;\">\n",
       "      <th></th>\n",
       "      <th>Sales_ID</th>\n",
       "      <th>name</th>\n",
       "      <th>year</th>\n",
       "      <th>selling_price</th>\n",
       "      <th>km_driven</th>\n",
       "      <th>State or Province</th>\n",
       "      <th>City</th>\n",
       "      <th>fuel</th>\n",
       "      <th>seller_type</th>\n",
       "      <th>transmission</th>\n",
       "      <th>owner</th>\n",
       "      <th>mileage</th>\n",
       "      <th>engine</th>\n",
       "      <th>max_power</th>\n",
       "      <th>seats</th>\n",
       "    </tr>\n",
       "  </thead>\n",
       "  <tbody>\n",
       "    <tr>\n",
       "      <th>0</th>\n",
       "      <td>1</td>\n",
       "      <td>Maruti Swift Dzire VDI</td>\n",
       "      <td>2014</td>\n",
       "      <td>450000</td>\n",
       "      <td>145500</td>\n",
       "      <td>District of Columbia</td>\n",
       "      <td>Washington</td>\n",
       "      <td>Diesel</td>\n",
       "      <td>Individual</td>\n",
       "      <td>Manual</td>\n",
       "      <td>First Owner</td>\n",
       "      <td>23.4 kmpl</td>\n",
       "      <td>1248 CC</td>\n",
       "      <td>74 bhp</td>\n",
       "      <td>5</td>\n",
       "    </tr>\n",
       "    <tr>\n",
       "      <th>1</th>\n",
       "      <td>2</td>\n",
       "      <td>Skoda Rapid 1.5 TDI Ambition</td>\n",
       "      <td>2014</td>\n",
       "      <td>370000</td>\n",
       "      <td>120000</td>\n",
       "      <td>New York</td>\n",
       "      <td>New York City</td>\n",
       "      <td>Diesel</td>\n",
       "      <td>Individual</td>\n",
       "      <td>Manual</td>\n",
       "      <td>Second Owner</td>\n",
       "      <td>21.14 kmpl</td>\n",
       "      <td>1498 CC</td>\n",
       "      <td>103.52 bhp</td>\n",
       "      <td>5</td>\n",
       "    </tr>\n",
       "    <tr>\n",
       "      <th>2</th>\n",
       "      <td>3</td>\n",
       "      <td>Honda City 2017-2020 EXi</td>\n",
       "      <td>2006</td>\n",
       "      <td>158000</td>\n",
       "      <td>140000</td>\n",
       "      <td>Illinois</td>\n",
       "      <td>Chicago</td>\n",
       "      <td>Petrol</td>\n",
       "      <td>Individual</td>\n",
       "      <td>Manual</td>\n",
       "      <td>Third Owner</td>\n",
       "      <td>17.7 kmpl</td>\n",
       "      <td>1497 CC</td>\n",
       "      <td>78 bhp</td>\n",
       "      <td>5</td>\n",
       "    </tr>\n",
       "    <tr>\n",
       "      <th>3</th>\n",
       "      <td>4</td>\n",
       "      <td>Hyundai i20 Sportz Diesel</td>\n",
       "      <td>2010</td>\n",
       "      <td>225000</td>\n",
       "      <td>127000</td>\n",
       "      <td>Illinois</td>\n",
       "      <td>Chicago</td>\n",
       "      <td>Diesel</td>\n",
       "      <td>Individual</td>\n",
       "      <td>Manual</td>\n",
       "      <td>First Owner</td>\n",
       "      <td>23.0 kmpl</td>\n",
       "      <td>1396 CC</td>\n",
       "      <td>90 bhp</td>\n",
       "      <td>5</td>\n",
       "    </tr>\n",
       "    <tr>\n",
       "      <th>4</th>\n",
       "      <td>5</td>\n",
       "      <td>Maruti Swift VXI BSIII</td>\n",
       "      <td>2007</td>\n",
       "      <td>130000</td>\n",
       "      <td>120000</td>\n",
       "      <td>New York</td>\n",
       "      <td>New York City</td>\n",
       "      <td>Petrol</td>\n",
       "      <td>Individual</td>\n",
       "      <td>Manual</td>\n",
       "      <td>First Owner</td>\n",
       "      <td>16.1 kmpl</td>\n",
       "      <td>1298 CC</td>\n",
       "      <td>88.2 bhp</td>\n",
       "      <td>5</td>\n",
       "    </tr>\n",
       "  </tbody>\n",
       "</table>\n",
       "</div>"
      ],
      "text/plain": [
       "   Sales_ID                          name  year  selling_price  km_driven  \\\n",
       "0         1        Maruti Swift Dzire VDI  2014         450000     145500   \n",
       "1         2  Skoda Rapid 1.5 TDI Ambition  2014         370000     120000   \n",
       "2         3      Honda City 2017-2020 EXi  2006         158000     140000   \n",
       "3         4     Hyundai i20 Sportz Diesel  2010         225000     127000   \n",
       "4         5        Maruti Swift VXI BSIII  2007         130000     120000   \n",
       "\n",
       "      State or Province           City    fuel seller_type transmission  \\\n",
       "0  District of Columbia     Washington  Diesel  Individual       Manual   \n",
       "1              New York  New York City  Diesel  Individual       Manual   \n",
       "2              Illinois        Chicago  Petrol  Individual       Manual   \n",
       "3              Illinois        Chicago  Diesel  Individual       Manual   \n",
       "4              New York  New York City  Petrol  Individual       Manual   \n",
       "\n",
       "          owner     mileage   engine   max_power  seats  \n",
       "0   First Owner   23.4 kmpl  1248 CC      74 bhp      5  \n",
       "1  Second Owner  21.14 kmpl  1498 CC  103.52 bhp      5  \n",
       "2   Third Owner   17.7 kmpl  1497 CC      78 bhp      5  \n",
       "3   First Owner   23.0 kmpl  1396 CC      90 bhp      5  \n",
       "4   First Owner   16.1 kmpl  1298 CC    88.2 bhp      5  "
      ]
     },
     "execution_count": 3,
     "metadata": {},
     "output_type": "execute_result"
    }
   ],
   "source": [
    "df.head()"
   ]
  },
  {
   "cell_type": "code",
   "execution_count": 4,
   "id": "b33ca46e",
   "metadata": {},
   "outputs": [
    {
     "data": {
      "text/plain": [
       "Sales_ID             0\n",
       "name                 0\n",
       "year                 0\n",
       "selling_price        0\n",
       "km_driven            0\n",
       "State or Province    0\n",
       "City                 0\n",
       "fuel                 0\n",
       "seller_type          0\n",
       "transmission         0\n",
       "owner                0\n",
       "mileage              0\n",
       "engine               0\n",
       "max_power            0\n",
       "seats                0\n",
       "dtype: int64"
      ]
     },
     "execution_count": 4,
     "metadata": {},
     "output_type": "execute_result"
    }
   ],
   "source": [
    "df.isnull().sum()"
   ]
  },
  {
   "cell_type": "code",
   "execution_count": 5,
   "id": "7bcf161b",
   "metadata": {},
   "outputs": [],
   "source": [
    "df1=pd.read_csv(\"sales_Status_p3.csv\")"
   ]
  },
  {
   "cell_type": "code",
   "execution_count": 6,
   "id": "6e5e8b56",
   "metadata": {},
   "outputs": [
    {
     "data": {
      "text/html": [
       "<div>\n",
       "<style scoped>\n",
       "    .dataframe tbody tr th:only-of-type {\n",
       "        vertical-align: middle;\n",
       "    }\n",
       "\n",
       "    .dataframe tbody tr th {\n",
       "        vertical-align: top;\n",
       "    }\n",
       "\n",
       "    .dataframe thead th {\n",
       "        text-align: right;\n",
       "    }\n",
       "</style>\n",
       "<table border=\"1\" class=\"dataframe\">\n",
       "  <thead>\n",
       "    <tr style=\"text-align: right;\">\n",
       "      <th></th>\n",
       "      <th>Sales_ID</th>\n",
       "      <th>sold</th>\n",
       "    </tr>\n",
       "  </thead>\n",
       "  <tbody>\n",
       "    <tr>\n",
       "      <th>0</th>\n",
       "      <td>1</td>\n",
       "      <td>Y</td>\n",
       "    </tr>\n",
       "    <tr>\n",
       "      <th>1</th>\n",
       "      <td>2</td>\n",
       "      <td>Y</td>\n",
       "    </tr>\n",
       "    <tr>\n",
       "      <th>2</th>\n",
       "      <td>3</td>\n",
       "      <td>Y</td>\n",
       "    </tr>\n",
       "    <tr>\n",
       "      <th>3</th>\n",
       "      <td>4</td>\n",
       "      <td>Y</td>\n",
       "    </tr>\n",
       "    <tr>\n",
       "      <th>4</th>\n",
       "      <td>5</td>\n",
       "      <td>Y</td>\n",
       "    </tr>\n",
       "  </tbody>\n",
       "</table>\n",
       "</div>"
      ],
      "text/plain": [
       "   Sales_ID sold\n",
       "0         1    Y\n",
       "1         2    Y\n",
       "2         3    Y\n",
       "3         4    Y\n",
       "4         5    Y"
      ]
     },
     "execution_count": 6,
     "metadata": {},
     "output_type": "execute_result"
    }
   ],
   "source": [
    "df1.head()"
   ]
  },
  {
   "cell_type": "code",
   "execution_count": 7,
   "id": "06acc1df",
   "metadata": {},
   "outputs": [
    {
     "data": {
      "text/plain": [
       "Sales_ID    0\n",
       "sold        0\n",
       "dtype: int64"
      ]
     },
     "execution_count": 7,
     "metadata": {},
     "output_type": "execute_result"
    }
   ],
   "source": [
    "df1.isnull().sum()"
   ]
  },
  {
   "cell_type": "code",
   "execution_count": 8,
   "id": "91e071b7",
   "metadata": {},
   "outputs": [],
   "source": [
    "df2=pd.merge(df, df1, on='Sales_ID', how='inner')"
   ]
  },
  {
   "cell_type": "code",
   "execution_count": 9,
   "id": "28b1778b",
   "metadata": {},
   "outputs": [
    {
     "data": {
      "text/html": [
       "<div>\n",
       "<style scoped>\n",
       "    .dataframe tbody tr th:only-of-type {\n",
       "        vertical-align: middle;\n",
       "    }\n",
       "\n",
       "    .dataframe tbody tr th {\n",
       "        vertical-align: top;\n",
       "    }\n",
       "\n",
       "    .dataframe thead th {\n",
       "        text-align: right;\n",
       "    }\n",
       "</style>\n",
       "<table border=\"1\" class=\"dataframe\">\n",
       "  <thead>\n",
       "    <tr style=\"text-align: right;\">\n",
       "      <th></th>\n",
       "      <th>Sales_ID</th>\n",
       "      <th>name</th>\n",
       "      <th>year</th>\n",
       "      <th>selling_price</th>\n",
       "      <th>km_driven</th>\n",
       "      <th>State or Province</th>\n",
       "      <th>City</th>\n",
       "      <th>fuel</th>\n",
       "      <th>seller_type</th>\n",
       "      <th>transmission</th>\n",
       "      <th>owner</th>\n",
       "      <th>mileage</th>\n",
       "      <th>engine</th>\n",
       "      <th>max_power</th>\n",
       "      <th>seats</th>\n",
       "      <th>sold</th>\n",
       "    </tr>\n",
       "  </thead>\n",
       "  <tbody>\n",
       "    <tr>\n",
       "      <th>0</th>\n",
       "      <td>1</td>\n",
       "      <td>Maruti Swift Dzire VDI</td>\n",
       "      <td>2014</td>\n",
       "      <td>450000</td>\n",
       "      <td>145500</td>\n",
       "      <td>District of Columbia</td>\n",
       "      <td>Washington</td>\n",
       "      <td>Diesel</td>\n",
       "      <td>Individual</td>\n",
       "      <td>Manual</td>\n",
       "      <td>First Owner</td>\n",
       "      <td>23.4 kmpl</td>\n",
       "      <td>1248 CC</td>\n",
       "      <td>74 bhp</td>\n",
       "      <td>5</td>\n",
       "      <td>Y</td>\n",
       "    </tr>\n",
       "    <tr>\n",
       "      <th>1</th>\n",
       "      <td>2</td>\n",
       "      <td>Skoda Rapid 1.5 TDI Ambition</td>\n",
       "      <td>2014</td>\n",
       "      <td>370000</td>\n",
       "      <td>120000</td>\n",
       "      <td>New York</td>\n",
       "      <td>New York City</td>\n",
       "      <td>Diesel</td>\n",
       "      <td>Individual</td>\n",
       "      <td>Manual</td>\n",
       "      <td>Second Owner</td>\n",
       "      <td>21.14 kmpl</td>\n",
       "      <td>1498 CC</td>\n",
       "      <td>103.52 bhp</td>\n",
       "      <td>5</td>\n",
       "      <td>Y</td>\n",
       "    </tr>\n",
       "    <tr>\n",
       "      <th>2</th>\n",
       "      <td>3</td>\n",
       "      <td>Honda City 2017-2020 EXi</td>\n",
       "      <td>2006</td>\n",
       "      <td>158000</td>\n",
       "      <td>140000</td>\n",
       "      <td>Illinois</td>\n",
       "      <td>Chicago</td>\n",
       "      <td>Petrol</td>\n",
       "      <td>Individual</td>\n",
       "      <td>Manual</td>\n",
       "      <td>Third Owner</td>\n",
       "      <td>17.7 kmpl</td>\n",
       "      <td>1497 CC</td>\n",
       "      <td>78 bhp</td>\n",
       "      <td>5</td>\n",
       "      <td>Y</td>\n",
       "    </tr>\n",
       "    <tr>\n",
       "      <th>3</th>\n",
       "      <td>4</td>\n",
       "      <td>Hyundai i20 Sportz Diesel</td>\n",
       "      <td>2010</td>\n",
       "      <td>225000</td>\n",
       "      <td>127000</td>\n",
       "      <td>Illinois</td>\n",
       "      <td>Chicago</td>\n",
       "      <td>Diesel</td>\n",
       "      <td>Individual</td>\n",
       "      <td>Manual</td>\n",
       "      <td>First Owner</td>\n",
       "      <td>23.0 kmpl</td>\n",
       "      <td>1396 CC</td>\n",
       "      <td>90 bhp</td>\n",
       "      <td>5</td>\n",
       "      <td>Y</td>\n",
       "    </tr>\n",
       "    <tr>\n",
       "      <th>4</th>\n",
       "      <td>5</td>\n",
       "      <td>Maruti Swift VXI BSIII</td>\n",
       "      <td>2007</td>\n",
       "      <td>130000</td>\n",
       "      <td>120000</td>\n",
       "      <td>New York</td>\n",
       "      <td>New York City</td>\n",
       "      <td>Petrol</td>\n",
       "      <td>Individual</td>\n",
       "      <td>Manual</td>\n",
       "      <td>First Owner</td>\n",
       "      <td>16.1 kmpl</td>\n",
       "      <td>1298 CC</td>\n",
       "      <td>88.2 bhp</td>\n",
       "      <td>5</td>\n",
       "      <td>Y</td>\n",
       "    </tr>\n",
       "  </tbody>\n",
       "</table>\n",
       "</div>"
      ],
      "text/plain": [
       "   Sales_ID                          name  year  selling_price  km_driven  \\\n",
       "0         1        Maruti Swift Dzire VDI  2014         450000     145500   \n",
       "1         2  Skoda Rapid 1.5 TDI Ambition  2014         370000     120000   \n",
       "2         3      Honda City 2017-2020 EXi  2006         158000     140000   \n",
       "3         4     Hyundai i20 Sportz Diesel  2010         225000     127000   \n",
       "4         5        Maruti Swift VXI BSIII  2007         130000     120000   \n",
       "\n",
       "      State or Province           City    fuel seller_type transmission  \\\n",
       "0  District of Columbia     Washington  Diesel  Individual       Manual   \n",
       "1              New York  New York City  Diesel  Individual       Manual   \n",
       "2              Illinois        Chicago  Petrol  Individual       Manual   \n",
       "3              Illinois        Chicago  Diesel  Individual       Manual   \n",
       "4              New York  New York City  Petrol  Individual       Manual   \n",
       "\n",
       "          owner     mileage   engine   max_power  seats sold  \n",
       "0   First Owner   23.4 kmpl  1248 CC      74 bhp      5    Y  \n",
       "1  Second Owner  21.14 kmpl  1498 CC  103.52 bhp      5    Y  \n",
       "2   Third Owner   17.7 kmpl  1497 CC      78 bhp      5    Y  \n",
       "3   First Owner   23.0 kmpl  1396 CC      90 bhp      5    Y  \n",
       "4   First Owner   16.1 kmpl  1298 CC    88.2 bhp      5    Y  "
      ]
     },
     "execution_count": 9,
     "metadata": {},
     "output_type": "execute_result"
    }
   ],
   "source": [
    "df2.head()"
   ]
  },
  {
   "cell_type": "code",
   "execution_count": 10,
   "id": "45249519",
   "metadata": {},
   "outputs": [],
   "source": [
    "df3=pd.read_csv(\"State_region_mapping_p3.csv\")"
   ]
  },
  {
   "cell_type": "code",
   "execution_count": 11,
   "id": "2419a822",
   "metadata": {},
   "outputs": [
    {
     "data": {
      "text/html": [
       "<div>\n",
       "<style scoped>\n",
       "    .dataframe tbody tr th:only-of-type {\n",
       "        vertical-align: middle;\n",
       "    }\n",
       "\n",
       "    .dataframe tbody tr th {\n",
       "        vertical-align: top;\n",
       "    }\n",
       "\n",
       "    .dataframe thead th {\n",
       "        text-align: right;\n",
       "    }\n",
       "</style>\n",
       "<table border=\"1\" class=\"dataframe\">\n",
       "  <thead>\n",
       "    <tr style=\"text-align: right;\">\n",
       "      <th></th>\n",
       "      <th>Region</th>\n",
       "      <th>State or Province</th>\n",
       "    </tr>\n",
       "  </thead>\n",
       "  <tbody>\n",
       "    <tr>\n",
       "      <th>0</th>\n",
       "      <td>Central</td>\n",
       "      <td>Illinois</td>\n",
       "    </tr>\n",
       "    <tr>\n",
       "      <th>1</th>\n",
       "      <td>Central</td>\n",
       "      <td>Indiana</td>\n",
       "    </tr>\n",
       "    <tr>\n",
       "      <th>2</th>\n",
       "      <td>Central</td>\n",
       "      <td>Iowa</td>\n",
       "    </tr>\n",
       "    <tr>\n",
       "      <th>3</th>\n",
       "      <td>Central</td>\n",
       "      <td>Kansas</td>\n",
       "    </tr>\n",
       "    <tr>\n",
       "      <th>4</th>\n",
       "      <td>Central</td>\n",
       "      <td>Michigan</td>\n",
       "    </tr>\n",
       "  </tbody>\n",
       "</table>\n",
       "</div>"
      ],
      "text/plain": [
       "    Region State or Province\n",
       "0  Central          Illinois\n",
       "1  Central           Indiana\n",
       "2  Central              Iowa\n",
       "3  Central            Kansas\n",
       "4  Central          Michigan"
      ]
     },
     "execution_count": 11,
     "metadata": {},
     "output_type": "execute_result"
    }
   ],
   "source": [
    "df3.head()"
   ]
  },
  {
   "cell_type": "code",
   "execution_count": 12,
   "id": "36cd21fa",
   "metadata": {},
   "outputs": [
    {
     "data": {
      "text/plain": [
       "Region               0\n",
       "State or Province    0\n",
       "dtype: int64"
      ]
     },
     "execution_count": 12,
     "metadata": {},
     "output_type": "execute_result"
    }
   ],
   "source": [
    "df3.isnull().sum()"
   ]
  },
  {
   "cell_type": "code",
   "execution_count": 13,
   "id": "a49eba8d",
   "metadata": {},
   "outputs": [],
   "source": [
    "car=pd.merge(df2, df3, on='State or Province', how='inner')"
   ]
  },
  {
   "cell_type": "code",
   "execution_count": 14,
   "id": "007f1913",
   "metadata": {},
   "outputs": [
    {
     "data": {
      "text/html": [
       "<div>\n",
       "<style scoped>\n",
       "    .dataframe tbody tr th:only-of-type {\n",
       "        vertical-align: middle;\n",
       "    }\n",
       "\n",
       "    .dataframe tbody tr th {\n",
       "        vertical-align: top;\n",
       "    }\n",
       "\n",
       "    .dataframe thead th {\n",
       "        text-align: right;\n",
       "    }\n",
       "</style>\n",
       "<table border=\"1\" class=\"dataframe\">\n",
       "  <thead>\n",
       "    <tr style=\"text-align: right;\">\n",
       "      <th></th>\n",
       "      <th>Sales_ID</th>\n",
       "      <th>name</th>\n",
       "      <th>year</th>\n",
       "      <th>selling_price</th>\n",
       "      <th>km_driven</th>\n",
       "      <th>State or Province</th>\n",
       "      <th>City</th>\n",
       "      <th>fuel</th>\n",
       "      <th>seller_type</th>\n",
       "      <th>transmission</th>\n",
       "      <th>owner</th>\n",
       "      <th>mileage</th>\n",
       "      <th>engine</th>\n",
       "      <th>max_power</th>\n",
       "      <th>seats</th>\n",
       "      <th>sold</th>\n",
       "      <th>Region</th>\n",
       "    </tr>\n",
       "  </thead>\n",
       "  <tbody>\n",
       "    <tr>\n",
       "      <th>0</th>\n",
       "      <td>1</td>\n",
       "      <td>Maruti Swift Dzire VDI</td>\n",
       "      <td>2014</td>\n",
       "      <td>450000</td>\n",
       "      <td>145500</td>\n",
       "      <td>District of Columbia</td>\n",
       "      <td>Washington</td>\n",
       "      <td>Diesel</td>\n",
       "      <td>Individual</td>\n",
       "      <td>Manual</td>\n",
       "      <td>First Owner</td>\n",
       "      <td>23.4 kmpl</td>\n",
       "      <td>1248 CC</td>\n",
       "      <td>74 bhp</td>\n",
       "      <td>5</td>\n",
       "      <td>Y</td>\n",
       "      <td>East</td>\n",
       "    </tr>\n",
       "    <tr>\n",
       "      <th>1</th>\n",
       "      <td>38</td>\n",
       "      <td>Hyundai Verna VTVT 1.6 SX Option</td>\n",
       "      <td>2019</td>\n",
       "      <td>1149000</td>\n",
       "      <td>5000</td>\n",
       "      <td>District of Columbia</td>\n",
       "      <td>Washington</td>\n",
       "      <td>Petrol</td>\n",
       "      <td>Individual</td>\n",
       "      <td>Manual</td>\n",
       "      <td>First Owner</td>\n",
       "      <td>17.0 kmpl</td>\n",
       "      <td>1591 CC</td>\n",
       "      <td>121.3 bhp</td>\n",
       "      <td>5</td>\n",
       "      <td>Y</td>\n",
       "      <td>East</td>\n",
       "    </tr>\n",
       "    <tr>\n",
       "      <th>2</th>\n",
       "      <td>66</td>\n",
       "      <td>Ford Figo 1.2P Titanium MT</td>\n",
       "      <td>2017</td>\n",
       "      <td>600000</td>\n",
       "      <td>25000</td>\n",
       "      <td>District of Columbia</td>\n",
       "      <td>Washington</td>\n",
       "      <td>Petrol</td>\n",
       "      <td>Individual</td>\n",
       "      <td>Manual</td>\n",
       "      <td>Third Owner</td>\n",
       "      <td>18.16 kmpl</td>\n",
       "      <td>1196 CC</td>\n",
       "      <td>86.8 bhp</td>\n",
       "      <td>5</td>\n",
       "      <td>Y</td>\n",
       "      <td>East</td>\n",
       "    </tr>\n",
       "    <tr>\n",
       "      <th>3</th>\n",
       "      <td>68</td>\n",
       "      <td>Volkswagen Ameo 1.5 TDI Highline 16 Alloy</td>\n",
       "      <td>2016</td>\n",
       "      <td>540000</td>\n",
       "      <td>40000</td>\n",
       "      <td>District of Columbia</td>\n",
       "      <td>Washington</td>\n",
       "      <td>Diesel</td>\n",
       "      <td>Individual</td>\n",
       "      <td>Manual</td>\n",
       "      <td>First Owner</td>\n",
       "      <td>22.0 kmpl</td>\n",
       "      <td>1498 CC</td>\n",
       "      <td>108.495 bhp</td>\n",
       "      <td>5</td>\n",
       "      <td>Y</td>\n",
       "      <td>East</td>\n",
       "    </tr>\n",
       "    <tr>\n",
       "      <th>4</th>\n",
       "      <td>69</td>\n",
       "      <td>Honda City i DTEC VX</td>\n",
       "      <td>2015</td>\n",
       "      <td>630000</td>\n",
       "      <td>135000</td>\n",
       "      <td>District of Columbia</td>\n",
       "      <td>Washington</td>\n",
       "      <td>Diesel</td>\n",
       "      <td>Individual</td>\n",
       "      <td>Manual</td>\n",
       "      <td>First Owner</td>\n",
       "      <td>25.1 kmpl</td>\n",
       "      <td>1498 CC</td>\n",
       "      <td>98.6 bhp</td>\n",
       "      <td>5</td>\n",
       "      <td>Y</td>\n",
       "      <td>East</td>\n",
       "    </tr>\n",
       "  </tbody>\n",
       "</table>\n",
       "</div>"
      ],
      "text/plain": [
       "   Sales_ID                                       name  year  selling_price  \\\n",
       "0         1                     Maruti Swift Dzire VDI  2014         450000   \n",
       "1        38           Hyundai Verna VTVT 1.6 SX Option  2019        1149000   \n",
       "2        66                 Ford Figo 1.2P Titanium MT  2017         600000   \n",
       "3        68  Volkswagen Ameo 1.5 TDI Highline 16 Alloy  2016         540000   \n",
       "4        69                       Honda City i DTEC VX  2015         630000   \n",
       "\n",
       "   km_driven     State or Province        City    fuel seller_type  \\\n",
       "0     145500  District of Columbia  Washington  Diesel  Individual   \n",
       "1       5000  District of Columbia  Washington  Petrol  Individual   \n",
       "2      25000  District of Columbia  Washington  Petrol  Individual   \n",
       "3      40000  District of Columbia  Washington  Diesel  Individual   \n",
       "4     135000  District of Columbia  Washington  Diesel  Individual   \n",
       "\n",
       "  transmission        owner     mileage   engine    max_power  seats sold  \\\n",
       "0       Manual  First Owner   23.4 kmpl  1248 CC       74 bhp      5    Y   \n",
       "1       Manual  First Owner   17.0 kmpl  1591 CC    121.3 bhp      5    Y   \n",
       "2       Manual  Third Owner  18.16 kmpl  1196 CC     86.8 bhp      5    Y   \n",
       "3       Manual  First Owner   22.0 kmpl  1498 CC  108.495 bhp      5    Y   \n",
       "4       Manual  First Owner   25.1 kmpl  1498 CC     98.6 bhp      5    Y   \n",
       "\n",
       "  Region  \n",
       "0   East  \n",
       "1   East  \n",
       "2   East  \n",
       "3   East  \n",
       "4   East  "
      ]
     },
     "execution_count": 14,
     "metadata": {},
     "output_type": "execute_result"
    }
   ],
   "source": [
    "car.head()"
   ]
  },
  {
   "cell_type": "markdown",
   "id": "0bbdd21e",
   "metadata": {},
   "source": [
    "# Identifying missing Values"
   ]
  },
  {
   "cell_type": "code",
   "execution_count": 15,
   "id": "521e2505",
   "metadata": {},
   "outputs": [
    {
     "data": {
      "text/plain": [
       "Sales_ID             0\n",
       "name                 0\n",
       "year                 0\n",
       "selling_price        0\n",
       "km_driven            0\n",
       "State or Province    0\n",
       "City                 0\n",
       "fuel                 0\n",
       "seller_type          0\n",
       "transmission         0\n",
       "owner                0\n",
       "mileage              0\n",
       "engine               0\n",
       "max_power            0\n",
       "seats                0\n",
       "sold                 0\n",
       "Region               0\n",
       "dtype: int64"
      ]
     },
     "execution_count": 15,
     "metadata": {},
     "output_type": "execute_result"
    }
   ],
   "source": [
    "car.isnull().sum()"
   ]
  },
  {
   "cell_type": "markdown",
   "id": "9712b68e",
   "metadata": {},
   "source": [
    "There are no missing values in our data set."
   ]
  },
  {
   "cell_type": "code",
   "execution_count": 16,
   "id": "dabca105",
   "metadata": {},
   "outputs": [
    {
     "name": "stdout",
     "output_type": "stream",
     "text": [
      "<class 'pandas.core.frame.DataFrame'>\n",
      "Int64Index: 7906 entries, 0 to 7905\n",
      "Data columns (total 17 columns):\n",
      " #   Column             Non-Null Count  Dtype \n",
      "---  ------             --------------  ----- \n",
      " 0   Sales_ID           7906 non-null   int64 \n",
      " 1   name               7906 non-null   object\n",
      " 2   year               7906 non-null   int64 \n",
      " 3   selling_price      7906 non-null   int64 \n",
      " 4   km_driven          7906 non-null   int64 \n",
      " 5   State or Province  7906 non-null   object\n",
      " 6   City               7906 non-null   object\n",
      " 7   fuel               7906 non-null   object\n",
      " 8   seller_type        7906 non-null   object\n",
      " 9   transmission       7906 non-null   object\n",
      " 10  owner              7906 non-null   object\n",
      " 11  mileage            7906 non-null   object\n",
      " 12  engine             7906 non-null   object\n",
      " 13  max_power          7906 non-null   object\n",
      " 14  seats              7906 non-null   int64 \n",
      " 15  sold               7906 non-null   object\n",
      " 16  Region             7906 non-null   object\n",
      "dtypes: int64(5), object(12)\n",
      "memory usage: 1.1+ MB\n"
     ]
    }
   ],
   "source": [
    "car.info()"
   ]
  },
  {
   "cell_type": "markdown",
   "id": "353ea027",
   "metadata": {},
   "source": [
    "# Univariate Analysis"
   ]
  },
  {
   "cell_type": "markdown",
   "id": "2d2005fe",
   "metadata": {},
   "source": [
    "# Histogram for selling price"
   ]
  },
  {
   "cell_type": "code",
   "execution_count": 17,
   "id": "6186589f",
   "metadata": {},
   "outputs": [
    {
     "data": {
      "text/plain": [
       "(array([4.610e+03, 2.488e+03, 2.900e+02, 1.620e+02, 5.700e+01, 7.000e+01,\n",
       "        5.500e+01, 4.400e+01, 1.100e+01, 2.000e+00, 1.010e+02, 1.200e+01,\n",
       "        1.000e+00, 1.000e+00, 1.000e+00, 0.000e+00, 0.000e+00, 0.000e+00,\n",
       "        0.000e+00, 1.000e+00]),\n",
       " array([   29999.  ,   528499.05,  1026999.1 ,  1525499.15,  2023999.2 ,\n",
       "         2522499.25,  3020999.3 ,  3519499.35,  4017999.4 ,  4516499.45,\n",
       "         5014999.5 ,  5513499.55,  6011999.6 ,  6510499.65,  7008999.7 ,\n",
       "         7507499.75,  8005999.8 ,  8504499.85,  9002999.9 ,  9501499.95,\n",
       "        10000000.  ]),\n",
       " <BarContainer object of 20 artists>)"
      ]
     },
     "execution_count": 17,
     "metadata": {},
     "output_type": "execute_result"
    },
    {
     "data": {
      "image/png": "[encoded data removed]",
      "text/plain": [
       "<Figure size 432x288 with 1 Axes>"
      ]
     },
     "metadata": {
      "needs_background": "light"
     },
     "output_type": "display_data"
    }
   ],
   "source": [
    "plt.hist(car.selling_price,\n",
    "         bins=20,\n",
    "         color=\"red\", alpha=1)"
   ]
  },
  {
   "cell_type": "markdown",
   "id": "8f24675b",
   "metadata": {},
   "source": [
    "# Countplot"
   ]
  },
  {
   "cell_type": "code",
   "execution_count": 18,
   "id": "89204e36",
   "metadata": {},
   "outputs": [
    {
     "name": "stderr",
     "output_type": "stream",
     "text": [
      "C:\\Users\\psarana\\Anaconda3\\lib\\site-packages\\seaborn\\_decorators.py:36: FutureWarning: Pass the following variable as a keyword arg: x. From version 0.12, the only valid positional argument will be `data`, and passing other arguments without an explicit keyword will result in an error or misinterpretation.\n",
      "  warnings.warn(\n"
     ]
    },
    {
     "data": {
      "text/plain": [
       "<AxesSubplot:xlabel='fuel', ylabel='count'>"
      ]
     },
     "execution_count": 18,
     "metadata": {},
     "output_type": "execute_result"
    },
    {
     "data": {
      "image/png": "[encoded data removed]",
      "text/plain": [
       "<Figure size 432x288 with 1 Axes>"
      ]
     },
     "metadata": {
      "needs_background": "light"
     },
     "output_type": "display_data"
    }
   ],
   "source": [
    "sns.countplot(car[\"fuel\"])"
   ]
  },
  {
   "cell_type": "markdown",
   "id": "a20427c7",
   "metadata": {},
   "source": [
    "# Overall sales of cars in whole data given using pie chart"
   ]
  },
  {
   "cell_type": "code",
   "execution_count": 19,
   "id": "bf421131",
   "metadata": {},
   "outputs": [
    {
     "data": {
      "text/plain": [
       "N    5906\n",
       "Y    2000\n",
       "Name: sold, dtype: int64"
      ]
     },
     "execution_count": 19,
     "metadata": {},
     "output_type": "execute_result"
    }
   ],
   "source": [
    "car['sold'].value_counts().head()"
   ]
  },
  {
   "cell_type": "code",
   "execution_count": 20,
   "id": "af70c437",
   "metadata": {},
   "outputs": [
    {
     "data": {
      "image/png": "[encoded data removed]",
      "text/plain": [
       "<Figure size 720x576 with 1 Axes>"
      ]
     },
     "metadata": {},
     "output_type": "display_data"
    }
   ],
   "source": [
    "labels = ['UnSold','Sold']\n",
    "plt.figure(figsize=(10,8))\n",
    "plt.pie(car[\"sold\"].value_counts(),\n",
    "        labels=labels,\n",
    "        explode=[0.1,0.1],\n",
    "        autopct='%1.1f%%',\n",
    "        shadow=True)\n",
    "plt.title(\"Car Sales%\")\n",
    "plt.show()"
   ]
  },
  {
   "cell_type": "markdown",
   "id": "ab91265e",
   "metadata": {},
   "source": [
    "# Donut chart for owner types"
   ]
  },
  {
   "cell_type": "code",
   "execution_count": 21,
   "id": "61e1dc45",
   "metadata": {},
   "outputs": [
    {
     "data": {
      "text/plain": [
       "First Owner             5215\n",
       "Second Owner            2016\n",
       "Third Owner              510\n",
       "Fourth & Above Owner     160\n",
       "Test Drive Car             5\n",
       "Name: owner, dtype: int64"
      ]
     },
     "execution_count": 21,
     "metadata": {},
     "output_type": "execute_result"
    }
   ],
   "source": [
    "car['owner'].value_counts()"
   ]
  },
  {
   "cell_type": "code",
   "execution_count": 22,
   "id": "0b342a06",
   "metadata": {},
   "outputs": [
    {
     "data": {
      "image/png": "[encoded data removed]",
      "text/plain": [
       "<Figure size 720x576 with 1 Axes>"
      ]
     },
     "metadata": {},
     "output_type": "display_data"
    }
   ],
   "source": [
    "labels = ['First Owner','Second Owner','Third Owner','Fourth & Above Owner','Test Drive Car']\n",
    "plt.figure(figsize=(10,8))\n",
    "plt.pie(car['owner'].value_counts(), \n",
    "        labels=labels, \n",
    "        wedgeprops={'width':0.6}, \n",
    "        startangle=90, autopct='%1.1f%%')\n",
    "plt.title(\"type of owner %\")\n",
    "plt.show()"
   ]
  },
  {
   "cell_type": "markdown",
   "id": "1289cbc3",
   "metadata": {},
   "source": [
    "# Bivariate Analysis"
   ]
  },
  {
   "cell_type": "markdown",
   "id": "b6acc6b6",
   "metadata": {},
   "source": [
    "# Scatter Plot"
   ]
  },
  {
   "cell_type": "code",
   "execution_count": 23,
   "id": "6cf72b89",
   "metadata": {},
   "outputs": [
    {
     "data": {
      "text/plain": [
       "Text(0, 0.5, 'Selling Price')"
      ]
     },
     "execution_count": 23,
     "metadata": {},
     "output_type": "execute_result"
    },
    {
     "data": {
      "image/png": "[encoded data removed]",
      "text/plain": [
       "<Figure size 432x288 with 1 Axes>"
      ]
     },
     "metadata": {
      "needs_background": "light"
     },
     "output_type": "display_data"
    }
   ],
   "source": [
    "plt.scatter(x=car[\"year\"],\n",
    "            y= car[\"selling_price\"],\n",
    "            color = \"Magenta\", \n",
    "            alpha=0.5)\n",
    "plt.title(\"Relationship between car purchased year and selling price\")\n",
    "plt.xlabel(\"year\")\n",
    "plt.ylabel(\"Selling Price\")"
   ]
  },
  {
   "cell_type": "markdown",
   "id": "a4af572b",
   "metadata": {},
   "source": [
    "# Heat Map"
   ]
  },
  {
   "cell_type": "code",
   "execution_count": 24,
   "id": "4305de55",
   "metadata": {},
   "outputs": [
    {
     "data": {
      "text/plain": [
       "<AxesSubplot:>"
      ]
     },
     "execution_count": 24,
     "metadata": {},
     "output_type": "execute_result"
    },
    {
     "data": {
      "image/png": "[encoded data removed]",
      "text/plain": [
       "<Figure size 504x288 with 2 Axes>"
      ]
     },
     "metadata": {
      "needs_background": "light"
     },
     "output_type": "display_data"
    }
   ],
   "source": [
    "plt.figure(figsize=(7,4))\n",
    "sns.heatmap(car.corr(),\n",
    "            annot=True, \n",
    "            cmap='summer', \n",
    "            vmin=0, vmax=1)"
   ]
  },
  {
   "cell_type": "code",
   "execution_count": null,
   "id": "a94e2fdc",
   "metadata": {},
   "outputs": [],
   "source": []
  },
  {
   "cell_type": "code",
   "execution_count": 25,
   "id": "ac438af8",
   "metadata": {},
   "outputs": [],
   "source": [
    "car1=car.copy()"
   ]
  },
  {
   "cell_type": "code",
   "execution_count": 26,
   "id": "3ae557e5",
   "metadata": {},
   "outputs": [
    {
     "data": {
      "text/html": [
       "<div>\n",
       "<style scoped>\n",
       "    .dataframe tbody tr th:only-of-type {\n",
       "        vertical-align: middle;\n",
       "    }\n",
       "\n",
       "    .dataframe tbody tr th {\n",
       "        vertical-align: top;\n",
       "    }\n",
       "\n",
       "    .dataframe thead th {\n",
       "        text-align: right;\n",
       "    }\n",
       "</style>\n",
       "<table border=\"1\" class=\"dataframe\">\n",
       "  <thead>\n",
       "    <tr style=\"text-align: right;\">\n",
       "      <th></th>\n",
       "      <th>Sales_ID</th>\n",
       "      <th>name</th>\n",
       "      <th>year</th>\n",
       "      <th>selling_price</th>\n",
       "      <th>km_driven</th>\n",
       "      <th>State or Province</th>\n",
       "      <th>City</th>\n",
       "      <th>fuel</th>\n",
       "      <th>seller_type</th>\n",
       "      <th>transmission</th>\n",
       "      <th>owner</th>\n",
       "      <th>mileage</th>\n",
       "      <th>engine</th>\n",
       "      <th>max_power</th>\n",
       "      <th>seats</th>\n",
       "      <th>sold</th>\n",
       "      <th>Region</th>\n",
       "    </tr>\n",
       "  </thead>\n",
       "  <tbody>\n",
       "    <tr>\n",
       "      <th>0</th>\n",
       "      <td>1</td>\n",
       "      <td>Maruti Swift Dzire VDI</td>\n",
       "      <td>2014</td>\n",
       "      <td>450000</td>\n",
       "      <td>145500</td>\n",
       "      <td>District of Columbia</td>\n",
       "      <td>Washington</td>\n",
       "      <td>Diesel</td>\n",
       "      <td>Individual</td>\n",
       "      <td>Manual</td>\n",
       "      <td>First Owner</td>\n",
       "      <td>23.4 kmpl</td>\n",
       "      <td>1248 CC</td>\n",
       "      <td>74 bhp</td>\n",
       "      <td>5</td>\n",
       "      <td>Y</td>\n",
       "      <td>East</td>\n",
       "    </tr>\n",
       "    <tr>\n",
       "      <th>1</th>\n",
       "      <td>38</td>\n",
       "      <td>Hyundai Verna VTVT 1.6 SX Option</td>\n",
       "      <td>2019</td>\n",
       "      <td>1149000</td>\n",
       "      <td>5000</td>\n",
       "      <td>District of Columbia</td>\n",
       "      <td>Washington</td>\n",
       "      <td>Petrol</td>\n",
       "      <td>Individual</td>\n",
       "      <td>Manual</td>\n",
       "      <td>First Owner</td>\n",
       "      <td>17.0 kmpl</td>\n",
       "      <td>1591 CC</td>\n",
       "      <td>121.3 bhp</td>\n",
       "      <td>5</td>\n",
       "      <td>Y</td>\n",
       "      <td>East</td>\n",
       "    </tr>\n",
       "    <tr>\n",
       "      <th>2</th>\n",
       "      <td>66</td>\n",
       "      <td>Ford Figo 1.2P Titanium MT</td>\n",
       "      <td>2017</td>\n",
       "      <td>600000</td>\n",
       "      <td>25000</td>\n",
       "      <td>District of Columbia</td>\n",
       "      <td>Washington</td>\n",
       "      <td>Petrol</td>\n",
       "      <td>Individual</td>\n",
       "      <td>Manual</td>\n",
       "      <td>Third Owner</td>\n",
       "      <td>18.16 kmpl</td>\n",
       "      <td>1196 CC</td>\n",
       "      <td>86.8 bhp</td>\n",
       "      <td>5</td>\n",
       "      <td>Y</td>\n",
       "      <td>East</td>\n",
       "    </tr>\n",
       "    <tr>\n",
       "      <th>3</th>\n",
       "      <td>68</td>\n",
       "      <td>Volkswagen Ameo 1.5 TDI Highline 16 Alloy</td>\n",
       "      <td>2016</td>\n",
       "      <td>540000</td>\n",
       "      <td>40000</td>\n",
       "      <td>District of Columbia</td>\n",
       "      <td>Washington</td>\n",
       "      <td>Diesel</td>\n",
       "      <td>Individual</td>\n",
       "      <td>Manual</td>\n",
       "      <td>First Owner</td>\n",
       "      <td>22.0 kmpl</td>\n",
       "      <td>1498 CC</td>\n",
       "      <td>108.495 bhp</td>\n",
       "      <td>5</td>\n",
       "      <td>Y</td>\n",
       "      <td>East</td>\n",
       "    </tr>\n",
       "    <tr>\n",
       "      <th>4</th>\n",
       "      <td>69</td>\n",
       "      <td>Honda City i DTEC VX</td>\n",
       "      <td>2015</td>\n",
       "      <td>630000</td>\n",
       "      <td>135000</td>\n",
       "      <td>District of Columbia</td>\n",
       "      <td>Washington</td>\n",
       "      <td>Diesel</td>\n",
       "      <td>Individual</td>\n",
       "      <td>Manual</td>\n",
       "      <td>First Owner</td>\n",
       "      <td>25.1 kmpl</td>\n",
       "      <td>1498 CC</td>\n",
       "      <td>98.6 bhp</td>\n",
       "      <td>5</td>\n",
       "      <td>Y</td>\n",
       "      <td>East</td>\n",
       "    </tr>\n",
       "  </tbody>\n",
       "</table>\n",
       "</div>"
      ],
      "text/plain": [
       "   Sales_ID                                       name  year  selling_price  \\\n",
       "0         1                     Maruti Swift Dzire VDI  2014         450000   \n",
       "1        38           Hyundai Verna VTVT 1.6 SX Option  2019        1149000   \n",
       "2        66                 Ford Figo 1.2P Titanium MT  2017         600000   \n",
       "3        68  Volkswagen Ameo 1.5 TDI Highline 16 Alloy  2016         540000   \n",
       "4        69                       Honda City i DTEC VX  2015         630000   \n",
       "\n",
       "   km_driven     State or Province        City    fuel seller_type  \\\n",
       "0     145500  District of Columbia  Washington  Diesel  Individual   \n",
       "1       5000  District of Columbia  Washington  Petrol  Individual   \n",
       "2      25000  District of Columbia  Washington  Petrol  Individual   \n",
       "3      40000  District of Columbia  Washington  Diesel  Individual   \n",
       "4     135000  District of Columbia  Washington  Diesel  Individual   \n",
       "\n",
       "  transmission        owner     mileage   engine    max_power  seats sold  \\\n",
       "0       Manual  First Owner   23.4 kmpl  1248 CC       74 bhp      5    Y   \n",
       "1       Manual  First Owner   17.0 kmpl  1591 CC    121.3 bhp      5    Y   \n",
       "2       Manual  Third Owner  18.16 kmpl  1196 CC     86.8 bhp      5    Y   \n",
       "3       Manual  First Owner   22.0 kmpl  1498 CC  108.495 bhp      5    Y   \n",
       "4       Manual  First Owner   25.1 kmpl  1498 CC     98.6 bhp      5    Y   \n",
       "\n",
       "  Region  \n",
       "0   East  \n",
       "1   East  \n",
       "2   East  \n",
       "3   East  \n",
       "4   East  "
      ]
     },
     "execution_count": 26,
     "metadata": {},
     "output_type": "execute_result"
    }
   ],
   "source": [
    "car1.head()"
   ]
  },
  {
   "cell_type": "code",
   "execution_count": 27,
   "id": "0010ba54",
   "metadata": {},
   "outputs": [
    {
     "name": "stdout",
     "output_type": "stream",
     "text": [
      "<class 'pandas.core.frame.DataFrame'>\n",
      "Int64Index: 7906 entries, 0 to 7905\n",
      "Data columns (total 17 columns):\n",
      " #   Column             Non-Null Count  Dtype \n",
      "---  ------             --------------  ----- \n",
      " 0   Sales_ID           7906 non-null   int64 \n",
      " 1   name               7906 non-null   object\n",
      " 2   year               7906 non-null   int64 \n",
      " 3   selling_price      7906 non-null   int64 \n",
      " 4   km_driven          7906 non-null   int64 \n",
      " 5   State or Province  7906 non-null   object\n",
      " 6   City               7906 non-null   object\n",
      " 7   fuel               7906 non-null   object\n",
      " 8   seller_type        7906 non-null   object\n",
      " 9   transmission       7906 non-null   object\n",
      " 10  owner              7906 non-null   object\n",
      " 11  mileage            7906 non-null   object\n",
      " 12  engine             7906 non-null   object\n",
      " 13  max_power          7906 non-null   object\n",
      " 14  seats              7906 non-null   int64 \n",
      " 15  sold               7906 non-null   object\n",
      " 16  Region             7906 non-null   object\n",
      "dtypes: int64(5), object(12)\n",
      "memory usage: 1.3+ MB\n"
     ]
    }
   ],
   "source": [
    "car1.info()"
   ]
  },
  {
   "cell_type": "markdown",
   "id": "06172718",
   "metadata": {},
   "source": [
    "# Data Transformation : Converting Categorical features into numerical values"
   ]
  },
  {
   "cell_type": "code",
   "execution_count": 28,
   "id": "4b44cb8c",
   "metadata": {},
   "outputs": [],
   "source": [
    "car1['AvgMileage']= car1['mileage'].apply(lambda x : x.split(' '))\n",
    "car1['AvgMileage']=car1['AvgMileage'].apply(lambda x: x[0])\n",
    "car1['AvgMileage']=car1['AvgMileage'].astype('float64')"
   ]
  },
  {
   "cell_type": "code",
   "execution_count": 29,
   "id": "5d6f9959",
   "metadata": {},
   "outputs": [
    {
     "data": {
      "text/plain": [
       "0    23.40\n",
       "1    17.00\n",
       "2    18.16\n",
       "3    22.00\n",
       "4    25.10\n",
       "Name: AvgMileage, dtype: float64"
      ]
     },
     "execution_count": 29,
     "metadata": {},
     "output_type": "execute_result"
    }
   ],
   "source": [
    "car1['AvgMileage'].head()"
   ]
  },
  {
   "cell_type": "code",
   "execution_count": 30,
   "id": "c6f7885a",
   "metadata": {},
   "outputs": [],
   "source": [
    "car1['EngineCC']= car1['engine'].apply(lambda x : x.split(' '))\n",
    "car1['EngineCC']=car1['EngineCC'].apply(lambda x: x[0])\n",
    "car1['EngineCC']=car1['EngineCC'].astype('int64')"
   ]
  },
  {
   "cell_type": "code",
   "execution_count": 31,
   "id": "ef9adde1",
   "metadata": {},
   "outputs": [
    {
     "data": {
      "text/plain": [
       "0    1248\n",
       "1    1591\n",
       "2    1196\n",
       "3    1498\n",
       "4    1498\n",
       "Name: EngineCC, dtype: int64"
      ]
     },
     "execution_count": 31,
     "metadata": {},
     "output_type": "execute_result"
    }
   ],
   "source": [
    "car1['EngineCC'].head()"
   ]
  },
  {
   "cell_type": "code",
   "execution_count": 32,
   "id": "12dcfe79",
   "metadata": {},
   "outputs": [],
   "source": [
    "car1['MaxPower']= car1['max_power'].apply(lambda x : x.split(' '))\n",
    "car1['MaxPower']=car1['MaxPower'].apply(lambda x: x[0])\n",
    "car1['MaxPower']=car1['MaxPower'].astype('float64')"
   ]
  },
  {
   "cell_type": "code",
   "execution_count": 33,
   "id": "cf20a819",
   "metadata": {},
   "outputs": [
    {
     "data": {
      "text/plain": [
       "0     74.000\n",
       "1    121.300\n",
       "2     86.800\n",
       "3    108.495\n",
       "4     98.600\n",
       "Name: MaxPower, dtype: float64"
      ]
     },
     "execution_count": 33,
     "metadata": {},
     "output_type": "execute_result"
    }
   ],
   "source": [
    "car1['MaxPower'].head()"
   ]
  },
  {
   "cell_type": "code",
   "execution_count": 34,
   "id": "a591ecf4",
   "metadata": {},
   "outputs": [
    {
     "name": "stdout",
     "output_type": "stream",
     "text": [
      "<class 'pandas.core.frame.DataFrame'>\n",
      "Int64Index: 7906 entries, 0 to 7905\n",
      "Data columns (total 20 columns):\n",
      " #   Column             Non-Null Count  Dtype  \n",
      "---  ------             --------------  -----  \n",
      " 0   Sales_ID           7906 non-null   int64  \n",
      " 1   name               7906 non-null   object \n",
      " 2   year               7906 non-null   int64  \n",
      " 3   selling_price      7906 non-null   int64  \n",
      " 4   km_driven          7906 non-null   int64  \n",
      " 5   State or Province  7906 non-null   object \n",
      " 6   City               7906 non-null   object \n",
      " 7   fuel               7906 non-null   object \n",
      " 8   seller_type        7906 non-null   object \n",
      " 9   transmission       7906 non-null   object \n",
      " 10  owner              7906 non-null   object \n",
      " 11  mileage            7906 non-null   object \n",
      " 12  engine             7906 non-null   object \n",
      " 13  max_power          7906 non-null   object \n",
      " 14  seats              7906 non-null   int64  \n",
      " 15  sold               7906 non-null   object \n",
      " 16  Region             7906 non-null   object \n",
      " 17  AvgMileage         7906 non-null   float64\n",
      " 18  EngineCC           7906 non-null   int64  \n",
      " 19  MaxPower           7906 non-null   float64\n",
      "dtypes: float64(2), int64(6), object(12)\n",
      "memory usage: 1.5+ MB\n"
     ]
    }
   ],
   "source": [
    "car1.info()"
   ]
  },
  {
   "cell_type": "code",
   "execution_count": 35,
   "id": "e6550f24",
   "metadata": {},
   "outputs": [],
   "source": [
    "car1['sale']=(car1['sold']=='Y').map({True:1,False:0})"
   ]
  },
  {
   "cell_type": "code",
   "execution_count": 36,
   "id": "be79c6aa",
   "metadata": {},
   "outputs": [
    {
     "data": {
      "text/plain": [
       "array([1, 0], dtype=int64)"
      ]
     },
     "execution_count": 36,
     "metadata": {},
     "output_type": "execute_result"
    }
   ],
   "source": [
    "car1['sale'].unique()"
   ]
  },
  {
   "cell_type": "code",
   "execution_count": 37,
   "id": "1bdb11db",
   "metadata": {},
   "outputs": [
    {
     "name": "stdout",
     "output_type": "stream",
     "text": [
      "<class 'pandas.core.frame.DataFrame'>\n",
      "Int64Index: 7906 entries, 0 to 7905\n",
      "Data columns (total 21 columns):\n",
      " #   Column             Non-Null Count  Dtype  \n",
      "---  ------             --------------  -----  \n",
      " 0   Sales_ID           7906 non-null   int64  \n",
      " 1   name               7906 non-null   object \n",
      " 2   year               7906 non-null   int64  \n",
      " 3   selling_price      7906 non-null   int64  \n",
      " 4   km_driven          7906 non-null   int64  \n",
      " 5   State or Province  7906 non-null   object \n",
      " 6   City               7906 non-null   object \n",
      " 7   fuel               7906 non-null   object \n",
      " 8   seller_type        7906 non-null   object \n",
      " 9   transmission       7906 non-null   object \n",
      " 10  owner              7906 non-null   object \n",
      " 11  mileage            7906 non-null   object \n",
      " 12  engine             7906 non-null   object \n",
      " 13  max_power          7906 non-null   object \n",
      " 14  seats              7906 non-null   int64  \n",
      " 15  sold               7906 non-null   object \n",
      " 16  Region             7906 non-null   object \n",
      " 17  AvgMileage         7906 non-null   float64\n",
      " 18  EngineCC           7906 non-null   int64  \n",
      " 19  MaxPower           7906 non-null   float64\n",
      " 20  sale               7906 non-null   int64  \n",
      "dtypes: float64(2), int64(7), object(12)\n",
      "memory usage: 1.6+ MB\n"
     ]
    }
   ],
   "source": [
    "car1.info()"
   ]
  },
  {
   "cell_type": "markdown",
   "id": "e7e9ffdc",
   "metadata": {},
   "source": [
    "New columns were added like AvgMileage, MaxPower, EngineCC and sale and they were of respective data types."
   ]
  },
  {
   "cell_type": "markdown",
   "id": "d20a30ed",
   "metadata": {},
   "source": [
    "# Checking for outliers"
   ]
  },
  {
   "cell_type": "markdown",
   "id": "b61eec32",
   "metadata": {},
   "source": [
    "# Selling Price is our Target column so we can't check values for the target column"
   ]
  },
  {
   "cell_type": "markdown",
   "id": "38680be3",
   "metadata": {},
   "source": [
    "# Checking Outliers in km_driven column"
   ]
  },
  {
   "cell_type": "code",
   "execution_count": 38,
   "id": "6841c999",
   "metadata": {},
   "outputs": [
    {
     "data": {
      "text/plain": [
       "count    7.906000e+03\n",
       "mean     6.918866e+04\n",
       "std      5.679230e+04\n",
       "min      1.000000e+00\n",
       "25%      3.500000e+04\n",
       "50%      6.000000e+04\n",
       "75%      9.542500e+04\n",
       "max      2.360457e+06\n",
       "Name: km_driven, dtype: float64"
      ]
     },
     "execution_count": 38,
     "metadata": {},
     "output_type": "execute_result"
    }
   ],
   "source": [
    "car1['km_driven'].describe()"
   ]
  },
  {
   "cell_type": "code",
   "execution_count": 39,
   "id": "8d91c8c7",
   "metadata": {},
   "outputs": [
    {
     "data": {
      "text/plain": [
       "<AxesSubplot:ylabel='Frequency'>"
      ]
     },
     "execution_count": 39,
     "metadata": {},
     "output_type": "execute_result"
    },
    {
     "data": {
      "image/png": "[encoded data removed]",
      "text/plain": [
       "<Figure size 432x288 with 1 Axes>"
      ]
     },
     "metadata": {
      "needs_background": "light"
     },
     "output_type": "display_data"
    }
   ],
   "source": [
    "car1.km_driven.plot(kind='hist')"
   ]
  },
  {
   "cell_type": "code",
   "execution_count": 40,
   "id": "9d50c78d",
   "metadata": {},
   "outputs": [
    {
     "data": {
      "image/png": "[encoded data removed]",
      "text/plain": [
       "<Figure size 432x288 with 1 Axes>"
      ]
     },
     "metadata": {
      "needs_background": "light"
     },
     "output_type": "display_data"
    }
   ],
   "source": [
    "car1.boxplot(column='km_driven')\n",
    "plt.show()"
   ]
  },
  {
   "cell_type": "code",
   "execution_count": 41,
   "id": "eb3553cb",
   "metadata": {},
   "outputs": [
    {
     "data": {
      "text/plain": [
       "0.0         1.0\n",
       "0.1     15000.0\n",
       "0.2     28000.0\n",
       "0.3     40000.0\n",
       "0.4     50000.0\n",
       "0.5     60000.0\n",
       "0.6     70000.0\n",
       "0.7     89000.0\n",
       "0.8    103000.0\n",
       "0.9    120000.0\n",
       "Name: km_driven, dtype: float64"
      ]
     },
     "execution_count": 41,
     "metadata": {},
     "output_type": "execute_result"
    }
   ],
   "source": [
    "car1['km_driven'].quantile(np.arange(0,1,0.1))"
   ]
  },
  {
   "cell_type": "code",
   "execution_count": 42,
   "id": "717a77b0",
   "metadata": {},
   "outputs": [
    {
     "data": {
      "text/plain": [
       "0.00        1.0\n",
       "0.01     4000.0\n",
       "0.02     5000.0\n",
       "0.03     6550.0\n",
       "0.04     7500.0\n",
       "0.05     9000.0\n",
       "0.06    10000.0\n",
       "0.07    10000.0\n",
       "0.08    13000.0\n",
       "0.09    15000.0\n",
       "Name: km_driven, dtype: float64"
      ]
     },
     "execution_count": 42,
     "metadata": {},
     "output_type": "execute_result"
    }
   ],
   "source": [
    "car1['km_driven'].quantile(np.arange(0.0,0.1,0.01))"
   ]
  },
  {
   "cell_type": "code",
   "execution_count": 43,
   "id": "879661a5",
   "metadata": {},
   "outputs": [],
   "source": [
    "q=car1['km_driven'].quantile(0.0)"
   ]
  },
  {
   "cell_type": "code",
   "execution_count": 44,
   "id": "eb1de70c",
   "metadata": {},
   "outputs": [
    {
     "data": {
      "text/plain": [
       "1.0"
      ]
     },
     "execution_count": 44,
     "metadata": {},
     "output_type": "execute_result"
    }
   ],
   "source": [
    "q"
   ]
  },
  {
   "cell_type": "code",
   "execution_count": 45,
   "id": "e3a0e6b5",
   "metadata": {},
   "outputs": [
    {
     "data": {
      "text/html": [
       "<div>\n",
       "<style scoped>\n",
       "    .dataframe tbody tr th:only-of-type {\n",
       "        vertical-align: middle;\n",
       "    }\n",
       "\n",
       "    .dataframe tbody tr th {\n",
       "        vertical-align: top;\n",
       "    }\n",
       "\n",
       "    .dataframe thead th {\n",
       "        text-align: right;\n",
       "    }\n",
       "</style>\n",
       "<table border=\"1\" class=\"dataframe\">\n",
       "  <thead>\n",
       "    <tr style=\"text-align: right;\">\n",
       "      <th></th>\n",
       "      <th>Sales_ID</th>\n",
       "      <th>name</th>\n",
       "      <th>year</th>\n",
       "      <th>selling_price</th>\n",
       "      <th>km_driven</th>\n",
       "      <th>State or Province</th>\n",
       "      <th>City</th>\n",
       "      <th>fuel</th>\n",
       "      <th>seller_type</th>\n",
       "      <th>transmission</th>\n",
       "      <th>...</th>\n",
       "      <th>mileage</th>\n",
       "      <th>engine</th>\n",
       "      <th>max_power</th>\n",
       "      <th>seats</th>\n",
       "      <th>sold</th>\n",
       "      <th>Region</th>\n",
       "      <th>AvgMileage</th>\n",
       "      <th>EngineCC</th>\n",
       "      <th>MaxPower</th>\n",
       "      <th>sale</th>\n",
       "    </tr>\n",
       "  </thead>\n",
       "  <tbody>\n",
       "    <tr>\n",
       "      <th>7434</th>\n",
       "      <td>7914</td>\n",
       "      <td>Maruti Eeco 5 STR With AC Plus HTR CNG</td>\n",
       "      <td>2011</td>\n",
       "      <td>209000</td>\n",
       "      <td>1</td>\n",
       "      <td>Indiana</td>\n",
       "      <td>Indianapolis</td>\n",
       "      <td>CNG</td>\n",
       "      <td>Individual</td>\n",
       "      <td>Manual</td>\n",
       "      <td>...</td>\n",
       "      <td>15.1 km/kg</td>\n",
       "      <td>1196 CC</td>\n",
       "      <td>73 bhp</td>\n",
       "      <td>5</td>\n",
       "      <td>N</td>\n",
       "      <td>Central</td>\n",
       "      <td>15.1</td>\n",
       "      <td>1196</td>\n",
       "      <td>73.0</td>\n",
       "      <td>0</td>\n",
       "    </tr>\n",
       "  </tbody>\n",
       "</table>\n",
       "<p>1 rows × 21 columns</p>\n",
       "</div>"
      ],
      "text/plain": [
       "      Sales_ID                                    name  year  selling_price  \\\n",
       "7434      7914  Maruti Eeco 5 STR With AC Plus HTR CNG  2011         209000   \n",
       "\n",
       "      km_driven State or Province          City fuel seller_type transmission  \\\n",
       "7434          1           Indiana  Indianapolis  CNG  Individual       Manual   \n",
       "\n",
       "      ...     mileage   engine max_power seats  sold   Region AvgMileage  \\\n",
       "7434  ...  15.1 km/kg  1196 CC    73 bhp     5     N  Central       15.1   \n",
       "\n",
       "      EngineCC  MaxPower  sale  \n",
       "7434      1196      73.0     0  \n",
       "\n",
       "[1 rows x 21 columns]"
      ]
     },
     "execution_count": 45,
     "metadata": {},
     "output_type": "execute_result"
    }
   ],
   "source": [
    "car1[car1.km_driven<=q]"
   ]
  },
  {
   "cell_type": "markdown",
   "id": "76634499",
   "metadata": {},
   "source": [
    "all values were in continuous range except car with sales id '7434' with km_driven 1.So we have to treat it."
   ]
  },
  {
   "cell_type": "code",
   "execution_count": 46,
   "id": "fe95f681",
   "metadata": {},
   "outputs": [],
   "source": [
    "car1.loc[(car1[\"km_driven\"]<=q), 'km_driven'] = car1['km_driven'].mean()"
   ]
  },
  {
   "cell_type": "code",
   "execution_count": 47,
   "id": "60d5054e",
   "metadata": {},
   "outputs": [
    {
     "data": {
      "text/plain": [
       "count    7.906000e+03\n",
       "mean     6.919741e+04\n",
       "std      5.678696e+04\n",
       "min      1.000000e+03\n",
       "25%      3.500000e+04\n",
       "50%      6.000000e+04\n",
       "75%      9.542500e+04\n",
       "max      2.360457e+06\n",
       "Name: km_driven, dtype: float64"
      ]
     },
     "execution_count": 47,
     "metadata": {},
     "output_type": "execute_result"
    }
   ],
   "source": [
    "car1['km_driven'].describe()"
   ]
  },
  {
   "cell_type": "code",
   "execution_count": 48,
   "id": "b0495200",
   "metadata": {},
   "outputs": [
    {
     "data": {
      "text/plain": [
       "0.00     1000.0\n",
       "0.01     4000.0\n",
       "0.02     5000.0\n",
       "0.03     6580.0\n",
       "0.04     7500.0\n",
       "0.05     9000.0\n",
       "0.06    10000.0\n",
       "0.07    10000.0\n",
       "0.08    13000.0\n",
       "0.09    15000.0\n",
       "Name: km_driven, dtype: float64"
      ]
     },
     "execution_count": 48,
     "metadata": {},
     "output_type": "execute_result"
    }
   ],
   "source": [
    "car1['km_driven'].quantile(np.arange(0.0,0.1,0.01))"
   ]
  },
  {
   "cell_type": "code",
   "execution_count": 49,
   "id": "26be9d9e",
   "metadata": {},
   "outputs": [
    {
     "data": {
      "text/plain": [
       "0.80    103000.0\n",
       "0.81    110000.0\n",
       "0.82    110000.0\n",
       "0.83    110000.0\n",
       "0.84    110000.0\n",
       "0.85    116550.0\n",
       "0.86    120000.0\n",
       "0.87    120000.0\n",
       "0.88    120000.0\n",
       "0.89    120000.0\n",
       "0.90    120000.0\n",
       "0.91    120000.0\n",
       "0.92    125000.0\n",
       "0.93    135000.0\n",
       "0.94    140000.0\n",
       "0.95    150000.0\n",
       "0.96    160000.0\n",
       "0.97    175000.0\n",
       "0.98    196800.0\n",
       "0.99    225000.0\n",
       "Name: km_driven, dtype: float64"
      ]
     },
     "execution_count": 49,
     "metadata": {},
     "output_type": "execute_result"
    }
   ],
   "source": [
    "car1['km_driven'].quantile(np.arange(0.8,1,0.01))"
   ]
  },
  {
   "cell_type": "markdown",
   "id": "6f622993",
   "metadata": {},
   "source": [
    "All values were in continuous range till 99th quantile"
   ]
  },
  {
   "cell_type": "code",
   "execution_count": 50,
   "id": "4cf65297",
   "metadata": {},
   "outputs": [],
   "source": [
    "q1=car1['km_driven'].quantile(0.99)"
   ]
  },
  {
   "cell_type": "code",
   "execution_count": 51,
   "id": "094cdcb7",
   "metadata": {},
   "outputs": [
    {
     "data": {
      "text/plain": [
       "225000.0"
      ]
     },
     "execution_count": 51,
     "metadata": {},
     "output_type": "execute_result"
    }
   ],
   "source": [
    "q1"
   ]
  },
  {
   "cell_type": "code",
   "execution_count": 52,
   "id": "e58bf283",
   "metadata": {},
   "outputs": [
    {
     "data": {
      "text/html": [
       "<div>\n",
       "<style scoped>\n",
       "    .dataframe tbody tr th:only-of-type {\n",
       "        vertical-align: middle;\n",
       "    }\n",
       "\n",
       "    .dataframe tbody tr th {\n",
       "        vertical-align: top;\n",
       "    }\n",
       "\n",
       "    .dataframe thead th {\n",
       "        text-align: right;\n",
       "    }\n",
       "</style>\n",
       "<table border=\"1\" class=\"dataframe\">\n",
       "  <thead>\n",
       "    <tr style=\"text-align: right;\">\n",
       "      <th></th>\n",
       "      <th>Sales_ID</th>\n",
       "      <th>name</th>\n",
       "      <th>year</th>\n",
       "      <th>selling_price</th>\n",
       "      <th>km_driven</th>\n",
       "      <th>State or Province</th>\n",
       "      <th>City</th>\n",
       "      <th>fuel</th>\n",
       "      <th>seller_type</th>\n",
       "      <th>transmission</th>\n",
       "      <th>...</th>\n",
       "      <th>mileage</th>\n",
       "      <th>engine</th>\n",
       "      <th>max_power</th>\n",
       "      <th>seats</th>\n",
       "      <th>sold</th>\n",
       "      <th>Region</th>\n",
       "      <th>AvgMileage</th>\n",
       "      <th>EngineCC</th>\n",
       "      <th>MaxPower</th>\n",
       "      <th>sale</th>\n",
       "    </tr>\n",
       "  </thead>\n",
       "  <tbody>\n",
       "    <tr>\n",
       "      <th>132</th>\n",
       "      <td>402</td>\n",
       "      <td>Tata Indigo LS</td>\n",
       "      <td>2012</td>\n",
       "      <td>95000</td>\n",
       "      <td>265000.0</td>\n",
       "      <td>New York</td>\n",
       "      <td>New York City</td>\n",
       "      <td>Diesel</td>\n",
       "      <td>Individual</td>\n",
       "      <td>Manual</td>\n",
       "      <td>...</td>\n",
       "      <td>17.0 kmpl</td>\n",
       "      <td>1405 CC</td>\n",
       "      <td>70 bhp</td>\n",
       "      <td>5</td>\n",
       "      <td>Y</td>\n",
       "      <td>East</td>\n",
       "      <td>17.00</td>\n",
       "      <td>1405</td>\n",
       "      <td>70.00</td>\n",
       "      <td>1</td>\n",
       "    </tr>\n",
       "    <tr>\n",
       "      <th>280</th>\n",
       "      <td>1238</td>\n",
       "      <td>Mahindra Xylo D4 BSIII</td>\n",
       "      <td>2013</td>\n",
       "      <td>200000</td>\n",
       "      <td>300000.0</td>\n",
       "      <td>New York</td>\n",
       "      <td>Troy</td>\n",
       "      <td>Diesel</td>\n",
       "      <td>Individual</td>\n",
       "      <td>Manual</td>\n",
       "      <td>...</td>\n",
       "      <td>14.0 kmpl</td>\n",
       "      <td>2498 CC</td>\n",
       "      <td>112 bhp</td>\n",
       "      <td>8</td>\n",
       "      <td>Y</td>\n",
       "      <td>East</td>\n",
       "      <td>14.00</td>\n",
       "      <td>2498</td>\n",
       "      <td>112.00</td>\n",
       "      <td>1</td>\n",
       "    </tr>\n",
       "    <tr>\n",
       "      <th>448</th>\n",
       "      <td>5213</td>\n",
       "      <td>Ford Figo Diesel Celebration Edition</td>\n",
       "      <td>2013</td>\n",
       "      <td>229999</td>\n",
       "      <td>230000.0</td>\n",
       "      <td>New York</td>\n",
       "      <td>Watertown</td>\n",
       "      <td>Diesel</td>\n",
       "      <td>Individual</td>\n",
       "      <td>Manual</td>\n",
       "      <td>...</td>\n",
       "      <td>20.0 kmpl</td>\n",
       "      <td>1399 CC</td>\n",
       "      <td>68.1 bhp</td>\n",
       "      <td>5</td>\n",
       "      <td>N</td>\n",
       "      <td>East</td>\n",
       "      <td>20.00</td>\n",
       "      <td>1399</td>\n",
       "      <td>68.10</td>\n",
       "      <td>0</td>\n",
       "    </tr>\n",
       "    <tr>\n",
       "      <th>495</th>\n",
       "      <td>5872</td>\n",
       "      <td>Mahindra Scorpio LX</td>\n",
       "      <td>2012</td>\n",
       "      <td>450000</td>\n",
       "      <td>370000.0</td>\n",
       "      <td>New York</td>\n",
       "      <td>Plainview</td>\n",
       "      <td>Diesel</td>\n",
       "      <td>Individual</td>\n",
       "      <td>Manual</td>\n",
       "      <td>...</td>\n",
       "      <td>12.05 kmpl</td>\n",
       "      <td>2179 CC</td>\n",
       "      <td>120 bhp</td>\n",
       "      <td>9</td>\n",
       "      <td>N</td>\n",
       "      <td>East</td>\n",
       "      <td>12.05</td>\n",
       "      <td>2179</td>\n",
       "      <td>120.00</td>\n",
       "      <td>0</td>\n",
       "    </tr>\n",
       "    <tr>\n",
       "      <th>682</th>\n",
       "      <td>1811</td>\n",
       "      <td>Mahindra XUV500 W6 2WD</td>\n",
       "      <td>2012</td>\n",
       "      <td>500000</td>\n",
       "      <td>1500000.0</td>\n",
       "      <td>Illinois</td>\n",
       "      <td>West Chicago</td>\n",
       "      <td>Diesel</td>\n",
       "      <td>Individual</td>\n",
       "      <td>Manual</td>\n",
       "      <td>...</td>\n",
       "      <td>15.1 kmpl</td>\n",
       "      <td>2179 CC</td>\n",
       "      <td>140 bhp</td>\n",
       "      <td>7</td>\n",
       "      <td>Y</td>\n",
       "      <td>Central</td>\n",
       "      <td>15.10</td>\n",
       "      <td>2179</td>\n",
       "      <td>140.00</td>\n",
       "      <td>1</td>\n",
       "    </tr>\n",
       "    <tr>\n",
       "      <th>...</th>\n",
       "      <td>...</td>\n",
       "      <td>...</td>\n",
       "      <td>...</td>\n",
       "      <td>...</td>\n",
       "      <td>...</td>\n",
       "      <td>...</td>\n",
       "      <td>...</td>\n",
       "      <td>...</td>\n",
       "      <td>...</td>\n",
       "      <td>...</td>\n",
       "      <td>...</td>\n",
       "      <td>...</td>\n",
       "      <td>...</td>\n",
       "      <td>...</td>\n",
       "      <td>...</td>\n",
       "      <td>...</td>\n",
       "      <td>...</td>\n",
       "      <td>...</td>\n",
       "      <td>...</td>\n",
       "      <td>...</td>\n",
       "      <td>...</td>\n",
       "    </tr>\n",
       "    <tr>\n",
       "      <th>7638</th>\n",
       "      <td>2095</td>\n",
       "      <td>Mahindra Xylo D2</td>\n",
       "      <td>2010</td>\n",
       "      <td>160000</td>\n",
       "      <td>255000.0</td>\n",
       "      <td>North Dakota</td>\n",
       "      <td>Dickinson</td>\n",
       "      <td>Diesel</td>\n",
       "      <td>Individual</td>\n",
       "      <td>Manual</td>\n",
       "      <td>...</td>\n",
       "      <td>13.0 kmpl</td>\n",
       "      <td>2489 CC</td>\n",
       "      <td>95 bhp</td>\n",
       "      <td>8</td>\n",
       "      <td>N</td>\n",
       "      <td>Central</td>\n",
       "      <td>13.00</td>\n",
       "      <td>2489</td>\n",
       "      <td>95.00</td>\n",
       "      <td>0</td>\n",
       "    </tr>\n",
       "    <tr>\n",
       "      <th>7754</th>\n",
       "      <td>2580</td>\n",
       "      <td>Maruti Wagon R Duo Lxi</td>\n",
       "      <td>2011</td>\n",
       "      <td>300000</td>\n",
       "      <td>300000.0</td>\n",
       "      <td>Wyoming</td>\n",
       "      <td>Rock Springs</td>\n",
       "      <td>LPG</td>\n",
       "      <td>Individual</td>\n",
       "      <td>Manual</td>\n",
       "      <td>...</td>\n",
       "      <td>26.2 km/kg</td>\n",
       "      <td>998 CC</td>\n",
       "      <td>58.2 bhp</td>\n",
       "      <td>5</td>\n",
       "      <td>N</td>\n",
       "      <td>West</td>\n",
       "      <td>26.20</td>\n",
       "      <td>998</td>\n",
       "      <td>58.20</td>\n",
       "      <td>0</td>\n",
       "    </tr>\n",
       "    <tr>\n",
       "      <th>7755</th>\n",
       "      <td>2585</td>\n",
       "      <td>Hyundai Verna 1.4 CRDi</td>\n",
       "      <td>2015</td>\n",
       "      <td>525000</td>\n",
       "      <td>248000.0</td>\n",
       "      <td>Wyoming</td>\n",
       "      <td>Rock Springs</td>\n",
       "      <td>Diesel</td>\n",
       "      <td>Individual</td>\n",
       "      <td>Manual</td>\n",
       "      <td>...</td>\n",
       "      <td>24.8 kmpl</td>\n",
       "      <td>1396 CC</td>\n",
       "      <td>88.7 bhp</td>\n",
       "      <td>5</td>\n",
       "      <td>N</td>\n",
       "      <td>West</td>\n",
       "      <td>24.80</td>\n",
       "      <td>1396</td>\n",
       "      <td>88.70</td>\n",
       "      <td>0</td>\n",
       "    </tr>\n",
       "    <tr>\n",
       "      <th>7804</th>\n",
       "      <td>7970</td>\n",
       "      <td>Toyota Innova 2.5 G (Diesel) 7 Seater</td>\n",
       "      <td>2012</td>\n",
       "      <td>730000</td>\n",
       "      <td>250000.0</td>\n",
       "      <td>Nevada</td>\n",
       "      <td>Reno</td>\n",
       "      <td>Diesel</td>\n",
       "      <td>Individual</td>\n",
       "      <td>Manual</td>\n",
       "      <td>...</td>\n",
       "      <td>12.99 kmpl</td>\n",
       "      <td>2494 CC</td>\n",
       "      <td>100 bhp</td>\n",
       "      <td>7</td>\n",
       "      <td>N</td>\n",
       "      <td>West</td>\n",
       "      <td>12.99</td>\n",
       "      <td>2494</td>\n",
       "      <td>100.00</td>\n",
       "      <td>0</td>\n",
       "    </tr>\n",
       "    <tr>\n",
       "      <th>7822</th>\n",
       "      <td>3487</td>\n",
       "      <td>Hyundai i20 Asta 1.2</td>\n",
       "      <td>2007</td>\n",
       "      <td>550000</td>\n",
       "      <td>2360457.0</td>\n",
       "      <td>Mississippi</td>\n",
       "      <td>Clinton</td>\n",
       "      <td>Petrol</td>\n",
       "      <td>Individual</td>\n",
       "      <td>Manual</td>\n",
       "      <td>...</td>\n",
       "      <td>18.6 kmpl</td>\n",
       "      <td>1197 CC</td>\n",
       "      <td>81.83 bhp</td>\n",
       "      <td>5</td>\n",
       "      <td>N</td>\n",
       "      <td>South</td>\n",
       "      <td>18.60</td>\n",
       "      <td>1197</td>\n",
       "      <td>81.83</td>\n",
       "      <td>0</td>\n",
       "    </tr>\n",
       "  </tbody>\n",
       "</table>\n",
       "<p>78 rows × 21 columns</p>\n",
       "</div>"
      ],
      "text/plain": [
       "      Sales_ID                                   name  year  selling_price  \\\n",
       "132        402                         Tata Indigo LS  2012          95000   \n",
       "280       1238                 Mahindra Xylo D4 BSIII  2013         200000   \n",
       "448       5213   Ford Figo Diesel Celebration Edition  2013         229999   \n",
       "495       5872                    Mahindra Scorpio LX  2012         450000   \n",
       "682       1811                 Mahindra XUV500 W6 2WD  2012         500000   \n",
       "...        ...                                    ...   ...            ...   \n",
       "7638      2095                       Mahindra Xylo D2  2010         160000   \n",
       "7754      2580                 Maruti Wagon R Duo Lxi  2011         300000   \n",
       "7755      2585                 Hyundai Verna 1.4 CRDi  2015         525000   \n",
       "7804      7970  Toyota Innova 2.5 G (Diesel) 7 Seater  2012         730000   \n",
       "7822      3487                   Hyundai i20 Asta 1.2  2007         550000   \n",
       "\n",
       "      km_driven State or Province           City    fuel seller_type  \\\n",
       "132    265000.0          New York  New York City  Diesel  Individual   \n",
       "280    300000.0          New York           Troy  Diesel  Individual   \n",
       "448    230000.0          New York      Watertown  Diesel  Individual   \n",
       "495    370000.0          New York      Plainview  Diesel  Individual   \n",
       "682   1500000.0          Illinois   West Chicago  Diesel  Individual   \n",
       "...         ...               ...            ...     ...         ...   \n",
       "7638   255000.0      North Dakota      Dickinson  Diesel  Individual   \n",
       "7754   300000.0           Wyoming   Rock Springs     LPG  Individual   \n",
       "7755   248000.0           Wyoming   Rock Springs  Diesel  Individual   \n",
       "7804   250000.0            Nevada           Reno  Diesel  Individual   \n",
       "7822  2360457.0       Mississippi        Clinton  Petrol  Individual   \n",
       "\n",
       "     transmission  ...     mileage   engine  max_power seats  sold   Region  \\\n",
       "132        Manual  ...   17.0 kmpl  1405 CC     70 bhp     5     Y     East   \n",
       "280        Manual  ...   14.0 kmpl  2498 CC    112 bhp     8     Y     East   \n",
       "448        Manual  ...   20.0 kmpl  1399 CC   68.1 bhp     5     N     East   \n",
       "495        Manual  ...  12.05 kmpl  2179 CC    120 bhp     9     N     East   \n",
       "682        Manual  ...   15.1 kmpl  2179 CC    140 bhp     7     Y  Central   \n",
       "...           ...  ...         ...      ...        ...   ...   ...      ...   \n",
       "7638       Manual  ...   13.0 kmpl  2489 CC     95 bhp     8     N  Central   \n",
       "7754       Manual  ...  26.2 km/kg   998 CC   58.2 bhp     5     N     West   \n",
       "7755       Manual  ...   24.8 kmpl  1396 CC   88.7 bhp     5     N     West   \n",
       "7804       Manual  ...  12.99 kmpl  2494 CC    100 bhp     7     N     West   \n",
       "7822       Manual  ...   18.6 kmpl  1197 CC  81.83 bhp     5     N    South   \n",
       "\n",
       "     AvgMileage  EngineCC  MaxPower  sale  \n",
       "132       17.00      1405     70.00     1  \n",
       "280       14.00      2498    112.00     1  \n",
       "448       20.00      1399     68.10     0  \n",
       "495       12.05      2179    120.00     0  \n",
       "682       15.10      2179    140.00     1  \n",
       "...         ...       ...       ...   ...  \n",
       "7638      13.00      2489     95.00     0  \n",
       "7754      26.20       998     58.20     0  \n",
       "7755      24.80      1396     88.70     0  \n",
       "7804      12.99      2494    100.00     0  \n",
       "7822      18.60      1197     81.83     0  \n",
       "\n",
       "[78 rows x 21 columns]"
      ]
     },
     "execution_count": 52,
     "metadata": {},
     "output_type": "execute_result"
    }
   ],
   "source": [
    "car1[car1.km_driven>q1]"
   ]
  },
  {
   "cell_type": "markdown",
   "id": "9e382a8f",
   "metadata": {},
   "source": [
    "We see that some values were too high we need to check them"
   ]
  },
  {
   "cell_type": "code",
   "execution_count": 53,
   "id": "edcb33c1",
   "metadata": {},
   "outputs": [
    {
     "data": {
      "text/plain": [
       "0.990     225000.00\n",
       "0.991     231229.49\n",
       "0.992     247520.00\n",
       "0.993     250000.00\n",
       "0.994     250000.00\n",
       "0.995     264475.00\n",
       "0.996     281900.00\n",
       "0.997     300000.00\n",
       "0.998     321900.00\n",
       "0.999     384370.00\n",
       "1.000    2360457.00\n",
       "Name: km_driven, dtype: float64"
      ]
     },
     "execution_count": 53,
     "metadata": {},
     "output_type": "execute_result"
    }
   ],
   "source": [
    "car1['km_driven'].quantile(np.arange(0.99,1,0.001))"
   ]
  },
  {
   "cell_type": "code",
   "execution_count": 54,
   "id": "d3525128",
   "metadata": {},
   "outputs": [],
   "source": [
    "q2=car1['km_driven'].quantile(0.999)"
   ]
  },
  {
   "cell_type": "code",
   "execution_count": 55,
   "id": "1c3975d9",
   "metadata": {},
   "outputs": [
    {
     "data": {
      "text/plain": [
       "384370.00000005355"
      ]
     },
     "execution_count": 55,
     "metadata": {},
     "output_type": "execute_result"
    }
   ],
   "source": [
    "q2"
   ]
  },
  {
   "cell_type": "code",
   "execution_count": 56,
   "id": "3c09e7e9",
   "metadata": {},
   "outputs": [
    {
     "data": {
      "text/html": [
       "<div>\n",
       "<style scoped>\n",
       "    .dataframe tbody tr th:only-of-type {\n",
       "        vertical-align: middle;\n",
       "    }\n",
       "\n",
       "    .dataframe tbody tr th {\n",
       "        vertical-align: top;\n",
       "    }\n",
       "\n",
       "    .dataframe thead th {\n",
       "        text-align: right;\n",
       "    }\n",
       "</style>\n",
       "<table border=\"1\" class=\"dataframe\">\n",
       "  <thead>\n",
       "    <tr style=\"text-align: right;\">\n",
       "      <th></th>\n",
       "      <th>Sales_ID</th>\n",
       "      <th>name</th>\n",
       "      <th>year</th>\n",
       "      <th>selling_price</th>\n",
       "      <th>km_driven</th>\n",
       "      <th>State or Province</th>\n",
       "      <th>City</th>\n",
       "      <th>fuel</th>\n",
       "      <th>seller_type</th>\n",
       "      <th>transmission</th>\n",
       "      <th>...</th>\n",
       "      <th>mileage</th>\n",
       "      <th>engine</th>\n",
       "      <th>max_power</th>\n",
       "      <th>seats</th>\n",
       "      <th>sold</th>\n",
       "      <th>Region</th>\n",
       "      <th>AvgMileage</th>\n",
       "      <th>EngineCC</th>\n",
       "      <th>MaxPower</th>\n",
       "      <th>sale</th>\n",
       "    </tr>\n",
       "  </thead>\n",
       "  <tbody>\n",
       "    <tr>\n",
       "      <th>682</th>\n",
       "      <td>1811</td>\n",
       "      <td>Mahindra XUV500 W6 2WD</td>\n",
       "      <td>2012</td>\n",
       "      <td>500000</td>\n",
       "      <td>1500000.0</td>\n",
       "      <td>Illinois</td>\n",
       "      <td>West Chicago</td>\n",
       "      <td>Diesel</td>\n",
       "      <td>Individual</td>\n",
       "      <td>Manual</td>\n",
       "      <td>...</td>\n",
       "      <td>15.1 kmpl</td>\n",
       "      <td>2179 CC</td>\n",
       "      <td>140 bhp</td>\n",
       "      <td>7</td>\n",
       "      <td>Y</td>\n",
       "      <td>Central</td>\n",
       "      <td>15.10</td>\n",
       "      <td>2179</td>\n",
       "      <td>140.00</td>\n",
       "      <td>1</td>\n",
       "    </tr>\n",
       "    <tr>\n",
       "      <th>3928</th>\n",
       "      <td>5190</td>\n",
       "      <td>Toyota Innova 2.5 VX (Diesel) 7 Seater</td>\n",
       "      <td>2013</td>\n",
       "      <td>750000</td>\n",
       "      <td>440000.0</td>\n",
       "      <td>Pennsylvania</td>\n",
       "      <td>Altoona</td>\n",
       "      <td>Diesel</td>\n",
       "      <td>Individual</td>\n",
       "      <td>Manual</td>\n",
       "      <td>...</td>\n",
       "      <td>12.99 kmpl</td>\n",
       "      <td>2494 CC</td>\n",
       "      <td>100.6 bhp</td>\n",
       "      <td>7</td>\n",
       "      <td>N</td>\n",
       "      <td>East</td>\n",
       "      <td>12.99</td>\n",
       "      <td>2494</td>\n",
       "      <td>100.60</td>\n",
       "      <td>0</td>\n",
       "    </tr>\n",
       "    <tr>\n",
       "      <th>4734</th>\n",
       "      <td>5107</td>\n",
       "      <td>Mahindra Scorpio M2DI</td>\n",
       "      <td>2011</td>\n",
       "      <td>400000</td>\n",
       "      <td>475000.0</td>\n",
       "      <td>Maryland</td>\n",
       "      <td>Middle River</td>\n",
       "      <td>Diesel</td>\n",
       "      <td>Individual</td>\n",
       "      <td>Manual</td>\n",
       "      <td>...</td>\n",
       "      <td>13.5 kmpl</td>\n",
       "      <td>2179 CC</td>\n",
       "      <td>115 bhp</td>\n",
       "      <td>5</td>\n",
       "      <td>N</td>\n",
       "      <td>East</td>\n",
       "      <td>13.50</td>\n",
       "      <td>2179</td>\n",
       "      <td>115.00</td>\n",
       "      <td>0</td>\n",
       "    </tr>\n",
       "    <tr>\n",
       "      <th>5538</th>\n",
       "      <td>3509</td>\n",
       "      <td>Maruti Wagon R LXI Minor</td>\n",
       "      <td>2010</td>\n",
       "      <td>194000</td>\n",
       "      <td>577414.0</td>\n",
       "      <td>Tennessee</td>\n",
       "      <td>Columbia</td>\n",
       "      <td>Petrol</td>\n",
       "      <td>Individual</td>\n",
       "      <td>Manual</td>\n",
       "      <td>...</td>\n",
       "      <td>18.9 kmpl</td>\n",
       "      <td>1061 CC</td>\n",
       "      <td>67 bhp</td>\n",
       "      <td>5</td>\n",
       "      <td>N</td>\n",
       "      <td>South</td>\n",
       "      <td>18.90</td>\n",
       "      <td>1061</td>\n",
       "      <td>67.00</td>\n",
       "      <td>0</td>\n",
       "    </tr>\n",
       "    <tr>\n",
       "      <th>6057</th>\n",
       "      <td>6674</td>\n",
       "      <td>Toyota Innova 2.5 EV Diesel PS 7 Seater BSIII</td>\n",
       "      <td>2011</td>\n",
       "      <td>350000</td>\n",
       "      <td>500000.0</td>\n",
       "      <td>Idaho</td>\n",
       "      <td>Post Falls</td>\n",
       "      <td>Diesel</td>\n",
       "      <td>Individual</td>\n",
       "      <td>Manual</td>\n",
       "      <td>...</td>\n",
       "      <td>12.99 kmpl</td>\n",
       "      <td>2494 CC</td>\n",
       "      <td>100.57 bhp</td>\n",
       "      <td>7</td>\n",
       "      <td>N</td>\n",
       "      <td>West</td>\n",
       "      <td>12.99</td>\n",
       "      <td>2494</td>\n",
       "      <td>100.57</td>\n",
       "      <td>0</td>\n",
       "    </tr>\n",
       "    <tr>\n",
       "      <th>6646</th>\n",
       "      <td>5468</td>\n",
       "      <td>Toyota Innova 2.5 VX (Diesel) 7 Seater BS IV</td>\n",
       "      <td>2010</td>\n",
       "      <td>950000</td>\n",
       "      <td>426000.0</td>\n",
       "      <td>Kansas</td>\n",
       "      <td>Emporia</td>\n",
       "      <td>Diesel</td>\n",
       "      <td>Individual</td>\n",
       "      <td>Manual</td>\n",
       "      <td>...</td>\n",
       "      <td>12.8 kmpl</td>\n",
       "      <td>2494 CC</td>\n",
       "      <td>102 bhp</td>\n",
       "      <td>7</td>\n",
       "      <td>N</td>\n",
       "      <td>Central</td>\n",
       "      <td>12.80</td>\n",
       "      <td>2494</td>\n",
       "      <td>102.00</td>\n",
       "      <td>0</td>\n",
       "    </tr>\n",
       "    <tr>\n",
       "      <th>7126</th>\n",
       "      <td>3642</td>\n",
       "      <td>Maruti Wagon R VXI BS IV</td>\n",
       "      <td>2011</td>\n",
       "      <td>229999</td>\n",
       "      <td>500000.0</td>\n",
       "      <td>Colorado</td>\n",
       "      <td>Denver</td>\n",
       "      <td>Petrol</td>\n",
       "      <td>Individual</td>\n",
       "      <td>Manual</td>\n",
       "      <td>...</td>\n",
       "      <td>18.9 kmpl</td>\n",
       "      <td>998 CC</td>\n",
       "      <td>67.1 bhp</td>\n",
       "      <td>5</td>\n",
       "      <td>N</td>\n",
       "      <td>West</td>\n",
       "      <td>18.90</td>\n",
       "      <td>998</td>\n",
       "      <td>67.10</td>\n",
       "      <td>0</td>\n",
       "    </tr>\n",
       "    <tr>\n",
       "      <th>7822</th>\n",
       "      <td>3487</td>\n",
       "      <td>Hyundai i20 Asta 1.2</td>\n",
       "      <td>2007</td>\n",
       "      <td>550000</td>\n",
       "      <td>2360457.0</td>\n",
       "      <td>Mississippi</td>\n",
       "      <td>Clinton</td>\n",
       "      <td>Petrol</td>\n",
       "      <td>Individual</td>\n",
       "      <td>Manual</td>\n",
       "      <td>...</td>\n",
       "      <td>18.6 kmpl</td>\n",
       "      <td>1197 CC</td>\n",
       "      <td>81.83 bhp</td>\n",
       "      <td>5</td>\n",
       "      <td>N</td>\n",
       "      <td>South</td>\n",
       "      <td>18.60</td>\n",
       "      <td>1197</td>\n",
       "      <td>81.83</td>\n",
       "      <td>0</td>\n",
       "    </tr>\n",
       "  </tbody>\n",
       "</table>\n",
       "<p>8 rows × 21 columns</p>\n",
       "</div>"
      ],
      "text/plain": [
       "      Sales_ID                                           name  year  \\\n",
       "682       1811                         Mahindra XUV500 W6 2WD  2012   \n",
       "3928      5190         Toyota Innova 2.5 VX (Diesel) 7 Seater  2013   \n",
       "4734      5107                          Mahindra Scorpio M2DI  2011   \n",
       "5538      3509                       Maruti Wagon R LXI Minor  2010   \n",
       "6057      6674  Toyota Innova 2.5 EV Diesel PS 7 Seater BSIII  2011   \n",
       "6646      5468   Toyota Innova 2.5 VX (Diesel) 7 Seater BS IV  2010   \n",
       "7126      3642                       Maruti Wagon R VXI BS IV  2011   \n",
       "7822      3487                           Hyundai i20 Asta 1.2  2007   \n",
       "\n",
       "      selling_price  km_driven State or Province          City    fuel  \\\n",
       "682          500000  1500000.0          Illinois  West Chicago  Diesel   \n",
       "3928         750000   440000.0      Pennsylvania       Altoona  Diesel   \n",
       "4734         400000   475000.0          Maryland  Middle River  Diesel   \n",
       "5538         194000   577414.0         Tennessee      Columbia  Petrol   \n",
       "6057         350000   500000.0             Idaho    Post Falls  Diesel   \n",
       "6646         950000   426000.0            Kansas       Emporia  Diesel   \n",
       "7126         229999   500000.0          Colorado        Denver  Petrol   \n",
       "7822         550000  2360457.0       Mississippi       Clinton  Petrol   \n",
       "\n",
       "     seller_type transmission  ...     mileage   engine   max_power seats  \\\n",
       "682   Individual       Manual  ...   15.1 kmpl  2179 CC     140 bhp     7   \n",
       "3928  Individual       Manual  ...  12.99 kmpl  2494 CC   100.6 bhp     7   \n",
       "4734  Individual       Manual  ...   13.5 kmpl  2179 CC     115 bhp     5   \n",
       "5538  Individual       Manual  ...   18.9 kmpl  1061 CC      67 bhp     5   \n",
       "6057  Individual       Manual  ...  12.99 kmpl  2494 CC  100.57 bhp     7   \n",
       "6646  Individual       Manual  ...   12.8 kmpl  2494 CC     102 bhp     7   \n",
       "7126  Individual       Manual  ...   18.9 kmpl   998 CC    67.1 bhp     5   \n",
       "7822  Individual       Manual  ...   18.6 kmpl  1197 CC   81.83 bhp     5   \n",
       "\n",
       "      sold   Region AvgMileage  EngineCC  MaxPower  sale  \n",
       "682      Y  Central      15.10      2179    140.00     1  \n",
       "3928     N     East      12.99      2494    100.60     0  \n",
       "4734     N     East      13.50      2179    115.00     0  \n",
       "5538     N    South      18.90      1061     67.00     0  \n",
       "6057     N     West      12.99      2494    100.57     0  \n",
       "6646     N  Central      12.80      2494    102.00     0  \n",
       "7126     N     West      18.90       998     67.10     0  \n",
       "7822     N    South      18.60      1197     81.83     0  \n",
       "\n",
       "[8 rows x 21 columns]"
      ]
     },
     "execution_count": 56,
     "metadata": {},
     "output_type": "execute_result"
    }
   ],
   "source": [
    "car1[car1.km_driven>q2]"
   ]
  },
  {
   "cell_type": "markdown",
   "id": "faa99470",
   "metadata": {},
   "source": [
    "We see that km_driven above 99 quantile are continuous in range except 2 cars with sales id 682 and 7822.But car which has km_driven value 15,00,000 is sold.So it is not an outlier and we have to replace car with km_driven 23,60,457 with mean value."
   ]
  },
  {
   "cell_type": "code",
   "execution_count": 57,
   "id": "0e6171ce",
   "metadata": {},
   "outputs": [],
   "source": [
    "car1.loc[(car1[\"km_driven\"]>1500000), 'km_driven'] = car1['km_driven'].mean()"
   ]
  },
  {
   "cell_type": "code",
   "execution_count": 58,
   "id": "73d3350d",
   "metadata": {},
   "outputs": [
    {
     "data": {
      "text/html": [
       "<div>\n",
       "<style scoped>\n",
       "    .dataframe tbody tr th:only-of-type {\n",
       "        vertical-align: middle;\n",
       "    }\n",
       "\n",
       "    .dataframe tbody tr th {\n",
       "        vertical-align: top;\n",
       "    }\n",
       "\n",
       "    .dataframe thead th {\n",
       "        text-align: right;\n",
       "    }\n",
       "</style>\n",
       "<table border=\"1\" class=\"dataframe\">\n",
       "  <thead>\n",
       "    <tr style=\"text-align: right;\">\n",
       "      <th></th>\n",
       "      <th>Sales_ID</th>\n",
       "      <th>name</th>\n",
       "      <th>year</th>\n",
       "      <th>selling_price</th>\n",
       "      <th>km_driven</th>\n",
       "      <th>State or Province</th>\n",
       "      <th>City</th>\n",
       "      <th>fuel</th>\n",
       "      <th>seller_type</th>\n",
       "      <th>transmission</th>\n",
       "      <th>...</th>\n",
       "      <th>mileage</th>\n",
       "      <th>engine</th>\n",
       "      <th>max_power</th>\n",
       "      <th>seats</th>\n",
       "      <th>sold</th>\n",
       "      <th>Region</th>\n",
       "      <th>AvgMileage</th>\n",
       "      <th>EngineCC</th>\n",
       "      <th>MaxPower</th>\n",
       "      <th>sale</th>\n",
       "    </tr>\n",
       "  </thead>\n",
       "  <tbody>\n",
       "    <tr>\n",
       "      <th>682</th>\n",
       "      <td>1811</td>\n",
       "      <td>Mahindra XUV500 W6 2WD</td>\n",
       "      <td>2012</td>\n",
       "      <td>500000</td>\n",
       "      <td>1500000.0</td>\n",
       "      <td>Illinois</td>\n",
       "      <td>West Chicago</td>\n",
       "      <td>Diesel</td>\n",
       "      <td>Individual</td>\n",
       "      <td>Manual</td>\n",
       "      <td>...</td>\n",
       "      <td>15.1 kmpl</td>\n",
       "      <td>2179 CC</td>\n",
       "      <td>140 bhp</td>\n",
       "      <td>7</td>\n",
       "      <td>Y</td>\n",
       "      <td>Central</td>\n",
       "      <td>15.10</td>\n",
       "      <td>2179</td>\n",
       "      <td>140.00</td>\n",
       "      <td>1</td>\n",
       "    </tr>\n",
       "    <tr>\n",
       "      <th>3928</th>\n",
       "      <td>5190</td>\n",
       "      <td>Toyota Innova 2.5 VX (Diesel) 7 Seater</td>\n",
       "      <td>2013</td>\n",
       "      <td>750000</td>\n",
       "      <td>440000.0</td>\n",
       "      <td>Pennsylvania</td>\n",
       "      <td>Altoona</td>\n",
       "      <td>Diesel</td>\n",
       "      <td>Individual</td>\n",
       "      <td>Manual</td>\n",
       "      <td>...</td>\n",
       "      <td>12.99 kmpl</td>\n",
       "      <td>2494 CC</td>\n",
       "      <td>100.6 bhp</td>\n",
       "      <td>7</td>\n",
       "      <td>N</td>\n",
       "      <td>East</td>\n",
       "      <td>12.99</td>\n",
       "      <td>2494</td>\n",
       "      <td>100.60</td>\n",
       "      <td>0</td>\n",
       "    </tr>\n",
       "    <tr>\n",
       "      <th>4734</th>\n",
       "      <td>5107</td>\n",
       "      <td>Mahindra Scorpio M2DI</td>\n",
       "      <td>2011</td>\n",
       "      <td>400000</td>\n",
       "      <td>475000.0</td>\n",
       "      <td>Maryland</td>\n",
       "      <td>Middle River</td>\n",
       "      <td>Diesel</td>\n",
       "      <td>Individual</td>\n",
       "      <td>Manual</td>\n",
       "      <td>...</td>\n",
       "      <td>13.5 kmpl</td>\n",
       "      <td>2179 CC</td>\n",
       "      <td>115 bhp</td>\n",
       "      <td>5</td>\n",
       "      <td>N</td>\n",
       "      <td>East</td>\n",
       "      <td>13.50</td>\n",
       "      <td>2179</td>\n",
       "      <td>115.00</td>\n",
       "      <td>0</td>\n",
       "    </tr>\n",
       "    <tr>\n",
       "      <th>5538</th>\n",
       "      <td>3509</td>\n",
       "      <td>Maruti Wagon R LXI Minor</td>\n",
       "      <td>2010</td>\n",
       "      <td>194000</td>\n",
       "      <td>577414.0</td>\n",
       "      <td>Tennessee</td>\n",
       "      <td>Columbia</td>\n",
       "      <td>Petrol</td>\n",
       "      <td>Individual</td>\n",
       "      <td>Manual</td>\n",
       "      <td>...</td>\n",
       "      <td>18.9 kmpl</td>\n",
       "      <td>1061 CC</td>\n",
       "      <td>67 bhp</td>\n",
       "      <td>5</td>\n",
       "      <td>N</td>\n",
       "      <td>South</td>\n",
       "      <td>18.90</td>\n",
       "      <td>1061</td>\n",
       "      <td>67.00</td>\n",
       "      <td>0</td>\n",
       "    </tr>\n",
       "    <tr>\n",
       "      <th>6057</th>\n",
       "      <td>6674</td>\n",
       "      <td>Toyota Innova 2.5 EV Diesel PS 7 Seater BSIII</td>\n",
       "      <td>2011</td>\n",
       "      <td>350000</td>\n",
       "      <td>500000.0</td>\n",
       "      <td>Idaho</td>\n",
       "      <td>Post Falls</td>\n",
       "      <td>Diesel</td>\n",
       "      <td>Individual</td>\n",
       "      <td>Manual</td>\n",
       "      <td>...</td>\n",
       "      <td>12.99 kmpl</td>\n",
       "      <td>2494 CC</td>\n",
       "      <td>100.57 bhp</td>\n",
       "      <td>7</td>\n",
       "      <td>N</td>\n",
       "      <td>West</td>\n",
       "      <td>12.99</td>\n",
       "      <td>2494</td>\n",
       "      <td>100.57</td>\n",
       "      <td>0</td>\n",
       "    </tr>\n",
       "    <tr>\n",
       "      <th>6646</th>\n",
       "      <td>5468</td>\n",
       "      <td>Toyota Innova 2.5 VX (Diesel) 7 Seater BS IV</td>\n",
       "      <td>2010</td>\n",
       "      <td>950000</td>\n",
       "      <td>426000.0</td>\n",
       "      <td>Kansas</td>\n",
       "      <td>Emporia</td>\n",
       "      <td>Diesel</td>\n",
       "      <td>Individual</td>\n",
       "      <td>Manual</td>\n",
       "      <td>...</td>\n",
       "      <td>12.8 kmpl</td>\n",
       "      <td>2494 CC</td>\n",
       "      <td>102 bhp</td>\n",
       "      <td>7</td>\n",
       "      <td>N</td>\n",
       "      <td>Central</td>\n",
       "      <td>12.80</td>\n",
       "      <td>2494</td>\n",
       "      <td>102.00</td>\n",
       "      <td>0</td>\n",
       "    </tr>\n",
       "    <tr>\n",
       "      <th>7126</th>\n",
       "      <td>3642</td>\n",
       "      <td>Maruti Wagon R VXI BS IV</td>\n",
       "      <td>2011</td>\n",
       "      <td>229999</td>\n",
       "      <td>500000.0</td>\n",
       "      <td>Colorado</td>\n",
       "      <td>Denver</td>\n",
       "      <td>Petrol</td>\n",
       "      <td>Individual</td>\n",
       "      <td>Manual</td>\n",
       "      <td>...</td>\n",
       "      <td>18.9 kmpl</td>\n",
       "      <td>998 CC</td>\n",
       "      <td>67.1 bhp</td>\n",
       "      <td>5</td>\n",
       "      <td>N</td>\n",
       "      <td>West</td>\n",
       "      <td>18.90</td>\n",
       "      <td>998</td>\n",
       "      <td>67.10</td>\n",
       "      <td>0</td>\n",
       "    </tr>\n",
       "  </tbody>\n",
       "</table>\n",
       "<p>7 rows × 21 columns</p>\n",
       "</div>"
      ],
      "text/plain": [
       "      Sales_ID                                           name  year  \\\n",
       "682       1811                         Mahindra XUV500 W6 2WD  2012   \n",
       "3928      5190         Toyota Innova 2.5 VX (Diesel) 7 Seater  2013   \n",
       "4734      5107                          Mahindra Scorpio M2DI  2011   \n",
       "5538      3509                       Maruti Wagon R LXI Minor  2010   \n",
       "6057      6674  Toyota Innova 2.5 EV Diesel PS 7 Seater BSIII  2011   \n",
       "6646      5468   Toyota Innova 2.5 VX (Diesel) 7 Seater BS IV  2010   \n",
       "7126      3642                       Maruti Wagon R VXI BS IV  2011   \n",
       "\n",
       "      selling_price  km_driven State or Province          City    fuel  \\\n",
       "682          500000  1500000.0          Illinois  West Chicago  Diesel   \n",
       "3928         750000   440000.0      Pennsylvania       Altoona  Diesel   \n",
       "4734         400000   475000.0          Maryland  Middle River  Diesel   \n",
       "5538         194000   577414.0         Tennessee      Columbia  Petrol   \n",
       "6057         350000   500000.0             Idaho    Post Falls  Diesel   \n",
       "6646         950000   426000.0            Kansas       Emporia  Diesel   \n",
       "7126         229999   500000.0          Colorado        Denver  Petrol   \n",
       "\n",
       "     seller_type transmission  ...     mileage   engine   max_power seats  \\\n",
       "682   Individual       Manual  ...   15.1 kmpl  2179 CC     140 bhp     7   \n",
       "3928  Individual       Manual  ...  12.99 kmpl  2494 CC   100.6 bhp     7   \n",
       "4734  Individual       Manual  ...   13.5 kmpl  2179 CC     115 bhp     5   \n",
       "5538  Individual       Manual  ...   18.9 kmpl  1061 CC      67 bhp     5   \n",
       "6057  Individual       Manual  ...  12.99 kmpl  2494 CC  100.57 bhp     7   \n",
       "6646  Individual       Manual  ...   12.8 kmpl  2494 CC     102 bhp     7   \n",
       "7126  Individual       Manual  ...   18.9 kmpl   998 CC    67.1 bhp     5   \n",
       "\n",
       "      sold   Region AvgMileage  EngineCC  MaxPower  sale  \n",
       "682      Y  Central      15.10      2179    140.00     1  \n",
       "3928     N     East      12.99      2494    100.60     0  \n",
       "4734     N     East      13.50      2179    115.00     0  \n",
       "5538     N    South      18.90      1061     67.00     0  \n",
       "6057     N     West      12.99      2494    100.57     0  \n",
       "6646     N  Central      12.80      2494    102.00     0  \n",
       "7126     N     West      18.90       998     67.10     0  \n",
       "\n",
       "[7 rows x 21 columns]"
      ]
     },
     "execution_count": 58,
     "metadata": {},
     "output_type": "execute_result"
    }
   ],
   "source": [
    "car1[car1.km_driven>q2]"
   ]
  },
  {
   "cell_type": "code",
   "execution_count": 59,
   "id": "f2014b68",
   "metadata": {},
   "outputs": [
    {
     "data": {
      "text/plain": [
       "count    7.906000e+03\n",
       "mean     6.890760e+04\n",
       "std      5.060193e+04\n",
       "min      1.000000e+03\n",
       "25%      3.500000e+04\n",
       "50%      6.000000e+04\n",
       "75%      9.515000e+04\n",
       "max      1.500000e+06\n",
       "Name: km_driven, dtype: float64"
      ]
     },
     "execution_count": 59,
     "metadata": {},
     "output_type": "execute_result"
    }
   ],
   "source": [
    "car1['km_driven'].describe()"
   ]
  },
  {
   "cell_type": "markdown",
   "id": "67dbdc8b",
   "metadata": {},
   "source": [
    "We can see that max value got changed which shows that outliers are treated in km_driven column"
   ]
  },
  {
   "cell_type": "markdown",
   "id": "2fd9d4ac",
   "metadata": {},
   "source": [
    "# Checking for outliers in AvgMileage column"
   ]
  },
  {
   "cell_type": "code",
   "execution_count": 60,
   "id": "031b63ad",
   "metadata": {},
   "outputs": [
    {
     "data": {
      "text/plain": [
       "<AxesSubplot:ylabel='Frequency'>"
      ]
     },
     "execution_count": 60,
     "metadata": {},
     "output_type": "execute_result"
    },
    {
     "data": {
      "image/png": "[encoded data removed]",
      "text/plain": [
       "<Figure size 432x288 with 1 Axes>"
      ]
     },
     "metadata": {
      "needs_background": "light"
     },
     "output_type": "display_data"
    }
   ],
   "source": [
    "car1.AvgMileage.plot(kind='hist')"
   ]
  },
  {
   "cell_type": "code",
   "execution_count": 61,
   "id": "cf0ed5c3",
   "metadata": {},
   "outputs": [
    {
     "data": {
      "image/png": "[encoded data removed]",
      "text/plain": [
       "<Figure size 432x288 with 1 Axes>"
      ]
     },
     "metadata": {
      "needs_background": "light"
     },
     "output_type": "display_data"
    }
   ],
   "source": [
    "car1.boxplot(column='AvgMileage')\n",
    "plt.show()"
   ]
  },
  {
   "cell_type": "code",
   "execution_count": 62,
   "id": "651a2838",
   "metadata": {},
   "outputs": [
    {
     "data": {
      "text/plain": [
       "0.0"
      ]
     },
     "execution_count": 62,
     "metadata": {},
     "output_type": "execute_result"
    }
   ],
   "source": [
    "car1['AvgMileage'].quantile(0.0)"
   ]
  },
  {
   "cell_type": "code",
   "execution_count": 63,
   "id": "7c9882b1",
   "metadata": {},
   "outputs": [
    {
     "data": {
      "text/html": [
       "<div>\n",
       "<style scoped>\n",
       "    .dataframe tbody tr th:only-of-type {\n",
       "        vertical-align: middle;\n",
       "    }\n",
       "\n",
       "    .dataframe tbody tr th {\n",
       "        vertical-align: top;\n",
       "    }\n",
       "\n",
       "    .dataframe thead th {\n",
       "        text-align: right;\n",
       "    }\n",
       "</style>\n",
       "<table border=\"1\" class=\"dataframe\">\n",
       "  <thead>\n",
       "    <tr style=\"text-align: right;\">\n",
       "      <th></th>\n",
       "      <th>Sales_ID</th>\n",
       "      <th>name</th>\n",
       "      <th>year</th>\n",
       "      <th>selling_price</th>\n",
       "      <th>km_driven</th>\n",
       "      <th>State or Province</th>\n",
       "      <th>City</th>\n",
       "      <th>fuel</th>\n",
       "      <th>seller_type</th>\n",
       "      <th>transmission</th>\n",
       "      <th>...</th>\n",
       "      <th>mileage</th>\n",
       "      <th>engine</th>\n",
       "      <th>max_power</th>\n",
       "      <th>seats</th>\n",
       "      <th>sold</th>\n",
       "      <th>Region</th>\n",
       "      <th>AvgMileage</th>\n",
       "      <th>EngineCC</th>\n",
       "      <th>MaxPower</th>\n",
       "      <th>sale</th>\n",
       "    </tr>\n",
       "  </thead>\n",
       "  <tbody>\n",
       "    <tr>\n",
       "      <th>183</th>\n",
       "      <td>645</td>\n",
       "      <td>Tata Indica Vista Aura Safire Anniversary Edition</td>\n",
       "      <td>2009</td>\n",
       "      <td>135000</td>\n",
       "      <td>28900.0</td>\n",
       "      <td>New York</td>\n",
       "      <td>New York City</td>\n",
       "      <td>Petrol</td>\n",
       "      <td>Individual</td>\n",
       "      <td>Manual</td>\n",
       "      <td>...</td>\n",
       "      <td>0.0 kmpl</td>\n",
       "      <td>1172 CC</td>\n",
       "      <td>65 bhp</td>\n",
       "      <td>5</td>\n",
       "      <td>Y</td>\n",
       "      <td>East</td>\n",
       "      <td>0.0</td>\n",
       "      <td>1172</td>\n",
       "      <td>65.00</td>\n",
       "      <td>1</td>\n",
       "    </tr>\n",
       "    <tr>\n",
       "      <th>211</th>\n",
       "      <td>786</td>\n",
       "      <td>Hyundai Santro Xing GL</td>\n",
       "      <td>2009</td>\n",
       "      <td>120000</td>\n",
       "      <td>90000.0</td>\n",
       "      <td>New York</td>\n",
       "      <td>New York City</td>\n",
       "      <td>Petrol</td>\n",
       "      <td>Individual</td>\n",
       "      <td>Manual</td>\n",
       "      <td>...</td>\n",
       "      <td>0.0 kmpl</td>\n",
       "      <td>1086 CC</td>\n",
       "      <td>62 bhp</td>\n",
       "      <td>5</td>\n",
       "      <td>Y</td>\n",
       "      <td>East</td>\n",
       "      <td>0.0</td>\n",
       "      <td>1086</td>\n",
       "      <td>62.00</td>\n",
       "      <td>1</td>\n",
       "    </tr>\n",
       "    <tr>\n",
       "      <th>320</th>\n",
       "      <td>1650</td>\n",
       "      <td>Hyundai Santro Xing GL</td>\n",
       "      <td>2008</td>\n",
       "      <td>105000</td>\n",
       "      <td>128000.0</td>\n",
       "      <td>New York</td>\n",
       "      <td>North Babylon</td>\n",
       "      <td>Petrol</td>\n",
       "      <td>Individual</td>\n",
       "      <td>Manual</td>\n",
       "      <td>...</td>\n",
       "      <td>0.0 kmpl</td>\n",
       "      <td>1086 CC</td>\n",
       "      <td>62 bhp</td>\n",
       "      <td>5</td>\n",
       "      <td>Y</td>\n",
       "      <td>East</td>\n",
       "      <td>0.0</td>\n",
       "      <td>1086</td>\n",
       "      <td>62.00</td>\n",
       "      <td>1</td>\n",
       "    </tr>\n",
       "    <tr>\n",
       "      <th>756</th>\n",
       "      <td>2726</td>\n",
       "      <td>Hyundai Santro Xing (Non-AC)</td>\n",
       "      <td>2013</td>\n",
       "      <td>184000</td>\n",
       "      <td>15000.0</td>\n",
       "      <td>Illinois</td>\n",
       "      <td>Elk Grove Village</td>\n",
       "      <td>Petrol</td>\n",
       "      <td>Individual</td>\n",
       "      <td>Manual</td>\n",
       "      <td>...</td>\n",
       "      <td>0.0 kmpl</td>\n",
       "      <td>1086 CC</td>\n",
       "      <td>62.1 bhp</td>\n",
       "      <td>5</td>\n",
       "      <td>N</td>\n",
       "      <td>Central</td>\n",
       "      <td>0.0</td>\n",
       "      <td>1086</td>\n",
       "      <td>62.10</td>\n",
       "      <td>0</td>\n",
       "    </tr>\n",
       "    <tr>\n",
       "      <th>966</th>\n",
       "      <td>5901</td>\n",
       "      <td>Mahindra Bolero Pik-Up FB 1.7T</td>\n",
       "      <td>2020</td>\n",
       "      <td>679000</td>\n",
       "      <td>5000.0</td>\n",
       "      <td>Illinois</td>\n",
       "      <td>Forest Park</td>\n",
       "      <td>Diesel</td>\n",
       "      <td>Individual</td>\n",
       "      <td>Manual</td>\n",
       "      <td>...</td>\n",
       "      <td>0.0 kmpl</td>\n",
       "      <td>2523 CC</td>\n",
       "      <td>70 bhp</td>\n",
       "      <td>2</td>\n",
       "      <td>N</td>\n",
       "      <td>Central</td>\n",
       "      <td>0.0</td>\n",
       "      <td>2523</td>\n",
       "      <td>70.00</td>\n",
       "      <td>0</td>\n",
       "    </tr>\n",
       "    <tr>\n",
       "      <th>1627</th>\n",
       "      <td>4528</td>\n",
       "      <td>Mercedes-Benz M-Class ML 350 4Matic</td>\n",
       "      <td>2011</td>\n",
       "      <td>1700000</td>\n",
       "      <td>110000.0</td>\n",
       "      <td>California</td>\n",
       "      <td>Stockton</td>\n",
       "      <td>Diesel</td>\n",
       "      <td>Individual</td>\n",
       "      <td>Automatic</td>\n",
       "      <td>...</td>\n",
       "      <td>0.0 kmpl</td>\n",
       "      <td>2987 CC</td>\n",
       "      <td>165 bhp</td>\n",
       "      <td>5</td>\n",
       "      <td>N</td>\n",
       "      <td>West</td>\n",
       "      <td>0.0</td>\n",
       "      <td>2987</td>\n",
       "      <td>165.00</td>\n",
       "      <td>0</td>\n",
       "    </tr>\n",
       "    <tr>\n",
       "      <th>1721</th>\n",
       "      <td>5277</td>\n",
       "      <td>Hyundai Santro Xing GL</td>\n",
       "      <td>2008</td>\n",
       "      <td>175000</td>\n",
       "      <td>40000.0</td>\n",
       "      <td>California</td>\n",
       "      <td>Temecula</td>\n",
       "      <td>Petrol</td>\n",
       "      <td>Individual</td>\n",
       "      <td>Manual</td>\n",
       "      <td>...</td>\n",
       "      <td>0.0 kmpl</td>\n",
       "      <td>1086 CC</td>\n",
       "      <td>62 bhp</td>\n",
       "      <td>5</td>\n",
       "      <td>N</td>\n",
       "      <td>West</td>\n",
       "      <td>0.0</td>\n",
       "      <td>1086</td>\n",
       "      <td>62.00</td>\n",
       "      <td>0</td>\n",
       "    </tr>\n",
       "    <tr>\n",
       "      <th>2095</th>\n",
       "      <td>2138</td>\n",
       "      <td>Land Rover Freelander 2 TD4 HSE</td>\n",
       "      <td>2013</td>\n",
       "      <td>1650000</td>\n",
       "      <td>64788.0</td>\n",
       "      <td>Texas</td>\n",
       "      <td>Victoria</td>\n",
       "      <td>Diesel</td>\n",
       "      <td>Dealer</td>\n",
       "      <td>Automatic</td>\n",
       "      <td>...</td>\n",
       "      <td>0.0 kmpl</td>\n",
       "      <td>2179 CC</td>\n",
       "      <td>115 bhp</td>\n",
       "      <td>5</td>\n",
       "      <td>N</td>\n",
       "      <td>Central</td>\n",
       "      <td>0.0</td>\n",
       "      <td>2179</td>\n",
       "      <td>115.00</td>\n",
       "      <td>0</td>\n",
       "    </tr>\n",
       "    <tr>\n",
       "      <th>3310</th>\n",
       "      <td>6535</td>\n",
       "      <td>Hyundai Santro Xing GL</td>\n",
       "      <td>2010</td>\n",
       "      <td>150000</td>\n",
       "      <td>110000.0</td>\n",
       "      <td>North Carolina</td>\n",
       "      <td>Concord</td>\n",
       "      <td>Petrol</td>\n",
       "      <td>Individual</td>\n",
       "      <td>Manual</td>\n",
       "      <td>...</td>\n",
       "      <td>0.0 kmpl</td>\n",
       "      <td>1086 CC</td>\n",
       "      <td>62 bhp</td>\n",
       "      <td>5</td>\n",
       "      <td>N</td>\n",
       "      <td>South</td>\n",
       "      <td>0.0</td>\n",
       "      <td>1086</td>\n",
       "      <td>62.00</td>\n",
       "      <td>0</td>\n",
       "    </tr>\n",
       "    <tr>\n",
       "      <th>3682</th>\n",
       "      <td>6630</td>\n",
       "      <td>Mahindra Bolero Pik-Up CBC 1.7T</td>\n",
       "      <td>2019</td>\n",
       "      <td>722000</td>\n",
       "      <td>80000.0</td>\n",
       "      <td>Florida</td>\n",
       "      <td>Bradenton</td>\n",
       "      <td>Diesel</td>\n",
       "      <td>Individual</td>\n",
       "      <td>Manual</td>\n",
       "      <td>...</td>\n",
       "      <td>0.0 kmpl</td>\n",
       "      <td>2523 CC</td>\n",
       "      <td>70 bhp</td>\n",
       "      <td>2</td>\n",
       "      <td>N</td>\n",
       "      <td>South</td>\n",
       "      <td>0.0</td>\n",
       "      <td>2523</td>\n",
       "      <td>70.00</td>\n",
       "      <td>0</td>\n",
       "    </tr>\n",
       "    <tr>\n",
       "      <th>3826</th>\n",
       "      <td>1677</td>\n",
       "      <td>Mercedes-Benz M-Class ML 350 4Matic</td>\n",
       "      <td>2011</td>\n",
       "      <td>1700000</td>\n",
       "      <td>110000.0</td>\n",
       "      <td>Pennsylvania</td>\n",
       "      <td>Altoona</td>\n",
       "      <td>Diesel</td>\n",
       "      <td>Individual</td>\n",
       "      <td>Automatic</td>\n",
       "      <td>...</td>\n",
       "      <td>0.0 kmpl</td>\n",
       "      <td>2987 CC</td>\n",
       "      <td>165 bhp</td>\n",
       "      <td>5</td>\n",
       "      <td>Y</td>\n",
       "      <td>East</td>\n",
       "      <td>0.0</td>\n",
       "      <td>2987</td>\n",
       "      <td>165.00</td>\n",
       "      <td>1</td>\n",
       "    </tr>\n",
       "    <tr>\n",
       "      <th>4465</th>\n",
       "      <td>2367</td>\n",
       "      <td>Hyundai Santro Xing (Non-AC)</td>\n",
       "      <td>2010</td>\n",
       "      <td>110000</td>\n",
       "      <td>80000.0</td>\n",
       "      <td>Oregon</td>\n",
       "      <td>Pendleton</td>\n",
       "      <td>Petrol</td>\n",
       "      <td>Individual</td>\n",
       "      <td>Manual</td>\n",
       "      <td>...</td>\n",
       "      <td>0.0 kmpl</td>\n",
       "      <td>1086 CC</td>\n",
       "      <td>62.1 bhp</td>\n",
       "      <td>5</td>\n",
       "      <td>N</td>\n",
       "      <td>West</td>\n",
       "      <td>0.0</td>\n",
       "      <td>1086</td>\n",
       "      <td>62.10</td>\n",
       "      <td>0</td>\n",
       "    </tr>\n",
       "    <tr>\n",
       "      <th>6070</th>\n",
       "      <td>7338</td>\n",
       "      <td>Mercedes-Benz GLC 220d 4MATIC</td>\n",
       "      <td>2017</td>\n",
       "      <td>3300000</td>\n",
       "      <td>60000.0</td>\n",
       "      <td>Idaho</td>\n",
       "      <td>Eagle</td>\n",
       "      <td>Diesel</td>\n",
       "      <td>Dealer</td>\n",
       "      <td>Automatic</td>\n",
       "      <td>...</td>\n",
       "      <td>0.0 kmpl</td>\n",
       "      <td>1950 CC</td>\n",
       "      <td>194 bhp</td>\n",
       "      <td>5</td>\n",
       "      <td>N</td>\n",
       "      <td>West</td>\n",
       "      <td>0.0</td>\n",
       "      <td>1950</td>\n",
       "      <td>194.00</td>\n",
       "      <td>0</td>\n",
       "    </tr>\n",
       "    <tr>\n",
       "      <th>7380</th>\n",
       "      <td>7003</td>\n",
       "      <td>Hyundai Santro Xing (Non-AC)</td>\n",
       "      <td>2010</td>\n",
       "      <td>110000</td>\n",
       "      <td>80000.0</td>\n",
       "      <td>Indiana</td>\n",
       "      <td>Valparaiso</td>\n",
       "      <td>Petrol</td>\n",
       "      <td>Individual</td>\n",
       "      <td>Manual</td>\n",
       "      <td>...</td>\n",
       "      <td>0.0 kmpl</td>\n",
       "      <td>1086 CC</td>\n",
       "      <td>62.1 bhp</td>\n",
       "      <td>5</td>\n",
       "      <td>N</td>\n",
       "      <td>Central</td>\n",
       "      <td>0.0</td>\n",
       "      <td>1086</td>\n",
       "      <td>62.10</td>\n",
       "      <td>0</td>\n",
       "    </tr>\n",
       "    <tr>\n",
       "      <th>7606</th>\n",
       "      <td>6825</td>\n",
       "      <td>Hyundai Santro Xing GL</td>\n",
       "      <td>2011</td>\n",
       "      <td>150000</td>\n",
       "      <td>40000.0</td>\n",
       "      <td>Missouri</td>\n",
       "      <td>University City</td>\n",
       "      <td>Petrol</td>\n",
       "      <td>Individual</td>\n",
       "      <td>Manual</td>\n",
       "      <td>...</td>\n",
       "      <td>0.0 kmpl</td>\n",
       "      <td>1086 CC</td>\n",
       "      <td>62 bhp</td>\n",
       "      <td>5</td>\n",
       "      <td>N</td>\n",
       "      <td>Central</td>\n",
       "      <td>0.0</td>\n",
       "      <td>1086</td>\n",
       "      <td>62.00</td>\n",
       "      <td>0</td>\n",
       "    </tr>\n",
       "    <tr>\n",
       "      <th>7666</th>\n",
       "      <td>5844</td>\n",
       "      <td>Volkswagen Polo GT TSI BSIV</td>\n",
       "      <td>2014</td>\n",
       "      <td>574000</td>\n",
       "      <td>28080.0</td>\n",
       "      <td>North Dakota</td>\n",
       "      <td>Mandan</td>\n",
       "      <td>Petrol</td>\n",
       "      <td>Dealer</td>\n",
       "      <td>Automatic</td>\n",
       "      <td>...</td>\n",
       "      <td>0.0 kmpl</td>\n",
       "      <td>1197 CC</td>\n",
       "      <td>103.25 bhp</td>\n",
       "      <td>5</td>\n",
       "      <td>N</td>\n",
       "      <td>Central</td>\n",
       "      <td>0.0</td>\n",
       "      <td>1197</td>\n",
       "      <td>103.25</td>\n",
       "      <td>0</td>\n",
       "    </tr>\n",
       "    <tr>\n",
       "      <th>7669</th>\n",
       "      <td>5847</td>\n",
       "      <td>Volkswagen Polo GT TSI BSIV</td>\n",
       "      <td>2014</td>\n",
       "      <td>575000</td>\n",
       "      <td>28100.0</td>\n",
       "      <td>North Dakota</td>\n",
       "      <td>Mandan</td>\n",
       "      <td>Petrol</td>\n",
       "      <td>Dealer</td>\n",
       "      <td>Automatic</td>\n",
       "      <td>...</td>\n",
       "      <td>0.0 kmpl</td>\n",
       "      <td>1197 CC</td>\n",
       "      <td>103.25 bhp</td>\n",
       "      <td>5</td>\n",
       "      <td>N</td>\n",
       "      <td>Central</td>\n",
       "      <td>0.0</td>\n",
       "      <td>1197</td>\n",
       "      <td>103.25</td>\n",
       "      <td>0</td>\n",
       "    </tr>\n",
       "  </tbody>\n",
       "</table>\n",
       "<p>17 rows × 21 columns</p>\n",
       "</div>"
      ],
      "text/plain": [
       "      Sales_ID                                               name  year  \\\n",
       "183        645  Tata Indica Vista Aura Safire Anniversary Edition  2009   \n",
       "211        786                             Hyundai Santro Xing GL  2009   \n",
       "320       1650                             Hyundai Santro Xing GL  2008   \n",
       "756       2726                       Hyundai Santro Xing (Non-AC)  2013   \n",
       "966       5901                     Mahindra Bolero Pik-Up FB 1.7T  2020   \n",
       "1627      4528                Mercedes-Benz M-Class ML 350 4Matic  2011   \n",
       "1721      5277                             Hyundai Santro Xing GL  2008   \n",
       "2095      2138                    Land Rover Freelander 2 TD4 HSE  2013   \n",
       "3310      6535                             Hyundai Santro Xing GL  2010   \n",
       "3682      6630                    Mahindra Bolero Pik-Up CBC 1.7T  2019   \n",
       "3826      1677                Mercedes-Benz M-Class ML 350 4Matic  2011   \n",
       "4465      2367                       Hyundai Santro Xing (Non-AC)  2010   \n",
       "6070      7338                      Mercedes-Benz GLC 220d 4MATIC  2017   \n",
       "7380      7003                       Hyundai Santro Xing (Non-AC)  2010   \n",
       "7606      6825                             Hyundai Santro Xing GL  2011   \n",
       "7666      5844                        Volkswagen Polo GT TSI BSIV  2014   \n",
       "7669      5847                        Volkswagen Polo GT TSI BSIV  2014   \n",
       "\n",
       "      selling_price  km_driven State or Province               City    fuel  \\\n",
       "183          135000    28900.0          New York      New York City  Petrol   \n",
       "211          120000    90000.0          New York      New York City  Petrol   \n",
       "320          105000   128000.0          New York      North Babylon  Petrol   \n",
       "756          184000    15000.0          Illinois  Elk Grove Village  Petrol   \n",
       "966          679000     5000.0          Illinois        Forest Park  Diesel   \n",
       "1627        1700000   110000.0        California           Stockton  Diesel   \n",
       "1721         175000    40000.0        California           Temecula  Petrol   \n",
       "2095        1650000    64788.0             Texas           Victoria  Diesel   \n",
       "3310         150000   110000.0    North Carolina            Concord  Petrol   \n",
       "3682         722000    80000.0           Florida          Bradenton  Diesel   \n",
       "3826        1700000   110000.0      Pennsylvania            Altoona  Diesel   \n",
       "4465         110000    80000.0            Oregon          Pendleton  Petrol   \n",
       "6070        3300000    60000.0             Idaho              Eagle  Diesel   \n",
       "7380         110000    80000.0           Indiana         Valparaiso  Petrol   \n",
       "7606         150000    40000.0          Missouri    University City  Petrol   \n",
       "7666         574000    28080.0      North Dakota             Mandan  Petrol   \n",
       "7669         575000    28100.0      North Dakota             Mandan  Petrol   \n",
       "\n",
       "     seller_type transmission  ...   mileage   engine   max_power seats  sold  \\\n",
       "183   Individual       Manual  ...  0.0 kmpl  1172 CC      65 bhp     5     Y   \n",
       "211   Individual       Manual  ...  0.0 kmpl  1086 CC      62 bhp     5     Y   \n",
       "320   Individual       Manual  ...  0.0 kmpl  1086 CC      62 bhp     5     Y   \n",
       "756   Individual       Manual  ...  0.0 kmpl  1086 CC    62.1 bhp     5     N   \n",
       "966   Individual       Manual  ...  0.0 kmpl  2523 CC      70 bhp     2     N   \n",
       "1627  Individual    Automatic  ...  0.0 kmpl  2987 CC     165 bhp     5     N   \n",
       "1721  Individual       Manual  ...  0.0 kmpl  1086 CC      62 bhp     5     N   \n",
       "2095      Dealer    Automatic  ...  0.0 kmpl  2179 CC     115 bhp     5     N   \n",
       "3310  Individual       Manual  ...  0.0 kmpl  1086 CC      62 bhp     5     N   \n",
       "3682  Individual       Manual  ...  0.0 kmpl  2523 CC      70 bhp     2     N   \n",
       "3826  Individual    Automatic  ...  0.0 kmpl  2987 CC     165 bhp     5     Y   \n",
       "4465  Individual       Manual  ...  0.0 kmpl  1086 CC    62.1 bhp     5     N   \n",
       "6070      Dealer    Automatic  ...  0.0 kmpl  1950 CC     194 bhp     5     N   \n",
       "7380  Individual       Manual  ...  0.0 kmpl  1086 CC    62.1 bhp     5     N   \n",
       "7606  Individual       Manual  ...  0.0 kmpl  1086 CC      62 bhp     5     N   \n",
       "7666      Dealer    Automatic  ...  0.0 kmpl  1197 CC  103.25 bhp     5     N   \n",
       "7669      Dealer    Automatic  ...  0.0 kmpl  1197 CC  103.25 bhp     5     N   \n",
       "\n",
       "       Region AvgMileage  EngineCC  MaxPower  sale  \n",
       "183      East        0.0      1172     65.00     1  \n",
       "211      East        0.0      1086     62.00     1  \n",
       "320      East        0.0      1086     62.00     1  \n",
       "756   Central        0.0      1086     62.10     0  \n",
       "966   Central        0.0      2523     70.00     0  \n",
       "1627     West        0.0      2987    165.00     0  \n",
       "1721     West        0.0      1086     62.00     0  \n",
       "2095  Central        0.0      2179    115.00     0  \n",
       "3310    South        0.0      1086     62.00     0  \n",
       "3682    South        0.0      2523     70.00     0  \n",
       "3826     East        0.0      2987    165.00     1  \n",
       "4465     West        0.0      1086     62.10     0  \n",
       "6070     West        0.0      1950    194.00     0  \n",
       "7380  Central        0.0      1086     62.10     0  \n",
       "7606  Central        0.0      1086     62.00     0  \n",
       "7666  Central        0.0      1197    103.25     0  \n",
       "7669  Central        0.0      1197    103.25     0  \n",
       "\n",
       "[17 rows x 21 columns]"
      ]
     },
     "execution_count": 63,
     "metadata": {},
     "output_type": "execute_result"
    }
   ],
   "source": [
    "car1.loc[(car1[\"AvgMileage\"]<0.1)]"
   ]
  },
  {
   "cell_type": "markdown",
   "id": "dc6a0059",
   "metadata": {},
   "source": [
    "We see that cars were sold even with average mileage of 0.0 kmpl. So we have to treat them with average mileage."
   ]
  },
  {
   "cell_type": "code",
   "execution_count": 64,
   "id": "1e4a18ca",
   "metadata": {},
   "outputs": [
    {
     "data": {
      "text/plain": [
       "count    7906.000000\n",
       "mean       19.419861\n",
       "std         4.036263\n",
       "min         0.000000\n",
       "25%        16.780000\n",
       "50%        19.300000\n",
       "75%        22.320000\n",
       "max        42.000000\n",
       "Name: AvgMileage, dtype: float64"
      ]
     },
     "execution_count": 64,
     "metadata": {},
     "output_type": "execute_result"
    }
   ],
   "source": [
    "car1['AvgMileage'].describe()"
   ]
  },
  {
   "cell_type": "code",
   "execution_count": 65,
   "id": "bc943bd9",
   "metadata": {},
   "outputs": [],
   "source": [
    "car1.loc[(car1[\"AvgMileage\"]<0.1), 'AvgMileage'] = car1['AvgMileage'].mean()"
   ]
  },
  {
   "cell_type": "code",
   "execution_count": 66,
   "id": "71668acf",
   "metadata": {},
   "outputs": [
    {
     "data": {
      "text/plain": [
       "count    7906.000000\n",
       "mean       19.461619\n",
       "std         3.934291\n",
       "min         9.000000\n",
       "25%        16.780000\n",
       "50%        19.330000\n",
       "75%        22.320000\n",
       "max        42.000000\n",
       "Name: AvgMileage, dtype: float64"
      ]
     },
     "execution_count": 66,
     "metadata": {},
     "output_type": "execute_result"
    }
   ],
   "source": [
    "car1['AvgMileage'].describe()"
   ]
  },
  {
   "cell_type": "markdown",
   "id": "26f6e99d",
   "metadata": {},
   "source": [
    "We see that minimum average mileage changes from 0.0 to 9.0"
   ]
  },
  {
   "cell_type": "code",
   "execution_count": 67,
   "id": "31b1e19d",
   "metadata": {},
   "outputs": [
    {
     "data": {
      "text/plain": [
       "13.93"
      ]
     },
     "execution_count": 67,
     "metadata": {},
     "output_type": "execute_result"
    }
   ],
   "source": [
    "car1['AvgMileage'].quantile(0.1)"
   ]
  },
  {
   "cell_type": "code",
   "execution_count": 68,
   "id": "b4c0e778",
   "metadata": {},
   "outputs": [
    {
     "data": {
      "text/html": [
       "<div>\n",
       "<style scoped>\n",
       "    .dataframe tbody tr th:only-of-type {\n",
       "        vertical-align: middle;\n",
       "    }\n",
       "\n",
       "    .dataframe tbody tr th {\n",
       "        vertical-align: top;\n",
       "    }\n",
       "\n",
       "    .dataframe thead th {\n",
       "        text-align: right;\n",
       "    }\n",
       "</style>\n",
       "<table border=\"1\" class=\"dataframe\">\n",
       "  <thead>\n",
       "    <tr style=\"text-align: right;\">\n",
       "      <th></th>\n",
       "      <th>Sales_ID</th>\n",
       "      <th>name</th>\n",
       "      <th>year</th>\n",
       "      <th>selling_price</th>\n",
       "      <th>km_driven</th>\n",
       "      <th>State or Province</th>\n",
       "      <th>City</th>\n",
       "      <th>fuel</th>\n",
       "      <th>seller_type</th>\n",
       "      <th>transmission</th>\n",
       "      <th>...</th>\n",
       "      <th>mileage</th>\n",
       "      <th>engine</th>\n",
       "      <th>max_power</th>\n",
       "      <th>seats</th>\n",
       "      <th>sold</th>\n",
       "      <th>Region</th>\n",
       "      <th>AvgMileage</th>\n",
       "      <th>EngineCC</th>\n",
       "      <th>MaxPower</th>\n",
       "      <th>sale</th>\n",
       "    </tr>\n",
       "  </thead>\n",
       "  <tbody>\n",
       "    <tr>\n",
       "      <th>14</th>\n",
       "      <td>150</td>\n",
       "      <td>BMW 5 Series 523i</td>\n",
       "      <td>2010</td>\n",
       "      <td>975000</td>\n",
       "      <td>72200.0</td>\n",
       "      <td>District of Columbia</td>\n",
       "      <td>Washington</td>\n",
       "      <td>Petrol</td>\n",
       "      <td>Dealer</td>\n",
       "      <td>Automatic</td>\n",
       "      <td>...</td>\n",
       "      <td>10.8 kmpl</td>\n",
       "      <td>2497 CC</td>\n",
       "      <td>150 bhp</td>\n",
       "      <td>5</td>\n",
       "      <td>Y</td>\n",
       "      <td>East</td>\n",
       "      <td>10.80</td>\n",
       "      <td>2497</td>\n",
       "      <td>150.0</td>\n",
       "      <td>1</td>\n",
       "    </tr>\n",
       "    <tr>\n",
       "      <th>27</th>\n",
       "      <td>288</td>\n",
       "      <td>Mahindra Bolero DI DX 7 Seater</td>\n",
       "      <td>2007</td>\n",
       "      <td>210000</td>\n",
       "      <td>207890.0</td>\n",
       "      <td>District of Columbia</td>\n",
       "      <td>Washington</td>\n",
       "      <td>Diesel</td>\n",
       "      <td>Individual</td>\n",
       "      <td>Manual</td>\n",
       "      <td>...</td>\n",
       "      <td>13.6 kmpl</td>\n",
       "      <td>2523 CC</td>\n",
       "      <td>63 bhp</td>\n",
       "      <td>7</td>\n",
       "      <td>Y</td>\n",
       "      <td>East</td>\n",
       "      <td>13.60</td>\n",
       "      <td>2523</td>\n",
       "      <td>63.0</td>\n",
       "      <td>1</td>\n",
       "    </tr>\n",
       "    <tr>\n",
       "      <th>29</th>\n",
       "      <td>319</td>\n",
       "      <td>Toyota Innova 2.5 GX (Diesel) 8 Seater</td>\n",
       "      <td>2013</td>\n",
       "      <td>800000</td>\n",
       "      <td>160000.0</td>\n",
       "      <td>District of Columbia</td>\n",
       "      <td>Washington</td>\n",
       "      <td>Diesel</td>\n",
       "      <td>Individual</td>\n",
       "      <td>Manual</td>\n",
       "      <td>...</td>\n",
       "      <td>12.99 kmpl</td>\n",
       "      <td>2494 CC</td>\n",
       "      <td>100.6 bhp</td>\n",
       "      <td>8</td>\n",
       "      <td>Y</td>\n",
       "      <td>East</td>\n",
       "      <td>12.99</td>\n",
       "      <td>2494</td>\n",
       "      <td>100.6</td>\n",
       "      <td>1</td>\n",
       "    </tr>\n",
       "    <tr>\n",
       "      <th>51</th>\n",
       "      <td>895</td>\n",
       "      <td>Mahindra Bolero SLX</td>\n",
       "      <td>2010</td>\n",
       "      <td>421000</td>\n",
       "      <td>120000.0</td>\n",
       "      <td>District of Columbia</td>\n",
       "      <td>Washington</td>\n",
       "      <td>Diesel</td>\n",
       "      <td>Individual</td>\n",
       "      <td>Manual</td>\n",
       "      <td>...</td>\n",
       "      <td>13.6 kmpl</td>\n",
       "      <td>2523 CC</td>\n",
       "      <td>63 bhp</td>\n",
       "      <td>7</td>\n",
       "      <td>Y</td>\n",
       "      <td>East</td>\n",
       "      <td>13.60</td>\n",
       "      <td>2523</td>\n",
       "      <td>63.0</td>\n",
       "      <td>1</td>\n",
       "    </tr>\n",
       "    <tr>\n",
       "      <th>62</th>\n",
       "      <td>990</td>\n",
       "      <td>Chevrolet Tavera Neo 3 LT 9 Seats BSIII</td>\n",
       "      <td>2013</td>\n",
       "      <td>600000</td>\n",
       "      <td>90000.0</td>\n",
       "      <td>District of Columbia</td>\n",
       "      <td>Washington</td>\n",
       "      <td>Diesel</td>\n",
       "      <td>Individual</td>\n",
       "      <td>Manual</td>\n",
       "      <td>...</td>\n",
       "      <td>13.58 kmpl</td>\n",
       "      <td>2499 CC</td>\n",
       "      <td>72.4 bhp</td>\n",
       "      <td>9</td>\n",
       "      <td>Y</td>\n",
       "      <td>East</td>\n",
       "      <td>13.58</td>\n",
       "      <td>2499</td>\n",
       "      <td>72.4</td>\n",
       "      <td>1</td>\n",
       "    </tr>\n",
       "    <tr>\n",
       "      <th>...</th>\n",
       "      <td>...</td>\n",
       "      <td>...</td>\n",
       "      <td>...</td>\n",
       "      <td>...</td>\n",
       "      <td>...</td>\n",
       "      <td>...</td>\n",
       "      <td>...</td>\n",
       "      <td>...</td>\n",
       "      <td>...</td>\n",
       "      <td>...</td>\n",
       "      <td>...</td>\n",
       "      <td>...</td>\n",
       "      <td>...</td>\n",
       "      <td>...</td>\n",
       "      <td>...</td>\n",
       "      <td>...</td>\n",
       "      <td>...</td>\n",
       "      <td>...</td>\n",
       "      <td>...</td>\n",
       "      <td>...</td>\n",
       "      <td>...</td>\n",
       "    </tr>\n",
       "    <tr>\n",
       "      <th>7866</th>\n",
       "      <td>7932</td>\n",
       "      <td>Ford Endeavour 2.2 Titanium AT 4X2</td>\n",
       "      <td>2016</td>\n",
       "      <td>2100000</td>\n",
       "      <td>85000.0</td>\n",
       "      <td>Mississippi</td>\n",
       "      <td>Long Beach</td>\n",
       "      <td>Diesel</td>\n",
       "      <td>Individual</td>\n",
       "      <td>Automatic</td>\n",
       "      <td>...</td>\n",
       "      <td>12.62 kmpl</td>\n",
       "      <td>2198 CC</td>\n",
       "      <td>158 bhp</td>\n",
       "      <td>7</td>\n",
       "      <td>N</td>\n",
       "      <td>South</td>\n",
       "      <td>12.62</td>\n",
       "      <td>2198</td>\n",
       "      <td>158.0</td>\n",
       "      <td>0</td>\n",
       "    </tr>\n",
       "    <tr>\n",
       "      <th>7873</th>\n",
       "      <td>3517</td>\n",
       "      <td>Jaguar XE 2016-2019 2.0L Diesel Prestige</td>\n",
       "      <td>2017</td>\n",
       "      <td>2711000</td>\n",
       "      <td>9000.0</td>\n",
       "      <td>Delaware</td>\n",
       "      <td>Newark</td>\n",
       "      <td>Diesel</td>\n",
       "      <td>Dealer</td>\n",
       "      <td>Automatic</td>\n",
       "      <td>...</td>\n",
       "      <td>13.6 kmpl</td>\n",
       "      <td>1999 CC</td>\n",
       "      <td>177 bhp</td>\n",
       "      <td>5</td>\n",
       "      <td>N</td>\n",
       "      <td>East</td>\n",
       "      <td>13.60</td>\n",
       "      <td>1999</td>\n",
       "      <td>177.0</td>\n",
       "      <td>0</td>\n",
       "    </tr>\n",
       "    <tr>\n",
       "      <th>7876</th>\n",
       "      <td>4207</td>\n",
       "      <td>Chevrolet Captiva LT</td>\n",
       "      <td>2011</td>\n",
       "      <td>500000</td>\n",
       "      <td>99500.0</td>\n",
       "      <td>Delaware</td>\n",
       "      <td>Dover</td>\n",
       "      <td>Diesel</td>\n",
       "      <td>Individual</td>\n",
       "      <td>Manual</td>\n",
       "      <td>...</td>\n",
       "      <td>11.5 kmpl</td>\n",
       "      <td>1991 CC</td>\n",
       "      <td>147.9 bhp</td>\n",
       "      <td>7</td>\n",
       "      <td>N</td>\n",
       "      <td>East</td>\n",
       "      <td>11.50</td>\n",
       "      <td>1991</td>\n",
       "      <td>147.9</td>\n",
       "      <td>0</td>\n",
       "    </tr>\n",
       "    <tr>\n",
       "      <th>7882</th>\n",
       "      <td>4213</td>\n",
       "      <td>Hyundai Verna 1.6 Xi ABS</td>\n",
       "      <td>2008</td>\n",
       "      <td>114999</td>\n",
       "      <td>55000.0</td>\n",
       "      <td>Delaware</td>\n",
       "      <td>Dover</td>\n",
       "      <td>Petrol</td>\n",
       "      <td>Individual</td>\n",
       "      <td>Manual</td>\n",
       "      <td>...</td>\n",
       "      <td>13.9 kmpl</td>\n",
       "      <td>1599 CC</td>\n",
       "      <td>103.2 bhp</td>\n",
       "      <td>5</td>\n",
       "      <td>N</td>\n",
       "      <td>East</td>\n",
       "      <td>13.90</td>\n",
       "      <td>1599</td>\n",
       "      <td>103.2</td>\n",
       "      <td>0</td>\n",
       "    </tr>\n",
       "    <tr>\n",
       "      <th>7885</th>\n",
       "      <td>3955</td>\n",
       "      <td>Toyota Innova 2.5 G (Diesel) 8 Seater BS IV</td>\n",
       "      <td>2007</td>\n",
       "      <td>400000</td>\n",
       "      <td>170000.0</td>\n",
       "      <td>South Dakota</td>\n",
       "      <td>Rapid City</td>\n",
       "      <td>Diesel</td>\n",
       "      <td>Individual</td>\n",
       "      <td>Manual</td>\n",
       "      <td>...</td>\n",
       "      <td>12.8 kmpl</td>\n",
       "      <td>2494 CC</td>\n",
       "      <td>102 bhp</td>\n",
       "      <td>8</td>\n",
       "      <td>N</td>\n",
       "      <td>Central</td>\n",
       "      <td>12.80</td>\n",
       "      <td>2494</td>\n",
       "      <td>102.0</td>\n",
       "      <td>0</td>\n",
       "    </tr>\n",
       "  </tbody>\n",
       "</table>\n",
       "<p>755 rows × 21 columns</p>\n",
       "</div>"
      ],
      "text/plain": [
       "      Sales_ID                                         name  year  \\\n",
       "14         150                            BMW 5 Series 523i  2010   \n",
       "27         288               Mahindra Bolero DI DX 7 Seater  2007   \n",
       "29         319       Toyota Innova 2.5 GX (Diesel) 8 Seater  2013   \n",
       "51         895                          Mahindra Bolero SLX  2010   \n",
       "62         990      Chevrolet Tavera Neo 3 LT 9 Seats BSIII  2013   \n",
       "...        ...                                          ...   ...   \n",
       "7866      7932           Ford Endeavour 2.2 Titanium AT 4X2  2016   \n",
       "7873      3517     Jaguar XE 2016-2019 2.0L Diesel Prestige  2017   \n",
       "7876      4207                         Chevrolet Captiva LT  2011   \n",
       "7882      4213                     Hyundai Verna 1.6 Xi ABS  2008   \n",
       "7885      3955  Toyota Innova 2.5 G (Diesel) 8 Seater BS IV  2007   \n",
       "\n",
       "      selling_price  km_driven     State or Province        City    fuel  \\\n",
       "14           975000    72200.0  District of Columbia  Washington  Petrol   \n",
       "27           210000   207890.0  District of Columbia  Washington  Diesel   \n",
       "29           800000   160000.0  District of Columbia  Washington  Diesel   \n",
       "51           421000   120000.0  District of Columbia  Washington  Diesel   \n",
       "62           600000    90000.0  District of Columbia  Washington  Diesel   \n",
       "...             ...        ...                   ...         ...     ...   \n",
       "7866        2100000    85000.0           Mississippi  Long Beach  Diesel   \n",
       "7873        2711000     9000.0              Delaware      Newark  Diesel   \n",
       "7876         500000    99500.0              Delaware       Dover  Diesel   \n",
       "7882         114999    55000.0              Delaware       Dover  Petrol   \n",
       "7885         400000   170000.0          South Dakota  Rapid City  Diesel   \n",
       "\n",
       "     seller_type transmission  ...     mileage   engine  max_power seats  \\\n",
       "14        Dealer    Automatic  ...   10.8 kmpl  2497 CC    150 bhp     5   \n",
       "27    Individual       Manual  ...   13.6 kmpl  2523 CC     63 bhp     7   \n",
       "29    Individual       Manual  ...  12.99 kmpl  2494 CC  100.6 bhp     8   \n",
       "51    Individual       Manual  ...   13.6 kmpl  2523 CC     63 bhp     7   \n",
       "62    Individual       Manual  ...  13.58 kmpl  2499 CC   72.4 bhp     9   \n",
       "...          ...          ...  ...         ...      ...        ...   ...   \n",
       "7866  Individual    Automatic  ...  12.62 kmpl  2198 CC    158 bhp     7   \n",
       "7873      Dealer    Automatic  ...   13.6 kmpl  1999 CC    177 bhp     5   \n",
       "7876  Individual       Manual  ...   11.5 kmpl  1991 CC  147.9 bhp     7   \n",
       "7882  Individual       Manual  ...   13.9 kmpl  1599 CC  103.2 bhp     5   \n",
       "7885  Individual       Manual  ...   12.8 kmpl  2494 CC    102 bhp     8   \n",
       "\n",
       "      sold   Region AvgMileage  EngineCC  MaxPower  sale  \n",
       "14       Y     East      10.80      2497     150.0     1  \n",
       "27       Y     East      13.60      2523      63.0     1  \n",
       "29       Y     East      12.99      2494     100.6     1  \n",
       "51       Y     East      13.60      2523      63.0     1  \n",
       "62       Y     East      13.58      2499      72.4     1  \n",
       "...    ...      ...        ...       ...       ...   ...  \n",
       "7866     N    South      12.62      2198     158.0     0  \n",
       "7873     N     East      13.60      1999     177.0     0  \n",
       "7876     N     East      11.50      1991     147.9     0  \n",
       "7882     N     East      13.90      1599     103.2     0  \n",
       "7885     N  Central      12.80      2494     102.0     0  \n",
       "\n",
       "[755 rows x 21 columns]"
      ]
     },
     "execution_count": 68,
     "metadata": {},
     "output_type": "execute_result"
    }
   ],
   "source": [
    "car1.loc[(car1[\"AvgMileage\"]<13.93)]"
   ]
  },
  {
   "cell_type": "code",
   "execution_count": 69,
   "id": "10f6f306",
   "metadata": {},
   "outputs": [
    {
     "data": {
      "text/plain": [
       "0.60    20.45\n",
       "0.62    20.54\n",
       "0.64    20.86\n",
       "0.66    21.10\n",
       "0.68    21.19\n",
       "0.70    21.50\n",
       "0.72    21.90\n",
       "0.74    22.10\n",
       "0.76    22.50\n",
       "0.78    22.74\n",
       "0.80    22.95\n",
       "Name: AvgMileage, dtype: float64"
      ]
     },
     "execution_count": 69,
     "metadata": {},
     "output_type": "execute_result"
    }
   ],
   "source": [
    "car1['AvgMileage'].quantile(np.arange(0.6,0.8,0.02))"
   ]
  },
  {
   "cell_type": "code",
   "execution_count": 70,
   "id": "a49f0cb8",
   "metadata": {},
   "outputs": [
    {
     "data": {
      "text/plain": [
       "0.80    22.950\n",
       "0.82    23.100\n",
       "0.84    23.590\n",
       "0.86    23.950\n",
       "0.88    24.300\n",
       "0.90    24.700\n",
       "0.92    25.170\n",
       "0.94    25.470\n",
       "0.96    26.282\n",
       "0.98    27.390\n",
       "Name: AvgMileage, dtype: float64"
      ]
     },
     "execution_count": 70,
     "metadata": {},
     "output_type": "execute_result"
    }
   ],
   "source": [
    "car1['AvgMileage'].quantile(np.arange(0.8,1,0.02))"
   ]
  },
  {
   "cell_type": "code",
   "execution_count": 71,
   "id": "c86d5f56",
   "metadata": {},
   "outputs": [
    {
     "data": {
      "text/plain": [
       "28.4"
      ]
     },
     "execution_count": 71,
     "metadata": {},
     "output_type": "execute_result"
    }
   ],
   "source": [
    "car1['AvgMileage'].quantile(0.99)"
   ]
  },
  {
   "cell_type": "code",
   "execution_count": 72,
   "id": "e2976fba",
   "metadata": {},
   "outputs": [
    {
     "data": {
      "text/plain": [
       "0.990    28.40\n",
       "0.991    28.40\n",
       "0.992    28.40\n",
       "0.993    28.40\n",
       "0.994    28.40\n",
       "0.995    28.40\n",
       "0.996    28.40\n",
       "0.997    28.40\n",
       "0.998    28.40\n",
       "0.999    30.46\n",
       "1.000    42.00\n",
       "Name: AvgMileage, dtype: float64"
      ]
     },
     "execution_count": 72,
     "metadata": {},
     "output_type": "execute_result"
    }
   ],
   "source": [
    "car1['AvgMileage'].quantile(np.arange(0.99,1,0.001))"
   ]
  },
  {
   "cell_type": "code",
   "execution_count": 73,
   "id": "640c4f28",
   "metadata": {},
   "outputs": [
    {
     "data": {
      "text/plain": [
       "30.46"
      ]
     },
     "execution_count": 73,
     "metadata": {},
     "output_type": "execute_result"
    }
   ],
   "source": [
    "car1['AvgMileage'].quantile(0.999)"
   ]
  },
  {
   "cell_type": "code",
   "execution_count": 74,
   "id": "1d71d54c",
   "metadata": {},
   "outputs": [
    {
     "data": {
      "text/html": [
       "<div>\n",
       "<style scoped>\n",
       "    .dataframe tbody tr th:only-of-type {\n",
       "        vertical-align: middle;\n",
       "    }\n",
       "\n",
       "    .dataframe tbody tr th {\n",
       "        vertical-align: top;\n",
       "    }\n",
       "\n",
       "    .dataframe thead th {\n",
       "        text-align: right;\n",
       "    }\n",
       "</style>\n",
       "<table border=\"1\" class=\"dataframe\">\n",
       "  <thead>\n",
       "    <tr style=\"text-align: right;\">\n",
       "      <th></th>\n",
       "      <th>Sales_ID</th>\n",
       "      <th>name</th>\n",
       "      <th>year</th>\n",
       "      <th>selling_price</th>\n",
       "      <th>km_driven</th>\n",
       "      <th>State or Province</th>\n",
       "      <th>City</th>\n",
       "      <th>fuel</th>\n",
       "      <th>seller_type</th>\n",
       "      <th>transmission</th>\n",
       "      <th>...</th>\n",
       "      <th>mileage</th>\n",
       "      <th>engine</th>\n",
       "      <th>max_power</th>\n",
       "      <th>seats</th>\n",
       "      <th>sold</th>\n",
       "      <th>Region</th>\n",
       "      <th>AvgMileage</th>\n",
       "      <th>EngineCC</th>\n",
       "      <th>MaxPower</th>\n",
       "      <th>sale</th>\n",
       "    </tr>\n",
       "  </thead>\n",
       "  <tbody>\n",
       "    <tr>\n",
       "      <th>107</th>\n",
       "      <td>171</td>\n",
       "      <td>Volvo XC90 T8 Excellence BSIV</td>\n",
       "      <td>2017</td>\n",
       "      <td>10000000</td>\n",
       "      <td>30000.0</td>\n",
       "      <td>New York</td>\n",
       "      <td>New York City</td>\n",
       "      <td>Petrol</td>\n",
       "      <td>Individual</td>\n",
       "      <td>Automatic</td>\n",
       "      <td>...</td>\n",
       "      <td>42.0 kmpl</td>\n",
       "      <td>1969 CC</td>\n",
       "      <td>400 bhp</td>\n",
       "      <td>4</td>\n",
       "      <td>Y</td>\n",
       "      <td>East</td>\n",
       "      <td>42.00</td>\n",
       "      <td>1969</td>\n",
       "      <td>400.00</td>\n",
       "      <td>1</td>\n",
       "    </tr>\n",
       "    <tr>\n",
       "      <th>957</th>\n",
       "      <td>5816</td>\n",
       "      <td>Maruti Alto 800 LXI CNG</td>\n",
       "      <td>2020</td>\n",
       "      <td>370000</td>\n",
       "      <td>16000.0</td>\n",
       "      <td>Illinois</td>\n",
       "      <td>Freeport</td>\n",
       "      <td>CNG</td>\n",
       "      <td>Individual</td>\n",
       "      <td>Manual</td>\n",
       "      <td>...</td>\n",
       "      <td>33.0 km/kg</td>\n",
       "      <td>796 CC</td>\n",
       "      <td>47.3 bhp</td>\n",
       "      <td>5</td>\n",
       "      <td>N</td>\n",
       "      <td>Central</td>\n",
       "      <td>33.00</td>\n",
       "      <td>796</td>\n",
       "      <td>47.30</td>\n",
       "      <td>0</td>\n",
       "    </tr>\n",
       "    <tr>\n",
       "      <th>2642</th>\n",
       "      <td>36</td>\n",
       "      <td>Maruti Alto 800 CNG LXI Optional</td>\n",
       "      <td>2019</td>\n",
       "      <td>330000</td>\n",
       "      <td>10000.0</td>\n",
       "      <td>Washington</td>\n",
       "      <td>Seattle</td>\n",
       "      <td>CNG</td>\n",
       "      <td>Individual</td>\n",
       "      <td>Manual</td>\n",
       "      <td>...</td>\n",
       "      <td>33.44 km/kg</td>\n",
       "      <td>796 CC</td>\n",
       "      <td>40.3 bhp</td>\n",
       "      <td>4</td>\n",
       "      <td>Y</td>\n",
       "      <td>West</td>\n",
       "      <td>33.44</td>\n",
       "      <td>796</td>\n",
       "      <td>40.30</td>\n",
       "      <td>1</td>\n",
       "    </tr>\n",
       "    <tr>\n",
       "      <th>3526</th>\n",
       "      <td>3909</td>\n",
       "      <td>Maruti Alto 800 CNG LXI</td>\n",
       "      <td>2017</td>\n",
       "      <td>260000</td>\n",
       "      <td>67000.0</td>\n",
       "      <td>Florida</td>\n",
       "      <td>Lake Worth</td>\n",
       "      <td>CNG</td>\n",
       "      <td>Individual</td>\n",
       "      <td>Manual</td>\n",
       "      <td>...</td>\n",
       "      <td>33.44 km/kg</td>\n",
       "      <td>796 CC</td>\n",
       "      <td>40.3 bhp</td>\n",
       "      <td>4</td>\n",
       "      <td>N</td>\n",
       "      <td>South</td>\n",
       "      <td>33.44</td>\n",
       "      <td>796</td>\n",
       "      <td>40.30</td>\n",
       "      <td>0</td>\n",
       "    </tr>\n",
       "    <tr>\n",
       "      <th>3851</th>\n",
       "      <td>2313</td>\n",
       "      <td>Maruti Wagon R CNG LXI</td>\n",
       "      <td>2013</td>\n",
       "      <td>270000</td>\n",
       "      <td>80000.0</td>\n",
       "      <td>Pennsylvania</td>\n",
       "      <td>Scranton</td>\n",
       "      <td>CNG</td>\n",
       "      <td>Individual</td>\n",
       "      <td>Manual</td>\n",
       "      <td>...</td>\n",
       "      <td>32.52 km/kg</td>\n",
       "      <td>998 CC</td>\n",
       "      <td>58.33 bhp</td>\n",
       "      <td>5</td>\n",
       "      <td>N</td>\n",
       "      <td>East</td>\n",
       "      <td>32.52</td>\n",
       "      <td>998</td>\n",
       "      <td>58.33</td>\n",
       "      <td>0</td>\n",
       "    </tr>\n",
       "    <tr>\n",
       "      <th>4286</th>\n",
       "      <td>7544</td>\n",
       "      <td>Maruti Alto 800 CNG LXI Optional</td>\n",
       "      <td>2019</td>\n",
       "      <td>330000</td>\n",
       "      <td>10000.0</td>\n",
       "      <td>Michigan</td>\n",
       "      <td>Mount Pleasant</td>\n",
       "      <td>CNG</td>\n",
       "      <td>Individual</td>\n",
       "      <td>Manual</td>\n",
       "      <td>...</td>\n",
       "      <td>33.44 km/kg</td>\n",
       "      <td>796 CC</td>\n",
       "      <td>40.3 bhp</td>\n",
       "      <td>4</td>\n",
       "      <td>N</td>\n",
       "      <td>Central</td>\n",
       "      <td>33.44</td>\n",
       "      <td>796</td>\n",
       "      <td>40.30</td>\n",
       "      <td>0</td>\n",
       "    </tr>\n",
       "    <tr>\n",
       "      <th>6207</th>\n",
       "      <td>5790</td>\n",
       "      <td>Maruti Alto K10 LXI CNG</td>\n",
       "      <td>2019</td>\n",
       "      <td>430000</td>\n",
       "      <td>20000.0</td>\n",
       "      <td>Minnesota</td>\n",
       "      <td>Prior Lake</td>\n",
       "      <td>CNG</td>\n",
       "      <td>Individual</td>\n",
       "      <td>Manual</td>\n",
       "      <td>...</td>\n",
       "      <td>32.26 km/kg</td>\n",
       "      <td>998 CC</td>\n",
       "      <td>58.3 bhp</td>\n",
       "      <td>4</td>\n",
       "      <td>N</td>\n",
       "      <td>Central</td>\n",
       "      <td>32.26</td>\n",
       "      <td>998</td>\n",
       "      <td>58.30</td>\n",
       "      <td>0</td>\n",
       "    </tr>\n",
       "  </tbody>\n",
       "</table>\n",
       "<p>7 rows × 21 columns</p>\n",
       "</div>"
      ],
      "text/plain": [
       "      Sales_ID                              name  year  selling_price  \\\n",
       "107        171     Volvo XC90 T8 Excellence BSIV  2017       10000000   \n",
       "957       5816           Maruti Alto 800 LXI CNG  2020         370000   \n",
       "2642        36  Maruti Alto 800 CNG LXI Optional  2019         330000   \n",
       "3526      3909           Maruti Alto 800 CNG LXI  2017         260000   \n",
       "3851      2313            Maruti Wagon R CNG LXI  2013         270000   \n",
       "4286      7544  Maruti Alto 800 CNG LXI Optional  2019         330000   \n",
       "6207      5790           Maruti Alto K10 LXI CNG  2019         430000   \n",
       "\n",
       "      km_driven State or Province            City    fuel seller_type  \\\n",
       "107     30000.0          New York   New York City  Petrol  Individual   \n",
       "957     16000.0          Illinois        Freeport     CNG  Individual   \n",
       "2642    10000.0        Washington         Seattle     CNG  Individual   \n",
       "3526    67000.0           Florida      Lake Worth     CNG  Individual   \n",
       "3851    80000.0      Pennsylvania        Scranton     CNG  Individual   \n",
       "4286    10000.0          Michigan  Mount Pleasant     CNG  Individual   \n",
       "6207    20000.0         Minnesota      Prior Lake     CNG  Individual   \n",
       "\n",
       "     transmission  ...      mileage   engine  max_power seats  sold   Region  \\\n",
       "107     Automatic  ...    42.0 kmpl  1969 CC    400 bhp     4     Y     East   \n",
       "957        Manual  ...   33.0 km/kg   796 CC   47.3 bhp     5     N  Central   \n",
       "2642       Manual  ...  33.44 km/kg   796 CC   40.3 bhp     4     Y     West   \n",
       "3526       Manual  ...  33.44 km/kg   796 CC   40.3 bhp     4     N    South   \n",
       "3851       Manual  ...  32.52 km/kg   998 CC  58.33 bhp     5     N     East   \n",
       "4286       Manual  ...  33.44 km/kg   796 CC   40.3 bhp     4     N  Central   \n",
       "6207       Manual  ...  32.26 km/kg   998 CC   58.3 bhp     4     N  Central   \n",
       "\n",
       "     AvgMileage  EngineCC  MaxPower  sale  \n",
       "107       42.00      1969    400.00     1  \n",
       "957       33.00       796     47.30     0  \n",
       "2642      33.44       796     40.30     1  \n",
       "3526      33.44       796     40.30     0  \n",
       "3851      32.52       998     58.33     0  \n",
       "4286      33.44       796     40.30     0  \n",
       "6207      32.26       998     58.30     0  \n",
       "\n",
       "[7 rows x 21 columns]"
      ]
     },
     "execution_count": 74,
     "metadata": {},
     "output_type": "execute_result"
    }
   ],
   "source": [
    "car1.loc[(car1[\"AvgMileage\"]>30.46)]"
   ]
  },
  {
   "cell_type": "markdown",
   "id": "365ac6fb",
   "metadata": {},
   "source": [
    "All the values were in continuous range and car with AvgMileage 42 is sold.So we don't have to treat any outliers."
   ]
  },
  {
   "cell_type": "markdown",
   "id": "bff435d0",
   "metadata": {},
   "source": [
    "# Checking for outliers in EngineCC column"
   ]
  },
  {
   "cell_type": "code",
   "execution_count": 75,
   "id": "29999e82",
   "metadata": {},
   "outputs": [
    {
     "data": {
      "text/plain": [
       "<AxesSubplot:ylabel='Frequency'>"
      ]
     },
     "execution_count": 75,
     "metadata": {},
     "output_type": "execute_result"
    },
    {
     "data": {
      "image/png": "[encoded data removed]",
      "text/plain": [
       "<Figure size 432x288 with 1 Axes>"
      ]
     },
     "metadata": {
      "needs_background": "light"
     },
     "output_type": "display_data"
    }
   ],
   "source": [
    "car1.EngineCC.plot(kind='hist')"
   ]
  },
  {
   "cell_type": "code",
   "execution_count": 76,
   "id": "8b6518a2",
   "metadata": {},
   "outputs": [
    {
     "data": {
      "image/png": "[encoded data removed]",
      "text/plain": [
       "<Figure size 432x288 with 1 Axes>"
      ]
     },
     "metadata": {
      "needs_background": "light"
     },
     "output_type": "display_data"
    }
   ],
   "source": [
    "car1.boxplot(column='EngineCC')\n",
    "plt.show()"
   ]
  },
  {
   "cell_type": "code",
   "execution_count": 77,
   "id": "6537ec81",
   "metadata": {},
   "outputs": [
    {
     "data": {
      "text/plain": [
       "0.4    1248.0\n",
       "0.6    1399.0\n",
       "0.8    1968.0\n",
       "Name: EngineCC, dtype: float64"
      ]
     },
     "execution_count": 77,
     "metadata": {},
     "output_type": "execute_result"
    }
   ],
   "source": [
    "car1['EngineCC'].quantile(np.arange(0.4,1,0.2))"
   ]
  },
  {
   "cell_type": "code",
   "execution_count": 78,
   "id": "d0b2efbd",
   "metadata": {},
   "outputs": [
    {
     "data": {
      "text/plain": [
       "0.70    1498.0\n",
       "0.74    1582.0\n",
       "0.78    1598.0\n",
       "0.82    1995.0\n",
       "0.86    2179.0\n",
       "0.90    2198.5\n",
       "0.94    2494.0\n",
       "0.98    2609.0\n",
       "Name: EngineCC, dtype: float64"
      ]
     },
     "execution_count": 78,
     "metadata": {},
     "output_type": "execute_result"
    }
   ],
   "source": [
    "car1['EngineCC'].quantile(np.arange(0.7,1,0.04))"
   ]
  },
  {
   "cell_type": "code",
   "execution_count": 79,
   "id": "9afa7ea7",
   "metadata": {},
   "outputs": [
    {
     "data": {
      "text/plain": [
       "0.980    2609.000\n",
       "0.981    2695.610\n",
       "0.982    2755.000\n",
       "0.983    2755.000\n",
       "0.984    2755.000\n",
       "0.985    2755.000\n",
       "0.986    2953.000\n",
       "0.987    2956.000\n",
       "0.988    2956.000\n",
       "0.989    2956.495\n",
       "0.990    2967.000\n",
       "0.991    2982.000\n",
       "0.992    2982.000\n",
       "0.993    2982.000\n",
       "0.994    2982.000\n",
       "0.995    2987.000\n",
       "0.996    2993.000\n",
       "0.997    2993.000\n",
       "0.998    2997.000\n",
       "0.999    3198.000\n",
       "1.000    3604.000\n",
       "Name: EngineCC, dtype: float64"
      ]
     },
     "execution_count": 79,
     "metadata": {},
     "output_type": "execute_result"
    }
   ],
   "source": [
    "car1['EngineCC'].quantile(np.arange(0.98,1,0.001))"
   ]
  },
  {
   "cell_type": "code",
   "execution_count": 80,
   "id": "f0366c90",
   "metadata": {},
   "outputs": [
    {
     "data": {
      "text/html": [
       "<div>\n",
       "<style scoped>\n",
       "    .dataframe tbody tr th:only-of-type {\n",
       "        vertical-align: middle;\n",
       "    }\n",
       "\n",
       "    .dataframe tbody tr th {\n",
       "        vertical-align: top;\n",
       "    }\n",
       "\n",
       "    .dataframe thead th {\n",
       "        text-align: right;\n",
       "    }\n",
       "</style>\n",
       "<table border=\"1\" class=\"dataframe\">\n",
       "  <thead>\n",
       "    <tr style=\"text-align: right;\">\n",
       "      <th></th>\n",
       "      <th>Sales_ID</th>\n",
       "      <th>name</th>\n",
       "      <th>year</th>\n",
       "      <th>selling_price</th>\n",
       "      <th>km_driven</th>\n",
       "      <th>State or Province</th>\n",
       "      <th>City</th>\n",
       "      <th>fuel</th>\n",
       "      <th>seller_type</th>\n",
       "      <th>transmission</th>\n",
       "      <th>...</th>\n",
       "      <th>mileage</th>\n",
       "      <th>engine</th>\n",
       "      <th>max_power</th>\n",
       "      <th>seats</th>\n",
       "      <th>sold</th>\n",
       "      <th>Region</th>\n",
       "      <th>AvgMileage</th>\n",
       "      <th>EngineCC</th>\n",
       "      <th>MaxPower</th>\n",
       "      <th>sale</th>\n",
       "    </tr>\n",
       "  </thead>\n",
       "  <tbody>\n",
       "    <tr>\n",
       "      <th>335</th>\n",
       "      <td>1861</td>\n",
       "      <td>Jeep Wrangler 2016-2019 3.6 4X4</td>\n",
       "      <td>2017</td>\n",
       "      <td>4100000</td>\n",
       "      <td>17000.0</td>\n",
       "      <td>New York</td>\n",
       "      <td>Auburn</td>\n",
       "      <td>Petrol</td>\n",
       "      <td>Individual</td>\n",
       "      <td>Automatic</td>\n",
       "      <td>...</td>\n",
       "      <td>9.5 kmpl</td>\n",
       "      <td>3604 CC</td>\n",
       "      <td>280 bhp</td>\n",
       "      <td>5</td>\n",
       "      <td>Y</td>\n",
       "      <td>East</td>\n",
       "      <td>9.50</td>\n",
       "      <td>3604</td>\n",
       "      <td>280.0</td>\n",
       "      <td>1</td>\n",
       "    </tr>\n",
       "    <tr>\n",
       "      <th>1067</th>\n",
       "      <td>135</td>\n",
       "      <td>Jeep Wrangler 2016-2019 3.6 4X4</td>\n",
       "      <td>2017</td>\n",
       "      <td>4100000</td>\n",
       "      <td>17000.0</td>\n",
       "      <td>California</td>\n",
       "      <td>Los Angeles</td>\n",
       "      <td>Petrol</td>\n",
       "      <td>Individual</td>\n",
       "      <td>Automatic</td>\n",
       "      <td>...</td>\n",
       "      <td>9.5 kmpl</td>\n",
       "      <td>3604 CC</td>\n",
       "      <td>280 bhp</td>\n",
       "      <td>5</td>\n",
       "      <td>Y</td>\n",
       "      <td>West</td>\n",
       "      <td>9.50</td>\n",
       "      <td>3604</td>\n",
       "      <td>280.0</td>\n",
       "      <td>1</td>\n",
       "    </tr>\n",
       "    <tr>\n",
       "      <th>3745</th>\n",
       "      <td>7704</td>\n",
       "      <td>Jeep Wrangler 2016-2019 3.6 4X4</td>\n",
       "      <td>2017</td>\n",
       "      <td>4100000</td>\n",
       "      <td>17000.0</td>\n",
       "      <td>Florida</td>\n",
       "      <td>Pembroke Pines</td>\n",
       "      <td>Petrol</td>\n",
       "      <td>Individual</td>\n",
       "      <td>Automatic</td>\n",
       "      <td>...</td>\n",
       "      <td>9.5 kmpl</td>\n",
       "      <td>3604 CC</td>\n",
       "      <td>280 bhp</td>\n",
       "      <td>5</td>\n",
       "      <td>N</td>\n",
       "      <td>South</td>\n",
       "      <td>9.50</td>\n",
       "      <td>3604</td>\n",
       "      <td>280.0</td>\n",
       "      <td>0</td>\n",
       "    </tr>\n",
       "    <tr>\n",
       "      <th>4228</th>\n",
       "      <td>5963</td>\n",
       "      <td>Mercedes-Benz E-Class E350 Petrol</td>\n",
       "      <td>2009</td>\n",
       "      <td>1000000</td>\n",
       "      <td>80000.0</td>\n",
       "      <td>Michigan</td>\n",
       "      <td>Lincoln Park</td>\n",
       "      <td>Petrol</td>\n",
       "      <td>Individual</td>\n",
       "      <td>Automatic</td>\n",
       "      <td>...</td>\n",
       "      <td>10.93 kmpl</td>\n",
       "      <td>3498 CC</td>\n",
       "      <td>272 bhp</td>\n",
       "      <td>5</td>\n",
       "      <td>N</td>\n",
       "      <td>Central</td>\n",
       "      <td>10.93</td>\n",
       "      <td>3498</td>\n",
       "      <td>272.0</td>\n",
       "      <td>0</td>\n",
       "    </tr>\n",
       "    <tr>\n",
       "      <th>5998</th>\n",
       "      <td>1565</td>\n",
       "      <td>Jeep Wrangler 2016-2019 3.6 4X4</td>\n",
       "      <td>2017</td>\n",
       "      <td>4100000</td>\n",
       "      <td>17000.0</td>\n",
       "      <td>Idaho</td>\n",
       "      <td>Lewiston</td>\n",
       "      <td>Petrol</td>\n",
       "      <td>Individual</td>\n",
       "      <td>Automatic</td>\n",
       "      <td>...</td>\n",
       "      <td>9.5 kmpl</td>\n",
       "      <td>3604 CC</td>\n",
       "      <td>280 bhp</td>\n",
       "      <td>5</td>\n",
       "      <td>Y</td>\n",
       "      <td>West</td>\n",
       "      <td>9.50</td>\n",
       "      <td>3604</td>\n",
       "      <td>280.0</td>\n",
       "      <td>1</td>\n",
       "    </tr>\n",
       "    <tr>\n",
       "      <th>6015</th>\n",
       "      <td>3240</td>\n",
       "      <td>Jeep Wrangler 2016-2019 3.6 4X4</td>\n",
       "      <td>2017</td>\n",
       "      <td>4100000</td>\n",
       "      <td>17000.0</td>\n",
       "      <td>Idaho</td>\n",
       "      <td>Pocatello</td>\n",
       "      <td>Petrol</td>\n",
       "      <td>Individual</td>\n",
       "      <td>Automatic</td>\n",
       "      <td>...</td>\n",
       "      <td>9.5 kmpl</td>\n",
       "      <td>3604 CC</td>\n",
       "      <td>280 bhp</td>\n",
       "      <td>5</td>\n",
       "      <td>N</td>\n",
       "      <td>West</td>\n",
       "      <td>9.50</td>\n",
       "      <td>3604</td>\n",
       "      <td>280.0</td>\n",
       "      <td>0</td>\n",
       "    </tr>\n",
       "    <tr>\n",
       "      <th>7723</th>\n",
       "      <td>5249</td>\n",
       "      <td>Jeep Wrangler 2016-2019 3.6 4X4</td>\n",
       "      <td>2017</td>\n",
       "      <td>4100000</td>\n",
       "      <td>17000.0</td>\n",
       "      <td>Louisiana</td>\n",
       "      <td>Bossier City</td>\n",
       "      <td>Petrol</td>\n",
       "      <td>Individual</td>\n",
       "      <td>Automatic</td>\n",
       "      <td>...</td>\n",
       "      <td>9.5 kmpl</td>\n",
       "      <td>3604 CC</td>\n",
       "      <td>280 bhp</td>\n",
       "      <td>5</td>\n",
       "      <td>N</td>\n",
       "      <td>South</td>\n",
       "      <td>9.50</td>\n",
       "      <td>3604</td>\n",
       "      <td>280.0</td>\n",
       "      <td>0</td>\n",
       "    </tr>\n",
       "  </tbody>\n",
       "</table>\n",
       "<p>7 rows × 21 columns</p>\n",
       "</div>"
      ],
      "text/plain": [
       "      Sales_ID                               name  year  selling_price  \\\n",
       "335       1861    Jeep Wrangler 2016-2019 3.6 4X4  2017        4100000   \n",
       "1067       135    Jeep Wrangler 2016-2019 3.6 4X4  2017        4100000   \n",
       "3745      7704    Jeep Wrangler 2016-2019 3.6 4X4  2017        4100000   \n",
       "4228      5963  Mercedes-Benz E-Class E350 Petrol  2009        1000000   \n",
       "5998      1565    Jeep Wrangler 2016-2019 3.6 4X4  2017        4100000   \n",
       "6015      3240    Jeep Wrangler 2016-2019 3.6 4X4  2017        4100000   \n",
       "7723      5249    Jeep Wrangler 2016-2019 3.6 4X4  2017        4100000   \n",
       "\n",
       "      km_driven State or Province            City    fuel seller_type  \\\n",
       "335     17000.0          New York          Auburn  Petrol  Individual   \n",
       "1067    17000.0        California     Los Angeles  Petrol  Individual   \n",
       "3745    17000.0           Florida  Pembroke Pines  Petrol  Individual   \n",
       "4228    80000.0          Michigan    Lincoln Park  Petrol  Individual   \n",
       "5998    17000.0             Idaho        Lewiston  Petrol  Individual   \n",
       "6015    17000.0             Idaho       Pocatello  Petrol  Individual   \n",
       "7723    17000.0         Louisiana    Bossier City  Petrol  Individual   \n",
       "\n",
       "     transmission  ...     mileage   engine max_power seats  sold   Region  \\\n",
       "335     Automatic  ...    9.5 kmpl  3604 CC   280 bhp     5     Y     East   \n",
       "1067    Automatic  ...    9.5 kmpl  3604 CC   280 bhp     5     Y     West   \n",
       "3745    Automatic  ...    9.5 kmpl  3604 CC   280 bhp     5     N    South   \n",
       "4228    Automatic  ...  10.93 kmpl  3498 CC   272 bhp     5     N  Central   \n",
       "5998    Automatic  ...    9.5 kmpl  3604 CC   280 bhp     5     Y     West   \n",
       "6015    Automatic  ...    9.5 kmpl  3604 CC   280 bhp     5     N     West   \n",
       "7723    Automatic  ...    9.5 kmpl  3604 CC   280 bhp     5     N    South   \n",
       "\n",
       "     AvgMileage  EngineCC  MaxPower  sale  \n",
       "335        9.50      3604     280.0     1  \n",
       "1067       9.50      3604     280.0     1  \n",
       "3745       9.50      3604     280.0     0  \n",
       "4228      10.93      3498     272.0     0  \n",
       "5998       9.50      3604     280.0     1  \n",
       "6015       9.50      3604     280.0     0  \n",
       "7723       9.50      3604     280.0     0  \n",
       "\n",
       "[7 rows x 21 columns]"
      ]
     },
     "execution_count": 80,
     "metadata": {},
     "output_type": "execute_result"
    }
   ],
   "source": [
    "car1.loc[(car1[\"EngineCC\"]>3198.000)]"
   ]
  },
  {
   "cell_type": "code",
   "execution_count": 81,
   "id": "acc0f410",
   "metadata": {},
   "outputs": [
    {
     "data": {
      "text/plain": [
       "count    7906.000000\n",
       "mean     1458.708829\n",
       "std       503.893057\n",
       "min       624.000000\n",
       "25%      1197.000000\n",
       "50%      1248.000000\n",
       "75%      1582.000000\n",
       "max      3604.000000\n",
       "Name: EngineCC, dtype: float64"
      ]
     },
     "execution_count": 81,
     "metadata": {},
     "output_type": "execute_result"
    }
   ],
   "source": [
    "car1['EngineCC'].describe()"
   ]
  },
  {
   "cell_type": "markdown",
   "id": "19f9451d",
   "metadata": {},
   "source": [
    "There were no outliers present in EngineCC column"
   ]
  },
  {
   "cell_type": "markdown",
   "id": "80608adb",
   "metadata": {},
   "source": [
    "# Checking for Outliers in MaxPower Column"
   ]
  },
  {
   "cell_type": "code",
   "execution_count": 82,
   "id": "454ecb22",
   "metadata": {},
   "outputs": [
    {
     "data": {
      "text/plain": [
       "count    7906.000000\n",
       "mean       91.587374\n",
       "std        35.747216\n",
       "min        32.800000\n",
       "25%        68.050000\n",
       "50%        82.000000\n",
       "75%       102.000000\n",
       "max       400.000000\n",
       "Name: MaxPower, dtype: float64"
      ]
     },
     "execution_count": 82,
     "metadata": {},
     "output_type": "execute_result"
    }
   ],
   "source": [
    "car1['MaxPower'].describe()"
   ]
  },
  {
   "cell_type": "code",
   "execution_count": 83,
   "id": "b750ea1b",
   "metadata": {},
   "outputs": [
    {
     "data": {
      "text/plain": [
       "<AxesSubplot:ylabel='Frequency'>"
      ]
     },
     "execution_count": 83,
     "metadata": {},
     "output_type": "execute_result"
    },
    {
     "data": {
      "image/png": "[encoded data removed]",
      "text/plain": [
       "<Figure size 432x288 with 1 Axes>"
      ]
     },
     "metadata": {
      "needs_background": "light"
     },
     "output_type": "display_data"
    }
   ],
   "source": [
    "car1.MaxPower.plot(kind='hist')"
   ]
  },
  {
   "cell_type": "code",
   "execution_count": 84,
   "id": "76514220",
   "metadata": {},
   "outputs": [
    {
     "data": {
      "image/png": "[encoded data removed]",
      "text/plain": [
       "<Figure size 432x288 with 1 Axes>"
      ]
     },
     "metadata": {
      "needs_background": "light"
     },
     "output_type": "display_data"
    }
   ],
   "source": [
    "car1.boxplot(column='MaxPower')\n",
    "plt.show()"
   ]
  },
  {
   "cell_type": "code",
   "execution_count": 85,
   "id": "3fa82749",
   "metadata": {},
   "outputs": [
    {
     "data": {
      "text/plain": [
       "0.1     60.00\n",
       "0.2     67.05\n",
       "0.3     73.00\n",
       "0.4     75.00\n",
       "0.5     82.00\n",
       "0.6     88.70\n",
       "0.7     98.60\n",
       "0.8    110.00\n",
       "0.9    140.00\n",
       "Name: MaxPower, dtype: float64"
      ]
     },
     "execution_count": 85,
     "metadata": {},
     "output_type": "execute_result"
    }
   ],
   "source": [
    "car1['MaxPower'].quantile(np.arange(0.1,1,0.1))"
   ]
  },
  {
   "cell_type": "code",
   "execution_count": 86,
   "id": "8c3f0418",
   "metadata": {},
   "outputs": [
    {
     "data": {
      "text/plain": [
       "0.80    110.000\n",
       "0.82    117.330\n",
       "0.84    120.000\n",
       "0.86    126.200\n",
       "0.88    138.030\n",
       "0.90    140.000\n",
       "0.92    147.940\n",
       "0.94    167.655\n",
       "0.96    177.000\n",
       "0.98    190.000\n",
       "Name: MaxPower, dtype: float64"
      ]
     },
     "execution_count": 86,
     "metadata": {},
     "output_type": "execute_result"
    }
   ],
   "source": [
    "car1['MaxPower'].quantile(np.arange(0.8,1,0.02))"
   ]
  },
  {
   "cell_type": "code",
   "execution_count": 87,
   "id": "2ad6a906",
   "metadata": {},
   "outputs": [
    {
     "data": {
      "text/plain": [
       "0.90    140.0000\n",
       "0.91    147.5055\n",
       "0.92    147.9400\n",
       "0.93    153.8600\n",
       "0.94    167.6550\n",
       "0.95    171.5000\n",
       "0.96    177.0000\n",
       "0.97    187.7400\n",
       "0.98    190.0000\n",
       "0.99    214.0320\n",
       "Name: MaxPower, dtype: float64"
      ]
     },
     "execution_count": 87,
     "metadata": {},
     "output_type": "execute_result"
    }
   ],
   "source": [
    "car1['MaxPower'].quantile(np.arange(0.9,1,0.01))"
   ]
  },
  {
   "cell_type": "code",
   "execution_count": 88,
   "id": "af0e027c",
   "metadata": {},
   "outputs": [
    {
     "data": {
      "text/plain": [
       "272.7600000000093"
      ]
     },
     "execution_count": 88,
     "metadata": {},
     "output_type": "execute_result"
    }
   ],
   "source": [
    "car1['MaxPower'].quantile(0.999)"
   ]
  },
  {
   "cell_type": "code",
   "execution_count": 89,
   "id": "1c1d6aa8",
   "metadata": {},
   "outputs": [
    {
     "data": {
      "text/html": [
       "<div>\n",
       "<style scoped>\n",
       "    .dataframe tbody tr th:only-of-type {\n",
       "        vertical-align: middle;\n",
       "    }\n",
       "\n",
       "    .dataframe tbody tr th {\n",
       "        vertical-align: top;\n",
       "    }\n",
       "\n",
       "    .dataframe thead th {\n",
       "        text-align: right;\n",
       "    }\n",
       "</style>\n",
       "<table border=\"1\" class=\"dataframe\">\n",
       "  <thead>\n",
       "    <tr style=\"text-align: right;\">\n",
       "      <th></th>\n",
       "      <th>Sales_ID</th>\n",
       "      <th>name</th>\n",
       "      <th>year</th>\n",
       "      <th>selling_price</th>\n",
       "      <th>km_driven</th>\n",
       "      <th>State or Province</th>\n",
       "      <th>City</th>\n",
       "      <th>fuel</th>\n",
       "      <th>seller_type</th>\n",
       "      <th>transmission</th>\n",
       "      <th>...</th>\n",
       "      <th>mileage</th>\n",
       "      <th>engine</th>\n",
       "      <th>max_power</th>\n",
       "      <th>seats</th>\n",
       "      <th>sold</th>\n",
       "      <th>Region</th>\n",
       "      <th>AvgMileage</th>\n",
       "      <th>EngineCC</th>\n",
       "      <th>MaxPower</th>\n",
       "      <th>sale</th>\n",
       "    </tr>\n",
       "  </thead>\n",
       "  <tbody>\n",
       "    <tr>\n",
       "      <th>107</th>\n",
       "      <td>171</td>\n",
       "      <td>Volvo XC90 T8 Excellence BSIV</td>\n",
       "      <td>2017</td>\n",
       "      <td>10000000</td>\n",
       "      <td>30000.0</td>\n",
       "      <td>New York</td>\n",
       "      <td>New York City</td>\n",
       "      <td>Petrol</td>\n",
       "      <td>Individual</td>\n",
       "      <td>Automatic</td>\n",
       "      <td>...</td>\n",
       "      <td>42.0 kmpl</td>\n",
       "      <td>1969 CC</td>\n",
       "      <td>400 bhp</td>\n",
       "      <td>4</td>\n",
       "      <td>Y</td>\n",
       "      <td>East</td>\n",
       "      <td>42.0</td>\n",
       "      <td>1969</td>\n",
       "      <td>400.0</td>\n",
       "      <td>1</td>\n",
       "    </tr>\n",
       "    <tr>\n",
       "      <th>335</th>\n",
       "      <td>1861</td>\n",
       "      <td>Jeep Wrangler 2016-2019 3.6 4X4</td>\n",
       "      <td>2017</td>\n",
       "      <td>4100000</td>\n",
       "      <td>17000.0</td>\n",
       "      <td>New York</td>\n",
       "      <td>Auburn</td>\n",
       "      <td>Petrol</td>\n",
       "      <td>Individual</td>\n",
       "      <td>Automatic</td>\n",
       "      <td>...</td>\n",
       "      <td>9.5 kmpl</td>\n",
       "      <td>3604 CC</td>\n",
       "      <td>280 bhp</td>\n",
       "      <td>5</td>\n",
       "      <td>Y</td>\n",
       "      <td>East</td>\n",
       "      <td>9.5</td>\n",
       "      <td>3604</td>\n",
       "      <td>280.0</td>\n",
       "      <td>1</td>\n",
       "    </tr>\n",
       "    <tr>\n",
       "      <th>1067</th>\n",
       "      <td>135</td>\n",
       "      <td>Jeep Wrangler 2016-2019 3.6 4X4</td>\n",
       "      <td>2017</td>\n",
       "      <td>4100000</td>\n",
       "      <td>17000.0</td>\n",
       "      <td>California</td>\n",
       "      <td>Los Angeles</td>\n",
       "      <td>Petrol</td>\n",
       "      <td>Individual</td>\n",
       "      <td>Automatic</td>\n",
       "      <td>...</td>\n",
       "      <td>9.5 kmpl</td>\n",
       "      <td>3604 CC</td>\n",
       "      <td>280 bhp</td>\n",
       "      <td>5</td>\n",
       "      <td>Y</td>\n",
       "      <td>West</td>\n",
       "      <td>9.5</td>\n",
       "      <td>3604</td>\n",
       "      <td>280.0</td>\n",
       "      <td>1</td>\n",
       "    </tr>\n",
       "    <tr>\n",
       "      <th>1076</th>\n",
       "      <td>149</td>\n",
       "      <td>Mercedes-Benz S-Class S 350 CDI</td>\n",
       "      <td>2017</td>\n",
       "      <td>5850000</td>\n",
       "      <td>47000.0</td>\n",
       "      <td>California</td>\n",
       "      <td>Los Angeles</td>\n",
       "      <td>Diesel</td>\n",
       "      <td>Dealer</td>\n",
       "      <td>Automatic</td>\n",
       "      <td>...</td>\n",
       "      <td>13.5 kmpl</td>\n",
       "      <td>2987 CC</td>\n",
       "      <td>282 bhp</td>\n",
       "      <td>5</td>\n",
       "      <td>Y</td>\n",
       "      <td>West</td>\n",
       "      <td>13.5</td>\n",
       "      <td>2987</td>\n",
       "      <td>282.0</td>\n",
       "      <td>1</td>\n",
       "    </tr>\n",
       "    <tr>\n",
       "      <th>3745</th>\n",
       "      <td>7704</td>\n",
       "      <td>Jeep Wrangler 2016-2019 3.6 4X4</td>\n",
       "      <td>2017</td>\n",
       "      <td>4100000</td>\n",
       "      <td>17000.0</td>\n",
       "      <td>Florida</td>\n",
       "      <td>Pembroke Pines</td>\n",
       "      <td>Petrol</td>\n",
       "      <td>Individual</td>\n",
       "      <td>Automatic</td>\n",
       "      <td>...</td>\n",
       "      <td>9.5 kmpl</td>\n",
       "      <td>3604 CC</td>\n",
       "      <td>280 bhp</td>\n",
       "      <td>5</td>\n",
       "      <td>N</td>\n",
       "      <td>South</td>\n",
       "      <td>9.5</td>\n",
       "      <td>3604</td>\n",
       "      <td>280.0</td>\n",
       "      <td>0</td>\n",
       "    </tr>\n",
       "    <tr>\n",
       "      <th>5998</th>\n",
       "      <td>1565</td>\n",
       "      <td>Jeep Wrangler 2016-2019 3.6 4X4</td>\n",
       "      <td>2017</td>\n",
       "      <td>4100000</td>\n",
       "      <td>17000.0</td>\n",
       "      <td>Idaho</td>\n",
       "      <td>Lewiston</td>\n",
       "      <td>Petrol</td>\n",
       "      <td>Individual</td>\n",
       "      <td>Automatic</td>\n",
       "      <td>...</td>\n",
       "      <td>9.5 kmpl</td>\n",
       "      <td>3604 CC</td>\n",
       "      <td>280 bhp</td>\n",
       "      <td>5</td>\n",
       "      <td>Y</td>\n",
       "      <td>West</td>\n",
       "      <td>9.5</td>\n",
       "      <td>3604</td>\n",
       "      <td>280.0</td>\n",
       "      <td>1</td>\n",
       "    </tr>\n",
       "    <tr>\n",
       "      <th>6015</th>\n",
       "      <td>3240</td>\n",
       "      <td>Jeep Wrangler 2016-2019 3.6 4X4</td>\n",
       "      <td>2017</td>\n",
       "      <td>4100000</td>\n",
       "      <td>17000.0</td>\n",
       "      <td>Idaho</td>\n",
       "      <td>Pocatello</td>\n",
       "      <td>Petrol</td>\n",
       "      <td>Individual</td>\n",
       "      <td>Automatic</td>\n",
       "      <td>...</td>\n",
       "      <td>9.5 kmpl</td>\n",
       "      <td>3604 CC</td>\n",
       "      <td>280 bhp</td>\n",
       "      <td>5</td>\n",
       "      <td>N</td>\n",
       "      <td>West</td>\n",
       "      <td>9.5</td>\n",
       "      <td>3604</td>\n",
       "      <td>280.0</td>\n",
       "      <td>0</td>\n",
       "    </tr>\n",
       "    <tr>\n",
       "      <th>7723</th>\n",
       "      <td>5249</td>\n",
       "      <td>Jeep Wrangler 2016-2019 3.6 4X4</td>\n",
       "      <td>2017</td>\n",
       "      <td>4100000</td>\n",
       "      <td>17000.0</td>\n",
       "      <td>Louisiana</td>\n",
       "      <td>Bossier City</td>\n",
       "      <td>Petrol</td>\n",
       "      <td>Individual</td>\n",
       "      <td>Automatic</td>\n",
       "      <td>...</td>\n",
       "      <td>9.5 kmpl</td>\n",
       "      <td>3604 CC</td>\n",
       "      <td>280 bhp</td>\n",
       "      <td>5</td>\n",
       "      <td>N</td>\n",
       "      <td>South</td>\n",
       "      <td>9.5</td>\n",
       "      <td>3604</td>\n",
       "      <td>280.0</td>\n",
       "      <td>0</td>\n",
       "    </tr>\n",
       "  </tbody>\n",
       "</table>\n",
       "<p>8 rows × 21 columns</p>\n",
       "</div>"
      ],
      "text/plain": [
       "      Sales_ID                             name  year  selling_price  \\\n",
       "107        171    Volvo XC90 T8 Excellence BSIV  2017       10000000   \n",
       "335       1861  Jeep Wrangler 2016-2019 3.6 4X4  2017        4100000   \n",
       "1067       135  Jeep Wrangler 2016-2019 3.6 4X4  2017        4100000   \n",
       "1076       149  Mercedes-Benz S-Class S 350 CDI  2017        5850000   \n",
       "3745      7704  Jeep Wrangler 2016-2019 3.6 4X4  2017        4100000   \n",
       "5998      1565  Jeep Wrangler 2016-2019 3.6 4X4  2017        4100000   \n",
       "6015      3240  Jeep Wrangler 2016-2019 3.6 4X4  2017        4100000   \n",
       "7723      5249  Jeep Wrangler 2016-2019 3.6 4X4  2017        4100000   \n",
       "\n",
       "      km_driven State or Province            City    fuel seller_type  \\\n",
       "107     30000.0          New York   New York City  Petrol  Individual   \n",
       "335     17000.0          New York          Auburn  Petrol  Individual   \n",
       "1067    17000.0        California     Los Angeles  Petrol  Individual   \n",
       "1076    47000.0        California     Los Angeles  Diesel      Dealer   \n",
       "3745    17000.0           Florida  Pembroke Pines  Petrol  Individual   \n",
       "5998    17000.0             Idaho        Lewiston  Petrol  Individual   \n",
       "6015    17000.0             Idaho       Pocatello  Petrol  Individual   \n",
       "7723    17000.0         Louisiana    Bossier City  Petrol  Individual   \n",
       "\n",
       "     transmission  ...    mileage   engine max_power seats  sold Region  \\\n",
       "107     Automatic  ...  42.0 kmpl  1969 CC   400 bhp     4     Y   East   \n",
       "335     Automatic  ...   9.5 kmpl  3604 CC   280 bhp     5     Y   East   \n",
       "1067    Automatic  ...   9.5 kmpl  3604 CC   280 bhp     5     Y   West   \n",
       "1076    Automatic  ...  13.5 kmpl  2987 CC   282 bhp     5     Y   West   \n",
       "3745    Automatic  ...   9.5 kmpl  3604 CC   280 bhp     5     N  South   \n",
       "5998    Automatic  ...   9.5 kmpl  3604 CC   280 bhp     5     Y   West   \n",
       "6015    Automatic  ...   9.5 kmpl  3604 CC   280 bhp     5     N   West   \n",
       "7723    Automatic  ...   9.5 kmpl  3604 CC   280 bhp     5     N  South   \n",
       "\n",
       "     AvgMileage  EngineCC  MaxPower  sale  \n",
       "107        42.0      1969     400.0     1  \n",
       "335         9.5      3604     280.0     1  \n",
       "1067        9.5      3604     280.0     1  \n",
       "1076       13.5      2987     282.0     1  \n",
       "3745        9.5      3604     280.0     0  \n",
       "5998        9.5      3604     280.0     1  \n",
       "6015        9.5      3604     280.0     0  \n",
       "7723        9.5      3604     280.0     0  \n",
       "\n",
       "[8 rows x 21 columns]"
      ]
     },
     "execution_count": 89,
     "metadata": {},
     "output_type": "execute_result"
    }
   ],
   "source": [
    "car1.loc[(car1[\"MaxPower\"]>272.76)]"
   ]
  },
  {
   "cell_type": "markdown",
   "id": "d181ac62",
   "metadata": {},
   "source": [
    "We see that car with MaxPower 400 was sold which shows that it was not outlier and it's km_driven is very less,so we don't have to treat it.Remaining values were in continuous range."
   ]
  },
  {
   "cell_type": "markdown",
   "id": "437dd710",
   "metadata": {},
   "source": [
    "# Feature Engineering"
   ]
  },
  {
   "cell_type": "code",
   "execution_count": 90,
   "id": "78e53cfe",
   "metadata": {},
   "outputs": [
    {
     "data": {
      "text/plain": [
       "Index(['Sales_ID', 'name', 'year', 'selling_price', 'km_driven',\n",
       "       'State or Province', 'City', 'fuel', 'seller_type', 'transmission',\n",
       "       'owner', 'mileage', 'engine', 'max_power', 'seats', 'sold', 'Region',\n",
       "       'AvgMileage', 'EngineCC', 'MaxPower', 'sale'],\n",
       "      dtype='object')"
      ]
     },
     "execution_count": 90,
     "metadata": {},
     "output_type": "execute_result"
    }
   ],
   "source": [
    "car1.columns"
   ]
  },
  {
   "cell_type": "markdown",
   "id": "abcc6380",
   "metadata": {},
   "source": [
    "Remove unwanted columns,As ours is a regression problem\n",
    "\"Sales_Id\" is not necessary , \"name\", \"state\", \"city\", 'region\", \"sold\", \"sale\" are not required to predict the selling price. Also mileage, engine,maxpower are converted to numerical.So we can remove all those columns."
   ]
  },
  {
   "cell_type": "code",
   "execution_count": 91,
   "id": "72b17a9c",
   "metadata": {},
   "outputs": [
    {
     "data": {
      "text/plain": [
       "array([ 5,  7,  4,  8,  9,  6, 10,  2, 14], dtype=int64)"
      ]
     },
     "execution_count": 91,
     "metadata": {},
     "output_type": "execute_result"
    }
   ],
   "source": [
    "car1['seats'].unique()"
   ]
  },
  {
   "cell_type": "code",
   "execution_count": 92,
   "id": "ebc4b634",
   "metadata": {},
   "outputs": [],
   "source": [
    "def get_seattype(x):\n",
    "    if x<=5:\n",
    "        return \"normal\"\n",
    "    elif 6<=x<=8:\n",
    "        return \"middle\"\n",
    "    else:\n",
    "        return \"high\""
   ]
  },
  {
   "cell_type": "code",
   "execution_count": 93,
   "id": "230b77d9",
   "metadata": {},
   "outputs": [],
   "source": [
    "car1['seats']=car1['seats'].map(get_seattype)"
   ]
  },
  {
   "cell_type": "code",
   "execution_count": 94,
   "id": "9f2fdb5a",
   "metadata": {},
   "outputs": [
    {
     "data": {
      "text/plain": [
       "array(['normal', 'middle', 'high'], dtype=object)"
      ]
     },
     "execution_count": 94,
     "metadata": {},
     "output_type": "execute_result"
    }
   ],
   "source": [
    "car1['seats'].unique()"
   ]
  },
  {
   "cell_type": "code",
   "execution_count": 95,
   "id": "31d84c81",
   "metadata": {},
   "outputs": [],
   "source": [
    "car2=car1.drop(columns=['Sales_ID', 'name','State or Province','City','mileage','engine','max_power','Region','sold','sale'],axis=1)"
   ]
  },
  {
   "cell_type": "code",
   "execution_count": 96,
   "id": "b3e71021",
   "metadata": {},
   "outputs": [
    {
     "data": {
      "text/html": [
       "<div>\n",
       "<style scoped>\n",
       "    .dataframe tbody tr th:only-of-type {\n",
       "        vertical-align: middle;\n",
       "    }\n",
       "\n",
       "    .dataframe tbody tr th {\n",
       "        vertical-align: top;\n",
       "    }\n",
       "\n",
       "    .dataframe thead th {\n",
       "        text-align: right;\n",
       "    }\n",
       "</style>\n",
       "<table border=\"1\" class=\"dataframe\">\n",
       "  <thead>\n",
       "    <tr style=\"text-align: right;\">\n",
       "      <th></th>\n",
       "      <th>year</th>\n",
       "      <th>selling_price</th>\n",
       "      <th>km_driven</th>\n",
       "      <th>fuel</th>\n",
       "      <th>seller_type</th>\n",
       "      <th>transmission</th>\n",
       "      <th>owner</th>\n",
       "      <th>seats</th>\n",
       "      <th>AvgMileage</th>\n",
       "      <th>EngineCC</th>\n",
       "      <th>MaxPower</th>\n",
       "    </tr>\n",
       "  </thead>\n",
       "  <tbody>\n",
       "    <tr>\n",
       "      <th>0</th>\n",
       "      <td>2014</td>\n",
       "      <td>450000</td>\n",
       "      <td>145500.0</td>\n",
       "      <td>Diesel</td>\n",
       "      <td>Individual</td>\n",
       "      <td>Manual</td>\n",
       "      <td>First Owner</td>\n",
       "      <td>normal</td>\n",
       "      <td>23.40</td>\n",
       "      <td>1248</td>\n",
       "      <td>74.000</td>\n",
       "    </tr>\n",
       "    <tr>\n",
       "      <th>1</th>\n",
       "      <td>2019</td>\n",
       "      <td>1149000</td>\n",
       "      <td>5000.0</td>\n",
       "      <td>Petrol</td>\n",
       "      <td>Individual</td>\n",
       "      <td>Manual</td>\n",
       "      <td>First Owner</td>\n",
       "      <td>normal</td>\n",
       "      <td>17.00</td>\n",
       "      <td>1591</td>\n",
       "      <td>121.300</td>\n",
       "    </tr>\n",
       "    <tr>\n",
       "      <th>2</th>\n",
       "      <td>2017</td>\n",
       "      <td>600000</td>\n",
       "      <td>25000.0</td>\n",
       "      <td>Petrol</td>\n",
       "      <td>Individual</td>\n",
       "      <td>Manual</td>\n",
       "      <td>Third Owner</td>\n",
       "      <td>normal</td>\n",
       "      <td>18.16</td>\n",
       "      <td>1196</td>\n",
       "      <td>86.800</td>\n",
       "    </tr>\n",
       "    <tr>\n",
       "      <th>3</th>\n",
       "      <td>2016</td>\n",
       "      <td>540000</td>\n",
       "      <td>40000.0</td>\n",
       "      <td>Diesel</td>\n",
       "      <td>Individual</td>\n",
       "      <td>Manual</td>\n",
       "      <td>First Owner</td>\n",
       "      <td>normal</td>\n",
       "      <td>22.00</td>\n",
       "      <td>1498</td>\n",
       "      <td>108.495</td>\n",
       "    </tr>\n",
       "    <tr>\n",
       "      <th>4</th>\n",
       "      <td>2015</td>\n",
       "      <td>630000</td>\n",
       "      <td>135000.0</td>\n",
       "      <td>Diesel</td>\n",
       "      <td>Individual</td>\n",
       "      <td>Manual</td>\n",
       "      <td>First Owner</td>\n",
       "      <td>normal</td>\n",
       "      <td>25.10</td>\n",
       "      <td>1498</td>\n",
       "      <td>98.600</td>\n",
       "    </tr>\n",
       "  </tbody>\n",
       "</table>\n",
       "</div>"
      ],
      "text/plain": [
       "   year  selling_price  km_driven    fuel seller_type transmission  \\\n",
       "0  2014         450000   145500.0  Diesel  Individual       Manual   \n",
       "1  2019        1149000     5000.0  Petrol  Individual       Manual   \n",
       "2  2017         600000    25000.0  Petrol  Individual       Manual   \n",
       "3  2016         540000    40000.0  Diesel  Individual       Manual   \n",
       "4  2015         630000   135000.0  Diesel  Individual       Manual   \n",
       "\n",
       "         owner   seats  AvgMileage  EngineCC  MaxPower  \n",
       "0  First Owner  normal       23.40      1248    74.000  \n",
       "1  First Owner  normal       17.00      1591   121.300  \n",
       "2  Third Owner  normal       18.16      1196    86.800  \n",
       "3  First Owner  normal       22.00      1498   108.495  \n",
       "4  First Owner  normal       25.10      1498    98.600  "
      ]
     },
     "execution_count": 96,
     "metadata": {},
     "output_type": "execute_result"
    }
   ],
   "source": [
    "car2.head()"
   ]
  },
  {
   "cell_type": "code",
   "execution_count": 97,
   "id": "0161e70d",
   "metadata": {},
   "outputs": [
    {
     "data": {
      "text/plain": [
       "(7906, 11)"
      ]
     },
     "execution_count": 97,
     "metadata": {},
     "output_type": "execute_result"
    }
   ],
   "source": [
    "car2.shape"
   ]
  },
  {
   "cell_type": "code",
   "execution_count": 98,
   "id": "18d4db11",
   "metadata": {},
   "outputs": [
    {
     "data": {
      "text/plain": [
       "<AxesSubplot:>"
      ]
     },
     "execution_count": 98,
     "metadata": {},
     "output_type": "execute_result"
    },
    {
     "data": {
      "image/png": "[encoded data removed]",
      "text/plain": [
       "<Figure size 504x288 with 2 Axes>"
      ]
     },
     "metadata": {
      "needs_background": "light"
     },
     "output_type": "display_data"
    }
   ],
   "source": [
    "plt.figure(figsize=(7,4))\n",
    "sns.heatmap(car2.corr(),\n",
    "            annot=True, \n",
    "            cmap='summer', \n",
    "            vmin=0, vmax=1)"
   ]
  },
  {
   "cell_type": "code",
   "execution_count": 99,
   "id": "6b7d47e5",
   "metadata": {},
   "outputs": [
    {
     "data": {
      "text/plain": [
       "<AxesSubplot:>"
      ]
     },
     "execution_count": 99,
     "metadata": {},
     "output_type": "execute_result"
    },
    {
     "data": {
      "image/png": "[encoded data removed]",
      "text/plain": [
       "<Figure size 864x576 with 2 Axes>"
      ]
     },
     "metadata": {},
     "output_type": "display_data"
    }
   ],
   "source": [
    "sns.set(rc = {'figure.figsize':(12,8)})\n",
    "sns.heatmap(data=car2.corr(),annot=True,annot_kws={\"size\": 13})"
   ]
  },
  {
   "cell_type": "code",
   "execution_count": 100,
   "id": "a443ee08",
   "metadata": {},
   "outputs": [],
   "source": [
    "SignificantFeatures=car2.corr()"
   ]
  },
  {
   "cell_type": "code",
   "execution_count": 101,
   "id": "1a4192b2",
   "metadata": {},
   "outputs": [
    {
     "data": {
      "text/html": [
       "<div>\n",
       "<style scoped>\n",
       "    .dataframe tbody tr th:only-of-type {\n",
       "        vertical-align: middle;\n",
       "    }\n",
       "\n",
       "    .dataframe tbody tr th {\n",
       "        vertical-align: top;\n",
       "    }\n",
       "\n",
       "    .dataframe thead th {\n",
       "        text-align: right;\n",
       "    }\n",
       "</style>\n",
       "<table border=\"1\" class=\"dataframe\">\n",
       "  <thead>\n",
       "    <tr style=\"text-align: right;\">\n",
       "      <th></th>\n",
       "      <th>year</th>\n",
       "      <th>selling_price</th>\n",
       "      <th>km_driven</th>\n",
       "      <th>AvgMileage</th>\n",
       "      <th>EngineCC</th>\n",
       "      <th>MaxPower</th>\n",
       "    </tr>\n",
       "  </thead>\n",
       "  <tbody>\n",
       "    <tr>\n",
       "      <th>year</th>\n",
       "      <td>1.000000</td>\n",
       "      <td>0.412302</td>\n",
       "      <td>-0.470755</td>\n",
       "      <td>0.332094</td>\n",
       "      <td>0.018263</td>\n",
       "      <td>0.226598</td>\n",
       "    </tr>\n",
       "    <tr>\n",
       "      <th>selling_price</th>\n",
       "      <td>0.412302</td>\n",
       "      <td>1.000000</td>\n",
       "      <td>-0.248727</td>\n",
       "      <td>-0.128715</td>\n",
       "      <td>0.455682</td>\n",
       "      <td>0.749674</td>\n",
       "    </tr>\n",
       "    <tr>\n",
       "      <th>km_driven</th>\n",
       "      <td>-0.470755</td>\n",
       "      <td>-0.248727</td>\n",
       "      <td>1.000000</td>\n",
       "      <td>-0.199078</td>\n",
       "      <td>0.234120</td>\n",
       "      <td>-0.041353</td>\n",
       "    </tr>\n",
       "    <tr>\n",
       "      <th>AvgMileage</th>\n",
       "      <td>0.332094</td>\n",
       "      <td>-0.128715</td>\n",
       "      <td>-0.199078</td>\n",
       "      <td>1.000000</td>\n",
       "      <td>-0.588120</td>\n",
       "      <td>-0.384509</td>\n",
       "    </tr>\n",
       "    <tr>\n",
       "      <th>EngineCC</th>\n",
       "      <td>0.018263</td>\n",
       "      <td>0.455682</td>\n",
       "      <td>0.234120</td>\n",
       "      <td>-0.588120</td>\n",
       "      <td>1.000000</td>\n",
       "      <td>0.703975</td>\n",
       "    </tr>\n",
       "    <tr>\n",
       "      <th>MaxPower</th>\n",
       "      <td>0.226598</td>\n",
       "      <td>0.749674</td>\n",
       "      <td>-0.041353</td>\n",
       "      <td>-0.384509</td>\n",
       "      <td>0.703975</td>\n",
       "      <td>1.000000</td>\n",
       "    </tr>\n",
       "  </tbody>\n",
       "</table>\n",
       "</div>"
      ],
      "text/plain": [
       "                   year  selling_price  km_driven  AvgMileage  EngineCC  \\\n",
       "year           1.000000       0.412302  -0.470755    0.332094  0.018263   \n",
       "selling_price  0.412302       1.000000  -0.248727   -0.128715  0.455682   \n",
       "km_driven     -0.470755      -0.248727   1.000000   -0.199078  0.234120   \n",
       "AvgMileage     0.332094      -0.128715  -0.199078    1.000000 -0.588120   \n",
       "EngineCC       0.018263       0.455682   0.234120   -0.588120  1.000000   \n",
       "MaxPower       0.226598       0.749674  -0.041353   -0.384509  0.703975   \n",
       "\n",
       "               MaxPower  \n",
       "year           0.226598  \n",
       "selling_price  0.749674  \n",
       "km_driven     -0.041353  \n",
       "AvgMileage    -0.384509  \n",
       "EngineCC       0.703975  \n",
       "MaxPower       1.000000  "
      ]
     },
     "execution_count": 101,
     "metadata": {},
     "output_type": "execute_result"
    }
   ],
   "source": [
    "SignificantFeatures"
   ]
  },
  {
   "cell_type": "code",
   "execution_count": 102,
   "id": "8ad87eaa",
   "metadata": {},
   "outputs": [
    {
     "data": {
      "text/plain": [
       "year             0.412302\n",
       "selling_price    1.000000\n",
       "km_driven       -0.248727\n",
       "AvgMileage      -0.128715\n",
       "EngineCC         0.455682\n",
       "MaxPower         0.749674\n",
       "Name: selling_price, dtype: float64"
      ]
     },
     "execution_count": 102,
     "metadata": {},
     "output_type": "execute_result"
    }
   ],
   "source": [
    "SignificantFeatures['selling_price']"
   ]
  },
  {
   "cell_type": "code",
   "execution_count": null,
   "id": "960fdf89",
   "metadata": {},
   "outputs": [],
   "source": []
  },
  {
   "cell_type": "markdown",
   "id": "63654ee7",
   "metadata": {},
   "source": [
    "# Dummy Encoding"
   ]
  },
  {
   "cell_type": "code",
   "execution_count": 103,
   "id": "bbfc1482",
   "metadata": {},
   "outputs": [],
   "source": [
    "car_final= pd.get_dummies(car2, prefix = ['Fuel', 'SellerType','Transmission', 'Owner','Seat'], \n",
    "                                columns=['fuel','seller_type','transmission', 'owner','seats'])"
   ]
  },
  {
   "cell_type": "code",
   "execution_count": 104,
   "id": "512dd6f6",
   "metadata": {},
   "outputs": [
    {
     "data": {
      "text/plain": [
       "Index(['year', 'selling_price', 'km_driven', 'AvgMileage', 'EngineCC',\n",
       "       'MaxPower', 'Fuel_CNG', 'Fuel_Diesel', 'Fuel_LPG', 'Fuel_Petrol',\n",
       "       'SellerType_Dealer', 'SellerType_Individual',\n",
       "       'SellerType_Trustmark Dealer', 'Transmission_Automatic',\n",
       "       'Transmission_Manual', 'Owner_First Owner',\n",
       "       'Owner_Fourth & Above Owner', 'Owner_Second Owner',\n",
       "       'Owner_Test Drive Car', 'Owner_Third Owner', 'Seat_high', 'Seat_middle',\n",
       "       'Seat_normal'],\n",
       "      dtype='object')"
      ]
     },
     "execution_count": 104,
     "metadata": {},
     "output_type": "execute_result"
    }
   ],
   "source": [
    "car_final.columns"
   ]
  },
  {
   "cell_type": "code",
   "execution_count": 105,
   "id": "55e9e05c",
   "metadata": {},
   "outputs": [],
   "source": [
    "car_final= car_final.set_axis(['year', 'selling_price', 'km_driven', 'AvgMileage', 'EngineCC',\n",
    "       'MaxPower', 'Fuel_CNG', 'Fuel_Diesel', 'Fuel_LPG', 'Fuel_Petrol',\n",
    "       'SellerType_Dealer', 'SellerType_Individual',\n",
    "       'SellerType_TrustmarkDealer', 'Transmission_Automatic',\n",
    "       'Transmission_Manual', 'Owner_FirstOwner',\n",
    "       'Owner_FourthAboveOwner', 'Owner_SecondOwner',\n",
    "       'Owner_TestDriveCar', 'Owner_ThirdOwner', 'Seat_high', 'Seat_middle',\n",
    "       'Seat_normal'], axis=1)"
   ]
  },
  {
   "cell_type": "code",
   "execution_count": 106,
   "id": "bcc88e27",
   "metadata": {},
   "outputs": [
    {
     "data": {
      "text/plain": [
       "Index(['year', 'selling_price', 'km_driven', 'AvgMileage', 'EngineCC',\n",
       "       'MaxPower', 'Fuel_CNG', 'Fuel_Diesel', 'Fuel_LPG', 'Fuel_Petrol',\n",
       "       'SellerType_Dealer', 'SellerType_Individual',\n",
       "       'SellerType_TrustmarkDealer', 'Transmission_Automatic',\n",
       "       'Transmission_Manual', 'Owner_FirstOwner', 'Owner_FourthAboveOwner',\n",
       "       'Owner_SecondOwner', 'Owner_TestDriveCar', 'Owner_ThirdOwner',\n",
       "       'Seat_high', 'Seat_middle', 'Seat_normal'],\n",
       "      dtype='object')"
      ]
     },
     "execution_count": 106,
     "metadata": {},
     "output_type": "execute_result"
    }
   ],
   "source": [
    "car_final.columns"
   ]
  },
  {
   "cell_type": "code",
   "execution_count": 107,
   "id": "fb45c8d9",
   "metadata": {},
   "outputs": [
    {
     "data": {
      "text/html": [
       "<div>\n",
       "<style scoped>\n",
       "    .dataframe tbody tr th:only-of-type {\n",
       "        vertical-align: middle;\n",
       "    }\n",
       "\n",
       "    .dataframe tbody tr th {\n",
       "        vertical-align: top;\n",
       "    }\n",
       "\n",
       "    .dataframe thead th {\n",
       "        text-align: right;\n",
       "    }\n",
       "</style>\n",
       "<table border=\"1\" class=\"dataframe\">\n",
       "  <thead>\n",
       "    <tr style=\"text-align: right;\">\n",
       "      <th></th>\n",
       "      <th>year</th>\n",
       "      <th>selling_price</th>\n",
       "      <th>km_driven</th>\n",
       "      <th>AvgMileage</th>\n",
       "      <th>EngineCC</th>\n",
       "      <th>MaxPower</th>\n",
       "      <th>Fuel_CNG</th>\n",
       "      <th>Fuel_Diesel</th>\n",
       "      <th>Fuel_LPG</th>\n",
       "      <th>Fuel_Petrol</th>\n",
       "      <th>...</th>\n",
       "      <th>Transmission_Automatic</th>\n",
       "      <th>Transmission_Manual</th>\n",
       "      <th>Owner_FirstOwner</th>\n",
       "      <th>Owner_FourthAboveOwner</th>\n",
       "      <th>Owner_SecondOwner</th>\n",
       "      <th>Owner_TestDriveCar</th>\n",
       "      <th>Owner_ThirdOwner</th>\n",
       "      <th>Seat_high</th>\n",
       "      <th>Seat_middle</th>\n",
       "      <th>Seat_normal</th>\n",
       "    </tr>\n",
       "  </thead>\n",
       "  <tbody>\n",
       "    <tr>\n",
       "      <th>0</th>\n",
       "      <td>2014</td>\n",
       "      <td>450000</td>\n",
       "      <td>145500.0</td>\n",
       "      <td>23.40</td>\n",
       "      <td>1248</td>\n",
       "      <td>74.000</td>\n",
       "      <td>0</td>\n",
       "      <td>1</td>\n",
       "      <td>0</td>\n",
       "      <td>0</td>\n",
       "      <td>...</td>\n",
       "      <td>0</td>\n",
       "      <td>1</td>\n",
       "      <td>1</td>\n",
       "      <td>0</td>\n",
       "      <td>0</td>\n",
       "      <td>0</td>\n",
       "      <td>0</td>\n",
       "      <td>0</td>\n",
       "      <td>0</td>\n",
       "      <td>1</td>\n",
       "    </tr>\n",
       "    <tr>\n",
       "      <th>1</th>\n",
       "      <td>2019</td>\n",
       "      <td>1149000</td>\n",
       "      <td>5000.0</td>\n",
       "      <td>17.00</td>\n",
       "      <td>1591</td>\n",
       "      <td>121.300</td>\n",
       "      <td>0</td>\n",
       "      <td>0</td>\n",
       "      <td>0</td>\n",
       "      <td>1</td>\n",
       "      <td>...</td>\n",
       "      <td>0</td>\n",
       "      <td>1</td>\n",
       "      <td>1</td>\n",
       "      <td>0</td>\n",
       "      <td>0</td>\n",
       "      <td>0</td>\n",
       "      <td>0</td>\n",
       "      <td>0</td>\n",
       "      <td>0</td>\n",
       "      <td>1</td>\n",
       "    </tr>\n",
       "    <tr>\n",
       "      <th>2</th>\n",
       "      <td>2017</td>\n",
       "      <td>600000</td>\n",
       "      <td>25000.0</td>\n",
       "      <td>18.16</td>\n",
       "      <td>1196</td>\n",
       "      <td>86.800</td>\n",
       "      <td>0</td>\n",
       "      <td>0</td>\n",
       "      <td>0</td>\n",
       "      <td>1</td>\n",
       "      <td>...</td>\n",
       "      <td>0</td>\n",
       "      <td>1</td>\n",
       "      <td>0</td>\n",
       "      <td>0</td>\n",
       "      <td>0</td>\n",
       "      <td>0</td>\n",
       "      <td>1</td>\n",
       "      <td>0</td>\n",
       "      <td>0</td>\n",
       "      <td>1</td>\n",
       "    </tr>\n",
       "    <tr>\n",
       "      <th>3</th>\n",
       "      <td>2016</td>\n",
       "      <td>540000</td>\n",
       "      <td>40000.0</td>\n",
       "      <td>22.00</td>\n",
       "      <td>1498</td>\n",
       "      <td>108.495</td>\n",
       "      <td>0</td>\n",
       "      <td>1</td>\n",
       "      <td>0</td>\n",
       "      <td>0</td>\n",
       "      <td>...</td>\n",
       "      <td>0</td>\n",
       "      <td>1</td>\n",
       "      <td>1</td>\n",
       "      <td>0</td>\n",
       "      <td>0</td>\n",
       "      <td>0</td>\n",
       "      <td>0</td>\n",
       "      <td>0</td>\n",
       "      <td>0</td>\n",
       "      <td>1</td>\n",
       "    </tr>\n",
       "    <tr>\n",
       "      <th>4</th>\n",
       "      <td>2015</td>\n",
       "      <td>630000</td>\n",
       "      <td>135000.0</td>\n",
       "      <td>25.10</td>\n",
       "      <td>1498</td>\n",
       "      <td>98.600</td>\n",
       "      <td>0</td>\n",
       "      <td>1</td>\n",
       "      <td>0</td>\n",
       "      <td>0</td>\n",
       "      <td>...</td>\n",
       "      <td>0</td>\n",
       "      <td>1</td>\n",
       "      <td>1</td>\n",
       "      <td>0</td>\n",
       "      <td>0</td>\n",
       "      <td>0</td>\n",
       "      <td>0</td>\n",
       "      <td>0</td>\n",
       "      <td>0</td>\n",
       "      <td>1</td>\n",
       "    </tr>\n",
       "  </tbody>\n",
       "</table>\n",
       "<p>5 rows × 23 columns</p>\n",
       "</div>"
      ],
      "text/plain": [
       "   year  selling_price  km_driven  AvgMileage  EngineCC  MaxPower  Fuel_CNG  \\\n",
       "0  2014         450000   145500.0       23.40      1248    74.000         0   \n",
       "1  2019        1149000     5000.0       17.00      1591   121.300         0   \n",
       "2  2017         600000    25000.0       18.16      1196    86.800         0   \n",
       "3  2016         540000    40000.0       22.00      1498   108.495         0   \n",
       "4  2015         630000   135000.0       25.10      1498    98.600         0   \n",
       "\n",
       "   Fuel_Diesel  Fuel_LPG  Fuel_Petrol  ...  Transmission_Automatic  \\\n",
       "0            1         0            0  ...                       0   \n",
       "1            0         0            1  ...                       0   \n",
       "2            0         0            1  ...                       0   \n",
       "3            1         0            0  ...                       0   \n",
       "4            1         0            0  ...                       0   \n",
       "\n",
       "   Transmission_Manual  Owner_FirstOwner  Owner_FourthAboveOwner  \\\n",
       "0                    1                 1                       0   \n",
       "1                    1                 1                       0   \n",
       "2                    1                 0                       0   \n",
       "3                    1                 1                       0   \n",
       "4                    1                 1                       0   \n",
       "\n",
       "   Owner_SecondOwner  Owner_TestDriveCar  Owner_ThirdOwner  Seat_high  \\\n",
       "0                  0                   0                 0          0   \n",
       "1                  0                   0                 0          0   \n",
       "2                  0                   0                 1          0   \n",
       "3                  0                   0                 0          0   \n",
       "4                  0                   0                 0          0   \n",
       "\n",
       "   Seat_middle  Seat_normal  \n",
       "0            0            1  \n",
       "1            0            1  \n",
       "2            0            1  \n",
       "3            0            1  \n",
       "4            0            1  \n",
       "\n",
       "[5 rows x 23 columns]"
      ]
     },
     "execution_count": 107,
     "metadata": {},
     "output_type": "execute_result"
    }
   ],
   "source": [
    "car_final.head()"
   ]
  },
  {
   "cell_type": "code",
   "execution_count": 108,
   "id": "2c9aed51",
   "metadata": {},
   "outputs": [
    {
     "data": {
      "text/plain": [
       "Index(['year', 'selling_price', 'km_driven', 'AvgMileage', 'EngineCC',\n",
       "       'MaxPower', 'Fuel_CNG', 'Fuel_Diesel', 'Fuel_LPG', 'Fuel_Petrol',\n",
       "       'SellerType_Dealer', 'SellerType_Individual',\n",
       "       'SellerType_TrustmarkDealer', 'Transmission_Automatic',\n",
       "       'Transmission_Manual', 'Owner_FirstOwner', 'Owner_FourthAboveOwner',\n",
       "       'Owner_SecondOwner', 'Owner_TestDriveCar', 'Owner_ThirdOwner',\n",
       "       'Seat_high', 'Seat_middle', 'Seat_normal'],\n",
       "      dtype='object')"
      ]
     },
     "execution_count": 108,
     "metadata": {},
     "output_type": "execute_result"
    }
   ],
   "source": [
    "car_final.columns"
   ]
  },
  {
   "cell_type": "code",
   "execution_count": 109,
   "id": "3d55b411",
   "metadata": {},
   "outputs": [],
   "source": [
    "carsml=car_final.copy()"
   ]
  },
  {
   "cell_type": "code",
   "execution_count": 110,
   "id": "40b3ff28",
   "metadata": {},
   "outputs": [],
   "source": [
    "x = car_final.drop('selling_price',axis=1)\n",
    "y = car_final['selling_price']"
   ]
  },
  {
   "cell_type": "code",
   "execution_count": 111,
   "id": "c8f8bd23",
   "metadata": {},
   "outputs": [],
   "source": [
    "from sklearn.model_selection import train_test_split\n",
    "xtrain, xtest, ytrain, ytest = train_test_split(x, y, test_size=0.3, random_state=0)"
   ]
  },
  {
   "cell_type": "code",
   "execution_count": 112,
   "id": "330ddd74",
   "metadata": {},
   "outputs": [],
   "source": [
    "from sklearn.ensemble import RandomForestRegressor"
   ]
  },
  {
   "cell_type": "code",
   "execution_count": 113,
   "id": "97ebc867",
   "metadata": {},
   "outputs": [],
   "source": [
    "regressor=RandomForestRegressor()"
   ]
  },
  {
   "cell_type": "code",
   "execution_count": 114,
   "id": "d9d46264",
   "metadata": {},
   "outputs": [
    {
     "name": "stdout",
     "output_type": "stream",
     "text": [
      "[100, 200, 300, 400, 500, 600, 700, 800, 900, 1000, 1100, 1200]\n"
     ]
    }
   ],
   "source": [
    "import numpy as np\n",
    "n_estimators = [int(x) for x in np.linspace(start = 100, stop = 1200, num = 12)]\n",
    "print(n_estimators)"
   ]
  },
  {
   "cell_type": "code",
   "execution_count": 115,
   "id": "706276a4",
   "metadata": {},
   "outputs": [],
   "source": [
    "from sklearn.model_selection import RandomizedSearchCV"
   ]
  },
  {
   "cell_type": "code",
   "execution_count": 116,
   "id": "6bed3377",
   "metadata": {},
   "outputs": [],
   "source": [
    "#Randomized Search CV\n",
    "\n",
    "# Number of trees in random forest\n",
    "n_estimators = [int(x) for x in np.linspace(start = 100, stop = 1200, num = 12)]\n",
    "# Number of features to consider at every split\n",
    "max_features = ['auto', 'sqrt']\n",
    "# Maximum number of levels in tree\n",
    "max_depth = [int(x) for x in np.linspace(5, 30, num = 6)]\n",
    "# max_depth.append(None)\n",
    "# Minimum number of samples required to split a node\n",
    "min_samples_split = [2, 5, 10, 15, 100]\n",
    "# Minimum number of samples required at each leaf node\n",
    "min_samples_leaf = [1, 2, 5, 10]"
   ]
  },
  {
   "cell_type": "code",
   "execution_count": 117,
   "id": "7c9e12a7",
   "metadata": {},
   "outputs": [
    {
     "name": "stdout",
     "output_type": "stream",
     "text": [
      "{'n_estimators': [100, 200, 300, 400, 500, 600, 700, 800, 900, 1000, 1100, 1200], 'max_features': ['auto', 'sqrt'], 'max_depth': [5, 10, 15, 20, 25, 30], 'min_samples_split': [2, 5, 10, 15, 100], 'min_samples_leaf': [1, 2, 5, 10]}\n"
     ]
    }
   ],
   "source": [
    "# Create the random grid\n",
    "random_grid = {'n_estimators': n_estimators,\n",
    "               'max_features': max_features,\n",
    "               'max_depth': max_depth,\n",
    "               'min_samples_split': min_samples_split,\n",
    "               'min_samples_leaf': min_samples_leaf}\n",
    "\n",
    "print(random_grid)"
   ]
  },
  {
   "cell_type": "code",
   "execution_count": 118,
   "id": "bc62ce7f",
   "metadata": {},
   "outputs": [],
   "source": [
    "# Use the random grid to search for best hyperparameters\n",
    "# First create the base model to tune\n",
    "rf = RandomForestRegressor()"
   ]
  },
  {
   "cell_type": "code",
   "execution_count": 119,
   "id": "25570af6",
   "metadata": {},
   "outputs": [],
   "source": [
    "# Random search of parameters, using 3 fold cross validation, \n",
    "# search across 100 different combinations\n",
    "rf_random = RandomizedSearchCV(estimator = rf, \n",
    "                               param_distributions = random_grid,\n",
    "                               scoring='neg_mean_squared_error',\n",
    "                               n_iter = 10, cv = 5, verbose=2,\n",
    "                                random_state=42, n_jobs = 1)"
   ]
  },
  {
   "cell_type": "code",
   "execution_count": 120,
   "id": "2ed0e302",
   "metadata": {},
   "outputs": [
    {
     "name": "stdout",
     "output_type": "stream",
     "text": [
      "Fitting 5 folds for each of 10 candidates, totalling 50 fits\n",
      "[CV] END max_depth=10, max_features=sqrt, min_samples_leaf=5, min_samples_split=5, n_estimators=900; total time=   2.7s\n",
      "[CV] END max_depth=10, max_features=sqrt, min_samples_leaf=5, min_samples_split=5, n_estimators=900; total time=   2.9s\n",
      "[CV] END max_depth=10, max_features=sqrt, min_samples_leaf=5, min_samples_split=5, n_estimators=900; total time=   3.3s\n",
      "[CV] END max_depth=10, max_features=sqrt, min_samples_leaf=5, min_samples_split=5, n_estimators=900; total time=   3.4s\n",
      "[CV] END max_depth=10, max_features=sqrt, min_samples_leaf=5, min_samples_split=5, n_estimators=900; total time=   2.8s\n",
      "[CV] END max_depth=15, max_features=sqrt, min_samples_leaf=2, min_samples_split=10, n_estimators=1100; total time=   3.7s\n",
      "[CV] END max_depth=15, max_features=sqrt, min_samples_leaf=2, min_samples_split=10, n_estimators=1100; total time=   3.6s\n",
      "[CV] END max_depth=15, max_features=sqrt, min_samples_leaf=2, min_samples_split=10, n_estimators=1100; total time=   3.8s\n",
      "[CV] END max_depth=15, max_features=sqrt, min_samples_leaf=2, min_samples_split=10, n_estimators=1100; total time=   3.5s\n",
      "[CV] END max_depth=15, max_features=sqrt, min_samples_leaf=2, min_samples_split=10, n_estimators=1100; total time=   3.5s\n",
      "[CV] END max_depth=15, max_features=auto, min_samples_leaf=5, min_samples_split=100, n_estimators=300; total time=   2.1s\n",
      "[CV] END max_depth=15, max_features=auto, min_samples_leaf=5, min_samples_split=100, n_estimators=300; total time=   2.1s\n",
      "[CV] END max_depth=15, max_features=auto, min_samples_leaf=5, min_samples_split=100, n_estimators=300; total time=   2.0s\n",
      "[CV] END max_depth=15, max_features=auto, min_samples_leaf=5, min_samples_split=100, n_estimators=300; total time=   2.0s\n",
      "[CV] END max_depth=15, max_features=auto, min_samples_leaf=5, min_samples_split=100, n_estimators=300; total time=   2.0s\n",
      "[CV] END max_depth=15, max_features=auto, min_samples_leaf=5, min_samples_split=5, n_estimators=400; total time=   3.9s\n",
      "[CV] END max_depth=15, max_features=auto, min_samples_leaf=5, min_samples_split=5, n_estimators=400; total time=   3.9s\n",
      "[CV] END max_depth=15, max_features=auto, min_samples_leaf=5, min_samples_split=5, n_estimators=400; total time=   3.8s\n",
      "[CV] END max_depth=15, max_features=auto, min_samples_leaf=5, min_samples_split=5, n_estimators=400; total time=   4.1s\n",
      "[CV] END max_depth=15, max_features=auto, min_samples_leaf=5, min_samples_split=5, n_estimators=400; total time=   4.0s\n",
      "[CV] END max_depth=20, max_features=auto, min_samples_leaf=10, min_samples_split=5, n_estimators=700; total time=   6.6s\n",
      "[CV] END max_depth=20, max_features=auto, min_samples_leaf=10, min_samples_split=5, n_estimators=700; total time=   6.6s\n",
      "[CV] END max_depth=20, max_features=auto, min_samples_leaf=10, min_samples_split=5, n_estimators=700; total time=   6.1s\n",
      "[CV] END max_depth=20, max_features=auto, min_samples_leaf=10, min_samples_split=5, n_estimators=700; total time=   6.4s\n",
      "[CV] END max_depth=20, max_features=auto, min_samples_leaf=10, min_samples_split=5, n_estimators=700; total time=   6.9s\n",
      "[CV] END max_depth=25, max_features=sqrt, min_samples_leaf=1, min_samples_split=2, n_estimators=1000; total time=   6.4s\n",
      "[CV] END max_depth=25, max_features=sqrt, min_samples_leaf=1, min_samples_split=2, n_estimators=1000; total time=   5.8s\n",
      "[CV] END max_depth=25, max_features=sqrt, min_samples_leaf=1, min_samples_split=2, n_estimators=1000; total time=   5.5s\n",
      "[CV] END max_depth=25, max_features=sqrt, min_samples_leaf=1, min_samples_split=2, n_estimators=1000; total time=   5.6s\n",
      "[CV] END max_depth=25, max_features=sqrt, min_samples_leaf=1, min_samples_split=2, n_estimators=1000; total time=   5.7s\n",
      "[CV] END max_depth=5, max_features=sqrt, min_samples_leaf=10, min_samples_split=15, n_estimators=1100; total time=   2.2s\n",
      "[CV] END max_depth=5, max_features=sqrt, min_samples_leaf=10, min_samples_split=15, n_estimators=1100; total time=   2.2s\n",
      "[CV] END max_depth=5, max_features=sqrt, min_samples_leaf=10, min_samples_split=15, n_estimators=1100; total time=   2.1s\n",
      "[CV] END max_depth=5, max_features=sqrt, min_samples_leaf=10, min_samples_split=15, n_estimators=1100; total time=   2.1s\n",
      "[CV] END max_depth=5, max_features=sqrt, min_samples_leaf=10, min_samples_split=15, n_estimators=1100; total time=   2.2s\n",
      "[CV] END max_depth=15, max_features=sqrt, min_samples_leaf=1, min_samples_split=15, n_estimators=300; total time=   0.9s\n",
      "[CV] END max_depth=15, max_features=sqrt, min_samples_leaf=1, min_samples_split=15, n_estimators=300; total time=   0.9s\n",
      "[CV] END max_depth=15, max_features=sqrt, min_samples_leaf=1, min_samples_split=15, n_estimators=300; total time=   1.0s\n",
      "[CV] END max_depth=15, max_features=sqrt, min_samples_leaf=1, min_samples_split=15, n_estimators=300; total time=   1.0s\n",
      "[CV] END max_depth=15, max_features=sqrt, min_samples_leaf=1, min_samples_split=15, n_estimators=300; total time=   1.0s\n",
      "[CV] END max_depth=5, max_features=sqrt, min_samples_leaf=2, min_samples_split=10, n_estimators=700; total time=   1.6s\n",
      "[CV] END max_depth=5, max_features=sqrt, min_samples_leaf=2, min_samples_split=10, n_estimators=700; total time=   1.6s\n",
      "[CV] END max_depth=5, max_features=sqrt, min_samples_leaf=2, min_samples_split=10, n_estimators=700; total time=   1.5s\n",
      "[CV] END max_depth=5, max_features=sqrt, min_samples_leaf=2, min_samples_split=10, n_estimators=700; total time=   1.4s\n",
      "[CV] END max_depth=5, max_features=sqrt, min_samples_leaf=2, min_samples_split=10, n_estimators=700; total time=   1.5s\n",
      "[CV] END max_depth=20, max_features=auto, min_samples_leaf=1, min_samples_split=15, n_estimators=700; total time=   7.6s\n",
      "[CV] END max_depth=20, max_features=auto, min_samples_leaf=1, min_samples_split=15, n_estimators=700; total time=   7.8s\n",
      "[CV] END max_depth=20, max_features=auto, min_samples_leaf=1, min_samples_split=15, n_estimators=700; total time=   7.2s\n",
      "[CV] END max_depth=20, max_features=auto, min_samples_leaf=1, min_samples_split=15, n_estimators=700; total time=   7.9s\n",
      "[CV] END max_depth=20, max_features=auto, min_samples_leaf=1, min_samples_split=15, n_estimators=700; total time=   7.3s\n"
     ]
    },
    {
     "data": {
      "text/plain": [
       "RandomizedSearchCV(cv=5, estimator=RandomForestRegressor(), n_jobs=1,\n",
       "                   param_distributions={'max_depth': [5, 10, 15, 20, 25, 30],\n",
       "                                        'max_features': ['auto', 'sqrt'],\n",
       "                                        'min_samples_leaf': [1, 2, 5, 10],\n",
       "                                        'min_samples_split': [2, 5, 10, 15,\n",
       "                                                              100],\n",
       "                                        'n_estimators': [100, 200, 300, 400,\n",
       "                                                         500, 600, 700, 800,\n",
       "                                                         900, 1000, 1100,\n",
       "                                                         1200]},\n",
       "                   random_state=42, scoring='neg_mean_squared_error',\n",
       "                   verbose=2)"
      ]
     },
     "execution_count": 120,
     "metadata": {},
     "output_type": "execute_result"
    }
   ],
   "source": [
    "rf_random.fit(xtrain,ytrain)"
   ]
  },
  {
   "cell_type": "code",
   "execution_count": 121,
   "id": "321c689f",
   "metadata": {},
   "outputs": [
    {
     "data": {
      "text/plain": [
       "{'n_estimators': 700,\n",
       " 'min_samples_split': 15,\n",
       " 'min_samples_leaf': 1,\n",
       " 'max_features': 'auto',\n",
       " 'max_depth': 20}"
      ]
     },
     "execution_count": 121,
     "metadata": {},
     "output_type": "execute_result"
    }
   ],
   "source": [
    "rf_random.best_params_"
   ]
  },
  {
   "cell_type": "code",
   "execution_count": 122,
   "id": "5c084c93",
   "metadata": {},
   "outputs": [
    {
     "data": {
      "text/plain": [
       "-31469295861.92049"
      ]
     },
     "execution_count": 122,
     "metadata": {},
     "output_type": "execute_result"
    }
   ],
   "source": [
    "rf_random.best_score_"
   ]
  },
  {
   "cell_type": "code",
   "execution_count": 123,
   "id": "8503dd2e",
   "metadata": {},
   "outputs": [],
   "source": [
    "predictions=rf_random.predict(xtest)"
   ]
  },
  {
   "cell_type": "code",
   "execution_count": 124,
   "id": "a772be19",
   "metadata": {},
   "outputs": [
    {
     "name": "stderr",
     "output_type": "stream",
     "text": [
      "C:\\Users\\psarana\\Anaconda3\\lib\\site-packages\\seaborn\\distributions.py:2557: FutureWarning: `distplot` is a deprecated function and will be removed in a future version. Please adapt your code to use either `displot` (a figure-level function with similar flexibility) or `histplot` (an axes-level function for histograms).\n",
      "  warnings.warn(msg, FutureWarning)\n"
     ]
    },
    {
     "data": {
      "text/plain": [
       "<AxesSubplot:xlabel='selling_price', ylabel='Density'>"
      ]
     },
     "execution_count": 124,
     "metadata": {},
     "output_type": "execute_result"
    },
    {
     "data": {
      "image/png": "[encoded data removed]",
      "text/plain": [
       "<Figure size 864x576 with 1 Axes>"
      ]
     },
     "metadata": {},
     "output_type": "display_data"
    }
   ],
   "source": [
    "sns.distplot(ytest-predictions)"
   ]
  },
  {
   "cell_type": "code",
   "execution_count": 125,
   "id": "aa462506",
   "metadata": {},
   "outputs": [
    {
     "data": {
      "text/plain": [
       "<matplotlib.collections.PathCollection at 0x112ca3c0c40>"
      ]
     },
     "execution_count": 125,
     "metadata": {},
     "output_type": "execute_result"
    },
    {
     "data": {
      "image/png": "[encoded data removed]",
      "text/plain": [
       "<Figure size 864x576 with 1 Axes>"
      ]
     },
     "metadata": {},
     "output_type": "display_data"
    }
   ],
   "source": [
    "plt.scatter(ytest,predictions)"
   ]
  },
  {
   "cell_type": "code",
   "execution_count": 126,
   "id": "d793087e",
   "metadata": {},
   "outputs": [],
   "source": [
    "from sklearn import metrics "
   ]
  },
  {
   "cell_type": "code",
   "execution_count": 127,
   "id": "1b96695e",
   "metadata": {},
   "outputs": [
    {
     "name": "stdout",
     "output_type": "stream",
     "text": [
      "MAE: 72313.54095029118\n",
      "MSE: 17275442354.507843\n",
      "RMSE: 131436.07706603178\n"
     ]
    }
   ],
   "source": [
    "print('MAE:', metrics.mean_absolute_error(ytest, predictions))\n",
    "print('MSE:', metrics.mean_squared_error(ytest, predictions))\n",
    "print('RMSE:', np.sqrt(metrics.mean_squared_error(ytest, predictions)))"
   ]
  },
  {
   "cell_type": "code",
   "execution_count": 128,
   "id": "fae19d5e",
   "metadata": {},
   "outputs": [
    {
     "data": {
      "text/plain": [
       "0.971557939886393"
      ]
     },
     "execution_count": 128,
     "metadata": {},
     "output_type": "execute_result"
    }
   ],
   "source": [
    "from sklearn.metrics import r2_score\n",
    "r2_score(ytest,predictions)"
   ]
  },
  {
   "cell_type": "code",
   "execution_count": 129,
   "id": "2dcd914e",
   "metadata": {},
   "outputs": [],
   "source": [
    "import pickle\n",
    "# open a file, where you ant to store the data\n",
    "file = open('random_forest_regression_model.pkl', 'wb')\n",
    "\n",
    "# dump information to that file\n",
    "pickle.dump(rf_random, file)"
   ]
  },
  {
   "cell_type": "code",
   "execution_count": null,
   "id": "f0fe305c",
   "metadata": {},
   "outputs": [],
   "source": []
  }
 ],
 "metadata": {
  "kernelspec": {
   "display_name": "Python 3",
   "language": "python",
   "name": "python3"
  },
  "language_info": {
   "codemirror_mode": {
    "name": "ipython",
    "version": 3
   },
   "file_extension": ".py",
   "mimetype": "text/x-python",
   "name": "python",
   "nbconvert_exporter": "python",
   "pygments_lexer": "ipython3",
   "version": "3.8.8"
  }
 },
 "nbformat": 4,
 "nbformat_minor": 5
}
