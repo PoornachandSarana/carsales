{
 "cells": [
  {
   "cell_type": "code",
   "execution_count": 1,
   "id": "cb4d1b5e",
   "metadata": {},
   "outputs": [],
   "source": [
    "import pandas as pd\n",
    "import numpy as np\n",
    "import matplotlib.pyplot as plt\n",
    "import seaborn as sns\n",
    "%matplotlib inline"
   ]
  },
  {
   "cell_type": "code",
   "execution_count": 2,
   "id": "afd874e4",
   "metadata": {},
   "outputs": [],
   "source": [
    "car_data = pd.read_csv('Car_sales_details_p3.csv',na_values=['Missing','n/a','N/A','NA',\"\"])\n",
    "sales_reg = pd.read_csv('State_region_mapping_p3.csv',na_values=['Missing','n/a','N/A','NA',\"\"])\n",
    "status = pd.read_csv('sales_Status_p3.csv',na_values=['Missing','n/a','N/A','NA',\"\"])"
   ]
  },
  {
   "cell_type": "code",
   "execution_count": 3,
   "id": "259a1a01",
   "metadata": {},
   "outputs": [],
   "source": [
    "merger1=pd.merge(car_data,status,on='Sales_ID',how='inner')\n",
    "car_dataset = pd.merge(merger1,sales_reg,on='State or Province',how='inner')"
   ]
  },
  {
   "cell_type": "code",
   "execution_count": 4,
   "id": "304b994d",
   "metadata": {},
   "outputs": [],
   "source": [
    "car_dataset.rename(columns={'State or Province':'state_or_province'},inplace=True)"
   ]
  },
  {
   "cell_type": "code",
   "execution_count": 5,
   "id": "14dcb0a7",
   "metadata": {},
   "outputs": [],
   "source": [
    "car =car_dataset.copy()"
   ]
  },
  {
   "cell_type": "markdown",
   "id": "78adf3e4",
   "metadata": {},
   "source": [
    "# EDA"
   ]
  },
  {
   "cell_type": "code",
   "execution_count": 6,
   "id": "1ec32b85",
   "metadata": {},
   "outputs": [
    {
     "data": {
      "text/plain": [
       "count    7.906000e+03\n",
       "mean     6.918866e+04\n",
       "std      5.679230e+04\n",
       "min      1.000000e+00\n",
       "25%      3.500000e+04\n",
       "50%      6.000000e+04\n",
       "75%      9.542500e+04\n",
       "max      2.360457e+06\n",
       "Name: km_driven, dtype: float64"
      ]
     },
     "execution_count": 6,
     "metadata": {},
     "output_type": "execute_result"
    }
   ],
   "source": [
    "car['km_driven'].describe()"
   ]
  },
  {
   "cell_type": "code",
   "execution_count": 7,
   "id": "b6004c02",
   "metadata": {},
   "outputs": [
    {
     "data": {
      "image/png": "[encoded data removed]",
      "text/plain": [
       "<Figure size 432x288 with 1 Axes>"
      ]
     },
     "metadata": {
      "needs_background": "light"
     },
     "output_type": "display_data"
    }
   ],
   "source": [
    "car.boxplot(column='km_driven')\n",
    "plt.show()"
   ]
  },
  {
   "cell_type": "code",
   "execution_count": 8,
   "id": "75456ee7",
   "metadata": {},
   "outputs": [
    {
     "data": {
      "text/plain": [
       "0.00        1.0\n",
       "0.01     4000.0\n",
       "0.02     5000.0\n",
       "0.03     6550.0\n",
       "0.04     7500.0\n",
       "0.05     9000.0\n",
       "0.06    10000.0\n",
       "0.07    10000.0\n",
       "0.08    13000.0\n",
       "0.09    15000.0\n",
       "Name: km_driven, dtype: float64"
      ]
     },
     "execution_count": 8,
     "metadata": {},
     "output_type": "execute_result"
    }
   ],
   "source": [
    "car['km_driven'].quantile(np.arange(0.0,0.1,0.01))"
   ]
  },
  {
   "cell_type": "code",
   "execution_count": 9,
   "id": "82999dfe",
   "metadata": {},
   "outputs": [],
   "source": [
    "q=car['km_driven'].quantile(0.0)"
   ]
  },
  {
   "cell_type": "code",
   "execution_count": 10,
   "id": "450f4f94",
   "metadata": {},
   "outputs": [
    {
     "data": {
      "text/html": [
       "<div>\n",
       "<style scoped>\n",
       "    .dataframe tbody tr th:only-of-type {\n",
       "        vertical-align: middle;\n",
       "    }\n",
       "\n",
       "    .dataframe tbody tr th {\n",
       "        vertical-align: top;\n",
       "    }\n",
       "\n",
       "    .dataframe thead th {\n",
       "        text-align: right;\n",
       "    }\n",
       "</style>\n",
       "<table border=\"1\" class=\"dataframe\">\n",
       "  <thead>\n",
       "    <tr style=\"text-align: right;\">\n",
       "      <th></th>\n",
       "      <th>Sales_ID</th>\n",
       "      <th>name</th>\n",
       "      <th>year</th>\n",
       "      <th>selling_price</th>\n",
       "      <th>km_driven</th>\n",
       "      <th>state_or_province</th>\n",
       "      <th>City</th>\n",
       "      <th>fuel</th>\n",
       "      <th>seller_type</th>\n",
       "      <th>transmission</th>\n",
       "      <th>owner</th>\n",
       "      <th>mileage</th>\n",
       "      <th>engine</th>\n",
       "      <th>max_power</th>\n",
       "      <th>seats</th>\n",
       "      <th>sold</th>\n",
       "      <th>Region</th>\n",
       "    </tr>\n",
       "  </thead>\n",
       "  <tbody>\n",
       "    <tr>\n",
       "      <th>7434</th>\n",
       "      <td>7914</td>\n",
       "      <td>Maruti Eeco 5 STR With AC Plus HTR CNG</td>\n",
       "      <td>2011</td>\n",
       "      <td>209000</td>\n",
       "      <td>1</td>\n",
       "      <td>Indiana</td>\n",
       "      <td>Indianapolis</td>\n",
       "      <td>CNG</td>\n",
       "      <td>Individual</td>\n",
       "      <td>Manual</td>\n",
       "      <td>Fourth &amp; Above Owner</td>\n",
       "      <td>15.1 km/kg</td>\n",
       "      <td>1196 CC</td>\n",
       "      <td>73 bhp</td>\n",
       "      <td>5</td>\n",
       "      <td>N</td>\n",
       "      <td>Central</td>\n",
       "    </tr>\n",
       "  </tbody>\n",
       "</table>\n",
       "</div>"
      ],
      "text/plain": [
       "      Sales_ID                                    name  year  selling_price  \\\n",
       "7434      7914  Maruti Eeco 5 STR With AC Plus HTR CNG  2011         209000   \n",
       "\n",
       "      km_driven state_or_province          City fuel seller_type transmission  \\\n",
       "7434          1           Indiana  Indianapolis  CNG  Individual       Manual   \n",
       "\n",
       "                     owner     mileage   engine max_power  seats sold   Region  \n",
       "7434  Fourth & Above Owner  15.1 km/kg  1196 CC    73 bhp      5    N  Central  "
      ]
     },
     "execution_count": 10,
     "metadata": {},
     "output_type": "execute_result"
    }
   ],
   "source": [
    "car[car.km_driven<=q]"
   ]
  },
  {
   "cell_type": "code",
   "execution_count": 11,
   "id": "41d6d666",
   "metadata": {},
   "outputs": [],
   "source": [
    "car.loc[(car[\"km_driven\"]<=q), 'km_driven'] = car['km_driven'].mean()"
   ]
  },
  {
   "cell_type": "code",
   "execution_count": 12,
   "id": "e31e806c",
   "metadata": {},
   "outputs": [
    {
     "data": {
      "text/plain": [
       "count    7.906000e+03\n",
       "mean     6.919741e+04\n",
       "std      5.678696e+04\n",
       "min      1.000000e+03\n",
       "25%      3.500000e+04\n",
       "50%      6.000000e+04\n",
       "75%      9.542500e+04\n",
       "max      2.360457e+06\n",
       "Name: km_driven, dtype: float64"
      ]
     },
     "execution_count": 12,
     "metadata": {},
     "output_type": "execute_result"
    }
   ],
   "source": [
    "car['km_driven'].describe()"
   ]
  },
  {
   "cell_type": "code",
   "execution_count": 13,
   "id": "b6284bd2",
   "metadata": {},
   "outputs": [
    {
     "data": {
      "text/plain": [
       "0.80    103000.0\n",
       "0.81    110000.0\n",
       "0.82    110000.0\n",
       "0.83    110000.0\n",
       "0.84    110000.0\n",
       "0.85    116550.0\n",
       "0.86    120000.0\n",
       "0.87    120000.0\n",
       "0.88    120000.0\n",
       "0.89    120000.0\n",
       "0.90    120000.0\n",
       "0.91    120000.0\n",
       "0.92    125000.0\n",
       "0.93    135000.0\n",
       "0.94    140000.0\n",
       "0.95    150000.0\n",
       "0.96    160000.0\n",
       "0.97    175000.0\n",
       "0.98    196800.0\n",
       "0.99    225000.0\n",
       "Name: km_driven, dtype: float64"
      ]
     },
     "execution_count": 13,
     "metadata": {},
     "output_type": "execute_result"
    }
   ],
   "source": [
    "car['km_driven'].quantile(np.arange(0.8,1,0.01))"
   ]
  },
  {
   "cell_type": "code",
   "execution_count": 14,
   "id": "b46e7bc5",
   "metadata": {},
   "outputs": [
    {
     "data": {
      "text/html": [
       "<div>\n",
       "<style scoped>\n",
       "    .dataframe tbody tr th:only-of-type {\n",
       "        vertical-align: middle;\n",
       "    }\n",
       "\n",
       "    .dataframe tbody tr th {\n",
       "        vertical-align: top;\n",
       "    }\n",
       "\n",
       "    .dataframe thead th {\n",
       "        text-align: right;\n",
       "    }\n",
       "</style>\n",
       "<table border=\"1\" class=\"dataframe\">\n",
       "  <thead>\n",
       "    <tr style=\"text-align: right;\">\n",
       "      <th></th>\n",
       "      <th>Sales_ID</th>\n",
       "      <th>name</th>\n",
       "      <th>year</th>\n",
       "      <th>selling_price</th>\n",
       "      <th>km_driven</th>\n",
       "      <th>state_or_province</th>\n",
       "      <th>City</th>\n",
       "      <th>fuel</th>\n",
       "      <th>seller_type</th>\n",
       "      <th>transmission</th>\n",
       "      <th>owner</th>\n",
       "      <th>mileage</th>\n",
       "      <th>engine</th>\n",
       "      <th>max_power</th>\n",
       "      <th>seats</th>\n",
       "      <th>sold</th>\n",
       "      <th>Region</th>\n",
       "    </tr>\n",
       "  </thead>\n",
       "  <tbody>\n",
       "    <tr>\n",
       "      <th>132</th>\n",
       "      <td>402</td>\n",
       "      <td>Tata Indigo LS</td>\n",
       "      <td>2012</td>\n",
       "      <td>95000</td>\n",
       "      <td>265000.0</td>\n",
       "      <td>New York</td>\n",
       "      <td>New York City</td>\n",
       "      <td>Diesel</td>\n",
       "      <td>Individual</td>\n",
       "      <td>Manual</td>\n",
       "      <td>Second Owner</td>\n",
       "      <td>17.0 kmpl</td>\n",
       "      <td>1405 CC</td>\n",
       "      <td>70 bhp</td>\n",
       "      <td>5</td>\n",
       "      <td>Y</td>\n",
       "      <td>East</td>\n",
       "    </tr>\n",
       "    <tr>\n",
       "      <th>280</th>\n",
       "      <td>1238</td>\n",
       "      <td>Mahindra Xylo D4 BSIII</td>\n",
       "      <td>2013</td>\n",
       "      <td>200000</td>\n",
       "      <td>300000.0</td>\n",
       "      <td>New York</td>\n",
       "      <td>Troy</td>\n",
       "      <td>Diesel</td>\n",
       "      <td>Individual</td>\n",
       "      <td>Manual</td>\n",
       "      <td>First Owner</td>\n",
       "      <td>14.0 kmpl</td>\n",
       "      <td>2498 CC</td>\n",
       "      <td>112 bhp</td>\n",
       "      <td>8</td>\n",
       "      <td>Y</td>\n",
       "      <td>East</td>\n",
       "    </tr>\n",
       "    <tr>\n",
       "      <th>448</th>\n",
       "      <td>5213</td>\n",
       "      <td>Ford Figo Diesel Celebration Edition</td>\n",
       "      <td>2013</td>\n",
       "      <td>229999</td>\n",
       "      <td>230000.0</td>\n",
       "      <td>New York</td>\n",
       "      <td>Watertown</td>\n",
       "      <td>Diesel</td>\n",
       "      <td>Individual</td>\n",
       "      <td>Manual</td>\n",
       "      <td>First Owner</td>\n",
       "      <td>20.0 kmpl</td>\n",
       "      <td>1399 CC</td>\n",
       "      <td>68.1 bhp</td>\n",
       "      <td>5</td>\n",
       "      <td>N</td>\n",
       "      <td>East</td>\n",
       "    </tr>\n",
       "    <tr>\n",
       "      <th>495</th>\n",
       "      <td>5872</td>\n",
       "      <td>Mahindra Scorpio LX</td>\n",
       "      <td>2012</td>\n",
       "      <td>450000</td>\n",
       "      <td>370000.0</td>\n",
       "      <td>New York</td>\n",
       "      <td>Plainview</td>\n",
       "      <td>Diesel</td>\n",
       "      <td>Individual</td>\n",
       "      <td>Manual</td>\n",
       "      <td>First Owner</td>\n",
       "      <td>12.05 kmpl</td>\n",
       "      <td>2179 CC</td>\n",
       "      <td>120 bhp</td>\n",
       "      <td>9</td>\n",
       "      <td>N</td>\n",
       "      <td>East</td>\n",
       "    </tr>\n",
       "    <tr>\n",
       "      <th>682</th>\n",
       "      <td>1811</td>\n",
       "      <td>Mahindra XUV500 W6 2WD</td>\n",
       "      <td>2012</td>\n",
       "      <td>500000</td>\n",
       "      <td>1500000.0</td>\n",
       "      <td>Illinois</td>\n",
       "      <td>West Chicago</td>\n",
       "      <td>Diesel</td>\n",
       "      <td>Individual</td>\n",
       "      <td>Manual</td>\n",
       "      <td>First Owner</td>\n",
       "      <td>15.1 kmpl</td>\n",
       "      <td>2179 CC</td>\n",
       "      <td>140 bhp</td>\n",
       "      <td>7</td>\n",
       "      <td>Y</td>\n",
       "      <td>Central</td>\n",
       "    </tr>\n",
       "    <tr>\n",
       "      <th>...</th>\n",
       "      <td>...</td>\n",
       "      <td>...</td>\n",
       "      <td>...</td>\n",
       "      <td>...</td>\n",
       "      <td>...</td>\n",
       "      <td>...</td>\n",
       "      <td>...</td>\n",
       "      <td>...</td>\n",
       "      <td>...</td>\n",
       "      <td>...</td>\n",
       "      <td>...</td>\n",
       "      <td>...</td>\n",
       "      <td>...</td>\n",
       "      <td>...</td>\n",
       "      <td>...</td>\n",
       "      <td>...</td>\n",
       "      <td>...</td>\n",
       "    </tr>\n",
       "    <tr>\n",
       "      <th>7638</th>\n",
       "      <td>2095</td>\n",
       "      <td>Mahindra Xylo D2</td>\n",
       "      <td>2010</td>\n",
       "      <td>160000</td>\n",
       "      <td>255000.0</td>\n",
       "      <td>North Dakota</td>\n",
       "      <td>Dickinson</td>\n",
       "      <td>Diesel</td>\n",
       "      <td>Individual</td>\n",
       "      <td>Manual</td>\n",
       "      <td>Second Owner</td>\n",
       "      <td>13.0 kmpl</td>\n",
       "      <td>2489 CC</td>\n",
       "      <td>95 bhp</td>\n",
       "      <td>8</td>\n",
       "      <td>N</td>\n",
       "      <td>Central</td>\n",
       "    </tr>\n",
       "    <tr>\n",
       "      <th>7754</th>\n",
       "      <td>2580</td>\n",
       "      <td>Maruti Wagon R Duo Lxi</td>\n",
       "      <td>2011</td>\n",
       "      <td>300000</td>\n",
       "      <td>300000.0</td>\n",
       "      <td>Wyoming</td>\n",
       "      <td>Rock Springs</td>\n",
       "      <td>LPG</td>\n",
       "      <td>Individual</td>\n",
       "      <td>Manual</td>\n",
       "      <td>First Owner</td>\n",
       "      <td>26.2 km/kg</td>\n",
       "      <td>998 CC</td>\n",
       "      <td>58.2 bhp</td>\n",
       "      <td>5</td>\n",
       "      <td>N</td>\n",
       "      <td>West</td>\n",
       "    </tr>\n",
       "    <tr>\n",
       "      <th>7755</th>\n",
       "      <td>2585</td>\n",
       "      <td>Hyundai Verna 1.4 CRDi</td>\n",
       "      <td>2015</td>\n",
       "      <td>525000</td>\n",
       "      <td>248000.0</td>\n",
       "      <td>Wyoming</td>\n",
       "      <td>Rock Springs</td>\n",
       "      <td>Diesel</td>\n",
       "      <td>Individual</td>\n",
       "      <td>Manual</td>\n",
       "      <td>First Owner</td>\n",
       "      <td>24.8 kmpl</td>\n",
       "      <td>1396 CC</td>\n",
       "      <td>88.7 bhp</td>\n",
       "      <td>5</td>\n",
       "      <td>N</td>\n",
       "      <td>West</td>\n",
       "    </tr>\n",
       "    <tr>\n",
       "      <th>7804</th>\n",
       "      <td>7970</td>\n",
       "      <td>Toyota Innova 2.5 G (Diesel) 7 Seater</td>\n",
       "      <td>2012</td>\n",
       "      <td>730000</td>\n",
       "      <td>250000.0</td>\n",
       "      <td>Nevada</td>\n",
       "      <td>Reno</td>\n",
       "      <td>Diesel</td>\n",
       "      <td>Individual</td>\n",
       "      <td>Manual</td>\n",
       "      <td>First Owner</td>\n",
       "      <td>12.99 kmpl</td>\n",
       "      <td>2494 CC</td>\n",
       "      <td>100 bhp</td>\n",
       "      <td>7</td>\n",
       "      <td>N</td>\n",
       "      <td>West</td>\n",
       "    </tr>\n",
       "    <tr>\n",
       "      <th>7822</th>\n",
       "      <td>3487</td>\n",
       "      <td>Hyundai i20 Asta 1.2</td>\n",
       "      <td>2007</td>\n",
       "      <td>550000</td>\n",
       "      <td>2360457.0</td>\n",
       "      <td>Mississippi</td>\n",
       "      <td>Clinton</td>\n",
       "      <td>Petrol</td>\n",
       "      <td>Individual</td>\n",
       "      <td>Manual</td>\n",
       "      <td>Second Owner</td>\n",
       "      <td>18.6 kmpl</td>\n",
       "      <td>1197 CC</td>\n",
       "      <td>81.83 bhp</td>\n",
       "      <td>5</td>\n",
       "      <td>N</td>\n",
       "      <td>South</td>\n",
       "    </tr>\n",
       "  </tbody>\n",
       "</table>\n",
       "<p>78 rows × 17 columns</p>\n",
       "</div>"
      ],
      "text/plain": [
       "      Sales_ID                                   name  year  selling_price  \\\n",
       "132        402                         Tata Indigo LS  2012          95000   \n",
       "280       1238                 Mahindra Xylo D4 BSIII  2013         200000   \n",
       "448       5213   Ford Figo Diesel Celebration Edition  2013         229999   \n",
       "495       5872                    Mahindra Scorpio LX  2012         450000   \n",
       "682       1811                 Mahindra XUV500 W6 2WD  2012         500000   \n",
       "...        ...                                    ...   ...            ...   \n",
       "7638      2095                       Mahindra Xylo D2  2010         160000   \n",
       "7754      2580                 Maruti Wagon R Duo Lxi  2011         300000   \n",
       "7755      2585                 Hyundai Verna 1.4 CRDi  2015         525000   \n",
       "7804      7970  Toyota Innova 2.5 G (Diesel) 7 Seater  2012         730000   \n",
       "7822      3487                   Hyundai i20 Asta 1.2  2007         550000   \n",
       "\n",
       "      km_driven state_or_province           City    fuel seller_type  \\\n",
       "132    265000.0          New York  New York City  Diesel  Individual   \n",
       "280    300000.0          New York           Troy  Diesel  Individual   \n",
       "448    230000.0          New York      Watertown  Diesel  Individual   \n",
       "495    370000.0          New York      Plainview  Diesel  Individual   \n",
       "682   1500000.0          Illinois   West Chicago  Diesel  Individual   \n",
       "...         ...               ...            ...     ...         ...   \n",
       "7638   255000.0      North Dakota      Dickinson  Diesel  Individual   \n",
       "7754   300000.0           Wyoming   Rock Springs     LPG  Individual   \n",
       "7755   248000.0           Wyoming   Rock Springs  Diesel  Individual   \n",
       "7804   250000.0            Nevada           Reno  Diesel  Individual   \n",
       "7822  2360457.0       Mississippi        Clinton  Petrol  Individual   \n",
       "\n",
       "     transmission         owner     mileage   engine  max_power  seats sold  \\\n",
       "132        Manual  Second Owner   17.0 kmpl  1405 CC     70 bhp      5    Y   \n",
       "280        Manual   First Owner   14.0 kmpl  2498 CC    112 bhp      8    Y   \n",
       "448        Manual   First Owner   20.0 kmpl  1399 CC   68.1 bhp      5    N   \n",
       "495        Manual   First Owner  12.05 kmpl  2179 CC    120 bhp      9    N   \n",
       "682        Manual   First Owner   15.1 kmpl  2179 CC    140 bhp      7    Y   \n",
       "...           ...           ...         ...      ...        ...    ...  ...   \n",
       "7638       Manual  Second Owner   13.0 kmpl  2489 CC     95 bhp      8    N   \n",
       "7754       Manual   First Owner  26.2 km/kg   998 CC   58.2 bhp      5    N   \n",
       "7755       Manual   First Owner   24.8 kmpl  1396 CC   88.7 bhp      5    N   \n",
       "7804       Manual   First Owner  12.99 kmpl  2494 CC    100 bhp      7    N   \n",
       "7822       Manual  Second Owner   18.6 kmpl  1197 CC  81.83 bhp      5    N   \n",
       "\n",
       "       Region  \n",
       "132      East  \n",
       "280      East  \n",
       "448      East  \n",
       "495      East  \n",
       "682   Central  \n",
       "...       ...  \n",
       "7638  Central  \n",
       "7754     West  \n",
       "7755     West  \n",
       "7804     West  \n",
       "7822    South  \n",
       "\n",
       "[78 rows x 17 columns]"
      ]
     },
     "execution_count": 14,
     "metadata": {},
     "output_type": "execute_result"
    }
   ],
   "source": [
    "q1=car['km_driven'].quantile(0.99)\n",
    "car[car.km_driven>q1]"
   ]
  },
  {
   "cell_type": "markdown",
   "id": "d44dff8f",
   "metadata": {},
   "source": [
    "We see that some values were too high we need to check them"
   ]
  },
  {
   "cell_type": "code",
   "execution_count": 15,
   "id": "f40f393f",
   "metadata": {},
   "outputs": [
    {
     "data": {
      "text/plain": [
       "0.990     225000.00\n",
       "0.991     231229.49\n",
       "0.992     247520.00\n",
       "0.993     250000.00\n",
       "0.994     250000.00\n",
       "0.995     264475.00\n",
       "0.996     281900.00\n",
       "0.997     300000.00\n",
       "0.998     321900.00\n",
       "0.999     384370.00\n",
       "1.000    2360457.00\n",
       "Name: km_driven, dtype: float64"
      ]
     },
     "execution_count": 15,
     "metadata": {},
     "output_type": "execute_result"
    }
   ],
   "source": [
    "car['km_driven'].quantile(np.arange(0.99,1,0.001))"
   ]
  },
  {
   "cell_type": "code",
   "execution_count": 16,
   "id": "14a3f49b",
   "metadata": {},
   "outputs": [],
   "source": [
    "q2=car['km_driven'].quantile(0.999)"
   ]
  },
  {
   "cell_type": "code",
   "execution_count": 17,
   "id": "6fcda2c7",
   "metadata": {},
   "outputs": [
    {
     "data": {
      "text/html": [
       "<div>\n",
       "<style scoped>\n",
       "    .dataframe tbody tr th:only-of-type {\n",
       "        vertical-align: middle;\n",
       "    }\n",
       "\n",
       "    .dataframe tbody tr th {\n",
       "        vertical-align: top;\n",
       "    }\n",
       "\n",
       "    .dataframe thead th {\n",
       "        text-align: right;\n",
       "    }\n",
       "</style>\n",
       "<table border=\"1\" class=\"dataframe\">\n",
       "  <thead>\n",
       "    <tr style=\"text-align: right;\">\n",
       "      <th></th>\n",
       "      <th>Sales_ID</th>\n",
       "      <th>name</th>\n",
       "      <th>year</th>\n",
       "      <th>selling_price</th>\n",
       "      <th>km_driven</th>\n",
       "      <th>state_or_province</th>\n",
       "      <th>City</th>\n",
       "      <th>fuel</th>\n",
       "      <th>seller_type</th>\n",
       "      <th>transmission</th>\n",
       "      <th>owner</th>\n",
       "      <th>mileage</th>\n",
       "      <th>engine</th>\n",
       "      <th>max_power</th>\n",
       "      <th>seats</th>\n",
       "      <th>sold</th>\n",
       "      <th>Region</th>\n",
       "    </tr>\n",
       "  </thead>\n",
       "  <tbody>\n",
       "    <tr>\n",
       "      <th>682</th>\n",
       "      <td>1811</td>\n",
       "      <td>Mahindra XUV500 W6 2WD</td>\n",
       "      <td>2012</td>\n",
       "      <td>500000</td>\n",
       "      <td>1500000.0</td>\n",
       "      <td>Illinois</td>\n",
       "      <td>West Chicago</td>\n",
       "      <td>Diesel</td>\n",
       "      <td>Individual</td>\n",
       "      <td>Manual</td>\n",
       "      <td>First Owner</td>\n",
       "      <td>15.1 kmpl</td>\n",
       "      <td>2179 CC</td>\n",
       "      <td>140 bhp</td>\n",
       "      <td>7</td>\n",
       "      <td>Y</td>\n",
       "      <td>Central</td>\n",
       "    </tr>\n",
       "    <tr>\n",
       "      <th>3928</th>\n",
       "      <td>5190</td>\n",
       "      <td>Toyota Innova 2.5 VX (Diesel) 7 Seater</td>\n",
       "      <td>2013</td>\n",
       "      <td>750000</td>\n",
       "      <td>440000.0</td>\n",
       "      <td>Pennsylvania</td>\n",
       "      <td>Altoona</td>\n",
       "      <td>Diesel</td>\n",
       "      <td>Individual</td>\n",
       "      <td>Manual</td>\n",
       "      <td>Second Owner</td>\n",
       "      <td>12.99 kmpl</td>\n",
       "      <td>2494 CC</td>\n",
       "      <td>100.6 bhp</td>\n",
       "      <td>7</td>\n",
       "      <td>N</td>\n",
       "      <td>East</td>\n",
       "    </tr>\n",
       "    <tr>\n",
       "      <th>4734</th>\n",
       "      <td>5107</td>\n",
       "      <td>Mahindra Scorpio M2DI</td>\n",
       "      <td>2011</td>\n",
       "      <td>400000</td>\n",
       "      <td>475000.0</td>\n",
       "      <td>Maryland</td>\n",
       "      <td>Middle River</td>\n",
       "      <td>Diesel</td>\n",
       "      <td>Individual</td>\n",
       "      <td>Manual</td>\n",
       "      <td>Third Owner</td>\n",
       "      <td>13.5 kmpl</td>\n",
       "      <td>2179 CC</td>\n",
       "      <td>115 bhp</td>\n",
       "      <td>5</td>\n",
       "      <td>N</td>\n",
       "      <td>East</td>\n",
       "    </tr>\n",
       "    <tr>\n",
       "      <th>5538</th>\n",
       "      <td>3509</td>\n",
       "      <td>Maruti Wagon R LXI Minor</td>\n",
       "      <td>2010</td>\n",
       "      <td>194000</td>\n",
       "      <td>577414.0</td>\n",
       "      <td>Tennessee</td>\n",
       "      <td>Columbia</td>\n",
       "      <td>Petrol</td>\n",
       "      <td>Individual</td>\n",
       "      <td>Manual</td>\n",
       "      <td>Second Owner</td>\n",
       "      <td>18.9 kmpl</td>\n",
       "      <td>1061 CC</td>\n",
       "      <td>67 bhp</td>\n",
       "      <td>5</td>\n",
       "      <td>N</td>\n",
       "      <td>South</td>\n",
       "    </tr>\n",
       "    <tr>\n",
       "      <th>6057</th>\n",
       "      <td>6674</td>\n",
       "      <td>Toyota Innova 2.5 EV Diesel PS 7 Seater BSIII</td>\n",
       "      <td>2011</td>\n",
       "      <td>350000</td>\n",
       "      <td>500000.0</td>\n",
       "      <td>Idaho</td>\n",
       "      <td>Post Falls</td>\n",
       "      <td>Diesel</td>\n",
       "      <td>Individual</td>\n",
       "      <td>Manual</td>\n",
       "      <td>Second Owner</td>\n",
       "      <td>12.99 kmpl</td>\n",
       "      <td>2494 CC</td>\n",
       "      <td>100.57 bhp</td>\n",
       "      <td>7</td>\n",
       "      <td>N</td>\n",
       "      <td>West</td>\n",
       "    </tr>\n",
       "    <tr>\n",
       "      <th>6646</th>\n",
       "      <td>5468</td>\n",
       "      <td>Toyota Innova 2.5 VX (Diesel) 7 Seater BS IV</td>\n",
       "      <td>2010</td>\n",
       "      <td>950000</td>\n",
       "      <td>426000.0</td>\n",
       "      <td>Kansas</td>\n",
       "      <td>Emporia</td>\n",
       "      <td>Diesel</td>\n",
       "      <td>Individual</td>\n",
       "      <td>Manual</td>\n",
       "      <td>First Owner</td>\n",
       "      <td>12.8 kmpl</td>\n",
       "      <td>2494 CC</td>\n",
       "      <td>102 bhp</td>\n",
       "      <td>7</td>\n",
       "      <td>N</td>\n",
       "      <td>Central</td>\n",
       "    </tr>\n",
       "    <tr>\n",
       "      <th>7126</th>\n",
       "      <td>3642</td>\n",
       "      <td>Maruti Wagon R VXI BS IV</td>\n",
       "      <td>2011</td>\n",
       "      <td>229999</td>\n",
       "      <td>500000.0</td>\n",
       "      <td>Colorado</td>\n",
       "      <td>Denver</td>\n",
       "      <td>Petrol</td>\n",
       "      <td>Individual</td>\n",
       "      <td>Manual</td>\n",
       "      <td>Second Owner</td>\n",
       "      <td>18.9 kmpl</td>\n",
       "      <td>998 CC</td>\n",
       "      <td>67.1 bhp</td>\n",
       "      <td>5</td>\n",
       "      <td>N</td>\n",
       "      <td>West</td>\n",
       "    </tr>\n",
       "    <tr>\n",
       "      <th>7822</th>\n",
       "      <td>3487</td>\n",
       "      <td>Hyundai i20 Asta 1.2</td>\n",
       "      <td>2007</td>\n",
       "      <td>550000</td>\n",
       "      <td>2360457.0</td>\n",
       "      <td>Mississippi</td>\n",
       "      <td>Clinton</td>\n",
       "      <td>Petrol</td>\n",
       "      <td>Individual</td>\n",
       "      <td>Manual</td>\n",
       "      <td>Second Owner</td>\n",
       "      <td>18.6 kmpl</td>\n",
       "      <td>1197 CC</td>\n",
       "      <td>81.83 bhp</td>\n",
       "      <td>5</td>\n",
       "      <td>N</td>\n",
       "      <td>South</td>\n",
       "    </tr>\n",
       "  </tbody>\n",
       "</table>\n",
       "</div>"
      ],
      "text/plain": [
       "      Sales_ID                                           name  year  \\\n",
       "682       1811                         Mahindra XUV500 W6 2WD  2012   \n",
       "3928      5190         Toyota Innova 2.5 VX (Diesel) 7 Seater  2013   \n",
       "4734      5107                          Mahindra Scorpio M2DI  2011   \n",
       "5538      3509                       Maruti Wagon R LXI Minor  2010   \n",
       "6057      6674  Toyota Innova 2.5 EV Diesel PS 7 Seater BSIII  2011   \n",
       "6646      5468   Toyota Innova 2.5 VX (Diesel) 7 Seater BS IV  2010   \n",
       "7126      3642                       Maruti Wagon R VXI BS IV  2011   \n",
       "7822      3487                           Hyundai i20 Asta 1.2  2007   \n",
       "\n",
       "      selling_price  km_driven state_or_province          City    fuel  \\\n",
       "682          500000  1500000.0          Illinois  West Chicago  Diesel   \n",
       "3928         750000   440000.0      Pennsylvania       Altoona  Diesel   \n",
       "4734         400000   475000.0          Maryland  Middle River  Diesel   \n",
       "5538         194000   577414.0         Tennessee      Columbia  Petrol   \n",
       "6057         350000   500000.0             Idaho    Post Falls  Diesel   \n",
       "6646         950000   426000.0            Kansas       Emporia  Diesel   \n",
       "7126         229999   500000.0          Colorado        Denver  Petrol   \n",
       "7822         550000  2360457.0       Mississippi       Clinton  Petrol   \n",
       "\n",
       "     seller_type transmission         owner     mileage   engine   max_power  \\\n",
       "682   Individual       Manual   First Owner   15.1 kmpl  2179 CC     140 bhp   \n",
       "3928  Individual       Manual  Second Owner  12.99 kmpl  2494 CC   100.6 bhp   \n",
       "4734  Individual       Manual   Third Owner   13.5 kmpl  2179 CC     115 bhp   \n",
       "5538  Individual       Manual  Second Owner   18.9 kmpl  1061 CC      67 bhp   \n",
       "6057  Individual       Manual  Second Owner  12.99 kmpl  2494 CC  100.57 bhp   \n",
       "6646  Individual       Manual   First Owner   12.8 kmpl  2494 CC     102 bhp   \n",
       "7126  Individual       Manual  Second Owner   18.9 kmpl   998 CC    67.1 bhp   \n",
       "7822  Individual       Manual  Second Owner   18.6 kmpl  1197 CC   81.83 bhp   \n",
       "\n",
       "      seats sold   Region  \n",
       "682       7    Y  Central  \n",
       "3928      7    N     East  \n",
       "4734      5    N     East  \n",
       "5538      5    N    South  \n",
       "6057      7    N     West  \n",
       "6646      7    N  Central  \n",
       "7126      5    N     West  \n",
       "7822      5    N    South  "
      ]
     },
     "execution_count": 17,
     "metadata": {},
     "output_type": "execute_result"
    }
   ],
   "source": [
    "car[car.km_driven>q2]"
   ]
  },
  {
   "cell_type": "markdown",
   "id": "b0b42aba",
   "metadata": {},
   "source": [
    "We see that km_driven above 99 quantile are continuous in range except 2 cars with sales id 682 and 7822.But car which has km_driven value 15,00,000 is sold.So it is not an outlier and we have to replace car with km_driven 23,60,457 with mean value."
   ]
  },
  {
   "cell_type": "code",
   "execution_count": 18,
   "id": "5ef20a3f",
   "metadata": {},
   "outputs": [],
   "source": [
    "car.loc[(car[\"km_driven\"]>1500000), 'km_driven'] = car['km_driven'].mean()"
   ]
  },
  {
   "cell_type": "code",
   "execution_count": 19,
   "id": "bbd08ef1",
   "metadata": {},
   "outputs": [
    {
     "data": {
      "text/plain": [
       "count    7.906000e+03\n",
       "mean     6.890760e+04\n",
       "std      5.060193e+04\n",
       "min      1.000000e+03\n",
       "25%      3.500000e+04\n",
       "50%      6.000000e+04\n",
       "75%      9.515000e+04\n",
       "max      1.500000e+06\n",
       "Name: km_driven, dtype: float64"
      ]
     },
     "execution_count": 19,
     "metadata": {},
     "output_type": "execute_result"
    }
   ],
   "source": [
    "car['km_driven'].describe()"
   ]
  },
  {
   "cell_type": "markdown",
   "id": "79bf97df",
   "metadata": {},
   "source": [
    "We can see that max value got changed which shows that outliers are treated in km_driven column"
   ]
  },
  {
   "cell_type": "code",
   "execution_count": 20,
   "id": "c8d3d186",
   "metadata": {},
   "outputs": [
    {
     "data": {
      "text/plain": [
       "0    23.40\n",
       "1    17.00\n",
       "2    18.16\n",
       "3    22.00\n",
       "4    25.10\n",
       "Name: mileage, dtype: float64"
      ]
     },
     "execution_count": 20,
     "metadata": {},
     "output_type": "execute_result"
    }
   ],
   "source": [
    "car['mileage']=car['mileage'].apply(lambda x : x.split(' '))\n",
    "car['mileage']=car['mileage'].apply(lambda x: x[0])\n",
    "car['mileage']=car['mileage'].astype('float64')\n",
    "car['mileage'].head()"
   ]
  },
  {
   "cell_type": "code",
   "execution_count": 21,
   "id": "36ce8616",
   "metadata": {},
   "outputs": [],
   "source": [
    "car['engine']= car['engine'].apply(lambda x : x.split(' '))\n",
    "car['engine']=car['engine'].apply(lambda x: x[0])\n",
    "car['engine']=car['engine'].astype('int64')\n",
    "\n",
    "car['max_power']= car['max_power'].apply(lambda x : x.split(' '))\n",
    "car['max_power']=car['max_power'].apply(lambda x: x[0])\n",
    "car['max_power']=car['max_power'].astype('float64')"
   ]
  },
  {
   "cell_type": "code",
   "execution_count": 22,
   "id": "aa8582dd",
   "metadata": {},
   "outputs": [
    {
     "data": {
      "image/png": "[encoded data removed]",
      "text/plain": [
       "<Figure size 432x288 with 1 Axes>"
      ]
     },
     "metadata": {
      "needs_background": "light"
     },
     "output_type": "display_data"
    }
   ],
   "source": [
    "car.boxplot(column='mileage')\n",
    "plt.show()"
   ]
  },
  {
   "cell_type": "code",
   "execution_count": 23,
   "id": "6a5ef4b0",
   "metadata": {},
   "outputs": [
    {
     "data": {
      "text/plain": [
       "0.0"
      ]
     },
     "execution_count": 23,
     "metadata": {},
     "output_type": "execute_result"
    }
   ],
   "source": [
    "car['mileage'].quantile(0.0)"
   ]
  },
  {
   "cell_type": "code",
   "execution_count": 24,
   "id": "51d3f198",
   "metadata": {},
   "outputs": [
    {
     "data": {
      "text/html": [
       "<div>\n",
       "<style scoped>\n",
       "    .dataframe tbody tr th:only-of-type {\n",
       "        vertical-align: middle;\n",
       "    }\n",
       "\n",
       "    .dataframe tbody tr th {\n",
       "        vertical-align: top;\n",
       "    }\n",
       "\n",
       "    .dataframe thead th {\n",
       "        text-align: right;\n",
       "    }\n",
       "</style>\n",
       "<table border=\"1\" class=\"dataframe\">\n",
       "  <thead>\n",
       "    <tr style=\"text-align: right;\">\n",
       "      <th></th>\n",
       "      <th>Sales_ID</th>\n",
       "      <th>name</th>\n",
       "      <th>year</th>\n",
       "      <th>selling_price</th>\n",
       "      <th>km_driven</th>\n",
       "      <th>state_or_province</th>\n",
       "      <th>City</th>\n",
       "      <th>fuel</th>\n",
       "      <th>seller_type</th>\n",
       "      <th>transmission</th>\n",
       "      <th>owner</th>\n",
       "      <th>mileage</th>\n",
       "      <th>engine</th>\n",
       "      <th>max_power</th>\n",
       "      <th>seats</th>\n",
       "      <th>sold</th>\n",
       "      <th>Region</th>\n",
       "    </tr>\n",
       "  </thead>\n",
       "  <tbody>\n",
       "    <tr>\n",
       "      <th>183</th>\n",
       "      <td>645</td>\n",
       "      <td>Tata Indica Vista Aura Safire Anniversary Edition</td>\n",
       "      <td>2009</td>\n",
       "      <td>135000</td>\n",
       "      <td>28900.0</td>\n",
       "      <td>New York</td>\n",
       "      <td>New York City</td>\n",
       "      <td>Petrol</td>\n",
       "      <td>Individual</td>\n",
       "      <td>Manual</td>\n",
       "      <td>Second Owner</td>\n",
       "      <td>0.0</td>\n",
       "      <td>1172</td>\n",
       "      <td>65.00</td>\n",
       "      <td>5</td>\n",
       "      <td>Y</td>\n",
       "      <td>East</td>\n",
       "    </tr>\n",
       "    <tr>\n",
       "      <th>211</th>\n",
       "      <td>786</td>\n",
       "      <td>Hyundai Santro Xing GL</td>\n",
       "      <td>2009</td>\n",
       "      <td>120000</td>\n",
       "      <td>90000.0</td>\n",
       "      <td>New York</td>\n",
       "      <td>New York City</td>\n",
       "      <td>Petrol</td>\n",
       "      <td>Individual</td>\n",
       "      <td>Manual</td>\n",
       "      <td>Second Owner</td>\n",
       "      <td>0.0</td>\n",
       "      <td>1086</td>\n",
       "      <td>62.00</td>\n",
       "      <td>5</td>\n",
       "      <td>Y</td>\n",
       "      <td>East</td>\n",
       "    </tr>\n",
       "    <tr>\n",
       "      <th>320</th>\n",
       "      <td>1650</td>\n",
       "      <td>Hyundai Santro Xing GL</td>\n",
       "      <td>2008</td>\n",
       "      <td>105000</td>\n",
       "      <td>128000.0</td>\n",
       "      <td>New York</td>\n",
       "      <td>North Babylon</td>\n",
       "      <td>Petrol</td>\n",
       "      <td>Individual</td>\n",
       "      <td>Manual</td>\n",
       "      <td>First Owner</td>\n",
       "      <td>0.0</td>\n",
       "      <td>1086</td>\n",
       "      <td>62.00</td>\n",
       "      <td>5</td>\n",
       "      <td>Y</td>\n",
       "      <td>East</td>\n",
       "    </tr>\n",
       "    <tr>\n",
       "      <th>756</th>\n",
       "      <td>2726</td>\n",
       "      <td>Hyundai Santro Xing (Non-AC)</td>\n",
       "      <td>2013</td>\n",
       "      <td>184000</td>\n",
       "      <td>15000.0</td>\n",
       "      <td>Illinois</td>\n",
       "      <td>Elk Grove Village</td>\n",
       "      <td>Petrol</td>\n",
       "      <td>Individual</td>\n",
       "      <td>Manual</td>\n",
       "      <td>First Owner</td>\n",
       "      <td>0.0</td>\n",
       "      <td>1086</td>\n",
       "      <td>62.10</td>\n",
       "      <td>5</td>\n",
       "      <td>N</td>\n",
       "      <td>Central</td>\n",
       "    </tr>\n",
       "    <tr>\n",
       "      <th>966</th>\n",
       "      <td>5901</td>\n",
       "      <td>Mahindra Bolero Pik-Up FB 1.7T</td>\n",
       "      <td>2020</td>\n",
       "      <td>679000</td>\n",
       "      <td>5000.0</td>\n",
       "      <td>Illinois</td>\n",
       "      <td>Forest Park</td>\n",
       "      <td>Diesel</td>\n",
       "      <td>Individual</td>\n",
       "      <td>Manual</td>\n",
       "      <td>First Owner</td>\n",
       "      <td>0.0</td>\n",
       "      <td>2523</td>\n",
       "      <td>70.00</td>\n",
       "      <td>2</td>\n",
       "      <td>N</td>\n",
       "      <td>Central</td>\n",
       "    </tr>\n",
       "    <tr>\n",
       "      <th>1627</th>\n",
       "      <td>4528</td>\n",
       "      <td>Mercedes-Benz M-Class ML 350 4Matic</td>\n",
       "      <td>2011</td>\n",
       "      <td>1700000</td>\n",
       "      <td>110000.0</td>\n",
       "      <td>California</td>\n",
       "      <td>Stockton</td>\n",
       "      <td>Diesel</td>\n",
       "      <td>Individual</td>\n",
       "      <td>Automatic</td>\n",
       "      <td>Third Owner</td>\n",
       "      <td>0.0</td>\n",
       "      <td>2987</td>\n",
       "      <td>165.00</td>\n",
       "      <td>5</td>\n",
       "      <td>N</td>\n",
       "      <td>West</td>\n",
       "    </tr>\n",
       "    <tr>\n",
       "      <th>1721</th>\n",
       "      <td>5277</td>\n",
       "      <td>Hyundai Santro Xing GL</td>\n",
       "      <td>2008</td>\n",
       "      <td>175000</td>\n",
       "      <td>40000.0</td>\n",
       "      <td>California</td>\n",
       "      <td>Temecula</td>\n",
       "      <td>Petrol</td>\n",
       "      <td>Individual</td>\n",
       "      <td>Manual</td>\n",
       "      <td>First Owner</td>\n",
       "      <td>0.0</td>\n",
       "      <td>1086</td>\n",
       "      <td>62.00</td>\n",
       "      <td>5</td>\n",
       "      <td>N</td>\n",
       "      <td>West</td>\n",
       "    </tr>\n",
       "    <tr>\n",
       "      <th>2095</th>\n",
       "      <td>2138</td>\n",
       "      <td>Land Rover Freelander 2 TD4 HSE</td>\n",
       "      <td>2013</td>\n",
       "      <td>1650000</td>\n",
       "      <td>64788.0</td>\n",
       "      <td>Texas</td>\n",
       "      <td>Victoria</td>\n",
       "      <td>Diesel</td>\n",
       "      <td>Dealer</td>\n",
       "      <td>Automatic</td>\n",
       "      <td>First Owner</td>\n",
       "      <td>0.0</td>\n",
       "      <td>2179</td>\n",
       "      <td>115.00</td>\n",
       "      <td>5</td>\n",
       "      <td>N</td>\n",
       "      <td>Central</td>\n",
       "    </tr>\n",
       "    <tr>\n",
       "      <th>3310</th>\n",
       "      <td>6535</td>\n",
       "      <td>Hyundai Santro Xing GL</td>\n",
       "      <td>2010</td>\n",
       "      <td>150000</td>\n",
       "      <td>110000.0</td>\n",
       "      <td>North Carolina</td>\n",
       "      <td>Concord</td>\n",
       "      <td>Petrol</td>\n",
       "      <td>Individual</td>\n",
       "      <td>Manual</td>\n",
       "      <td>First Owner</td>\n",
       "      <td>0.0</td>\n",
       "      <td>1086</td>\n",
       "      <td>62.00</td>\n",
       "      <td>5</td>\n",
       "      <td>N</td>\n",
       "      <td>South</td>\n",
       "    </tr>\n",
       "    <tr>\n",
       "      <th>3682</th>\n",
       "      <td>6630</td>\n",
       "      <td>Mahindra Bolero Pik-Up CBC 1.7T</td>\n",
       "      <td>2019</td>\n",
       "      <td>722000</td>\n",
       "      <td>80000.0</td>\n",
       "      <td>Florida</td>\n",
       "      <td>Bradenton</td>\n",
       "      <td>Diesel</td>\n",
       "      <td>Individual</td>\n",
       "      <td>Manual</td>\n",
       "      <td>First Owner</td>\n",
       "      <td>0.0</td>\n",
       "      <td>2523</td>\n",
       "      <td>70.00</td>\n",
       "      <td>2</td>\n",
       "      <td>N</td>\n",
       "      <td>South</td>\n",
       "    </tr>\n",
       "    <tr>\n",
       "      <th>3826</th>\n",
       "      <td>1677</td>\n",
       "      <td>Mercedes-Benz M-Class ML 350 4Matic</td>\n",
       "      <td>2011</td>\n",
       "      <td>1700000</td>\n",
       "      <td>110000.0</td>\n",
       "      <td>Pennsylvania</td>\n",
       "      <td>Altoona</td>\n",
       "      <td>Diesel</td>\n",
       "      <td>Individual</td>\n",
       "      <td>Automatic</td>\n",
       "      <td>Third Owner</td>\n",
       "      <td>0.0</td>\n",
       "      <td>2987</td>\n",
       "      <td>165.00</td>\n",
       "      <td>5</td>\n",
       "      <td>Y</td>\n",
       "      <td>East</td>\n",
       "    </tr>\n",
       "    <tr>\n",
       "      <th>4465</th>\n",
       "      <td>2367</td>\n",
       "      <td>Hyundai Santro Xing (Non-AC)</td>\n",
       "      <td>2010</td>\n",
       "      <td>110000</td>\n",
       "      <td>80000.0</td>\n",
       "      <td>Oregon</td>\n",
       "      <td>Pendleton</td>\n",
       "      <td>Petrol</td>\n",
       "      <td>Individual</td>\n",
       "      <td>Manual</td>\n",
       "      <td>Second Owner</td>\n",
       "      <td>0.0</td>\n",
       "      <td>1086</td>\n",
       "      <td>62.10</td>\n",
       "      <td>5</td>\n",
       "      <td>N</td>\n",
       "      <td>West</td>\n",
       "    </tr>\n",
       "    <tr>\n",
       "      <th>6070</th>\n",
       "      <td>7338</td>\n",
       "      <td>Mercedes-Benz GLC 220d 4MATIC</td>\n",
       "      <td>2017</td>\n",
       "      <td>3300000</td>\n",
       "      <td>60000.0</td>\n",
       "      <td>Idaho</td>\n",
       "      <td>Eagle</td>\n",
       "      <td>Diesel</td>\n",
       "      <td>Dealer</td>\n",
       "      <td>Automatic</td>\n",
       "      <td>First Owner</td>\n",
       "      <td>0.0</td>\n",
       "      <td>1950</td>\n",
       "      <td>194.00</td>\n",
       "      <td>5</td>\n",
       "      <td>N</td>\n",
       "      <td>West</td>\n",
       "    </tr>\n",
       "    <tr>\n",
       "      <th>7380</th>\n",
       "      <td>7003</td>\n",
       "      <td>Hyundai Santro Xing (Non-AC)</td>\n",
       "      <td>2010</td>\n",
       "      <td>110000</td>\n",
       "      <td>80000.0</td>\n",
       "      <td>Indiana</td>\n",
       "      <td>Valparaiso</td>\n",
       "      <td>Petrol</td>\n",
       "      <td>Individual</td>\n",
       "      <td>Manual</td>\n",
       "      <td>Second Owner</td>\n",
       "      <td>0.0</td>\n",
       "      <td>1086</td>\n",
       "      <td>62.10</td>\n",
       "      <td>5</td>\n",
       "      <td>N</td>\n",
       "      <td>Central</td>\n",
       "    </tr>\n",
       "    <tr>\n",
       "      <th>7606</th>\n",
       "      <td>6825</td>\n",
       "      <td>Hyundai Santro Xing GL</td>\n",
       "      <td>2011</td>\n",
       "      <td>150000</td>\n",
       "      <td>40000.0</td>\n",
       "      <td>Missouri</td>\n",
       "      <td>University City</td>\n",
       "      <td>Petrol</td>\n",
       "      <td>Individual</td>\n",
       "      <td>Manual</td>\n",
       "      <td>Fourth &amp; Above Owner</td>\n",
       "      <td>0.0</td>\n",
       "      <td>1086</td>\n",
       "      <td>62.00</td>\n",
       "      <td>5</td>\n",
       "      <td>N</td>\n",
       "      <td>Central</td>\n",
       "    </tr>\n",
       "    <tr>\n",
       "      <th>7666</th>\n",
       "      <td>5844</td>\n",
       "      <td>Volkswagen Polo GT TSI BSIV</td>\n",
       "      <td>2014</td>\n",
       "      <td>574000</td>\n",
       "      <td>28080.0</td>\n",
       "      <td>North Dakota</td>\n",
       "      <td>Mandan</td>\n",
       "      <td>Petrol</td>\n",
       "      <td>Dealer</td>\n",
       "      <td>Automatic</td>\n",
       "      <td>First Owner</td>\n",
       "      <td>0.0</td>\n",
       "      <td>1197</td>\n",
       "      <td>103.25</td>\n",
       "      <td>5</td>\n",
       "      <td>N</td>\n",
       "      <td>Central</td>\n",
       "    </tr>\n",
       "    <tr>\n",
       "      <th>7669</th>\n",
       "      <td>5847</td>\n",
       "      <td>Volkswagen Polo GT TSI BSIV</td>\n",
       "      <td>2014</td>\n",
       "      <td>575000</td>\n",
       "      <td>28100.0</td>\n",
       "      <td>North Dakota</td>\n",
       "      <td>Mandan</td>\n",
       "      <td>Petrol</td>\n",
       "      <td>Dealer</td>\n",
       "      <td>Automatic</td>\n",
       "      <td>First Owner</td>\n",
       "      <td>0.0</td>\n",
       "      <td>1197</td>\n",
       "      <td>103.25</td>\n",
       "      <td>5</td>\n",
       "      <td>N</td>\n",
       "      <td>Central</td>\n",
       "    </tr>\n",
       "  </tbody>\n",
       "</table>\n",
       "</div>"
      ],
      "text/plain": [
       "      Sales_ID                                               name  year  \\\n",
       "183        645  Tata Indica Vista Aura Safire Anniversary Edition  2009   \n",
       "211        786                             Hyundai Santro Xing GL  2009   \n",
       "320       1650                             Hyundai Santro Xing GL  2008   \n",
       "756       2726                       Hyundai Santro Xing (Non-AC)  2013   \n",
       "966       5901                     Mahindra Bolero Pik-Up FB 1.7T  2020   \n",
       "1627      4528                Mercedes-Benz M-Class ML 350 4Matic  2011   \n",
       "1721      5277                             Hyundai Santro Xing GL  2008   \n",
       "2095      2138                    Land Rover Freelander 2 TD4 HSE  2013   \n",
       "3310      6535                             Hyundai Santro Xing GL  2010   \n",
       "3682      6630                    Mahindra Bolero Pik-Up CBC 1.7T  2019   \n",
       "3826      1677                Mercedes-Benz M-Class ML 350 4Matic  2011   \n",
       "4465      2367                       Hyundai Santro Xing (Non-AC)  2010   \n",
       "6070      7338                      Mercedes-Benz GLC 220d 4MATIC  2017   \n",
       "7380      7003                       Hyundai Santro Xing (Non-AC)  2010   \n",
       "7606      6825                             Hyundai Santro Xing GL  2011   \n",
       "7666      5844                        Volkswagen Polo GT TSI BSIV  2014   \n",
       "7669      5847                        Volkswagen Polo GT TSI BSIV  2014   \n",
       "\n",
       "      selling_price  km_driven state_or_province               City    fuel  \\\n",
       "183          135000    28900.0          New York      New York City  Petrol   \n",
       "211          120000    90000.0          New York      New York City  Petrol   \n",
       "320          105000   128000.0          New York      North Babylon  Petrol   \n",
       "756          184000    15000.0          Illinois  Elk Grove Village  Petrol   \n",
       "966          679000     5000.0          Illinois        Forest Park  Diesel   \n",
       "1627        1700000   110000.0        California           Stockton  Diesel   \n",
       "1721         175000    40000.0        California           Temecula  Petrol   \n",
       "2095        1650000    64788.0             Texas           Victoria  Diesel   \n",
       "3310         150000   110000.0    North Carolina            Concord  Petrol   \n",
       "3682         722000    80000.0           Florida          Bradenton  Diesel   \n",
       "3826        1700000   110000.0      Pennsylvania            Altoona  Diesel   \n",
       "4465         110000    80000.0            Oregon          Pendleton  Petrol   \n",
       "6070        3300000    60000.0             Idaho              Eagle  Diesel   \n",
       "7380         110000    80000.0           Indiana         Valparaiso  Petrol   \n",
       "7606         150000    40000.0          Missouri    University City  Petrol   \n",
       "7666         574000    28080.0      North Dakota             Mandan  Petrol   \n",
       "7669         575000    28100.0      North Dakota             Mandan  Petrol   \n",
       "\n",
       "     seller_type transmission                 owner  mileage  engine  \\\n",
       "183   Individual       Manual          Second Owner      0.0    1172   \n",
       "211   Individual       Manual          Second Owner      0.0    1086   \n",
       "320   Individual       Manual           First Owner      0.0    1086   \n",
       "756   Individual       Manual           First Owner      0.0    1086   \n",
       "966   Individual       Manual           First Owner      0.0    2523   \n",
       "1627  Individual    Automatic           Third Owner      0.0    2987   \n",
       "1721  Individual       Manual           First Owner      0.0    1086   \n",
       "2095      Dealer    Automatic           First Owner      0.0    2179   \n",
       "3310  Individual       Manual           First Owner      0.0    1086   \n",
       "3682  Individual       Manual           First Owner      0.0    2523   \n",
       "3826  Individual    Automatic           Third Owner      0.0    2987   \n",
       "4465  Individual       Manual          Second Owner      0.0    1086   \n",
       "6070      Dealer    Automatic           First Owner      0.0    1950   \n",
       "7380  Individual       Manual          Second Owner      0.0    1086   \n",
       "7606  Individual       Manual  Fourth & Above Owner      0.0    1086   \n",
       "7666      Dealer    Automatic           First Owner      0.0    1197   \n",
       "7669      Dealer    Automatic           First Owner      0.0    1197   \n",
       "\n",
       "      max_power  seats sold   Region  \n",
       "183       65.00      5    Y     East  \n",
       "211       62.00      5    Y     East  \n",
       "320       62.00      5    Y     East  \n",
       "756       62.10      5    N  Central  \n",
       "966       70.00      2    N  Central  \n",
       "1627     165.00      5    N     West  \n",
       "1721      62.00      5    N     West  \n",
       "2095     115.00      5    N  Central  \n",
       "3310      62.00      5    N    South  \n",
       "3682      70.00      2    N    South  \n",
       "3826     165.00      5    Y     East  \n",
       "4465      62.10      5    N     West  \n",
       "6070     194.00      5    N     West  \n",
       "7380      62.10      5    N  Central  \n",
       "7606      62.00      5    N  Central  \n",
       "7666     103.25      5    N  Central  \n",
       "7669     103.25      5    N  Central  "
      ]
     },
     "execution_count": 24,
     "metadata": {},
     "output_type": "execute_result"
    }
   ],
   "source": [
    "car.loc[(car['mileage']<0.1)]"
   ]
  },
  {
   "cell_type": "markdown",
   "id": "b3dfeae5",
   "metadata": {},
   "source": [
    "We see that cars were sold even with average mileage of 0.0 kmpl. So we have to treat them with average mileage."
   ]
  },
  {
   "cell_type": "code",
   "execution_count": 25,
   "id": "c9c99fd6",
   "metadata": {},
   "outputs": [
    {
     "data": {
      "text/plain": [
       "count    7906.000000\n",
       "mean       19.419861\n",
       "std         4.036263\n",
       "min         0.000000\n",
       "25%        16.780000\n",
       "50%        19.300000\n",
       "75%        22.320000\n",
       "max        42.000000\n",
       "Name: mileage, dtype: float64"
      ]
     },
     "execution_count": 25,
     "metadata": {},
     "output_type": "execute_result"
    }
   ],
   "source": [
    "car['mileage'].describe()"
   ]
  },
  {
   "cell_type": "code",
   "execution_count": 26,
   "id": "0c5ae543",
   "metadata": {},
   "outputs": [],
   "source": [
    "car.loc[(car[\"mileage\"]<0.1), 'mileage'] = car['mileage'].mean()"
   ]
  },
  {
   "cell_type": "code",
   "execution_count": 27,
   "id": "fd0e8072",
   "metadata": {},
   "outputs": [
    {
     "data": {
      "text/plain": [
       "count    7906.000000\n",
       "mean       19.461619\n",
       "std         3.934291\n",
       "min         9.000000\n",
       "25%        16.780000\n",
       "50%        19.330000\n",
       "75%        22.320000\n",
       "max        42.000000\n",
       "Name: mileage, dtype: float64"
      ]
     },
     "execution_count": 27,
     "metadata": {},
     "output_type": "execute_result"
    }
   ],
   "source": [
    "car['mileage'].describe()"
   ]
  },
  {
   "cell_type": "code",
   "execution_count": 28,
   "id": "39266ee0",
   "metadata": {},
   "outputs": [
    {
     "data": {
      "text/plain": [
       "13.93"
      ]
     },
     "execution_count": 28,
     "metadata": {},
     "output_type": "execute_result"
    }
   ],
   "source": [
    "car['mileage'].quantile(0.1)"
   ]
  },
  {
   "cell_type": "code",
   "execution_count": 29,
   "id": "89966d3d",
   "metadata": {},
   "outputs": [
    {
     "data": {
      "text/html": [
       "<div>\n",
       "<style scoped>\n",
       "    .dataframe tbody tr th:only-of-type {\n",
       "        vertical-align: middle;\n",
       "    }\n",
       "\n",
       "    .dataframe tbody tr th {\n",
       "        vertical-align: top;\n",
       "    }\n",
       "\n",
       "    .dataframe thead th {\n",
       "        text-align: right;\n",
       "    }\n",
       "</style>\n",
       "<table border=\"1\" class=\"dataframe\">\n",
       "  <thead>\n",
       "    <tr style=\"text-align: right;\">\n",
       "      <th></th>\n",
       "      <th>Sales_ID</th>\n",
       "      <th>name</th>\n",
       "      <th>year</th>\n",
       "      <th>selling_price</th>\n",
       "      <th>km_driven</th>\n",
       "      <th>state_or_province</th>\n",
       "      <th>City</th>\n",
       "      <th>fuel</th>\n",
       "      <th>seller_type</th>\n",
       "      <th>transmission</th>\n",
       "      <th>owner</th>\n",
       "      <th>mileage</th>\n",
       "      <th>engine</th>\n",
       "      <th>max_power</th>\n",
       "      <th>seats</th>\n",
       "      <th>sold</th>\n",
       "      <th>Region</th>\n",
       "    </tr>\n",
       "  </thead>\n",
       "  <tbody>\n",
       "    <tr>\n",
       "      <th>14</th>\n",
       "      <td>150</td>\n",
       "      <td>BMW 5 Series 523i</td>\n",
       "      <td>2010</td>\n",
       "      <td>975000</td>\n",
       "      <td>72200.0</td>\n",
       "      <td>District of Columbia</td>\n",
       "      <td>Washington</td>\n",
       "      <td>Petrol</td>\n",
       "      <td>Dealer</td>\n",
       "      <td>Automatic</td>\n",
       "      <td>Second Owner</td>\n",
       "      <td>10.80</td>\n",
       "      <td>2497</td>\n",
       "      <td>150.0</td>\n",
       "      <td>5</td>\n",
       "      <td>Y</td>\n",
       "      <td>East</td>\n",
       "    </tr>\n",
       "    <tr>\n",
       "      <th>27</th>\n",
       "      <td>288</td>\n",
       "      <td>Mahindra Bolero DI DX 7 Seater</td>\n",
       "      <td>2007</td>\n",
       "      <td>210000</td>\n",
       "      <td>207890.0</td>\n",
       "      <td>District of Columbia</td>\n",
       "      <td>Washington</td>\n",
       "      <td>Diesel</td>\n",
       "      <td>Individual</td>\n",
       "      <td>Manual</td>\n",
       "      <td>Second Owner</td>\n",
       "      <td>13.60</td>\n",
       "      <td>2523</td>\n",
       "      <td>63.0</td>\n",
       "      <td>7</td>\n",
       "      <td>Y</td>\n",
       "      <td>East</td>\n",
       "    </tr>\n",
       "    <tr>\n",
       "      <th>29</th>\n",
       "      <td>319</td>\n",
       "      <td>Toyota Innova 2.5 GX (Diesel) 8 Seater</td>\n",
       "      <td>2013</td>\n",
       "      <td>800000</td>\n",
       "      <td>160000.0</td>\n",
       "      <td>District of Columbia</td>\n",
       "      <td>Washington</td>\n",
       "      <td>Diesel</td>\n",
       "      <td>Individual</td>\n",
       "      <td>Manual</td>\n",
       "      <td>Second Owner</td>\n",
       "      <td>12.99</td>\n",
       "      <td>2494</td>\n",
       "      <td>100.6</td>\n",
       "      <td>8</td>\n",
       "      <td>Y</td>\n",
       "      <td>East</td>\n",
       "    </tr>\n",
       "    <tr>\n",
       "      <th>51</th>\n",
       "      <td>895</td>\n",
       "      <td>Mahindra Bolero SLX</td>\n",
       "      <td>2010</td>\n",
       "      <td>421000</td>\n",
       "      <td>120000.0</td>\n",
       "      <td>District of Columbia</td>\n",
       "      <td>Washington</td>\n",
       "      <td>Diesel</td>\n",
       "      <td>Individual</td>\n",
       "      <td>Manual</td>\n",
       "      <td>Second Owner</td>\n",
       "      <td>13.60</td>\n",
       "      <td>2523</td>\n",
       "      <td>63.0</td>\n",
       "      <td>7</td>\n",
       "      <td>Y</td>\n",
       "      <td>East</td>\n",
       "    </tr>\n",
       "    <tr>\n",
       "      <th>62</th>\n",
       "      <td>990</td>\n",
       "      <td>Chevrolet Tavera Neo 3 LT 9 Seats BSIII</td>\n",
       "      <td>2013</td>\n",
       "      <td>600000</td>\n",
       "      <td>90000.0</td>\n",
       "      <td>District of Columbia</td>\n",
       "      <td>Washington</td>\n",
       "      <td>Diesel</td>\n",
       "      <td>Individual</td>\n",
       "      <td>Manual</td>\n",
       "      <td>First Owner</td>\n",
       "      <td>13.58</td>\n",
       "      <td>2499</td>\n",
       "      <td>72.4</td>\n",
       "      <td>9</td>\n",
       "      <td>Y</td>\n",
       "      <td>East</td>\n",
       "    </tr>\n",
       "    <tr>\n",
       "      <th>...</th>\n",
       "      <td>...</td>\n",
       "      <td>...</td>\n",
       "      <td>...</td>\n",
       "      <td>...</td>\n",
       "      <td>...</td>\n",
       "      <td>...</td>\n",
       "      <td>...</td>\n",
       "      <td>...</td>\n",
       "      <td>...</td>\n",
       "      <td>...</td>\n",
       "      <td>...</td>\n",
       "      <td>...</td>\n",
       "      <td>...</td>\n",
       "      <td>...</td>\n",
       "      <td>...</td>\n",
       "      <td>...</td>\n",
       "      <td>...</td>\n",
       "    </tr>\n",
       "    <tr>\n",
       "      <th>7866</th>\n",
       "      <td>7932</td>\n",
       "      <td>Ford Endeavour 2.2 Titanium AT 4X2</td>\n",
       "      <td>2016</td>\n",
       "      <td>2100000</td>\n",
       "      <td>85000.0</td>\n",
       "      <td>Mississippi</td>\n",
       "      <td>Long Beach</td>\n",
       "      <td>Diesel</td>\n",
       "      <td>Individual</td>\n",
       "      <td>Automatic</td>\n",
       "      <td>Second Owner</td>\n",
       "      <td>12.62</td>\n",
       "      <td>2198</td>\n",
       "      <td>158.0</td>\n",
       "      <td>7</td>\n",
       "      <td>N</td>\n",
       "      <td>South</td>\n",
       "    </tr>\n",
       "    <tr>\n",
       "      <th>7873</th>\n",
       "      <td>3517</td>\n",
       "      <td>Jaguar XE 2016-2019 2.0L Diesel Prestige</td>\n",
       "      <td>2017</td>\n",
       "      <td>2711000</td>\n",
       "      <td>9000.0</td>\n",
       "      <td>Delaware</td>\n",
       "      <td>Newark</td>\n",
       "      <td>Diesel</td>\n",
       "      <td>Dealer</td>\n",
       "      <td>Automatic</td>\n",
       "      <td>First Owner</td>\n",
       "      <td>13.60</td>\n",
       "      <td>1999</td>\n",
       "      <td>177.0</td>\n",
       "      <td>5</td>\n",
       "      <td>N</td>\n",
       "      <td>East</td>\n",
       "    </tr>\n",
       "    <tr>\n",
       "      <th>7876</th>\n",
       "      <td>4207</td>\n",
       "      <td>Chevrolet Captiva LT</td>\n",
       "      <td>2011</td>\n",
       "      <td>500000</td>\n",
       "      <td>99500.0</td>\n",
       "      <td>Delaware</td>\n",
       "      <td>Dover</td>\n",
       "      <td>Diesel</td>\n",
       "      <td>Individual</td>\n",
       "      <td>Manual</td>\n",
       "      <td>Third Owner</td>\n",
       "      <td>11.50</td>\n",
       "      <td>1991</td>\n",
       "      <td>147.9</td>\n",
       "      <td>7</td>\n",
       "      <td>N</td>\n",
       "      <td>East</td>\n",
       "    </tr>\n",
       "    <tr>\n",
       "      <th>7882</th>\n",
       "      <td>4213</td>\n",
       "      <td>Hyundai Verna 1.6 Xi ABS</td>\n",
       "      <td>2008</td>\n",
       "      <td>114999</td>\n",
       "      <td>55000.0</td>\n",
       "      <td>Delaware</td>\n",
       "      <td>Dover</td>\n",
       "      <td>Petrol</td>\n",
       "      <td>Individual</td>\n",
       "      <td>Manual</td>\n",
       "      <td>Second Owner</td>\n",
       "      <td>13.90</td>\n",
       "      <td>1599</td>\n",
       "      <td>103.2</td>\n",
       "      <td>5</td>\n",
       "      <td>N</td>\n",
       "      <td>East</td>\n",
       "    </tr>\n",
       "    <tr>\n",
       "      <th>7885</th>\n",
       "      <td>3955</td>\n",
       "      <td>Toyota Innova 2.5 G (Diesel) 8 Seater BS IV</td>\n",
       "      <td>2007</td>\n",
       "      <td>400000</td>\n",
       "      <td>170000.0</td>\n",
       "      <td>South Dakota</td>\n",
       "      <td>Rapid City</td>\n",
       "      <td>Diesel</td>\n",
       "      <td>Individual</td>\n",
       "      <td>Manual</td>\n",
       "      <td>First Owner</td>\n",
       "      <td>12.80</td>\n",
       "      <td>2494</td>\n",
       "      <td>102.0</td>\n",
       "      <td>8</td>\n",
       "      <td>N</td>\n",
       "      <td>Central</td>\n",
       "    </tr>\n",
       "  </tbody>\n",
       "</table>\n",
       "<p>755 rows × 17 columns</p>\n",
       "</div>"
      ],
      "text/plain": [
       "      Sales_ID                                         name  year  \\\n",
       "14         150                            BMW 5 Series 523i  2010   \n",
       "27         288               Mahindra Bolero DI DX 7 Seater  2007   \n",
       "29         319       Toyota Innova 2.5 GX (Diesel) 8 Seater  2013   \n",
       "51         895                          Mahindra Bolero SLX  2010   \n",
       "62         990      Chevrolet Tavera Neo 3 LT 9 Seats BSIII  2013   \n",
       "...        ...                                          ...   ...   \n",
       "7866      7932           Ford Endeavour 2.2 Titanium AT 4X2  2016   \n",
       "7873      3517     Jaguar XE 2016-2019 2.0L Diesel Prestige  2017   \n",
       "7876      4207                         Chevrolet Captiva LT  2011   \n",
       "7882      4213                     Hyundai Verna 1.6 Xi ABS  2008   \n",
       "7885      3955  Toyota Innova 2.5 G (Diesel) 8 Seater BS IV  2007   \n",
       "\n",
       "      selling_price  km_driven     state_or_province        City    fuel  \\\n",
       "14           975000    72200.0  District of Columbia  Washington  Petrol   \n",
       "27           210000   207890.0  District of Columbia  Washington  Diesel   \n",
       "29           800000   160000.0  District of Columbia  Washington  Diesel   \n",
       "51           421000   120000.0  District of Columbia  Washington  Diesel   \n",
       "62           600000    90000.0  District of Columbia  Washington  Diesel   \n",
       "...             ...        ...                   ...         ...     ...   \n",
       "7866        2100000    85000.0           Mississippi  Long Beach  Diesel   \n",
       "7873        2711000     9000.0              Delaware      Newark  Diesel   \n",
       "7876         500000    99500.0              Delaware       Dover  Diesel   \n",
       "7882         114999    55000.0              Delaware       Dover  Petrol   \n",
       "7885         400000   170000.0          South Dakota  Rapid City  Diesel   \n",
       "\n",
       "     seller_type transmission         owner  mileage  engine  max_power  \\\n",
       "14        Dealer    Automatic  Second Owner    10.80    2497      150.0   \n",
       "27    Individual       Manual  Second Owner    13.60    2523       63.0   \n",
       "29    Individual       Manual  Second Owner    12.99    2494      100.6   \n",
       "51    Individual       Manual  Second Owner    13.60    2523       63.0   \n",
       "62    Individual       Manual   First Owner    13.58    2499       72.4   \n",
       "...          ...          ...           ...      ...     ...        ...   \n",
       "7866  Individual    Automatic  Second Owner    12.62    2198      158.0   \n",
       "7873      Dealer    Automatic   First Owner    13.60    1999      177.0   \n",
       "7876  Individual       Manual   Third Owner    11.50    1991      147.9   \n",
       "7882  Individual       Manual  Second Owner    13.90    1599      103.2   \n",
       "7885  Individual       Manual   First Owner    12.80    2494      102.0   \n",
       "\n",
       "      seats sold   Region  \n",
       "14        5    Y     East  \n",
       "27        7    Y     East  \n",
       "29        8    Y     East  \n",
       "51        7    Y     East  \n",
       "62        9    Y     East  \n",
       "...     ...  ...      ...  \n",
       "7866      7    N    South  \n",
       "7873      5    N     East  \n",
       "7876      7    N     East  \n",
       "7882      5    N     East  \n",
       "7885      8    N  Central  \n",
       "\n",
       "[755 rows x 17 columns]"
      ]
     },
     "execution_count": 29,
     "metadata": {},
     "output_type": "execute_result"
    }
   ],
   "source": [
    "car.loc[(car[\"mileage\"]<13.93)]"
   ]
  },
  {
   "cell_type": "code",
   "execution_count": 30,
   "id": "aa7ed6e0",
   "metadata": {},
   "outputs": [
    {
     "data": {
      "text/plain": [
       "0.60    20.45\n",
       "0.62    20.54\n",
       "0.64    20.86\n",
       "0.66    21.10\n",
       "0.68    21.19\n",
       "0.70    21.50\n",
       "0.72    21.90\n",
       "0.74    22.10\n",
       "0.76    22.50\n",
       "0.78    22.74\n",
       "0.80    22.95\n",
       "Name: mileage, dtype: float64"
      ]
     },
     "execution_count": 30,
     "metadata": {},
     "output_type": "execute_result"
    }
   ],
   "source": [
    "car['mileage'].quantile(np.arange(0.6,0.8,0.02))"
   ]
  },
  {
   "cell_type": "code",
   "execution_count": 31,
   "id": "a3f372ae",
   "metadata": {},
   "outputs": [
    {
     "data": {
      "text/plain": [
       "0.80    22.950\n",
       "0.82    23.100\n",
       "0.84    23.590\n",
       "0.86    23.950\n",
       "0.88    24.300\n",
       "0.90    24.700\n",
       "0.92    25.170\n",
       "0.94    25.470\n",
       "0.96    26.282\n",
       "0.98    27.390\n",
       "Name: mileage, dtype: float64"
      ]
     },
     "execution_count": 31,
     "metadata": {},
     "output_type": "execute_result"
    }
   ],
   "source": [
    "car['mileage'].quantile(np.arange(0.8,1,0.02))"
   ]
  },
  {
   "cell_type": "code",
   "execution_count": 32,
   "id": "ec9e79d6",
   "metadata": {},
   "outputs": [
    {
     "data": {
      "text/plain": [
       "28.4"
      ]
     },
     "execution_count": 32,
     "metadata": {},
     "output_type": "execute_result"
    }
   ],
   "source": [
    "car['mileage'].quantile(0.99)"
   ]
  },
  {
   "cell_type": "code",
   "execution_count": 33,
   "id": "ebac6b2a",
   "metadata": {},
   "outputs": [
    {
     "data": {
      "text/plain": [
       "0.990    28.40\n",
       "0.991    28.40\n",
       "0.992    28.40\n",
       "0.993    28.40\n",
       "0.994    28.40\n",
       "0.995    28.40\n",
       "0.996    28.40\n",
       "0.997    28.40\n",
       "0.998    28.40\n",
       "0.999    30.46\n",
       "1.000    42.00\n",
       "Name: mileage, dtype: float64"
      ]
     },
     "execution_count": 33,
     "metadata": {},
     "output_type": "execute_result"
    }
   ],
   "source": [
    "car['mileage'].quantile(np.arange(0.99,1,0.001))"
   ]
  },
  {
   "cell_type": "code",
   "execution_count": 34,
   "id": "99fa5a25",
   "metadata": {},
   "outputs": [
    {
     "data": {
      "text/plain": [
       "30.46"
      ]
     },
     "execution_count": 34,
     "metadata": {},
     "output_type": "execute_result"
    }
   ],
   "source": [
    "car['mileage'].quantile(0.999)"
   ]
  },
  {
   "cell_type": "code",
   "execution_count": 35,
   "id": "6f73de2c",
   "metadata": {},
   "outputs": [
    {
     "data": {
      "text/html": [
       "<div>\n",
       "<style scoped>\n",
       "    .dataframe tbody tr th:only-of-type {\n",
       "        vertical-align: middle;\n",
       "    }\n",
       "\n",
       "    .dataframe tbody tr th {\n",
       "        vertical-align: top;\n",
       "    }\n",
       "\n",
       "    .dataframe thead th {\n",
       "        text-align: right;\n",
       "    }\n",
       "</style>\n",
       "<table border=\"1\" class=\"dataframe\">\n",
       "  <thead>\n",
       "    <tr style=\"text-align: right;\">\n",
       "      <th></th>\n",
       "      <th>Sales_ID</th>\n",
       "      <th>name</th>\n",
       "      <th>year</th>\n",
       "      <th>selling_price</th>\n",
       "      <th>km_driven</th>\n",
       "      <th>state_or_province</th>\n",
       "      <th>City</th>\n",
       "      <th>fuel</th>\n",
       "      <th>seller_type</th>\n",
       "      <th>transmission</th>\n",
       "      <th>owner</th>\n",
       "      <th>mileage</th>\n",
       "      <th>engine</th>\n",
       "      <th>max_power</th>\n",
       "      <th>seats</th>\n",
       "      <th>sold</th>\n",
       "      <th>Region</th>\n",
       "    </tr>\n",
       "  </thead>\n",
       "  <tbody>\n",
       "    <tr>\n",
       "      <th>107</th>\n",
       "      <td>171</td>\n",
       "      <td>Volvo XC90 T8 Excellence BSIV</td>\n",
       "      <td>2017</td>\n",
       "      <td>10000000</td>\n",
       "      <td>30000.0</td>\n",
       "      <td>New York</td>\n",
       "      <td>New York City</td>\n",
       "      <td>Petrol</td>\n",
       "      <td>Individual</td>\n",
       "      <td>Automatic</td>\n",
       "      <td>First Owner</td>\n",
       "      <td>42.00</td>\n",
       "      <td>1969</td>\n",
       "      <td>400.00</td>\n",
       "      <td>4</td>\n",
       "      <td>Y</td>\n",
       "      <td>East</td>\n",
       "    </tr>\n",
       "    <tr>\n",
       "      <th>957</th>\n",
       "      <td>5816</td>\n",
       "      <td>Maruti Alto 800 LXI CNG</td>\n",
       "      <td>2020</td>\n",
       "      <td>370000</td>\n",
       "      <td>16000.0</td>\n",
       "      <td>Illinois</td>\n",
       "      <td>Freeport</td>\n",
       "      <td>CNG</td>\n",
       "      <td>Individual</td>\n",
       "      <td>Manual</td>\n",
       "      <td>First Owner</td>\n",
       "      <td>33.00</td>\n",
       "      <td>796</td>\n",
       "      <td>47.30</td>\n",
       "      <td>5</td>\n",
       "      <td>N</td>\n",
       "      <td>Central</td>\n",
       "    </tr>\n",
       "    <tr>\n",
       "      <th>2642</th>\n",
       "      <td>36</td>\n",
       "      <td>Maruti Alto 800 CNG LXI Optional</td>\n",
       "      <td>2019</td>\n",
       "      <td>330000</td>\n",
       "      <td>10000.0</td>\n",
       "      <td>Washington</td>\n",
       "      <td>Seattle</td>\n",
       "      <td>CNG</td>\n",
       "      <td>Individual</td>\n",
       "      <td>Manual</td>\n",
       "      <td>Second Owner</td>\n",
       "      <td>33.44</td>\n",
       "      <td>796</td>\n",
       "      <td>40.30</td>\n",
       "      <td>4</td>\n",
       "      <td>Y</td>\n",
       "      <td>West</td>\n",
       "    </tr>\n",
       "    <tr>\n",
       "      <th>3526</th>\n",
       "      <td>3909</td>\n",
       "      <td>Maruti Alto 800 CNG LXI</td>\n",
       "      <td>2017</td>\n",
       "      <td>260000</td>\n",
       "      <td>67000.0</td>\n",
       "      <td>Florida</td>\n",
       "      <td>Lake Worth</td>\n",
       "      <td>CNG</td>\n",
       "      <td>Individual</td>\n",
       "      <td>Manual</td>\n",
       "      <td>First Owner</td>\n",
       "      <td>33.44</td>\n",
       "      <td>796</td>\n",
       "      <td>40.30</td>\n",
       "      <td>4</td>\n",
       "      <td>N</td>\n",
       "      <td>South</td>\n",
       "    </tr>\n",
       "    <tr>\n",
       "      <th>3851</th>\n",
       "      <td>2313</td>\n",
       "      <td>Maruti Wagon R CNG LXI</td>\n",
       "      <td>2013</td>\n",
       "      <td>270000</td>\n",
       "      <td>80000.0</td>\n",
       "      <td>Pennsylvania</td>\n",
       "      <td>Scranton</td>\n",
       "      <td>CNG</td>\n",
       "      <td>Individual</td>\n",
       "      <td>Manual</td>\n",
       "      <td>Second Owner</td>\n",
       "      <td>32.52</td>\n",
       "      <td>998</td>\n",
       "      <td>58.33</td>\n",
       "      <td>5</td>\n",
       "      <td>N</td>\n",
       "      <td>East</td>\n",
       "    </tr>\n",
       "    <tr>\n",
       "      <th>4286</th>\n",
       "      <td>7544</td>\n",
       "      <td>Maruti Alto 800 CNG LXI Optional</td>\n",
       "      <td>2019</td>\n",
       "      <td>330000</td>\n",
       "      <td>10000.0</td>\n",
       "      <td>Michigan</td>\n",
       "      <td>Mount Pleasant</td>\n",
       "      <td>CNG</td>\n",
       "      <td>Individual</td>\n",
       "      <td>Manual</td>\n",
       "      <td>Second Owner</td>\n",
       "      <td>33.44</td>\n",
       "      <td>796</td>\n",
       "      <td>40.30</td>\n",
       "      <td>4</td>\n",
       "      <td>N</td>\n",
       "      <td>Central</td>\n",
       "    </tr>\n",
       "    <tr>\n",
       "      <th>6207</th>\n",
       "      <td>5790</td>\n",
       "      <td>Maruti Alto K10 LXI CNG</td>\n",
       "      <td>2019</td>\n",
       "      <td>430000</td>\n",
       "      <td>20000.0</td>\n",
       "      <td>Minnesota</td>\n",
       "      <td>Prior Lake</td>\n",
       "      <td>CNG</td>\n",
       "      <td>Individual</td>\n",
       "      <td>Manual</td>\n",
       "      <td>First Owner</td>\n",
       "      <td>32.26</td>\n",
       "      <td>998</td>\n",
       "      <td>58.30</td>\n",
       "      <td>4</td>\n",
       "      <td>N</td>\n",
       "      <td>Central</td>\n",
       "    </tr>\n",
       "  </tbody>\n",
       "</table>\n",
       "</div>"
      ],
      "text/plain": [
       "      Sales_ID                              name  year  selling_price  \\\n",
       "107        171     Volvo XC90 T8 Excellence BSIV  2017       10000000   \n",
       "957       5816           Maruti Alto 800 LXI CNG  2020         370000   \n",
       "2642        36  Maruti Alto 800 CNG LXI Optional  2019         330000   \n",
       "3526      3909           Maruti Alto 800 CNG LXI  2017         260000   \n",
       "3851      2313            Maruti Wagon R CNG LXI  2013         270000   \n",
       "4286      7544  Maruti Alto 800 CNG LXI Optional  2019         330000   \n",
       "6207      5790           Maruti Alto K10 LXI CNG  2019         430000   \n",
       "\n",
       "      km_driven state_or_province            City    fuel seller_type  \\\n",
       "107     30000.0          New York   New York City  Petrol  Individual   \n",
       "957     16000.0          Illinois        Freeport     CNG  Individual   \n",
       "2642    10000.0        Washington         Seattle     CNG  Individual   \n",
       "3526    67000.0           Florida      Lake Worth     CNG  Individual   \n",
       "3851    80000.0      Pennsylvania        Scranton     CNG  Individual   \n",
       "4286    10000.0          Michigan  Mount Pleasant     CNG  Individual   \n",
       "6207    20000.0         Minnesota      Prior Lake     CNG  Individual   \n",
       "\n",
       "     transmission         owner  mileage  engine  max_power  seats sold  \\\n",
       "107     Automatic   First Owner    42.00    1969     400.00      4    Y   \n",
       "957        Manual   First Owner    33.00     796      47.30      5    N   \n",
       "2642       Manual  Second Owner    33.44     796      40.30      4    Y   \n",
       "3526       Manual   First Owner    33.44     796      40.30      4    N   \n",
       "3851       Manual  Second Owner    32.52     998      58.33      5    N   \n",
       "4286       Manual  Second Owner    33.44     796      40.30      4    N   \n",
       "6207       Manual   First Owner    32.26     998      58.30      4    N   \n",
       "\n",
       "       Region  \n",
       "107      East  \n",
       "957   Central  \n",
       "2642     West  \n",
       "3526    South  \n",
       "3851     East  \n",
       "4286  Central  \n",
       "6207  Central  "
      ]
     },
     "execution_count": 35,
     "metadata": {},
     "output_type": "execute_result"
    }
   ],
   "source": [
    "car.loc[(car[\"mileage\"]>30.46)]"
   ]
  },
  {
   "cell_type": "markdown",
   "id": "999c041e",
   "metadata": {},
   "source": [
    "All the values were in continuous range and car with AvgMileage 42 is sold.So we don't have to treat any outliers.\n"
   ]
  },
  {
   "cell_type": "code",
   "execution_count": 36,
   "id": "7e6fffb6",
   "metadata": {},
   "outputs": [
    {
     "data": {
      "image/png": "[encoded data removed]",
      "text/plain": [
       "<Figure size 432x288 with 1 Axes>"
      ]
     },
     "metadata": {
      "needs_background": "light"
     },
     "output_type": "display_data"
    }
   ],
   "source": [
    "car.boxplot(column='engine')\n",
    "plt.show()"
   ]
  },
  {
   "cell_type": "code",
   "execution_count": 37,
   "id": "ed7602fe",
   "metadata": {},
   "outputs": [
    {
     "data": {
      "text/plain": [
       "0.4    1248.0\n",
       "0.6    1399.0\n",
       "0.8    1968.0\n",
       "Name: engine, dtype: float64"
      ]
     },
     "execution_count": 37,
     "metadata": {},
     "output_type": "execute_result"
    }
   ],
   "source": [
    "car['engine'].quantile(np.arange(0.4,1,0.2))"
   ]
  },
  {
   "cell_type": "code",
   "execution_count": 38,
   "id": "5927e2b7",
   "metadata": {},
   "outputs": [
    {
     "data": {
      "text/plain": [
       "0.70    1498.0\n",
       "0.74    1582.0\n",
       "0.78    1598.0\n",
       "0.82    1995.0\n",
       "0.86    2179.0\n",
       "0.90    2198.5\n",
       "0.94    2494.0\n",
       "0.98    2609.0\n",
       "Name: engine, dtype: float64"
      ]
     },
     "execution_count": 38,
     "metadata": {},
     "output_type": "execute_result"
    }
   ],
   "source": [
    "car['engine'].quantile(np.arange(0.7,1,0.04))"
   ]
  },
  {
   "cell_type": "code",
   "execution_count": 39,
   "id": "247d0e8a",
   "metadata": {},
   "outputs": [
    {
     "data": {
      "text/plain": [
       "0.980    2609.000\n",
       "0.981    2695.610\n",
       "0.982    2755.000\n",
       "0.983    2755.000\n",
       "0.984    2755.000\n",
       "0.985    2755.000\n",
       "0.986    2953.000\n",
       "0.987    2956.000\n",
       "0.988    2956.000\n",
       "0.989    2956.495\n",
       "0.990    2967.000\n",
       "0.991    2982.000\n",
       "0.992    2982.000\n",
       "0.993    2982.000\n",
       "0.994    2982.000\n",
       "0.995    2987.000\n",
       "0.996    2993.000\n",
       "0.997    2993.000\n",
       "0.998    2997.000\n",
       "0.999    3198.000\n",
       "1.000    3604.000\n",
       "Name: engine, dtype: float64"
      ]
     },
     "execution_count": 39,
     "metadata": {},
     "output_type": "execute_result"
    }
   ],
   "source": [
    "car['engine'].quantile(np.arange(0.98,1,0.001))"
   ]
  },
  {
   "cell_type": "code",
   "execution_count": 40,
   "id": "70dbd384",
   "metadata": {},
   "outputs": [
    {
     "data": {
      "text/html": [
       "<div>\n",
       "<style scoped>\n",
       "    .dataframe tbody tr th:only-of-type {\n",
       "        vertical-align: middle;\n",
       "    }\n",
       "\n",
       "    .dataframe tbody tr th {\n",
       "        vertical-align: top;\n",
       "    }\n",
       "\n",
       "    .dataframe thead th {\n",
       "        text-align: right;\n",
       "    }\n",
       "</style>\n",
       "<table border=\"1\" class=\"dataframe\">\n",
       "  <thead>\n",
       "    <tr style=\"text-align: right;\">\n",
       "      <th></th>\n",
       "      <th>Sales_ID</th>\n",
       "      <th>name</th>\n",
       "      <th>year</th>\n",
       "      <th>selling_price</th>\n",
       "      <th>km_driven</th>\n",
       "      <th>state_or_province</th>\n",
       "      <th>City</th>\n",
       "      <th>fuel</th>\n",
       "      <th>seller_type</th>\n",
       "      <th>transmission</th>\n",
       "      <th>owner</th>\n",
       "      <th>mileage</th>\n",
       "      <th>engine</th>\n",
       "      <th>max_power</th>\n",
       "      <th>seats</th>\n",
       "      <th>sold</th>\n",
       "      <th>Region</th>\n",
       "    </tr>\n",
       "  </thead>\n",
       "  <tbody>\n",
       "    <tr>\n",
       "      <th>335</th>\n",
       "      <td>1861</td>\n",
       "      <td>Jeep Wrangler 2016-2019 3.6 4X4</td>\n",
       "      <td>2017</td>\n",
       "      <td>4100000</td>\n",
       "      <td>17000.0</td>\n",
       "      <td>New York</td>\n",
       "      <td>Auburn</td>\n",
       "      <td>Petrol</td>\n",
       "      <td>Individual</td>\n",
       "      <td>Automatic</td>\n",
       "      <td>First Owner</td>\n",
       "      <td>9.50</td>\n",
       "      <td>3604</td>\n",
       "      <td>280.0</td>\n",
       "      <td>5</td>\n",
       "      <td>Y</td>\n",
       "      <td>East</td>\n",
       "    </tr>\n",
       "    <tr>\n",
       "      <th>1067</th>\n",
       "      <td>135</td>\n",
       "      <td>Jeep Wrangler 2016-2019 3.6 4X4</td>\n",
       "      <td>2017</td>\n",
       "      <td>4100000</td>\n",
       "      <td>17000.0</td>\n",
       "      <td>California</td>\n",
       "      <td>Los Angeles</td>\n",
       "      <td>Petrol</td>\n",
       "      <td>Individual</td>\n",
       "      <td>Automatic</td>\n",
       "      <td>First Owner</td>\n",
       "      <td>9.50</td>\n",
       "      <td>3604</td>\n",
       "      <td>280.0</td>\n",
       "      <td>5</td>\n",
       "      <td>Y</td>\n",
       "      <td>West</td>\n",
       "    </tr>\n",
       "    <tr>\n",
       "      <th>3745</th>\n",
       "      <td>7704</td>\n",
       "      <td>Jeep Wrangler 2016-2019 3.6 4X4</td>\n",
       "      <td>2017</td>\n",
       "      <td>4100000</td>\n",
       "      <td>17000.0</td>\n",
       "      <td>Florida</td>\n",
       "      <td>Pembroke Pines</td>\n",
       "      <td>Petrol</td>\n",
       "      <td>Individual</td>\n",
       "      <td>Automatic</td>\n",
       "      <td>First Owner</td>\n",
       "      <td>9.50</td>\n",
       "      <td>3604</td>\n",
       "      <td>280.0</td>\n",
       "      <td>5</td>\n",
       "      <td>N</td>\n",
       "      <td>South</td>\n",
       "    </tr>\n",
       "    <tr>\n",
       "      <th>4228</th>\n",
       "      <td>5963</td>\n",
       "      <td>Mercedes-Benz E-Class E350 Petrol</td>\n",
       "      <td>2009</td>\n",
       "      <td>1000000</td>\n",
       "      <td>80000.0</td>\n",
       "      <td>Michigan</td>\n",
       "      <td>Lincoln Park</td>\n",
       "      <td>Petrol</td>\n",
       "      <td>Individual</td>\n",
       "      <td>Automatic</td>\n",
       "      <td>Third Owner</td>\n",
       "      <td>10.93</td>\n",
       "      <td>3498</td>\n",
       "      <td>272.0</td>\n",
       "      <td>5</td>\n",
       "      <td>N</td>\n",
       "      <td>Central</td>\n",
       "    </tr>\n",
       "    <tr>\n",
       "      <th>5998</th>\n",
       "      <td>1565</td>\n",
       "      <td>Jeep Wrangler 2016-2019 3.6 4X4</td>\n",
       "      <td>2017</td>\n",
       "      <td>4100000</td>\n",
       "      <td>17000.0</td>\n",
       "      <td>Idaho</td>\n",
       "      <td>Lewiston</td>\n",
       "      <td>Petrol</td>\n",
       "      <td>Individual</td>\n",
       "      <td>Automatic</td>\n",
       "      <td>First Owner</td>\n",
       "      <td>9.50</td>\n",
       "      <td>3604</td>\n",
       "      <td>280.0</td>\n",
       "      <td>5</td>\n",
       "      <td>Y</td>\n",
       "      <td>West</td>\n",
       "    </tr>\n",
       "    <tr>\n",
       "      <th>6015</th>\n",
       "      <td>3240</td>\n",
       "      <td>Jeep Wrangler 2016-2019 3.6 4X4</td>\n",
       "      <td>2017</td>\n",
       "      <td>4100000</td>\n",
       "      <td>17000.0</td>\n",
       "      <td>Idaho</td>\n",
       "      <td>Pocatello</td>\n",
       "      <td>Petrol</td>\n",
       "      <td>Individual</td>\n",
       "      <td>Automatic</td>\n",
       "      <td>First Owner</td>\n",
       "      <td>9.50</td>\n",
       "      <td>3604</td>\n",
       "      <td>280.0</td>\n",
       "      <td>5</td>\n",
       "      <td>N</td>\n",
       "      <td>West</td>\n",
       "    </tr>\n",
       "    <tr>\n",
       "      <th>7723</th>\n",
       "      <td>5249</td>\n",
       "      <td>Jeep Wrangler 2016-2019 3.6 4X4</td>\n",
       "      <td>2017</td>\n",
       "      <td>4100000</td>\n",
       "      <td>17000.0</td>\n",
       "      <td>Louisiana</td>\n",
       "      <td>Bossier City</td>\n",
       "      <td>Petrol</td>\n",
       "      <td>Individual</td>\n",
       "      <td>Automatic</td>\n",
       "      <td>First Owner</td>\n",
       "      <td>9.50</td>\n",
       "      <td>3604</td>\n",
       "      <td>280.0</td>\n",
       "      <td>5</td>\n",
       "      <td>N</td>\n",
       "      <td>South</td>\n",
       "    </tr>\n",
       "  </tbody>\n",
       "</table>\n",
       "</div>"
      ],
      "text/plain": [
       "      Sales_ID                               name  year  selling_price  \\\n",
       "335       1861    Jeep Wrangler 2016-2019 3.6 4X4  2017        4100000   \n",
       "1067       135    Jeep Wrangler 2016-2019 3.6 4X4  2017        4100000   \n",
       "3745      7704    Jeep Wrangler 2016-2019 3.6 4X4  2017        4100000   \n",
       "4228      5963  Mercedes-Benz E-Class E350 Petrol  2009        1000000   \n",
       "5998      1565    Jeep Wrangler 2016-2019 3.6 4X4  2017        4100000   \n",
       "6015      3240    Jeep Wrangler 2016-2019 3.6 4X4  2017        4100000   \n",
       "7723      5249    Jeep Wrangler 2016-2019 3.6 4X4  2017        4100000   \n",
       "\n",
       "      km_driven state_or_province            City    fuel seller_type  \\\n",
       "335     17000.0          New York          Auburn  Petrol  Individual   \n",
       "1067    17000.0        California     Los Angeles  Petrol  Individual   \n",
       "3745    17000.0           Florida  Pembroke Pines  Petrol  Individual   \n",
       "4228    80000.0          Michigan    Lincoln Park  Petrol  Individual   \n",
       "5998    17000.0             Idaho        Lewiston  Petrol  Individual   \n",
       "6015    17000.0             Idaho       Pocatello  Petrol  Individual   \n",
       "7723    17000.0         Louisiana    Bossier City  Petrol  Individual   \n",
       "\n",
       "     transmission        owner  mileage  engine  max_power  seats sold  \\\n",
       "335     Automatic  First Owner     9.50    3604      280.0      5    Y   \n",
       "1067    Automatic  First Owner     9.50    3604      280.0      5    Y   \n",
       "3745    Automatic  First Owner     9.50    3604      280.0      5    N   \n",
       "4228    Automatic  Third Owner    10.93    3498      272.0      5    N   \n",
       "5998    Automatic  First Owner     9.50    3604      280.0      5    Y   \n",
       "6015    Automatic  First Owner     9.50    3604      280.0      5    N   \n",
       "7723    Automatic  First Owner     9.50    3604      280.0      5    N   \n",
       "\n",
       "       Region  \n",
       "335      East  \n",
       "1067     West  \n",
       "3745    South  \n",
       "4228  Central  \n",
       "5998     West  \n",
       "6015     West  \n",
       "7723    South  "
      ]
     },
     "execution_count": 40,
     "metadata": {},
     "output_type": "execute_result"
    }
   ],
   "source": [
    "car.loc[(car[\"engine\"]>3198.000)]"
   ]
  },
  {
   "cell_type": "code",
   "execution_count": 41,
   "id": "f6b5220f",
   "metadata": {},
   "outputs": [
    {
     "data": {
      "text/plain": [
       "count    7906.000000\n",
       "mean     1458.708829\n",
       "std       503.893057\n",
       "min       624.000000\n",
       "25%      1197.000000\n",
       "50%      1248.000000\n",
       "75%      1582.000000\n",
       "max      3604.000000\n",
       "Name: engine, dtype: float64"
      ]
     },
     "execution_count": 41,
     "metadata": {},
     "output_type": "execute_result"
    }
   ],
   "source": [
    "car['engine'].describe()"
   ]
  },
  {
   "cell_type": "markdown",
   "id": "9335f565",
   "metadata": {},
   "source": [
    "There were no outliers present in EngineCC column"
   ]
  },
  {
   "cell_type": "code",
   "execution_count": 42,
   "id": "19cc2abb",
   "metadata": {},
   "outputs": [
    {
     "data": {
      "text/plain": [
       "count    7906.000000\n",
       "mean       91.587374\n",
       "std        35.747216\n",
       "min        32.800000\n",
       "25%        68.050000\n",
       "50%        82.000000\n",
       "75%       102.000000\n",
       "max       400.000000\n",
       "Name: max_power, dtype: float64"
      ]
     },
     "execution_count": 42,
     "metadata": {},
     "output_type": "execute_result"
    }
   ],
   "source": [
    "car['max_power'].describe()"
   ]
  },
  {
   "cell_type": "code",
   "execution_count": 43,
   "id": "fbc53675",
   "metadata": {},
   "outputs": [
    {
     "data": {
      "image/png": "[encoded data removed]",
      "text/plain": [
       "<Figure size 432x288 with 1 Axes>"
      ]
     },
     "metadata": {
      "needs_background": "light"
     },
     "output_type": "display_data"
    }
   ],
   "source": [
    "car.boxplot(column='max_power')\n",
    "plt.show()"
   ]
  },
  {
   "cell_type": "code",
   "execution_count": 44,
   "id": "5621762f",
   "metadata": {},
   "outputs": [
    {
     "data": {
      "text/plain": [
       "0.1     60.00\n",
       "0.2     67.05\n",
       "0.3     73.00\n",
       "0.4     75.00\n",
       "0.5     82.00\n",
       "0.6     88.70\n",
       "0.7     98.60\n",
       "0.8    110.00\n",
       "0.9    140.00\n",
       "Name: max_power, dtype: float64"
      ]
     },
     "execution_count": 44,
     "metadata": {},
     "output_type": "execute_result"
    }
   ],
   "source": [
    "car['max_power'].quantile(np.arange(0.1,1,0.1))"
   ]
  },
  {
   "cell_type": "code",
   "execution_count": 45,
   "id": "2b33f549",
   "metadata": {},
   "outputs": [
    {
     "data": {
      "text/plain": [
       "0.80    110.000\n",
       "0.82    117.330\n",
       "0.84    120.000\n",
       "0.86    126.200\n",
       "0.88    138.030\n",
       "0.90    140.000\n",
       "0.92    147.940\n",
       "0.94    167.655\n",
       "0.96    177.000\n",
       "0.98    190.000\n",
       "Name: max_power, dtype: float64"
      ]
     },
     "execution_count": 45,
     "metadata": {},
     "output_type": "execute_result"
    }
   ],
   "source": [
    "car['max_power'].quantile(np.arange(0.8,1,0.02))"
   ]
  },
  {
   "cell_type": "code",
   "execution_count": 46,
   "id": "4d48cd86",
   "metadata": {},
   "outputs": [
    {
     "data": {
      "text/plain": [
       "0.90    140.0000\n",
       "0.91    147.5055\n",
       "0.92    147.9400\n",
       "0.93    153.8600\n",
       "0.94    167.6550\n",
       "0.95    171.5000\n",
       "0.96    177.0000\n",
       "0.97    187.7400\n",
       "0.98    190.0000\n",
       "0.99    214.0320\n",
       "Name: max_power, dtype: float64"
      ]
     },
     "execution_count": 46,
     "metadata": {},
     "output_type": "execute_result"
    }
   ],
   "source": [
    "car['max_power'].quantile(np.arange(0.9,1,0.01))"
   ]
  },
  {
   "cell_type": "code",
   "execution_count": 47,
   "id": "dd78b27d",
   "metadata": {},
   "outputs": [
    {
     "data": {
      "text/plain": [
       "272.7600000000093"
      ]
     },
     "execution_count": 47,
     "metadata": {},
     "output_type": "execute_result"
    }
   ],
   "source": [
    "car['max_power'].quantile(0.999)"
   ]
  },
  {
   "cell_type": "code",
   "execution_count": 48,
   "id": "df537e44",
   "metadata": {},
   "outputs": [
    {
     "data": {
      "text/html": [
       "<div>\n",
       "<style scoped>\n",
       "    .dataframe tbody tr th:only-of-type {\n",
       "        vertical-align: middle;\n",
       "    }\n",
       "\n",
       "    .dataframe tbody tr th {\n",
       "        vertical-align: top;\n",
       "    }\n",
       "\n",
       "    .dataframe thead th {\n",
       "        text-align: right;\n",
       "    }\n",
       "</style>\n",
       "<table border=\"1\" class=\"dataframe\">\n",
       "  <thead>\n",
       "    <tr style=\"text-align: right;\">\n",
       "      <th></th>\n",
       "      <th>Sales_ID</th>\n",
       "      <th>name</th>\n",
       "      <th>year</th>\n",
       "      <th>selling_price</th>\n",
       "      <th>km_driven</th>\n",
       "      <th>state_or_province</th>\n",
       "      <th>City</th>\n",
       "      <th>fuel</th>\n",
       "      <th>seller_type</th>\n",
       "      <th>transmission</th>\n",
       "      <th>owner</th>\n",
       "      <th>mileage</th>\n",
       "      <th>engine</th>\n",
       "      <th>max_power</th>\n",
       "      <th>seats</th>\n",
       "      <th>sold</th>\n",
       "      <th>Region</th>\n",
       "    </tr>\n",
       "  </thead>\n",
       "  <tbody>\n",
       "    <tr>\n",
       "      <th>107</th>\n",
       "      <td>171</td>\n",
       "      <td>Volvo XC90 T8 Excellence BSIV</td>\n",
       "      <td>2017</td>\n",
       "      <td>10000000</td>\n",
       "      <td>30000.0</td>\n",
       "      <td>New York</td>\n",
       "      <td>New York City</td>\n",
       "      <td>Petrol</td>\n",
       "      <td>Individual</td>\n",
       "      <td>Automatic</td>\n",
       "      <td>First Owner</td>\n",
       "      <td>42.0</td>\n",
       "      <td>1969</td>\n",
       "      <td>400.0</td>\n",
       "      <td>4</td>\n",
       "      <td>Y</td>\n",
       "      <td>East</td>\n",
       "    </tr>\n",
       "    <tr>\n",
       "      <th>335</th>\n",
       "      <td>1861</td>\n",
       "      <td>Jeep Wrangler 2016-2019 3.6 4X4</td>\n",
       "      <td>2017</td>\n",
       "      <td>4100000</td>\n",
       "      <td>17000.0</td>\n",
       "      <td>New York</td>\n",
       "      <td>Auburn</td>\n",
       "      <td>Petrol</td>\n",
       "      <td>Individual</td>\n",
       "      <td>Automatic</td>\n",
       "      <td>First Owner</td>\n",
       "      <td>9.5</td>\n",
       "      <td>3604</td>\n",
       "      <td>280.0</td>\n",
       "      <td>5</td>\n",
       "      <td>Y</td>\n",
       "      <td>East</td>\n",
       "    </tr>\n",
       "    <tr>\n",
       "      <th>1067</th>\n",
       "      <td>135</td>\n",
       "      <td>Jeep Wrangler 2016-2019 3.6 4X4</td>\n",
       "      <td>2017</td>\n",
       "      <td>4100000</td>\n",
       "      <td>17000.0</td>\n",
       "      <td>California</td>\n",
       "      <td>Los Angeles</td>\n",
       "      <td>Petrol</td>\n",
       "      <td>Individual</td>\n",
       "      <td>Automatic</td>\n",
       "      <td>First Owner</td>\n",
       "      <td>9.5</td>\n",
       "      <td>3604</td>\n",
       "      <td>280.0</td>\n",
       "      <td>5</td>\n",
       "      <td>Y</td>\n",
       "      <td>West</td>\n",
       "    </tr>\n",
       "    <tr>\n",
       "      <th>1076</th>\n",
       "      <td>149</td>\n",
       "      <td>Mercedes-Benz S-Class S 350 CDI</td>\n",
       "      <td>2017</td>\n",
       "      <td>5850000</td>\n",
       "      <td>47000.0</td>\n",
       "      <td>California</td>\n",
       "      <td>Los Angeles</td>\n",
       "      <td>Diesel</td>\n",
       "      <td>Dealer</td>\n",
       "      <td>Automatic</td>\n",
       "      <td>First Owner</td>\n",
       "      <td>13.5</td>\n",
       "      <td>2987</td>\n",
       "      <td>282.0</td>\n",
       "      <td>5</td>\n",
       "      <td>Y</td>\n",
       "      <td>West</td>\n",
       "    </tr>\n",
       "    <tr>\n",
       "      <th>3745</th>\n",
       "      <td>7704</td>\n",
       "      <td>Jeep Wrangler 2016-2019 3.6 4X4</td>\n",
       "      <td>2017</td>\n",
       "      <td>4100000</td>\n",
       "      <td>17000.0</td>\n",
       "      <td>Florida</td>\n",
       "      <td>Pembroke Pines</td>\n",
       "      <td>Petrol</td>\n",
       "      <td>Individual</td>\n",
       "      <td>Automatic</td>\n",
       "      <td>First Owner</td>\n",
       "      <td>9.5</td>\n",
       "      <td>3604</td>\n",
       "      <td>280.0</td>\n",
       "      <td>5</td>\n",
       "      <td>N</td>\n",
       "      <td>South</td>\n",
       "    </tr>\n",
       "    <tr>\n",
       "      <th>5998</th>\n",
       "      <td>1565</td>\n",
       "      <td>Jeep Wrangler 2016-2019 3.6 4X4</td>\n",
       "      <td>2017</td>\n",
       "      <td>4100000</td>\n",
       "      <td>17000.0</td>\n",
       "      <td>Idaho</td>\n",
       "      <td>Lewiston</td>\n",
       "      <td>Petrol</td>\n",
       "      <td>Individual</td>\n",
       "      <td>Automatic</td>\n",
       "      <td>First Owner</td>\n",
       "      <td>9.5</td>\n",
       "      <td>3604</td>\n",
       "      <td>280.0</td>\n",
       "      <td>5</td>\n",
       "      <td>Y</td>\n",
       "      <td>West</td>\n",
       "    </tr>\n",
       "    <tr>\n",
       "      <th>6015</th>\n",
       "      <td>3240</td>\n",
       "      <td>Jeep Wrangler 2016-2019 3.6 4X4</td>\n",
       "      <td>2017</td>\n",
       "      <td>4100000</td>\n",
       "      <td>17000.0</td>\n",
       "      <td>Idaho</td>\n",
       "      <td>Pocatello</td>\n",
       "      <td>Petrol</td>\n",
       "      <td>Individual</td>\n",
       "      <td>Automatic</td>\n",
       "      <td>First Owner</td>\n",
       "      <td>9.5</td>\n",
       "      <td>3604</td>\n",
       "      <td>280.0</td>\n",
       "      <td>5</td>\n",
       "      <td>N</td>\n",
       "      <td>West</td>\n",
       "    </tr>\n",
       "    <tr>\n",
       "      <th>7723</th>\n",
       "      <td>5249</td>\n",
       "      <td>Jeep Wrangler 2016-2019 3.6 4X4</td>\n",
       "      <td>2017</td>\n",
       "      <td>4100000</td>\n",
       "      <td>17000.0</td>\n",
       "      <td>Louisiana</td>\n",
       "      <td>Bossier City</td>\n",
       "      <td>Petrol</td>\n",
       "      <td>Individual</td>\n",
       "      <td>Automatic</td>\n",
       "      <td>First Owner</td>\n",
       "      <td>9.5</td>\n",
       "      <td>3604</td>\n",
       "      <td>280.0</td>\n",
       "      <td>5</td>\n",
       "      <td>N</td>\n",
       "      <td>South</td>\n",
       "    </tr>\n",
       "  </tbody>\n",
       "</table>\n",
       "</div>"
      ],
      "text/plain": [
       "      Sales_ID                             name  year  selling_price  \\\n",
       "107        171    Volvo XC90 T8 Excellence BSIV  2017       10000000   \n",
       "335       1861  Jeep Wrangler 2016-2019 3.6 4X4  2017        4100000   \n",
       "1067       135  Jeep Wrangler 2016-2019 3.6 4X4  2017        4100000   \n",
       "1076       149  Mercedes-Benz S-Class S 350 CDI  2017        5850000   \n",
       "3745      7704  Jeep Wrangler 2016-2019 3.6 4X4  2017        4100000   \n",
       "5998      1565  Jeep Wrangler 2016-2019 3.6 4X4  2017        4100000   \n",
       "6015      3240  Jeep Wrangler 2016-2019 3.6 4X4  2017        4100000   \n",
       "7723      5249  Jeep Wrangler 2016-2019 3.6 4X4  2017        4100000   \n",
       "\n",
       "      km_driven state_or_province            City    fuel seller_type  \\\n",
       "107     30000.0          New York   New York City  Petrol  Individual   \n",
       "335     17000.0          New York          Auburn  Petrol  Individual   \n",
       "1067    17000.0        California     Los Angeles  Petrol  Individual   \n",
       "1076    47000.0        California     Los Angeles  Diesel      Dealer   \n",
       "3745    17000.0           Florida  Pembroke Pines  Petrol  Individual   \n",
       "5998    17000.0             Idaho        Lewiston  Petrol  Individual   \n",
       "6015    17000.0             Idaho       Pocatello  Petrol  Individual   \n",
       "7723    17000.0         Louisiana    Bossier City  Petrol  Individual   \n",
       "\n",
       "     transmission        owner  mileage  engine  max_power  seats sold Region  \n",
       "107     Automatic  First Owner     42.0    1969      400.0      4    Y   East  \n",
       "335     Automatic  First Owner      9.5    3604      280.0      5    Y   East  \n",
       "1067    Automatic  First Owner      9.5    3604      280.0      5    Y   West  \n",
       "1076    Automatic  First Owner     13.5    2987      282.0      5    Y   West  \n",
       "3745    Automatic  First Owner      9.5    3604      280.0      5    N  South  \n",
       "5998    Automatic  First Owner      9.5    3604      280.0      5    Y   West  \n",
       "6015    Automatic  First Owner      9.5    3604      280.0      5    N   West  \n",
       "7723    Automatic  First Owner      9.5    3604      280.0      5    N  South  "
      ]
     },
     "execution_count": 48,
     "metadata": {},
     "output_type": "execute_result"
    }
   ],
   "source": [
    "car.loc[(car[\"max_power\"]>272.76)]"
   ]
  },
  {
   "cell_type": "markdown",
   "id": "1a52b32e",
   "metadata": {},
   "source": [
    "We see that car with MaxPower 400 was sold which shows that it was not outlier and it's km_driven is very less,so we don't have to treat it.Remaining values were in continuous range."
   ]
  },
  {
   "cell_type": "code",
   "execution_count": 49,
   "id": "a52c1776",
   "metadata": {},
   "outputs": [
    {
     "data": {
      "text/html": [
       "<div>\n",
       "<style scoped>\n",
       "    .dataframe tbody tr th:only-of-type {\n",
       "        vertical-align: middle;\n",
       "    }\n",
       "\n",
       "    .dataframe tbody tr th {\n",
       "        vertical-align: top;\n",
       "    }\n",
       "\n",
       "    .dataframe thead th {\n",
       "        text-align: right;\n",
       "    }\n",
       "</style>\n",
       "<table border=\"1\" class=\"dataframe\">\n",
       "  <thead>\n",
       "    <tr style=\"text-align: right;\">\n",
       "      <th></th>\n",
       "      <th>Sales_ID</th>\n",
       "      <th>name</th>\n",
       "      <th>year</th>\n",
       "      <th>selling_price</th>\n",
       "      <th>km_driven</th>\n",
       "      <th>state_or_province</th>\n",
       "      <th>City</th>\n",
       "      <th>fuel</th>\n",
       "      <th>seller_type</th>\n",
       "      <th>transmission</th>\n",
       "      <th>owner</th>\n",
       "      <th>mileage</th>\n",
       "      <th>engine</th>\n",
       "      <th>max_power</th>\n",
       "      <th>seats</th>\n",
       "      <th>sold</th>\n",
       "      <th>Region</th>\n",
       "    </tr>\n",
       "  </thead>\n",
       "  <tbody>\n",
       "    <tr>\n",
       "      <th>0</th>\n",
       "      <td>1</td>\n",
       "      <td>Maruti Swift Dzire VDI</td>\n",
       "      <td>2014</td>\n",
       "      <td>450000</td>\n",
       "      <td>145500.0</td>\n",
       "      <td>District of Columbia</td>\n",
       "      <td>Washington</td>\n",
       "      <td>Diesel</td>\n",
       "      <td>Individual</td>\n",
       "      <td>Manual</td>\n",
       "      <td>First Owner</td>\n",
       "      <td>23.40</td>\n",
       "      <td>1248</td>\n",
       "      <td>74.000</td>\n",
       "      <td>5</td>\n",
       "      <td>Y</td>\n",
       "      <td>East</td>\n",
       "    </tr>\n",
       "    <tr>\n",
       "      <th>1</th>\n",
       "      <td>38</td>\n",
       "      <td>Hyundai Verna VTVT 1.6 SX Option</td>\n",
       "      <td>2019</td>\n",
       "      <td>1149000</td>\n",
       "      <td>5000.0</td>\n",
       "      <td>District of Columbia</td>\n",
       "      <td>Washington</td>\n",
       "      <td>Petrol</td>\n",
       "      <td>Individual</td>\n",
       "      <td>Manual</td>\n",
       "      <td>First Owner</td>\n",
       "      <td>17.00</td>\n",
       "      <td>1591</td>\n",
       "      <td>121.300</td>\n",
       "      <td>5</td>\n",
       "      <td>Y</td>\n",
       "      <td>East</td>\n",
       "    </tr>\n",
       "    <tr>\n",
       "      <th>2</th>\n",
       "      <td>66</td>\n",
       "      <td>Ford Figo 1.2P Titanium MT</td>\n",
       "      <td>2017</td>\n",
       "      <td>600000</td>\n",
       "      <td>25000.0</td>\n",
       "      <td>District of Columbia</td>\n",
       "      <td>Washington</td>\n",
       "      <td>Petrol</td>\n",
       "      <td>Individual</td>\n",
       "      <td>Manual</td>\n",
       "      <td>Third Owner</td>\n",
       "      <td>18.16</td>\n",
       "      <td>1196</td>\n",
       "      <td>86.800</td>\n",
       "      <td>5</td>\n",
       "      <td>Y</td>\n",
       "      <td>East</td>\n",
       "    </tr>\n",
       "    <tr>\n",
       "      <th>3</th>\n",
       "      <td>68</td>\n",
       "      <td>Volkswagen Ameo 1.5 TDI Highline 16 Alloy</td>\n",
       "      <td>2016</td>\n",
       "      <td>540000</td>\n",
       "      <td>40000.0</td>\n",
       "      <td>District of Columbia</td>\n",
       "      <td>Washington</td>\n",
       "      <td>Diesel</td>\n",
       "      <td>Individual</td>\n",
       "      <td>Manual</td>\n",
       "      <td>First Owner</td>\n",
       "      <td>22.00</td>\n",
       "      <td>1498</td>\n",
       "      <td>108.495</td>\n",
       "      <td>5</td>\n",
       "      <td>Y</td>\n",
       "      <td>East</td>\n",
       "    </tr>\n",
       "    <tr>\n",
       "      <th>4</th>\n",
       "      <td>69</td>\n",
       "      <td>Honda City i DTEC VX</td>\n",
       "      <td>2015</td>\n",
       "      <td>630000</td>\n",
       "      <td>135000.0</td>\n",
       "      <td>District of Columbia</td>\n",
       "      <td>Washington</td>\n",
       "      <td>Diesel</td>\n",
       "      <td>Individual</td>\n",
       "      <td>Manual</td>\n",
       "      <td>First Owner</td>\n",
       "      <td>25.10</td>\n",
       "      <td>1498</td>\n",
       "      <td>98.600</td>\n",
       "      <td>5</td>\n",
       "      <td>Y</td>\n",
       "      <td>East</td>\n",
       "    </tr>\n",
       "  </tbody>\n",
       "</table>\n",
       "</div>"
      ],
      "text/plain": [
       "   Sales_ID                                       name  year  selling_price  \\\n",
       "0         1                     Maruti Swift Dzire VDI  2014         450000   \n",
       "1        38           Hyundai Verna VTVT 1.6 SX Option  2019        1149000   \n",
       "2        66                 Ford Figo 1.2P Titanium MT  2017         600000   \n",
       "3        68  Volkswagen Ameo 1.5 TDI Highline 16 Alloy  2016         540000   \n",
       "4        69                       Honda City i DTEC VX  2015         630000   \n",
       "\n",
       "   km_driven     state_or_province        City    fuel seller_type  \\\n",
       "0   145500.0  District of Columbia  Washington  Diesel  Individual   \n",
       "1     5000.0  District of Columbia  Washington  Petrol  Individual   \n",
       "2    25000.0  District of Columbia  Washington  Petrol  Individual   \n",
       "3    40000.0  District of Columbia  Washington  Diesel  Individual   \n",
       "4   135000.0  District of Columbia  Washington  Diesel  Individual   \n",
       "\n",
       "  transmission        owner  mileage  engine  max_power  seats sold Region  \n",
       "0       Manual  First Owner    23.40    1248     74.000      5    Y   East  \n",
       "1       Manual  First Owner    17.00    1591    121.300      5    Y   East  \n",
       "2       Manual  Third Owner    18.16    1196     86.800      5    Y   East  \n",
       "3       Manual  First Owner    22.00    1498    108.495      5    Y   East  \n",
       "4       Manual  First Owner    25.10    1498     98.600      5    Y   East  "
      ]
     },
     "execution_count": 49,
     "metadata": {},
     "output_type": "execute_result"
    }
   ],
   "source": [
    "car.head()"
   ]
  },
  {
   "cell_type": "code",
   "execution_count": 50,
   "id": "66c8a3ed",
   "metadata": {},
   "outputs": [],
   "source": [
    "from sklearn import preprocessing\n",
    "label_encoder = preprocessing.LabelEncoder()\n",
    "car['name']=label_encoder.fit_transform(car['name'])\n",
    "car['state_or_province']=label_encoder.fit_transform(car['state_or_province'])\n",
    "car['City']=label_encoder.fit_transform(car['City'])\n",
    "car['fuel']=label_encoder.fit_transform(car['fuel'])\n",
    "car['seller_type']=label_encoder.fit_transform(car['seller_type'])\n",
    "car['transmission']=label_encoder.fit_transform(car['transmission'])\n",
    "car['owner']=label_encoder.fit_transform(car['owner'])\n",
    "car['sold']=label_encoder.fit_transform(car['sold'])\n",
    "car['Region']=label_encoder.fit_transform(car['Region'])"
   ]
  },
  {
   "cell_type": "code",
   "execution_count": 51,
   "id": "8fef0bf8",
   "metadata": {},
   "outputs": [
    {
     "data": {
      "text/html": [
       "<div>\n",
       "<style scoped>\n",
       "    .dataframe tbody tr th:only-of-type {\n",
       "        vertical-align: middle;\n",
       "    }\n",
       "\n",
       "    .dataframe tbody tr th {\n",
       "        vertical-align: top;\n",
       "    }\n",
       "\n",
       "    .dataframe thead th {\n",
       "        text-align: right;\n",
       "    }\n",
       "</style>\n",
       "<table border=\"1\" class=\"dataframe\">\n",
       "  <thead>\n",
       "    <tr style=\"text-align: right;\">\n",
       "      <th></th>\n",
       "      <th>Sales_ID</th>\n",
       "      <th>name</th>\n",
       "      <th>year</th>\n",
       "      <th>selling_price</th>\n",
       "      <th>km_driven</th>\n",
       "      <th>state_or_province</th>\n",
       "      <th>City</th>\n",
       "      <th>fuel</th>\n",
       "      <th>seller_type</th>\n",
       "      <th>transmission</th>\n",
       "      <th>owner</th>\n",
       "      <th>mileage</th>\n",
       "      <th>engine</th>\n",
       "      <th>max_power</th>\n",
       "      <th>seats</th>\n",
       "      <th>sold</th>\n",
       "      <th>Region</th>\n",
       "    </tr>\n",
       "  </thead>\n",
       "  <tbody>\n",
       "    <tr>\n",
       "      <th>0</th>\n",
       "      <td>1</td>\n",
       "      <td>1249</td>\n",
       "      <td>2014</td>\n",
       "      <td>450000</td>\n",
       "      <td>145500.0</td>\n",
       "      <td>7</td>\n",
       "      <td>1223</td>\n",
       "      <td>1</td>\n",
       "      <td>1</td>\n",
       "      <td>1</td>\n",
       "      <td>0</td>\n",
       "      <td>23.40</td>\n",
       "      <td>1248</td>\n",
       "      <td>74.000</td>\n",
       "      <td>5</td>\n",
       "      <td>1</td>\n",
       "      <td>1</td>\n",
       "    </tr>\n",
       "    <tr>\n",
       "      <th>1</th>\n",
       "      <td>38</td>\n",
       "      <td>633</td>\n",
       "      <td>2019</td>\n",
       "      <td>1149000</td>\n",
       "      <td>5000.0</td>\n",
       "      <td>7</td>\n",
       "      <td>1223</td>\n",
       "      <td>3</td>\n",
       "      <td>1</td>\n",
       "      <td>1</td>\n",
       "      <td>0</td>\n",
       "      <td>17.00</td>\n",
       "      <td>1591</td>\n",
       "      <td>121.300</td>\n",
       "      <td>5</td>\n",
       "      <td>1</td>\n",
       "      <td>1</td>\n",
       "    </tr>\n",
       "    <tr>\n",
       "      <th>2</th>\n",
       "      <td>66</td>\n",
       "      <td>255</td>\n",
       "      <td>2017</td>\n",
       "      <td>600000</td>\n",
       "      <td>25000.0</td>\n",
       "      <td>7</td>\n",
       "      <td>1223</td>\n",
       "      <td>3</td>\n",
       "      <td>1</td>\n",
       "      <td>1</td>\n",
       "      <td>4</td>\n",
       "      <td>18.16</td>\n",
       "      <td>1196</td>\n",
       "      <td>86.800</td>\n",
       "      <td>5</td>\n",
       "      <td>1</td>\n",
       "      <td>1</td>\n",
       "    </tr>\n",
       "    <tr>\n",
       "      <th>3</th>\n",
       "      <td>68</td>\n",
       "      <td>1919</td>\n",
       "      <td>2016</td>\n",
       "      <td>540000</td>\n",
       "      <td>40000.0</td>\n",
       "      <td>7</td>\n",
       "      <td>1223</td>\n",
       "      <td>1</td>\n",
       "      <td>1</td>\n",
       "      <td>1</td>\n",
       "      <td>0</td>\n",
       "      <td>22.00</td>\n",
       "      <td>1498</td>\n",
       "      <td>108.495</td>\n",
       "      <td>5</td>\n",
       "      <td>1</td>\n",
       "      <td>1</td>\n",
       "    </tr>\n",
       "    <tr>\n",
       "      <th>4</th>\n",
       "      <td>69</td>\n",
       "      <td>389</td>\n",
       "      <td>2015</td>\n",
       "      <td>630000</td>\n",
       "      <td>135000.0</td>\n",
       "      <td>7</td>\n",
       "      <td>1223</td>\n",
       "      <td>1</td>\n",
       "      <td>1</td>\n",
       "      <td>1</td>\n",
       "      <td>0</td>\n",
       "      <td>25.10</td>\n",
       "      <td>1498</td>\n",
       "      <td>98.600</td>\n",
       "      <td>5</td>\n",
       "      <td>1</td>\n",
       "      <td>1</td>\n",
       "    </tr>\n",
       "  </tbody>\n",
       "</table>\n",
       "</div>"
      ],
      "text/plain": [
       "   Sales_ID  name  year  selling_price  km_driven  state_or_province  City  \\\n",
       "0         1  1249  2014         450000   145500.0                  7  1223   \n",
       "1        38   633  2019        1149000     5000.0                  7  1223   \n",
       "2        66   255  2017         600000    25000.0                  7  1223   \n",
       "3        68  1919  2016         540000    40000.0                  7  1223   \n",
       "4        69   389  2015         630000   135000.0                  7  1223   \n",
       "\n",
       "   fuel  seller_type  transmission  owner  mileage  engine  max_power  seats  \\\n",
       "0     1            1             1      0    23.40    1248     74.000      5   \n",
       "1     3            1             1      0    17.00    1591    121.300      5   \n",
       "2     3            1             1      4    18.16    1196     86.800      5   \n",
       "3     1            1             1      0    22.00    1498    108.495      5   \n",
       "4     1            1             1      0    25.10    1498     98.600      5   \n",
       "\n",
       "   sold  Region  \n",
       "0     1       1  \n",
       "1     1       1  \n",
       "2     1       1  \n",
       "3     1       1  \n",
       "4     1       1  "
      ]
     },
     "execution_count": 51,
     "metadata": {},
     "output_type": "execute_result"
    }
   ],
   "source": [
    "car.head()"
   ]
  },
  {
   "cell_type": "code",
   "execution_count": 52,
   "id": "f23faad0",
   "metadata": {},
   "outputs": [
    {
     "data": {
      "text/html": [
       "<div>\n",
       "<style scoped>\n",
       "    .dataframe tbody tr th:only-of-type {\n",
       "        vertical-align: middle;\n",
       "    }\n",
       "\n",
       "    .dataframe tbody tr th {\n",
       "        vertical-align: top;\n",
       "    }\n",
       "\n",
       "    .dataframe thead th {\n",
       "        text-align: right;\n",
       "    }\n",
       "</style>\n",
       "<table border=\"1\" class=\"dataframe\">\n",
       "  <thead>\n",
       "    <tr style=\"text-align: right;\">\n",
       "      <th></th>\n",
       "      <th>name</th>\n",
       "      <th>year</th>\n",
       "      <th>selling_price</th>\n",
       "      <th>km_driven</th>\n",
       "      <th>state_or_province</th>\n",
       "      <th>City</th>\n",
       "      <th>fuel</th>\n",
       "      <th>seller_type</th>\n",
       "      <th>transmission</th>\n",
       "      <th>owner</th>\n",
       "      <th>mileage</th>\n",
       "      <th>engine</th>\n",
       "      <th>max_power</th>\n",
       "      <th>seats</th>\n",
       "      <th>sold</th>\n",
       "      <th>Region</th>\n",
       "    </tr>\n",
       "  </thead>\n",
       "  <tbody>\n",
       "    <tr>\n",
       "      <th>0</th>\n",
       "      <td>1249</td>\n",
       "      <td>2014</td>\n",
       "      <td>450000</td>\n",
       "      <td>145500.0</td>\n",
       "      <td>7</td>\n",
       "      <td>1223</td>\n",
       "      <td>1</td>\n",
       "      <td>1</td>\n",
       "      <td>1</td>\n",
       "      <td>0</td>\n",
       "      <td>23.40</td>\n",
       "      <td>1248</td>\n",
       "      <td>74.000</td>\n",
       "      <td>5</td>\n",
       "      <td>1</td>\n",
       "      <td>1</td>\n",
       "    </tr>\n",
       "    <tr>\n",
       "      <th>1</th>\n",
       "      <td>633</td>\n",
       "      <td>2019</td>\n",
       "      <td>1149000</td>\n",
       "      <td>5000.0</td>\n",
       "      <td>7</td>\n",
       "      <td>1223</td>\n",
       "      <td>3</td>\n",
       "      <td>1</td>\n",
       "      <td>1</td>\n",
       "      <td>0</td>\n",
       "      <td>17.00</td>\n",
       "      <td>1591</td>\n",
       "      <td>121.300</td>\n",
       "      <td>5</td>\n",
       "      <td>1</td>\n",
       "      <td>1</td>\n",
       "    </tr>\n",
       "    <tr>\n",
       "      <th>2</th>\n",
       "      <td>255</td>\n",
       "      <td>2017</td>\n",
       "      <td>600000</td>\n",
       "      <td>25000.0</td>\n",
       "      <td>7</td>\n",
       "      <td>1223</td>\n",
       "      <td>3</td>\n",
       "      <td>1</td>\n",
       "      <td>1</td>\n",
       "      <td>4</td>\n",
       "      <td>18.16</td>\n",
       "      <td>1196</td>\n",
       "      <td>86.800</td>\n",
       "      <td>5</td>\n",
       "      <td>1</td>\n",
       "      <td>1</td>\n",
       "    </tr>\n",
       "    <tr>\n",
       "      <th>3</th>\n",
       "      <td>1919</td>\n",
       "      <td>2016</td>\n",
       "      <td>540000</td>\n",
       "      <td>40000.0</td>\n",
       "      <td>7</td>\n",
       "      <td>1223</td>\n",
       "      <td>1</td>\n",
       "      <td>1</td>\n",
       "      <td>1</td>\n",
       "      <td>0</td>\n",
       "      <td>22.00</td>\n",
       "      <td>1498</td>\n",
       "      <td>108.495</td>\n",
       "      <td>5</td>\n",
       "      <td>1</td>\n",
       "      <td>1</td>\n",
       "    </tr>\n",
       "    <tr>\n",
       "      <th>4</th>\n",
       "      <td>389</td>\n",
       "      <td>2015</td>\n",
       "      <td>630000</td>\n",
       "      <td>135000.0</td>\n",
       "      <td>7</td>\n",
       "      <td>1223</td>\n",
       "      <td>1</td>\n",
       "      <td>1</td>\n",
       "      <td>1</td>\n",
       "      <td>0</td>\n",
       "      <td>25.10</td>\n",
       "      <td>1498</td>\n",
       "      <td>98.600</td>\n",
       "      <td>5</td>\n",
       "      <td>1</td>\n",
       "      <td>1</td>\n",
       "    </tr>\n",
       "  </tbody>\n",
       "</table>\n",
       "</div>"
      ],
      "text/plain": [
       "   name  year  selling_price  km_driven  state_or_province  City  fuel  \\\n",
       "0  1249  2014         450000   145500.0                  7  1223     1   \n",
       "1   633  2019        1149000     5000.0                  7  1223     3   \n",
       "2   255  2017         600000    25000.0                  7  1223     3   \n",
       "3  1919  2016         540000    40000.0                  7  1223     1   \n",
       "4   389  2015         630000   135000.0                  7  1223     1   \n",
       "\n",
       "   seller_type  transmission  owner  mileage  engine  max_power  seats  sold  \\\n",
       "0            1             1      0    23.40    1248     74.000      5     1   \n",
       "1            1             1      0    17.00    1591    121.300      5     1   \n",
       "2            1             1      4    18.16    1196     86.800      5     1   \n",
       "3            1             1      0    22.00    1498    108.495      5     1   \n",
       "4            1             1      0    25.10    1498     98.600      5     1   \n",
       "\n",
       "   Region  \n",
       "0       1  \n",
       "1       1  \n",
       "2       1  \n",
       "3       1  \n",
       "4       1  "
      ]
     },
     "execution_count": 52,
     "metadata": {},
     "output_type": "execute_result"
    }
   ],
   "source": [
    "cr = car.drop('Sales_ID',axis=1)\n",
    "cr.head()"
   ]
  },
  {
   "cell_type": "code",
   "execution_count": 53,
   "id": "cb4a38d2",
   "metadata": {},
   "outputs": [],
   "source": [
    "x = cr.drop('selling_price',axis=1)\n",
    "y = cr['selling_price']"
   ]
  },
  {
   "cell_type": "code",
   "execution_count": 54,
   "id": "2d394f5e",
   "metadata": {},
   "outputs": [
    {
     "data": {
      "text/html": [
       "<div>\n",
       "<style scoped>\n",
       "    .dataframe tbody tr th:only-of-type {\n",
       "        vertical-align: middle;\n",
       "    }\n",
       "\n",
       "    .dataframe tbody tr th {\n",
       "        vertical-align: top;\n",
       "    }\n",
       "\n",
       "    .dataframe thead th {\n",
       "        text-align: right;\n",
       "    }\n",
       "</style>\n",
       "<table border=\"1\" class=\"dataframe\">\n",
       "  <thead>\n",
       "    <tr style=\"text-align: right;\">\n",
       "      <th></th>\n",
       "      <th>name</th>\n",
       "      <th>year</th>\n",
       "      <th>km_driven</th>\n",
       "      <th>state_or_province</th>\n",
       "      <th>City</th>\n",
       "      <th>fuel</th>\n",
       "      <th>seller_type</th>\n",
       "      <th>transmission</th>\n",
       "      <th>owner</th>\n",
       "      <th>mileage</th>\n",
       "      <th>engine</th>\n",
       "      <th>max_power</th>\n",
       "      <th>seats</th>\n",
       "      <th>sold</th>\n",
       "      <th>Region</th>\n",
       "    </tr>\n",
       "  </thead>\n",
       "  <tbody>\n",
       "    <tr>\n",
       "      <th>0</th>\n",
       "      <td>0.448252</td>\n",
       "      <td>0.004158</td>\n",
       "      <td>1.513722</td>\n",
       "      <td>-1.028573</td>\n",
       "      <td>1.539086</td>\n",
       "      <td>-0.887058</td>\n",
       "      <td>0.277395</td>\n",
       "      <td>0.389408</td>\n",
       "      <td>-0.655358</td>\n",
       "      <td>1.001103</td>\n",
       "      <td>-0.418188</td>\n",
       "      <td>-0.492024</td>\n",
       "      <td>-0.434128</td>\n",
       "      <td>1.71843</td>\n",
       "      <td>-0.348458</td>\n",
       "    </tr>\n",
       "    <tr>\n",
       "      <th>1</th>\n",
       "      <td>-0.718453</td>\n",
       "      <td>1.298338</td>\n",
       "      <td>-1.263028</td>\n",
       "      <td>-1.028573</td>\n",
       "      <td>1.539086</td>\n",
       "      <td>1.110117</td>\n",
       "      <td>0.277395</td>\n",
       "      <td>0.389408</td>\n",
       "      <td>-0.655358</td>\n",
       "      <td>-0.625723</td>\n",
       "      <td>0.262555</td>\n",
       "      <td>0.831240</td>\n",
       "      <td>-0.434128</td>\n",
       "      <td>1.71843</td>\n",
       "      <td>-0.348458</td>\n",
       "    </tr>\n",
       "    <tr>\n",
       "      <th>2</th>\n",
       "      <td>-1.434386</td>\n",
       "      <td>0.780666</td>\n",
       "      <td>-0.867761</td>\n",
       "      <td>-1.028573</td>\n",
       "      <td>1.539086</td>\n",
       "      <td>1.110117</td>\n",
       "      <td>0.277395</td>\n",
       "      <td>0.389408</td>\n",
       "      <td>2.662242</td>\n",
       "      <td>-0.330860</td>\n",
       "      <td>-0.521391</td>\n",
       "      <td>-0.133931</td>\n",
       "      <td>-0.434128</td>\n",
       "      <td>1.71843</td>\n",
       "      <td>-0.348458</td>\n",
       "    </tr>\n",
       "    <tr>\n",
       "      <th>3</th>\n",
       "      <td>1.717234</td>\n",
       "      <td>0.521830</td>\n",
       "      <td>-0.571311</td>\n",
       "      <td>-1.028573</td>\n",
       "      <td>1.539086</td>\n",
       "      <td>-0.887058</td>\n",
       "      <td>0.277395</td>\n",
       "      <td>0.389408</td>\n",
       "      <td>-0.655358</td>\n",
       "      <td>0.645235</td>\n",
       "      <td>0.077980</td>\n",
       "      <td>0.473007</td>\n",
       "      <td>-0.434128</td>\n",
       "      <td>1.71843</td>\n",
       "      <td>-0.348458</td>\n",
       "    </tr>\n",
       "    <tr>\n",
       "      <th>4</th>\n",
       "      <td>-1.180590</td>\n",
       "      <td>0.262994</td>\n",
       "      <td>1.306207</td>\n",
       "      <td>-1.028573</td>\n",
       "      <td>1.539086</td>\n",
       "      <td>-0.887058</td>\n",
       "      <td>0.277395</td>\n",
       "      <td>0.389408</td>\n",
       "      <td>-0.655358</td>\n",
       "      <td>1.433229</td>\n",
       "      <td>0.077980</td>\n",
       "      <td>0.196185</td>\n",
       "      <td>-0.434128</td>\n",
       "      <td>1.71843</td>\n",
       "      <td>-0.348458</td>\n",
       "    </tr>\n",
       "  </tbody>\n",
       "</table>\n",
       "</div>"
      ],
      "text/plain": [
       "       name      year  km_driven  state_or_province      City      fuel  \\\n",
       "0  0.448252  0.004158   1.513722          -1.028573  1.539086 -0.887058   \n",
       "1 -0.718453  1.298338  -1.263028          -1.028573  1.539086  1.110117   \n",
       "2 -1.434386  0.780666  -0.867761          -1.028573  1.539086  1.110117   \n",
       "3  1.717234  0.521830  -0.571311          -1.028573  1.539086 -0.887058   \n",
       "4 -1.180590  0.262994   1.306207          -1.028573  1.539086 -0.887058   \n",
       "\n",
       "   seller_type  transmission     owner   mileage    engine  max_power  \\\n",
       "0     0.277395      0.389408 -0.655358  1.001103 -0.418188  -0.492024   \n",
       "1     0.277395      0.389408 -0.655358 -0.625723  0.262555   0.831240   \n",
       "2     0.277395      0.389408  2.662242 -0.330860 -0.521391  -0.133931   \n",
       "3     0.277395      0.389408 -0.655358  0.645235  0.077980   0.473007   \n",
       "4     0.277395      0.389408 -0.655358  1.433229  0.077980   0.196185   \n",
       "\n",
       "      seats     sold    Region  \n",
       "0 -0.434128  1.71843 -0.348458  \n",
       "1 -0.434128  1.71843 -0.348458  \n",
       "2 -0.434128  1.71843 -0.348458  \n",
       "3 -0.434128  1.71843 -0.348458  \n",
       "4 -0.434128  1.71843 -0.348458  "
      ]
     },
     "execution_count": 54,
     "metadata": {},
     "output_type": "execute_result"
    }
   ],
   "source": [
    "from sklearn.preprocessing import StandardScaler\n",
    "scaler = StandardScaler()\n",
    "df_scale = scaler.fit_transform(x)\n",
    "df_scaled = pd.DataFrame(df_scale,columns=x.columns)\n",
    "df_scaled.head()"
   ]
  },
  {
   "cell_type": "code",
   "execution_count": 55,
   "id": "a2d1d4bf",
   "metadata": {},
   "outputs": [],
   "source": [
    "from sklearn.model_selection import train_test_split\n",
    "xtrain,xtest,ytrain,ytest = train_test_split(df_scaled,y,test_size=0.2,random_state=123)"
   ]
  },
  {
   "cell_type": "code",
   "execution_count": 56,
   "id": "74a370ab",
   "metadata": {},
   "outputs": [],
   "source": [
    "test_results_mae = {}\n",
    "test_results_mse = {}\n",
    "test_results_r2_score = {}\n",
    "test_result_score = {}"
   ]
  },
  {
   "cell_type": "markdown",
   "id": "b4ee1f29",
   "metadata": {},
   "source": [
    "# OLS Model-- linear Regression"
   ]
  },
  {
   "cell_type": "code",
   "execution_count": 57,
   "id": "4c81da00",
   "metadata": {},
   "outputs": [],
   "source": [
    "import statsmodels.api as sm\n",
    "\n",
    "xtrain1 = sm.add_constant(xtrain)\n",
    "xtest1 = sm.add_constant(xtest)"
   ]
  },
  {
   "cell_type": "code",
   "execution_count": 58,
   "id": "308b6606",
   "metadata": {},
   "outputs": [],
   "source": [
    "model1 = sm.OLS(ytrain,xtrain1)"
   ]
  },
  {
   "cell_type": "code",
   "execution_count": 59,
   "id": "fc2f00c5",
   "metadata": {},
   "outputs": [],
   "source": [
    "results1 = model1.fit()"
   ]
  },
  {
   "cell_type": "code",
   "execution_count": 60,
   "id": "13c915a5",
   "metadata": {},
   "outputs": [
    {
     "name": "stdout",
     "output_type": "stream",
     "text": [
      "                            OLS Regression Results                            \n",
      "==============================================================================\n",
      "Dep. Variable:          selling_price   R-squared:                       0.685\n",
      "Model:                            OLS   Adj. R-squared:                  0.684\n",
      "Method:                 Least Squares   F-statistic:                     913.5\n",
      "Date:                Wed, 08 Dec 2021   Prob (F-statistic):               0.00\n",
      "Time:                        10:38:06   Log-Likelihood:                -91456.\n",
      "No. Observations:                6324   AIC:                         1.829e+05\n",
      "Df Residuals:                    6308   BIC:                         1.831e+05\n",
      "Df Model:                          15                                         \n",
      "Covariance Type:            nonrobust                                         \n",
      "=====================================================================================\n",
      "                        coef    std err          t      P>|t|      [0.025      0.975]\n",
      "-------------------------------------------------------------------------------------\n",
      "const              6.521e+05   5814.482    112.155      0.000    6.41e+05    6.64e+05\n",
      "name              -1.007e+04   5925.524     -1.699      0.089   -2.17e+04    1550.911\n",
      "year               1.178e+05   8369.858     14.072      0.000    1.01e+05    1.34e+05\n",
      "km_driven         -7.891e+04   7273.065    -10.850      0.000   -9.32e+04   -6.47e+04\n",
      "state_or_province -4761.4284   5993.261     -0.794      0.427   -1.65e+04    6987.401\n",
      "City              -5691.6249   5844.838     -0.974      0.330   -1.71e+04    5766.245\n",
      "fuel              -2.122e+04   8447.174     -2.512      0.012   -3.78e+04   -4661.520\n",
      "seller_type       -8.304e+04   6123.051    -13.562      0.000    -9.5e+04    -7.1e+04\n",
      "transmission      -1.643e+05   7360.207    -22.321      0.000   -1.79e+05    -1.5e+05\n",
      "owner             -6315.8056   6720.951     -0.940      0.347   -1.95e+04    6859.545\n",
      "mileage            5.856e+04      1e+04      5.831      0.000    3.89e+04    7.83e+04\n",
      "engine             5.406e+04   1.35e+04      4.019      0.000    2.77e+04    8.04e+04\n",
      "max_power          4.595e+05   1.06e+04     43.418      0.000    4.39e+05     4.8e+05\n",
      "seats             -2.698e+04   8666.675     -3.114      0.002    -4.4e+04   -9994.191\n",
      "sold               6763.8664   5817.104      1.163      0.245   -4639.635    1.82e+04\n",
      "Region            -4440.0789   6008.246     -0.739      0.460   -1.62e+04    7338.127\n",
      "==============================================================================\n",
      "Omnibus:                     3377.402   Durbin-Watson:                   2.027\n",
      "Prob(Omnibus):                  0.000   Jarque-Bera (JB):            55225.746\n",
      "Skew:                           2.184   Prob(JB):                         0.00\n",
      "Kurtosis:                      16.803   Cond. No.                         4.83\n",
      "==============================================================================\n",
      "\n",
      "Notes:\n",
      "[1] Standard Errors assume that the covariance matrix of the errors is correctly specified.\n"
     ]
    }
   ],
   "source": [
    "print(results1.summary())"
   ]
  },
  {
   "cell_type": "markdown",
   "id": "2af576c9",
   "metadata": {},
   "source": [
    "Removing attributes with pval>0.05 as those will have depenency and the R-squared should not reduce on dletion"
   ]
  },
  {
   "cell_type": "code",
   "execution_count": 61,
   "id": "8afaf307",
   "metadata": {},
   "outputs": [
    {
     "name": "stdout",
     "output_type": "stream",
     "text": [
      "                            OLS Regression Results                            \n",
      "==============================================================================\n",
      "Dep. Variable:          selling_price   R-squared:                       0.685\n",
      "Model:                            OLS   Adj. R-squared:                  0.684\n",
      "Method:                 Least Squares   F-statistic:                     978.8\n",
      "Date:                Wed, 08 Dec 2021   Prob (F-statistic):               0.00\n",
      "Time:                        10:38:06   Log-Likelihood:                -91456.\n",
      "No. Observations:                6324   AIC:                         1.829e+05\n",
      "Df Residuals:                    6309   BIC:                         1.830e+05\n",
      "Df Model:                          14                                         \n",
      "Covariance Type:            nonrobust                                         \n",
      "=====================================================================================\n",
      "                        coef    std err          t      P>|t|      [0.025      0.975]\n",
      "-------------------------------------------------------------------------------------\n",
      "const              6.521e+05   5814.272    112.158      0.000    6.41e+05    6.64e+05\n",
      "name                  -1e+04   5924.725     -1.688      0.091   -2.16e+04    1610.892\n",
      "year               1.177e+05   8368.982     14.065      0.000    1.01e+05    1.34e+05\n",
      "km_driven         -7.893e+04   7272.749    -10.853      0.000   -9.32e+04   -6.47e+04\n",
      "state_or_province -3709.2121   5821.461     -0.637      0.524   -1.51e+04    7702.831\n",
      "City              -5937.7237   5835.133     -1.018      0.309   -1.74e+04    5501.122\n",
      "fuel              -2.136e+04   8444.909     -2.529      0.011   -3.79e+04   -4800.496\n",
      "seller_type       -8.307e+04   6122.709    -13.568      0.000   -9.51e+04   -7.11e+04\n",
      "transmission      -1.643e+05   7359.746    -22.327      0.000   -1.79e+05    -1.5e+05\n",
      "owner             -6266.1388   6720.373     -0.932      0.351   -1.94e+04    6908.078\n",
      "mileage            5.848e+04      1e+04      5.823      0.000    3.88e+04    7.82e+04\n",
      "engine             5.376e+04   1.34e+04      3.999      0.000    2.74e+04    8.01e+04\n",
      "max_power          4.596e+05   1.06e+04     43.431      0.000    4.39e+05     4.8e+05\n",
      "seats             -2.678e+04   8662.040     -3.092      0.002   -4.38e+04   -9800.986\n",
      "sold               6846.4524   5815.821      1.177      0.239   -4554.534    1.82e+04\n",
      "==============================================================================\n",
      "Omnibus:                     3378.875   Durbin-Watson:                   2.027\n",
      "Prob(Omnibus):                  0.000   Jarque-Bera (JB):            55264.939\n",
      "Skew:                           2.185   Prob(JB):                         0.00\n",
      "Kurtosis:                      16.807   Cond. No.                         4.83\n",
      "==============================================================================\n",
      "\n",
      "Notes:\n",
      "[1] Standard Errors assume that the covariance matrix of the errors is correctly specified.\n"
     ]
    }
   ],
   "source": [
    "xtrain2 = xtrain1.drop('Region', axis=1)\n",
    "xtest2 = xtest1.drop('Region', axis=1)\n",
    "model2 = sm.OLS(ytrain,xtrain2)\n",
    "results2 = model2.fit()\n",
    "print(results2.summary())"
   ]
  },
  {
   "cell_type": "code",
   "execution_count": 62,
   "id": "6db87183",
   "metadata": {},
   "outputs": [
    {
     "name": "stdout",
     "output_type": "stream",
     "text": [
      "                            OLS Regression Results                            \n",
      "==============================================================================\n",
      "Dep. Variable:          selling_price   R-squared:                       0.685\n",
      "Model:                            OLS   Adj. R-squared:                  0.684\n",
      "Method:                 Least Squares   F-statistic:                     1054.\n",
      "Date:                Wed, 08 Dec 2021   Prob (F-statistic):               0.00\n",
      "Time:                        10:38:06   Log-Likelihood:                -91456.\n",
      "No. Observations:                6324   AIC:                         1.829e+05\n",
      "Df Residuals:                    6310   BIC:                         1.830e+05\n",
      "Df Model:                          13                                         \n",
      "Covariance Type:            nonrobust                                         \n",
      "================================================================================\n",
      "                   coef    std err          t      P>|t|      [0.025      0.975]\n",
      "--------------------------------------------------------------------------------\n",
      "const         6.521e+05   5813.995    112.164      0.000    6.41e+05    6.64e+05\n",
      "name         -1.003e+04   5924.335     -1.692      0.091   -2.16e+04    1586.919\n",
      "year          1.178e+05   8368.222     14.072      0.000    1.01e+05    1.34e+05\n",
      "km_driven    -7.898e+04   7272.061    -10.861      0.000   -9.32e+04   -6.47e+04\n",
      "City         -5913.2895   5834.732     -1.013      0.311   -1.74e+04    5524.770\n",
      "fuel         -2.137e+04   8444.479     -2.531      0.011   -3.79e+04   -4816.267\n",
      "seller_type  -8.299e+04   6121.138    -13.558      0.000    -9.5e+04    -7.1e+04\n",
      "transmission -1.643e+05   7359.154    -22.324      0.000   -1.79e+05    -1.5e+05\n",
      "owner        -6101.7146   6715.101     -0.909      0.364   -1.93e+04    7062.166\n",
      "mileage       5.852e+04      1e+04      5.828      0.000    3.88e+04    7.82e+04\n",
      "engine         5.37e+04   1.34e+04      3.995      0.000    2.73e+04    8.01e+04\n",
      "max_power     4.597e+05   1.06e+04     43.453      0.000    4.39e+05     4.8e+05\n",
      "seats        -2.676e+04   8661.551     -3.089      0.002   -4.37e+04   -9778.133\n",
      "sold          6897.5462   5814.994      1.186      0.236   -4501.819    1.83e+04\n",
      "==============================================================================\n",
      "Omnibus:                     3379.748   Durbin-Watson:                   2.027\n",
      "Prob(Omnibus):                  0.000   Jarque-Bera (JB):            55291.282\n",
      "Skew:                           2.186   Prob(JB):                         0.00\n",
      "Kurtosis:                      16.810   Cond. No.                         4.83\n",
      "==============================================================================\n",
      "\n",
      "Notes:\n",
      "[1] Standard Errors assume that the covariance matrix of the errors is correctly specified.\n"
     ]
    }
   ],
   "source": [
    "xtrain3 = xtrain2.drop('state_or_province', axis=1)\n",
    "xtest3 = xtest2.drop('state_or_province', axis=1)\n",
    "model3 = sm.OLS(ytrain,xtrain3)\n",
    "results3 = model3.fit()\n",
    "print(results3.summary())"
   ]
  },
  {
   "cell_type": "code",
   "execution_count": 63,
   "id": "d35e453f",
   "metadata": {},
   "outputs": [
    {
     "name": "stdout",
     "output_type": "stream",
     "text": [
      "                            OLS Regression Results                            \n",
      "==============================================================================\n",
      "Dep. Variable:          selling_price   R-squared:                       0.685\n",
      "Model:                            OLS   Adj. R-squared:                  0.684\n",
      "Method:                 Least Squares   F-statistic:                     1142.\n",
      "Date:                Wed, 08 Dec 2021   Prob (F-statistic):               0.00\n",
      "Time:                        10:38:06   Log-Likelihood:                -91457.\n",
      "No. Observations:                6324   AIC:                         1.829e+05\n",
      "Df Residuals:                    6311   BIC:                         1.830e+05\n",
      "Df Model:                          12                                         \n",
      "Covariance Type:            nonrobust                                         \n",
      "================================================================================\n",
      "                   coef    std err          t      P>|t|      [0.025      0.975]\n",
      "--------------------------------------------------------------------------------\n",
      "const         6.521e+05   5813.902    112.168      0.000    6.41e+05    6.64e+05\n",
      "name         -9902.4659   5922.673     -1.672      0.095   -2.15e+04    1707.986\n",
      "year          1.203e+05   7901.222     15.221      0.000    1.05e+05    1.36e+05\n",
      "km_driven    -7.953e+04   7247.032    -10.973      0.000   -9.37e+04   -6.53e+04\n",
      "City         -5952.0079   5834.496     -1.020      0.308   -1.74e+04    5485.588\n",
      "fuel         -2.096e+04   8432.504     -2.486      0.013   -3.75e+04   -4433.250\n",
      "seller_type  -8.339e+04   6104.942    -13.660      0.000   -9.54e+04   -7.14e+04\n",
      "transmission -1.643e+05   7358.939    -22.330      0.000   -1.79e+05    -1.5e+05\n",
      "mileage       5.886e+04      1e+04      5.866      0.000    3.92e+04    7.85e+04\n",
      "engine        5.412e+04   1.34e+04      4.028      0.000    2.78e+04    8.05e+04\n",
      "max_power     4.596e+05   1.06e+04     43.447      0.000    4.39e+05     4.8e+05\n",
      "seats        -2.668e+04   8661.048     -3.081      0.002   -4.37e+04   -9705.008\n",
      "sold          6907.6638   5814.903      1.188      0.235   -4491.523    1.83e+04\n",
      "==============================================================================\n",
      "Omnibus:                     3374.200   Durbin-Watson:                   2.027\n",
      "Prob(Omnibus):                  0.000   Jarque-Bera (JB):            54994.841\n",
      "Skew:                           2.182   Prob(JB):                         0.00\n",
      "Kurtosis:                      16.772   Cond. No.                         4.83\n",
      "==============================================================================\n",
      "\n",
      "Notes:\n",
      "[1] Standard Errors assume that the covariance matrix of the errors is correctly specified.\n"
     ]
    }
   ],
   "source": [
    "xtrain4 = xtrain3.drop('owner', axis=1)\n",
    "xtest4 = xtest3.drop('owner', axis=1)\n",
    "model4 = sm.OLS(ytrain,xtrain4)\n",
    "results4 = model4.fit()\n",
    "print(results4.summary())"
   ]
  },
  {
   "cell_type": "code",
   "execution_count": 64,
   "id": "2f8f9de1",
   "metadata": {},
   "outputs": [
    {
     "name": "stdout",
     "output_type": "stream",
     "text": [
      "                            OLS Regression Results                            \n",
      "==============================================================================\n",
      "Dep. Variable:          selling_price   R-squared:                       0.685\n",
      "Model:                            OLS   Adj. R-squared:                  0.684\n",
      "Method:                 Least Squares   F-statistic:                     1246.\n",
      "Date:                Wed, 08 Dec 2021   Prob (F-statistic):               0.00\n",
      "Time:                        10:38:06   Log-Likelihood:                -91457.\n",
      "No. Observations:                6324   AIC:                         1.829e+05\n",
      "Df Residuals:                    6312   BIC:                         1.830e+05\n",
      "Df Model:                          11                                         \n",
      "Covariance Type:            nonrobust                                         \n",
      "================================================================================\n",
      "                   coef    std err          t      P>|t|      [0.025      0.975]\n",
      "--------------------------------------------------------------------------------\n",
      "const         6.521e+05   5813.914    112.166      0.000    6.41e+05    6.64e+05\n",
      "name         -9799.8618   5921.838     -1.655      0.098   -2.14e+04    1808.953\n",
      "year          1.204e+05   7899.404     15.247      0.000    1.05e+05    1.36e+05\n",
      "km_driven     -7.96e+04   7246.726    -10.984      0.000   -9.38e+04   -6.54e+04\n",
      "fuel         -2.108e+04   8431.812     -2.500      0.012   -3.76e+04   -4546.957\n",
      "seller_type  -8.351e+04   6103.815    -13.682      0.000   -9.55e+04   -7.15e+04\n",
      "transmission -1.643e+05   7358.961    -22.329      0.000   -1.79e+05    -1.5e+05\n",
      "mileage       5.865e+04      1e+04      5.846      0.000     3.9e+04    7.83e+04\n",
      "engine        5.401e+04   1.34e+04      4.020      0.000    2.77e+04    8.03e+04\n",
      "max_power     4.596e+05   1.06e+04     43.448      0.000    4.39e+05     4.8e+05\n",
      "seats         -2.67e+04   8661.058     -3.083      0.002   -4.37e+04   -9722.957\n",
      "sold          7184.2736   5808.597      1.237      0.216   -4202.550    1.86e+04\n",
      "==============================================================================\n",
      "Omnibus:                     3374.467   Durbin-Watson:                   2.027\n",
      "Prob(Omnibus):                  0.000   Jarque-Bera (JB):            54933.637\n",
      "Skew:                           2.183   Prob(JB):                         0.00\n",
      "Kurtosis:                      16.763   Cond. No.                         4.82\n",
      "==============================================================================\n",
      "\n",
      "Notes:\n",
      "[1] Standard Errors assume that the covariance matrix of the errors is correctly specified.\n"
     ]
    }
   ],
   "source": [
    "xtrain5 = xtrain4.drop('City', axis=1)\n",
    "xtest5 = xtest4.drop('City', axis=1)\n",
    "model5 = sm.OLS(ytrain,xtrain5)\n",
    "results5 = model5.fit()\n",
    "print(results5.summary())"
   ]
  },
  {
   "cell_type": "code",
   "execution_count": 65,
   "id": "8d1a43cd",
   "metadata": {},
   "outputs": [
    {
     "name": "stdout",
     "output_type": "stream",
     "text": [
      "                            OLS Regression Results                            \n",
      "==============================================================================\n",
      "Dep. Variable:          selling_price   R-squared:                       0.685\n",
      "Model:                            OLS   Adj. R-squared:                  0.684\n",
      "Method:                 Least Squares   F-statistic:                     1370.\n",
      "Date:                Wed, 08 Dec 2021   Prob (F-statistic):               0.00\n",
      "Time:                        10:38:06   Log-Likelihood:                -91458.\n",
      "No. Observations:                6324   AIC:                         1.829e+05\n",
      "Df Residuals:                    6313   BIC:                         1.830e+05\n",
      "Df Model:                          10                                         \n",
      "Covariance Type:            nonrobust                                         \n",
      "================================================================================\n",
      "                   coef    std err          t      P>|t|      [0.025      0.975]\n",
      "--------------------------------------------------------------------------------\n",
      "const         6.522e+05   5814.123    112.167      0.000    6.41e+05    6.64e+05\n",
      "name         -9703.0037   5921.568     -1.639      0.101   -2.13e+04    1905.282\n",
      "year          1.206e+05   7898.094     15.274      0.000    1.05e+05    1.36e+05\n",
      "km_driven    -7.949e+04   7246.529    -10.969      0.000   -9.37e+04   -6.53e+04\n",
      "fuel         -2.084e+04   8429.974     -2.472      0.013   -3.74e+04   -4312.776\n",
      "seller_type  -8.352e+04   6104.067    -13.683      0.000   -9.55e+04   -7.16e+04\n",
      "transmission -1.644e+05   7359.078    -22.338      0.000   -1.79e+05    -1.5e+05\n",
      "mileage       5.841e+04      1e+04      5.823      0.000    3.87e+04    7.81e+04\n",
      "engine        5.412e+04   1.34e+04      4.028      0.000    2.78e+04    8.05e+04\n",
      "max_power     4.595e+05   1.06e+04     43.440      0.000    4.39e+05     4.8e+05\n",
      "seats        -2.675e+04   8661.339     -3.088      0.002   -4.37e+04   -9768.931\n",
      "==============================================================================\n",
      "Omnibus:                     3374.811   Durbin-Watson:                   2.026\n",
      "Prob(Omnibus):                  0.000   Jarque-Bera (JB):            54973.919\n",
      "Skew:                           2.183   Prob(JB):                         0.00\n",
      "Kurtosis:                      16.769   Cond. No.                         4.82\n",
      "==============================================================================\n",
      "\n",
      "Notes:\n",
      "[1] Standard Errors assume that the covariance matrix of the errors is correctly specified.\n"
     ]
    }
   ],
   "source": [
    "xtrain6 = xtrain5.drop('sold', axis=1)\n",
    "xtest6 = xtest5.drop('sold', axis=1)\n",
    "model6 = sm.OLS(ytrain,xtrain6)\n",
    "results6 = model6.fit()\n",
    "print(results6.summary())"
   ]
  },
  {
   "cell_type": "code",
   "execution_count": 66,
   "id": "d633708b",
   "metadata": {},
   "outputs": [
    {
     "name": "stdout",
     "output_type": "stream",
     "text": [
      "                            OLS Regression Results                            \n",
      "==============================================================================\n",
      "Dep. Variable:          selling_price   R-squared:                       0.684\n",
      "Model:                            OLS   Adj. R-squared:                  0.684\n",
      "Method:                 Least Squares   F-statistic:                     1521.\n",
      "Date:                Wed, 08 Dec 2021   Prob (F-statistic):               0.00\n",
      "Time:                        10:38:06   Log-Likelihood:                -91459.\n",
      "No. Observations:                6324   AIC:                         1.829e+05\n",
      "Df Residuals:                    6314   BIC:                         1.830e+05\n",
      "Df Model:                           9                                         \n",
      "Covariance Type:            nonrobust                                         \n",
      "================================================================================\n",
      "                   coef    std err          t      P>|t|      [0.025      0.975]\n",
      "--------------------------------------------------------------------------------\n",
      "const         6.522e+05   5814.899    112.152      0.000    6.41e+05    6.64e+05\n",
      "year          1.205e+05   7898.341     15.250      0.000    1.05e+05    1.36e+05\n",
      "km_driven    -7.994e+04   7242.305    -11.038      0.000   -9.41e+04   -6.57e+04\n",
      "fuel         -2.026e+04   8423.678     -2.405      0.016   -3.68e+04   -3745.685\n",
      "seller_type  -8.422e+04   6090.145    -13.828      0.000   -9.62e+04   -7.23e+04\n",
      "transmission -1.638e+05   7350.779    -22.280      0.000   -1.78e+05   -1.49e+05\n",
      "mileage       5.833e+04      1e+04      5.815      0.000    3.87e+04     7.8e+04\n",
      "engine        5.233e+04   1.34e+04      3.908      0.000    2.61e+04    7.86e+04\n",
      "max_power     4.615e+05   1.05e+04     43.908      0.000    4.41e+05    4.82e+05\n",
      "seats        -2.689e+04   8662.064     -3.104      0.002   -4.39e+04   -9909.105\n",
      "==============================================================================\n",
      "Omnibus:                     3403.815   Durbin-Watson:                   2.026\n",
      "Prob(Omnibus):                  0.000   Jarque-Bera (JB):            56026.611\n",
      "Skew:                           2.205   Prob(JB):                         0.00\n",
      "Kurtosis:                      16.899   Cond. No.                         4.80\n",
      "==============================================================================\n",
      "\n",
      "Notes:\n",
      "[1] Standard Errors assume that the covariance matrix of the errors is correctly specified.\n"
     ]
    }
   ],
   "source": [
    "xtrain7 = xtrain6.drop('name', axis=1)\n",
    "xtest7 = xtest6.drop('name', axis=1)\n",
    "model7 = sm.OLS(ytrain,xtrain7)\n",
    "results7 = model7.fit()\n",
    "print(results7.summary())"
   ]
  },
  {
   "cell_type": "markdown",
   "id": "0ce22535",
   "metadata": {},
   "source": [
    "As Rsqured reduced on deletion of name it should not be done and the action is reversed. So the final model is model6"
   ]
  },
  {
   "cell_type": "code",
   "execution_count": 67,
   "id": "485ea3fa",
   "metadata": {},
   "outputs": [],
   "source": [
    "from sklearn.metrics import mean_absolute_error, mean_squared_error, r2_score"
   ]
  },
  {
   "cell_type": "code",
   "execution_count": 68,
   "id": "747ba822",
   "metadata": {},
   "outputs": [],
   "source": [
    "predictions = results6.predict(xtest6)"
   ]
  },
  {
   "cell_type": "code",
   "execution_count": 69,
   "id": "7e20bb9c",
   "metadata": {},
   "outputs": [
    {
     "data": {
      "text/plain": [
       "276637.18835386063"
      ]
     },
     "execution_count": 69,
     "metadata": {},
     "output_type": "execute_result"
    }
   ],
   "source": [
    "mae0 = mean_absolute_error(ytest,predictions)\n",
    "mae0"
   ]
  },
  {
   "cell_type": "code",
   "execution_count": 70,
   "id": "1e6c4d8f",
   "metadata": {},
   "outputs": [
    {
     "data": {
      "text/plain": [
       "200933125813.0264"
      ]
     },
     "execution_count": 70,
     "metadata": {},
     "output_type": "execute_result"
    }
   ],
   "source": [
    "mse0 = mean_squared_error(ytest,predictions)\n",
    "mse0"
   ]
  },
  {
   "cell_type": "code",
   "execution_count": 71,
   "id": "d43f2ca4",
   "metadata": {},
   "outputs": [
    {
     "data": {
      "text/plain": [
       "448255.6478317104"
      ]
     },
     "execution_count": 71,
     "metadata": {},
     "output_type": "execute_result"
    }
   ],
   "source": [
    "rmse0 = mean_squared_error(ytest,predictions,squared=False)\n",
    "rmse0"
   ]
  },
  {
   "cell_type": "code",
   "execution_count": 72,
   "id": "49615651",
   "metadata": {},
   "outputs": [
    {
     "data": {
      "text/plain": [
       "0.6668664267591984"
      ]
     },
     "execution_count": 72,
     "metadata": {},
     "output_type": "execute_result"
    }
   ],
   "source": [
    "r0 = r2_score(ytest,predictions)\n",
    "r0"
   ]
  },
  {
   "cell_type": "code",
   "execution_count": 73,
   "id": "17842636",
   "metadata": {},
   "outputs": [],
   "source": [
    "test_results_mae['OLS Model']=mae0\n",
    "test_results_mse['OLS Model']=mse0\n",
    "test_results_r2_score['OLS Model']=r0\n",
    "test_result_score['OLS Model']=rmse0"
   ]
  },
  {
   "cell_type": "markdown",
   "id": "bb5abbb1",
   "metadata": {},
   "source": [
    "# Linear Regression"
   ]
  },
  {
   "cell_type": "code",
   "execution_count": 74,
   "id": "c422a7f2",
   "metadata": {},
   "outputs": [],
   "source": [
    "from sklearn.linear_model import LinearRegression\n",
    "regr = LinearRegression()\n",
    "  \n",
    "regr.fit(xtrain, ytrain)\n",
    "pred = regr.predict(xtest)"
   ]
  },
  {
   "cell_type": "code",
   "execution_count": 75,
   "id": "5e984271",
   "metadata": {},
   "outputs": [
    {
     "data": {
      "text/plain": [
       "276586.4559983192"
      ]
     },
     "execution_count": 75,
     "metadata": {},
     "output_type": "execute_result"
    }
   ],
   "source": [
    "mae = mean_absolute_error(ytest,pred)\n",
    "mae"
   ]
  },
  {
   "cell_type": "code",
   "execution_count": 76,
   "id": "50cea81e",
   "metadata": {},
   "outputs": [
    {
     "data": {
      "text/plain": [
       "200393664810.82443"
      ]
     },
     "execution_count": 76,
     "metadata": {},
     "output_type": "execute_result"
    }
   ],
   "source": [
    "mse = mean_squared_error(ytest,pred)\n",
    "mse"
   ]
  },
  {
   "cell_type": "code",
   "execution_count": 77,
   "id": "67c35fb4",
   "metadata": {},
   "outputs": [
    {
     "data": {
      "text/plain": [
       "0.6677608167238218"
      ]
     },
     "execution_count": 77,
     "metadata": {},
     "output_type": "execute_result"
    }
   ],
   "source": [
    "r = r2_score(ytest,pred)\n",
    "r"
   ]
  },
  {
   "cell_type": "code",
   "execution_count": 78,
   "id": "16404c50",
   "metadata": {},
   "outputs": [
    {
     "data": {
      "text/plain": [
       "447653.5097715916"
      ]
     },
     "execution_count": 78,
     "metadata": {},
     "output_type": "execute_result"
    }
   ],
   "source": [
    "rmse = mean_squared_error(ytest,pred,squared=False)\n",
    "rmse"
   ]
  },
  {
   "cell_type": "code",
   "execution_count": 79,
   "id": "6da6cf59",
   "metadata": {},
   "outputs": [],
   "source": [
    "import seaborn as sns"
   ]
  },
  {
   "cell_type": "code",
   "execution_count": 80,
   "id": "25c842cb",
   "metadata": {},
   "outputs": [
    {
     "data": {
      "text/plain": [
       "Text(0.5, 1.0, 'Actual vs Predicted')"
      ]
     },
     "execution_count": 80,
     "metadata": {},
     "output_type": "execute_result"
    },
    {
     "data": {
      "image/png": "[encoded data removed]",
      "text/plain": [
       "<Figure size 360x360 with 1 Axes>"
      ]
     },
     "metadata": {
      "needs_background": "light"
     },
     "output_type": "display_data"
    }
   ],
   "source": [
    "df_results = pd.DataFrame({'Actual':ytest,'Predicted':pred})\n",
    "df_results['Redisuals'] = abs(df_results['Actual'])-abs(df_results['Predicted'])\n",
    "sns.lmplot(x='Actual',y='Predicted',data=df_results,fit_reg =False)\n",
    "plt.title('Actual vs Predicted')"
   ]
  },
  {
   "cell_type": "markdown",
   "id": "6410b633",
   "metadata": {},
   "source": [
    "It shows a positive almost linear relationship"
   ]
  },
  {
   "cell_type": "code",
   "execution_count": 81,
   "id": "9d7e4b18",
   "metadata": {},
   "outputs": [
    {
     "data": {
      "text/plain": [
       "0.6677608167238218"
      ]
     },
     "execution_count": 81,
     "metadata": {},
     "output_type": "execute_result"
    }
   ],
   "source": [
    "regr.score(xtest,ytest)"
   ]
  },
  {
   "cell_type": "markdown",
   "id": "834cbed9",
   "metadata": {},
   "source": [
    "# Regularisation"
   ]
  },
  {
   "cell_type": "markdown",
   "id": "f2cc4518",
   "metadata": {},
   "source": [
    "Ridge Regression"
   ]
  },
  {
   "cell_type": "code",
   "execution_count": 82,
   "id": "79822d7e",
   "metadata": {},
   "outputs": [],
   "source": [
    "from sklearn.linear_model import Ridge\n",
    "ridge_rig =Ridge().fit(xtrain,ytrain)"
   ]
  },
  {
   "cell_type": "code",
   "execution_count": 83,
   "id": "fe9145e0",
   "metadata": {},
   "outputs": [
    {
     "data": {
      "text/plain": [
       "array([ -10076.68792109,  117806.27863148,  -78913.71485747,\n",
       "         -4762.93403856,   -5691.38965075,  -21237.42947707,\n",
       "        -83049.22097349, -164305.16728604,   -6327.10421145,\n",
       "         58516.65868414,   54170.82940195,  459286.83157021,\n",
       "        -27037.71801551,    6762.42014384,   -4439.9148445 ])"
      ]
     },
     "execution_count": 83,
     "metadata": {},
     "output_type": "execute_result"
    }
   ],
   "source": [
    "ridge_rig.coef_"
   ]
  },
  {
   "cell_type": "code",
   "execution_count": 84,
   "id": "2f9b58a5",
   "metadata": {},
   "outputs": [],
   "source": [
    "ridge_pred = ridge_rig.predict(xtest)"
   ]
  },
  {
   "cell_type": "code",
   "execution_count": 85,
   "id": "2a1cd783",
   "metadata": {},
   "outputs": [
    {
     "data": {
      "text/plain": [
       "447644.8406266198"
      ]
     },
     "execution_count": 85,
     "metadata": {},
     "output_type": "execute_result"
    }
   ],
   "source": [
    "m_se=mean_squared_error(ytest,ridge_pred,squared=False)\n",
    "m_se"
   ]
  },
  {
   "cell_type": "code",
   "execution_count": 86,
   "id": "6da32312",
   "metadata": {},
   "outputs": [
    {
     "data": {
      "text/plain": [
       "1.0"
      ]
     },
     "execution_count": 86,
     "metadata": {},
     "output_type": "execute_result"
    }
   ],
   "source": [
    "ridge_rig.alpha"
   ]
  },
  {
   "cell_type": "markdown",
   "id": "dd976ba1",
   "metadata": {},
   "source": [
    "This shows lambda value. We can use crossvalidation to fix a lambda value in random"
   ]
  },
  {
   "cell_type": "code",
   "execution_count": 87,
   "id": "d63c5192",
   "metadata": {},
   "outputs": [],
   "source": [
    "from sklearn.model_selection import cross_val_score\n",
    "alpha_space = [0.001,0.1,1.5,10]\n",
    "ridge_scores = []\n",
    "for i in alpha_space:\n",
    "    val = np.mean(cross_val_score(Ridge(alpha=i),xtrain,ytrain,cv=5))\n",
    "    ridge_scores.append(val)"
   ]
  },
  {
   "cell_type": "code",
   "execution_count": 88,
   "id": "edadc969",
   "metadata": {},
   "outputs": [
    {
     "data": {
      "text/plain": [
       "[0.6799716544610567, 0.679971863000447, 0.679974753727383, 0.6799900077810241]"
      ]
     },
     "execution_count": 88,
     "metadata": {},
     "output_type": "execute_result"
    }
   ],
   "source": [
    "ridge_scores"
   ]
  },
  {
   "cell_type": "markdown",
   "id": "241ac899",
   "metadata": {},
   "source": [
    "Ridge score -- ie.R2-score became max for lambda =10"
   ]
  },
  {
   "cell_type": "markdown",
   "id": "7f0342f0",
   "metadata": {},
   "source": [
    "lasso Regression"
   ]
  },
  {
   "cell_type": "code",
   "execution_count": 89,
   "id": "685be4ce",
   "metadata": {},
   "outputs": [],
   "source": [
    "from sklearn.linear_model import Lasso\n",
    "laso_reg = Lasso().fit(xtrain,ytrain)"
   ]
  },
  {
   "cell_type": "code",
   "execution_count": 90,
   "id": "1562e65a",
   "metadata": {},
   "outputs": [
    {
     "data": {
      "text/plain": [
       "array([ -10064.05412845,  117783.71359064,  -78911.46584345,\n",
       "         -4760.09766959,   -5690.7489789 ,  -21220.69019845,\n",
       "        -83041.2872707 , -164284.61596247,   -6315.19794502,\n",
       "         58561.73574918,   54052.70146855,  459472.92782307,\n",
       "        -26981.55045536,    6762.90780448,   -4438.72996122])"
      ]
     },
     "execution_count": 90,
     "metadata": {},
     "output_type": "execute_result"
    }
   ],
   "source": [
    "laso_reg.coef_"
   ]
  },
  {
   "cell_type": "code",
   "execution_count": 91,
   "id": "84ef5ccd",
   "metadata": {},
   "outputs": [],
   "source": [
    "laso_pred = laso_reg.predict(xtest)"
   ]
  },
  {
   "cell_type": "code",
   "execution_count": 92,
   "id": "4ce9a361",
   "metadata": {},
   "outputs": [
    {
     "data": {
      "text/plain": [
       "447653.5758201858"
      ]
     },
     "execution_count": 92,
     "metadata": {},
     "output_type": "execute_result"
    }
   ],
   "source": [
    "rms_e=mean_squared_error(ytest,laso_pred,squared=False)\n",
    "rms_e"
   ]
  },
  {
   "cell_type": "code",
   "execution_count": 93,
   "id": "936c716d",
   "metadata": {},
   "outputs": [
    {
     "data": {
      "text/plain": [
       "1.0"
      ]
     },
     "execution_count": 93,
     "metadata": {},
     "output_type": "execute_result"
    }
   ],
   "source": [
    "laso_reg.alpha"
   ]
  },
  {
   "cell_type": "code",
   "execution_count": 94,
   "id": "61381504",
   "metadata": {},
   "outputs": [],
   "source": [
    "alpha_space = [0.001,0.1,1.5,10]\n",
    "laso_scores = []\n",
    "for i in alpha_space:\n",
    "    val = np.mean(cross_val_score(Lasso(alpha=i),xtrain,ytrain,cv=5))\n",
    "    laso_scores.append(val)"
   ]
  },
  {
   "cell_type": "code",
   "execution_count": 95,
   "id": "da66d3df",
   "metadata": {},
   "outputs": [
    {
     "data": {
      "text/plain": [
       "[0.6799716524407312,\n",
       " 0.6799716608415755,\n",
       " 0.6799717867351486,\n",
       " 0.6799725387585762]"
      ]
     },
     "execution_count": 95,
     "metadata": {},
     "output_type": "execute_result"
    }
   ],
   "source": [
    "laso_scores"
   ]
  },
  {
   "cell_type": "markdown",
   "id": "874a1f08",
   "metadata": {},
   "source": [
    "Elasticnet Regressor"
   ]
  },
  {
   "cell_type": "code",
   "execution_count": 96,
   "id": "634b865b",
   "metadata": {},
   "outputs": [
    {
     "data": {
      "text/plain": [
       "459443.912951284"
      ]
     },
     "execution_count": 96,
     "metadata": {},
     "output_type": "execute_result"
    }
   ],
   "source": [
    "from sklearn.linear_model import ElasticNet\n",
    "enet = ElasticNet().fit(xtrain,ytrain)\n",
    "pred = enet.predict(xtest)\n",
    "rm_se=mean_squared_error(ytest,pred,squared=False)\n",
    "rm_se"
   ]
  },
  {
   "cell_type": "code",
   "execution_count": 97,
   "id": "685ccaf9",
   "metadata": {},
   "outputs": [
    {
     "data": {
      "text/plain": [
       "0.5"
      ]
     },
     "execution_count": 97,
     "metadata": {},
     "output_type": "execute_result"
    }
   ],
   "source": [
    "enet.l1_ratio"
   ]
  },
  {
   "cell_type": "code",
   "execution_count": 98,
   "id": "a4173ea4",
   "metadata": {},
   "outputs": [],
   "source": [
    "alpha_space = [0.001,0.1,0.5,0.7,1]\n",
    "enet_scores = []\n",
    "for i in alpha_space:\n",
    "    val = np.mean(cross_val_score(ElasticNet(alpha=i),xtrain,ytrain,cv=5))\n",
    "    enet_scores.append(val)"
   ]
  },
  {
   "cell_type": "code",
   "execution_count": 99,
   "id": "7e27f4e5",
   "metadata": {},
   "outputs": [
    {
     "data": {
      "text/plain": [
       "[0.6799768121856932,\n",
       " 0.679273774844389,\n",
       " 0.6680200718220513,\n",
       " 0.6605528638661925,\n",
       " 0.6482751481654427]"
      ]
     },
     "execution_count": 99,
     "metadata": {},
     "output_type": "execute_result"
    }
   ],
   "source": [
    "enet_scores"
   ]
  },
  {
   "cell_type": "markdown",
   "id": "e63b4a9b",
   "metadata": {},
   "source": [
    "From all the scores obtained Ridge gives better R2-score as well as mean squared error so considering that value for linear regression score"
   ]
  },
  {
   "cell_type": "code",
   "execution_count": 100,
   "id": "e85ddd13",
   "metadata": {},
   "outputs": [],
   "source": [
    "ridge_rig =Ridge(alpha=10).fit(xtrain,ytrain)"
   ]
  },
  {
   "cell_type": "code",
   "execution_count": 101,
   "id": "2ab25d9a",
   "metadata": {},
   "outputs": [],
   "source": [
    "ridge_pred = ridge_rig.predict(xtest)"
   ]
  },
  {
   "cell_type": "code",
   "execution_count": 102,
   "id": "b17651eb",
   "metadata": {},
   "outputs": [
    {
     "data": {
      "text/plain": [
       "447568.3874725068"
      ]
     },
     "execution_count": 102,
     "metadata": {},
     "output_type": "execute_result"
    }
   ],
   "source": [
    "rom_se=mean_squared_error(ytest,ridge_pred,squared=False)\n",
    "rom_se"
   ]
  },
  {
   "cell_type": "code",
   "execution_count": 103,
   "id": "0c585e80",
   "metadata": {},
   "outputs": [
    {
     "data": {
      "text/plain": [
       "200317461464.74"
      ]
     },
     "execution_count": 103,
     "metadata": {},
     "output_type": "execute_result"
    }
   ],
   "source": [
    "mse_1 = mean_squared_error(ytest,ridge_pred)\n",
    "mse_1"
   ]
  },
  {
   "cell_type": "code",
   "execution_count": 104,
   "id": "6f0ca56f",
   "metadata": {},
   "outputs": [
    {
     "data": {
      "text/plain": [
       "276330.1150314365"
      ]
     },
     "execution_count": 104,
     "metadata": {},
     "output_type": "execute_result"
    }
   ],
   "source": [
    "mae_1 =mean_absolute_error(ytest,ridge_pred)\n",
    "mae_1"
   ]
  },
  {
   "cell_type": "code",
   "execution_count": 105,
   "id": "01e97366",
   "metadata": {},
   "outputs": [
    {
     "data": {
      "text/plain": [
       "0.6678871567330726"
      ]
     },
     "execution_count": 105,
     "metadata": {},
     "output_type": "execute_result"
    }
   ],
   "source": [
    "R2_s =r2_score(ytest,ridge_pred)\n",
    "R2_s"
   ]
  },
  {
   "cell_type": "code",
   "execution_count": 106,
   "id": "4892837d",
   "metadata": {},
   "outputs": [],
   "source": [
    "test_results_mae['Linear Regression']=mae_1\n",
    "test_results_mse['Linear Regression']=mse_1\n",
    "test_results_r2_score['Linear Regression']=R2_s\n",
    "test_result_score['Linear Regression']=rom_se"
   ]
  },
  {
   "cell_type": "markdown",
   "id": "7b2ecd3d",
   "metadata": {},
   "source": [
    "# Decision Tree Regressor"
   ]
  },
  {
   "cell_type": "code",
   "execution_count": 107,
   "id": "3ba4361e",
   "metadata": {},
   "outputs": [
    {
     "data": {
      "text/plain": [
       "0.8380043692968406"
      ]
     },
     "execution_count": 107,
     "metadata": {},
     "output_type": "execute_result"
    }
   ],
   "source": [
    "import sklearn.tree as tree\n",
    "reg2 = tree.DecisionTreeRegressor(max_depth=3)\n",
    "reg2.fit(xtrain,ytrain)\n",
    "reg2.score(xtest,ytest)"
   ]
  },
  {
   "cell_type": "code",
   "execution_count": 108,
   "id": "0a8c1e20",
   "metadata": {},
   "outputs": [
    {
     "data": {
      "text/plain": [
       "[Text(418.5, 713.475, 'max_power <= 2.317\\nmse = 676330853638.057\\nsamples = 6324\\nvalue = 655809.742'),\n",
       " Text(209.25, 509.625, 'max_power <= 1.577\\nmse = 153998234690.877\\nsamples = 6017\\nvalue = 513762.143'),\n",
       " Text(104.625, 305.775, 'year <= -0.125\\nmse = 84455789231.86\\nsamples = 5813\\nvalue = 470375.506'),\n",
       " Text(52.3125, 101.92499999999995, 'mse = 28423929811.361\\nsamples = 2429\\nvalue = 278368.445'),\n",
       " Text(156.9375, 101.92499999999995, 'mse = 79217796085.301\\nsamples = 3384\\nvalue = 608196.176'),\n",
       " Text(313.875, 305.775, 'km_driven <= 0.013\\nmse = 553524155419.079\\nsamples = 204\\nvalue = 1750068.618'),\n",
       " Text(261.5625, 101.92499999999995, 'mse = 455065981972.783\\nsamples = 139\\nvalue = 2027035.964'),\n",
       " Text(366.1875, 101.92499999999995, 'mse = 249229482249.009\\nsamples = 65\\nvalue = 1157784.6'),\n",
       " Text(627.75, 509.625, 'year <= 0.91\\nmse = 2767362635793.47\\nsamples = 307\\nvalue = 3439850.153'),\n",
       " Text(523.125, 305.775, 'year <= 0.392\\nmse = 1579163025192.377\\nsamples = 159\\nvalue = 2266886.774'),\n",
       " Text(470.8125, 101.92499999999995, 'mse = 641756023629.055\\nsamples = 71\\nvalue = 1373901.394'),\n",
       " Text(575.4375, 101.92499999999995, 'mse = 1173017876535.144\\nsamples = 88\\nvalue = 2987363.614'),\n",
       " Text(732.375, 305.775, 'name <= 0.122\\nmse = 977812074278.668\\nsamples = 148\\nvalue = 4699993.243'),\n",
       " Text(680.0625, 101.92499999999995, 'mse = 666097680758.281\\nsamples = 106\\nvalue = 5100556.604'),\n",
       " Text(784.6875, 101.92499999999995, 'mse = 337560997732.428\\nsamples = 42\\nvalue = 3689047.619')]"
      ]
     },
     "execution_count": 108,
     "metadata": {},
     "output_type": "execute_result"
    },
    {
     "data": {
      "image/png": "[encoded data removed]",
      "text/plain": [
       "<Figure size 1080x1080 with 1 Axes>"
      ]
     },
     "metadata": {
      "needs_background": "light"
     },
     "output_type": "display_data"
    }
   ],
   "source": [
    "plt.figure(figsize=(15,15))\n",
    "tree.plot_tree(reg2,feature_names=x.columns,\n",
    "              class_names=None,\n",
    "              filled = True)"
   ]
  },
  {
   "cell_type": "markdown",
   "id": "9fb748ac",
   "metadata": {},
   "source": [
    "Tuning the depth parameter to increase score and to get accurate depth-- As max number of feature is 15 we kepth depth upto a range of 7 for checking"
   ]
  },
  {
   "cell_type": "code",
   "execution_count": 109,
   "id": "4a877498",
   "metadata": {},
   "outputs": [
    {
     "data": {
      "text/plain": [
       "GridSearchCV(estimator=DecisionTreeRegressor(max_depth=3),\n",
       "             param_grid={'max_depth': [2, 3, 4, 5, 6, 7]})"
      ]
     },
     "execution_count": 109,
     "metadata": {},
     "output_type": "execute_result"
    }
   ],
   "source": [
    "from sklearn.model_selection import GridSearchCV\n",
    "mod = GridSearchCV(reg2,param_grid={'max_depth':[2,3,4,5,6,7]})\n",
    "mod.fit(xtrain,ytrain)"
   ]
  },
  {
   "cell_type": "code",
   "execution_count": 110,
   "id": "e3bc7961",
   "metadata": {},
   "outputs": [
    {
     "data": {
      "text/plain": [
       "DecisionTreeRegressor(max_depth=6)"
      ]
     },
     "execution_count": 110,
     "metadata": {},
     "output_type": "execute_result"
    }
   ],
   "source": [
    "mod.best_estimator_"
   ]
  },
  {
   "cell_type": "markdown",
   "id": "41c3ce73",
   "metadata": {},
   "source": [
    "The best result is obtained in a depth 7 . Above this depth also one can obtain better result but it may overfit"
   ]
  },
  {
   "cell_type": "code",
   "execution_count": 111,
   "id": "55f1ff65",
   "metadata": {},
   "outputs": [
    {
     "data": {
      "text/plain": [
       "0.9370567980467814"
      ]
     },
     "execution_count": 111,
     "metadata": {},
     "output_type": "execute_result"
    }
   ],
   "source": [
    "mod.best_score_"
   ]
  },
  {
   "cell_type": "code",
   "execution_count": 112,
   "id": "aa487cf8",
   "metadata": {},
   "outputs": [
    {
     "data": {
      "text/plain": [
       "119255.87455253962"
      ]
     },
     "execution_count": 112,
     "metadata": {},
     "output_type": "execute_result"
    }
   ],
   "source": [
    "p=mod.predict(xtest)\n",
    "mae2 = mean_absolute_error(ytest,p)\n",
    "mae2"
   ]
  },
  {
   "cell_type": "code",
   "execution_count": 113,
   "id": "1f099e2c",
   "metadata": {},
   "outputs": [
    {
     "data": {
      "text/plain": [
       "48813625467.698425"
      ]
     },
     "execution_count": 113,
     "metadata": {},
     "output_type": "execute_result"
    }
   ],
   "source": [
    "mse2 = mean_squared_error(ytest,p)\n",
    "mse2"
   ]
  },
  {
   "cell_type": "code",
   "execution_count": 114,
   "id": "1a5f68cd",
   "metadata": {},
   "outputs": [
    {
     "data": {
      "text/plain": [
       "220938.05798842903"
      ]
     },
     "execution_count": 114,
     "metadata": {},
     "output_type": "execute_result"
    }
   ],
   "source": [
    "rmse2 = mean_squared_error(ytest,p,squared=False)\n",
    "rmse2"
   ]
  },
  {
   "cell_type": "code",
   "execution_count": 115,
   "id": "ded9709c",
   "metadata": {},
   "outputs": [
    {
     "data": {
      "text/plain": [
       "0.9190703005833678"
      ]
     },
     "execution_count": 115,
     "metadata": {},
     "output_type": "execute_result"
    }
   ],
   "source": [
    "r2 = r2_score(ytest,p)\n",
    "r2"
   ]
  },
  {
   "cell_type": "code",
   "execution_count": 116,
   "id": "0d17c95f",
   "metadata": {},
   "outputs": [],
   "source": [
    "test_results_mae['Decision Tree Regression']=mae2\n",
    "test_results_mse['Decision Tree Regression']=mse2\n",
    "test_results_r2_score['Decision Tree Regression']=r2\n",
    "test_result_score['Decision Tree Regression']=rmse2"
   ]
  },
  {
   "cell_type": "markdown",
   "id": "a41b7e19",
   "metadata": {},
   "source": [
    "Displaying the tree for the tuned parameter"
   ]
  },
  {
   "cell_type": "code",
   "execution_count": 117,
   "id": "ee7d4956",
   "metadata": {},
   "outputs": [
    {
     "data": {
      "text/plain": [
       "[Text(942.4553571428572, 1528.875, 'max_power <= 2.317\\nmse = 676330853638.057\\nsamples = 6324\\nvalue = 655809.742'),\n",
       " Text(517.5892857142858, 1325.025, 'max_power <= 1.577\\nmse = 153998234690.877\\nsamples = 6017\\nvalue = 513762.143'),\n",
       " Text(283.42857142857144, 1121.175, 'year <= -0.125\\nmse = 84455789231.86\\nsamples = 5813\\nvalue = 470375.506'),\n",
       " Text(141.71428571428572, 917.3249999999999, 'max_power <= 0.183\\nmse = 28423929811.361\\nsamples = 2429\\nvalue = 278368.445'),\n",
       " Text(70.85714285714286, 713.475, 'year <= -0.902\\nmse = 14356253708.182\\nsamples = 1835\\nvalue = 227853.94'),\n",
       " Text(35.42857142857143, 509.625, 'max_power <= -0.826\\nmse = 6161683582.037\\nsamples = 801\\nvalue = 154208.527'),\n",
       " Text(17.714285714285715, 305.7750000000001, 'mileage <= -0.128\\nmse = 1886849079.728\\nsamples = 260\\nvalue = 99464.881'),\n",
       " Text(8.857142857142858, 101.92499999999995, 'mse = 1284397497.781\\nsamples = 140\\nvalue = 77124.7'),\n",
       " Text(26.571428571428573, 101.92499999999995, 'mse = 1328136631.194\\nsamples = 120\\nvalue = 125528.425'),\n",
       " Text(53.142857142857146, 305.7750000000001, 'year <= -1.419\\nmse = 6083683111.874\\nsamples = 541\\nvalue = 180517.858'),\n",
       " Text(44.28571428571429, 101.92499999999995, 'mse = 4456126695.537\\nsamples = 258\\nvalue = 147880.512'),\n",
       " Text(62.0, 101.92499999999995, 'mse = 5711053001.648\\nsamples = 283\\nvalue = 210272.046'),\n",
       " Text(106.28571428571429, 509.625, 'engine <= -0.52\\nmse = 13248048330.512\\nsamples = 1034\\nvalue = 284904.207'),\n",
       " Text(88.57142857142858, 305.7750000000001, 'max_power <= -1.377\\nmse = 3370634542.097\\nsamples = 287\\nvalue = 198202.066'),\n",
       " Text(79.71428571428572, 101.92499999999995, 'mse = 1454745600.0\\nsamples = 25\\nvalue = 99120.0'),\n",
       " Text(97.42857142857143, 101.92499999999995, 'mse = 2527301722.012\\nsamples = 262\\nvalue = 207656.462'),\n",
       " Text(124.0, 305.7750000000001, 'seats <= 0.608\\nmse = 13045186838.611\\nsamples = 747\\nvalue = 318215.471'),\n",
       " Text(115.14285714285715, 101.92499999999995, 'mse = 9660627832.601\\nsamples = 633\\nvalue = 296834.062'),\n",
       " Text(132.85714285714286, 101.92499999999995, 'mse = 15204756892.001\\nsamples = 114\\nvalue = 436938.561'),\n",
       " Text(212.57142857142858, 713.475, 'year <= -0.643\\nmse = 39647508934.402\\nsamples = 594\\nvalue = 434419.148'),\n",
       " Text(177.14285714285717, 509.625, 'engine <= 1.916\\nmse = 26001955077.562\\nsamples = 334\\nvalue = 351191.575'),\n",
       " Text(159.42857142857144, 305.7750000000001, 'year <= -1.419\\nmse = 14188232620.783\\nsamples = 254\\nvalue = 310318.858'),\n",
       " Text(150.57142857142858, 101.92499999999995, 'mse = 6548265619.695\\nsamples = 78\\nvalue = 211089.705'),\n",
       " Text(168.2857142857143, 101.92499999999995, 'mse = 11276433105.152\\nsamples = 176\\nvalue = 354295.415'),\n",
       " Text(194.85714285714286, 305.7750000000001, 'name <= 1.623\\nmse = 41365955640.047\\nsamples = 80\\nvalue = 480962.45'),\n",
       " Text(186.0, 101.92499999999995, 'mse = 32316951931.481\\nsamples = 54\\nvalue = 414740.667'),\n",
       " Text(203.71428571428572, 101.92499999999995, 'mse = 32135480769.231\\nsamples = 26\\nvalue = 618500.0'),\n",
       " Text(248.0, 509.625, 'engine <= 0.471\\nmse = 36847579040.399\\nsamples = 260\\nvalue = 541334.569'),\n",
       " Text(230.2857142857143, 305.7750000000001, 'max_power <= 0.423\\nmse = 8558266524.304\\nsamples = 130\\nvalue = 430038.415'),\n",
       " Text(221.42857142857144, 101.92499999999995, 'mse = 6098160160.556\\nsamples = 58\\nvalue = 373275.828'),\n",
       " Text(239.14285714285717, 101.92499999999995, 'mse = 5853711975.361\\nsamples = 72\\nvalue = 475763.833'),\n",
       " Text(265.7142857142857, 305.7750000000001, 'name <= 1.605\\nmse = 40363223834.6\\nsamples = 130\\nvalue = 652630.723'),\n",
       " Text(256.8571428571429, 101.92499999999995, 'mse = 42837589441.878\\nsamples = 76\\nvalue = 560026.263'),\n",
       " Text(274.5714285714286, 101.92499999999995, 'mse = 7824956995.92\\nsamples = 54\\nvalue = 782962.926'),\n",
       " Text(425.14285714285717, 917.3249999999999, 'max_power <= -0.128\\nmse = 79217796085.301\\nsamples = 3384\\nvalue = 608196.176'),\n",
       " Text(354.28571428571433, 713.475, 'max_power <= -0.618\\nmse = 25788483852.248\\nsamples = 1948\\nvalue = 470188.352'),\n",
       " Text(318.8571428571429, 509.625, 'engine <= -0.051\\nmse = 14701173057.224\\nsamples = 738\\nvalue = 350895.612'),\n",
       " Text(301.14285714285717, 305.7750000000001, 'max_power <= -0.961\\nmse = 9444548033.766\\nsamples = 669\\nvalue = 328910.262'),\n",
       " Text(292.2857142857143, 101.92499999999995, 'mse = 3462954178.293\\nsamples = 262\\nvalue = 269160.263'),\n",
       " Text(310.0, 101.92499999999995, 'mse = 9517521015.637\\nsamples = 407\\nvalue = 367373.405'),\n",
       " Text(336.5714285714286, 305.7750000000001, 'year <= 0.392\\nmse = 15542960035.748\\nsamples = 69\\nvalue = 564057.928'),\n",
       " Text(327.7142857142857, 101.92499999999995, 'mse = 11925003157.967\\nsamples = 38\\nvalue = 504999.921'),\n",
       " Text(345.42857142857144, 101.92499999999995, 'mse = 10461602497.398\\nsamples = 31\\nvalue = 636451.613'),\n",
       " Text(389.7142857142857, 509.625, 'year <= 0.651\\nmse = 18577410906.876\\nsamples = 1210\\nvalue = 542947.064'),\n",
       " Text(372.0, 305.7750000000001, 'name <= -0.612\\nmse = 12994684389.845\\nsamples = 514\\nvalue = 463447.409'),\n",
       " Text(363.14285714285717, 101.92499999999995, 'mse = 9077019736.952\\nsamples = 176\\nvalue = 410244.256'),\n",
       " Text(380.8571428571429, 101.92499999999995, 'mse = 12793263352.339\\nsamples = 338\\nvalue = 491150.825'),\n",
       " Text(407.42857142857144, 305.7750000000001, 'engine <= -0.467\\nmse = 14585810173.277\\nsamples = 696\\nvalue = 601658.016'),\n",
       " Text(398.5714285714286, 101.92499999999995, 'mse = 11086094621.949\\nsamples = 531\\nvalue = 572237.254'),\n",
       " Text(416.28571428571433, 101.92499999999995, 'mse = 14098373490.78\\nsamples = 165\\nvalue = 696339.376'),\n",
       " Text(496.0, 713.475, 'max_power <= 0.724\\nmse = 90811057239.417\\nsamples = 1436\\nvalue = 795410.133'),\n",
       " Text(460.5714285714286, 509.625, 'year <= 0.91\\nmse = 36911350828.078\\nsamples = 1056\\nvalue = 711366.442'),\n",
       " Text(442.8571428571429, 305.7750000000001, 'mileage <= -1.613\\nmse = 28223923023.785\\nsamples = 762\\nvalue = 659102.322'),\n",
       " Text(434.0, 101.92499999999995, 'mse = 59427196441.294\\nsamples = 37\\nvalue = 985162.054'),\n",
       " Text(451.7142857142857, 101.92499999999995, 'mse = 20928852419.137\\nsamples = 725\\nvalue = 642462.032'),\n",
       " Text(478.28571428571433, 305.7750000000001, 'max_power <= 0.496\\nmse = 33998613982.944\\nsamples = 294\\nvalue = 846826.51'),\n",
       " Text(469.42857142857144, 101.92499999999995, 'mse = 24018455961.944\\nsamples = 282\\nvalue = 832046.078'),\n",
       " Text(487.14285714285717, 101.92499999999995, 'mse = 142753305555.555\\nsamples = 12\\nvalue = 1194166.667'),\n",
       " Text(531.4285714285714, 509.625, 'year <= 0.392\\nmse = 166419848298.258\\nsamples = 380\\nvalue = 1028963.126'),\n",
       " Text(513.7142857142858, 305.7750000000001, 'max_power <= 1.57\\nmse = 76745074233.592\\nsamples = 161\\nvalue = 789093.13'),\n",
       " Text(504.8571428571429, 101.92499999999995, 'mse = 72365446787.969\\nsamples = 134\\nvalue = 846768.612'),\n",
       " Text(522.5714285714286, 101.92499999999995, 'mse = 37829903.978\\nsamples = 27\\nvalue = 502851.852'),\n",
       " Text(549.1428571428572, 305.7750000000001, 'max_power <= 1.079\\nmse = 158949019451.873\\nsamples = 219\\nvalue = 1205305.909'),\n",
       " Text(540.2857142857143, 101.92499999999995, 'mse = 59754108228.418\\nsamples = 126\\nvalue = 1033230.135'),\n",
       " Text(558.0, 101.92499999999995, 'mse = 198873362767.519\\nsamples = 93\\nvalue = 1438440.828'),\n",
       " Text(751.75, 1121.175, 'km_driven <= 0.013\\nmse = 553524155419.079\\nsamples = 204\\nvalue = 1750068.618'),\n",
       " Text(637.7142857142858, 917.3249999999999, 'max_power <= 1.674\\nmse = 455065981972.783\\nsamples = 139\\nvalue = 2027035.964'),\n",
       " Text(602.2857142857143, 713.475, 'year <= 1.169\\nmse = 569462977043.159\\nsamples = 33\\nvalue = 2698515.152'),\n",
       " Text(593.4285714285714, 509.625, 'km_driven <= -0.374\\nmse = 138632791914.387\\nsamples = 29\\nvalue = 2450034.483'),\n",
       " Text(584.5714285714286, 305.7750000000001, 'name <= 1.401\\nmse = 23732432397.959\\nsamples = 28\\nvalue = 2514321.429'),\n",
       " Text(575.7142857142858, 101.92499999999995, 'mse = 50850250000.0\\nsamples = 2\\nvalue = 3025500.0'),\n",
       " Text(593.4285714285714, 101.92499999999995, 'mse = 0.0\\nsamples = 26\\nvalue = 2475000.0'),\n",
       " Text(602.2857142857143, 305.7750000000001, 'mse = 0.0\\nsamples = 1\\nvalue = 650000.0'),\n",
       " Text(611.1428571428572, 509.625, 'mse = 0.0\\nsamples = 4\\nvalue = 4500000.0'),\n",
       " Text(673.1428571428572, 713.475, 'max_power <= 1.758\\nmse = 235382200439.134\\nsamples = 106\\nvalue = 1817990.557'),\n",
       " Text(637.7142857142858, 509.625, 'name <= -0.062\\nmse = 32587089506.173\\nsamples = 18\\nvalue = 1383277.778'),\n",
       " Text(620.0, 305.7750000000001, 'City <= -1.093\\nmse = 7222222222.222\\nsamples = 3\\nvalue = 1583333.333'),\n",
       " Text(611.1428571428572, 101.92499999999995, 'mse = 0.0\\nsamples = 1\\nvalue = 1700000.0'),\n",
       " Text(628.8571428571429, 101.92499999999995, 'mse = 625000000.0\\nsamples = 2\\nvalue = 1525000.0'),\n",
       " Text(655.4285714285714, 305.7750000000001, 'name <= -0.049\\nmse = 28054728888.889\\nsamples = 15\\nvalue = 1343266.667'),\n",
       " Text(646.5714285714286, 101.92499999999995, 'mse = 3844666666.667\\nsamples = 3\\nvalue = 1117000.0'),\n",
       " Text(664.2857142857143, 101.92499999999995, 'mse = 18108305555.556\\nsamples = 12\\nvalue = 1399833.333'),\n",
       " Text(708.5714285714287, 509.625, 'km_driven <= -1.184\\nmse = 230302496665.3\\nsamples = 88\\nvalue = 1906909.08'),\n",
       " Text(690.8571428571429, 305.7750000000001, 'Region <= -0.78\\nmse = 1388888888888.889\\nsamples = 3\\nvalue = 2933333.333'),\n",
       " Text(682.0, 101.92499999999995, 'mse = 0.0\\nsamples = 1\\nvalue = 4600000.0'),\n",
       " Text(699.7142857142858, 101.92499999999995, 'mse = 0.0\\nsamples = 2\\nvalue = 2100000.0'),\n",
       " Text(726.2857142857143, 305.7750000000001, 'name <= 1.69\\nmse = 150914832763.472\\nsamples = 85\\nvalue = 1870682.341'),\n",
       " Text(717.4285714285714, 101.92499999999995, 'mse = 120731922207.495\\nsamples = 84\\nvalue = 1851285.702'),\n",
       " Text(735.1428571428572, 101.92499999999995, 'mse = 0.0\\nsamples = 1\\nvalue = 3500000.0'),\n",
       " Text(865.7857142857143, 917.3249999999999, 'max_power <= 2.05\\nmse = 249229482249.009\\nsamples = 65\\nvalue = 1157784.6'),\n",
       " Text(810.4285714285714, 713.475, 'year <= -0.384\\nmse = 137120490986.151\\nsamples = 24\\nvalue = 702166.625'),\n",
       " Text(779.4285714285714, 509.625, 'engine <= 1.927\\nmse = 54963983217.84\\nsamples = 15\\nvalue = 484466.6'),\n",
       " Text(761.7142857142858, 305.7750000000001, 'Region <= -0.78\\nmse = 21683730458.41\\nsamples = 12\\nvalue = 401416.583'),\n",
       " Text(752.8571428571429, 101.92499999999995, 'mse = 10150000000.0\\nsamples = 5\\nvalue = 290000.0'),\n",
       " Text(770.5714285714287, 101.92499999999995, 'mse = 14721715428.694\\nsamples = 7\\nvalue = 480999.857'),\n",
       " Text(797.1428571428572, 305.7750000000001, 'owner <= 0.174\\nmse = 50138888888.889\\nsamples = 3\\nvalue = 816666.667'),\n",
       " Text(788.2857142857143, 101.92499999999995, 'mse = 0.0\\nsamples = 1\\nvalue = 500000.0'),\n",
       " Text(806.0, 101.92499999999995, 'mse = 0.0\\nsamples = 2\\nvalue = 975000.0'),\n",
       " Text(841.4285714285714, 509.625, 'max_power <= 1.994\\nmse = 63411111111.111\\nsamples = 9\\nvalue = 1065000.0'),\n",
       " Text(832.5714285714287, 305.7750000000001, 'year <= 0.134\\nmse = 18149609375.0\\nsamples = 8\\nvalue = 1141875.0'),\n",
       " Text(823.7142857142858, 101.92499999999995, 'mse = 11992187500.0\\nsamples = 4\\nvalue = 1043750.0'),\n",
       " Text(841.4285714285714, 101.92499999999995, 'mse = 5050000000.0\\nsamples = 4\\nvalue = 1240000.0'),\n",
       " Text(850.2857142857143, 305.7750000000001, 'mse = 0.0\\nsamples = 1\\nvalue = 450000.0'),\n",
       " Text(921.1428571428572, 713.475, 'year <= -0.902\\nmse = 122208883997.62\\nsamples = 41\\nvalue = 1424487.805'),\n",
       " Text(885.7142857142858, 509.625, 'name <= 1.166\\nmse = 42517346938.776\\nsamples = 7\\nvalue = 855714.286'),\n",
       " Text(868.0, 305.7750000000001, 'km_driven <= 0.614\\nmse = 11025000000.0\\nsamples = 2\\nvalue = 620000.0'),\n",
       " Text(859.1428571428572, 101.92499999999995, 'mse = 0.0\\nsamples = 1\\nvalue = 725000.0'),\n",
       " Text(876.8571428571429, 101.92499999999995, 'mse = 0.0\\nsamples = 1\\nvalue = 515000.0'),\n",
       " Text(903.4285714285714, 305.7750000000001, 'km_driven <= 0.862\\nmse = 24000000000.0\\nsamples = 5\\nvalue = 950000.0'),\n",
       " Text(894.5714285714287, 101.92499999999995, 'mse = 0.0\\nsamples = 1\\nvalue = 1200000.0'),\n",
       " Text(912.2857142857143, 101.92499999999995, 'mse = 10468750000.0\\nsamples = 4\\nvalue = 887500.0'),\n",
       " Text(956.5714285714287, 509.625, 'year <= 0.134\\nmse = 58299830449.827\\nsamples = 34\\nvalue = 1541588.235'),\n",
       " Text(938.8571428571429, 305.7750000000001, 'seller_type <= -0.982\\nmse = 60462654320.987\\nsamples = 18\\nvalue = 1428888.889'),\n",
       " Text(930.0, 101.92499999999995, 'mse = 24692187500.0\\nsamples = 4\\nvalue = 1676250.0'),\n",
       " Text(947.7142857142858, 101.92499999999995, 'mse = 48205739795.918\\nsamples = 14\\nvalue = 1358214.286'),\n",
       " Text(974.2857142857143, 305.7750000000001, 'sold <= 0.568\\nmse = 25502984375.0\\nsamples = 16\\nvalue = 1668375.0'),\n",
       " Text(965.4285714285714, 101.92499999999995, 'mse = 16880490000.0\\nsamples = 10\\nvalue = 1593100.0'),\n",
       " Text(983.1428571428572, 101.92499999999995, 'mse = 14690138888.889\\nsamples = 6\\nvalue = 1793833.333'),\n",
       " Text(1367.3214285714287, 1325.025, 'year <= 0.91\\nmse = 2767362635793.47\\nsamples = 307\\nvalue = 3439850.153'),\n",
       " Text(1209.0, 1121.175, 'year <= 0.392\\nmse = 1579163025192.377\\nsamples = 159\\nvalue = 2266886.774'),\n",
       " Text(1098.2857142857144, 917.3249999999999, 'max_power <= 4.096\\nmse = 641756023629.055\\nsamples = 71\\nvalue = 1373901.394'),\n",
       " Text(1049.5714285714287, 713.475, 'fuel <= 0.112\\nmse = 360059823363.324\\nsamples = 55\\nvalue = 1141581.8'),\n",
       " Text(1027.4285714285716, 509.625, 'km_driven <= 0.195\\nmse = 316862463641.991\\nsamples = 43\\nvalue = 1309465.093'),\n",
       " Text(1009.7142857142858, 305.7750000000001, 'name <= -1.145\\nmse = 408957931017.356\\nsamples = 17\\nvalue = 1633058.765'),\n",
       " Text(1000.8571428571429, 101.92499999999995, 'mse = 213686375570.331\\nsamples = 11\\nvalue = 1301090.818'),\n",
       " Text(1018.5714285714287, 101.92499999999995, 'mse = 194513888888.89\\nsamples = 6\\nvalue = 2241666.667'),\n",
       " Text(1045.142857142857, 305.7750000000001, 'year <= 0.134\\nmse = 143413794378.698\\nsamples = 26\\nvalue = 1097884.615'),\n",
       " Text(1036.2857142857144, 101.92499999999995, 'mse = 55837618147.448\\nsamples = 23\\nvalue = 1019347.826'),\n",
       " Text(1054.0, 101.92499999999995, 'mse = 405000000000.0\\nsamples = 3\\nvalue = 1700000.0'),\n",
       " Text(1071.7142857142858, 509.625, 'km_driven <= -0.621\\nmse = 51954166666.667\\nsamples = 12\\nvalue = 540000.0'),\n",
       " Text(1062.857142857143, 305.7750000000001, 'mse = 0.0\\nsamples = 1\\nvalue = 1200000.0'),\n",
       " Text(1080.5714285714287, 305.7750000000001, 'name <= -1.072\\nmse = 13477272727.273\\nsamples = 11\\nvalue = 480000.0'),\n",
       " Text(1071.7142857142858, 101.92499999999995, 'mse = 14379687500.0\\nsamples = 4\\nvalue = 388750.0'),\n",
       " Text(1089.4285714285716, 101.92499999999995, 'mse = 5484693877.551\\nsamples = 7\\nvalue = 532142.857'),\n",
       " Text(1147.0, 713.475, 'mileage <= -1.921\\nmse = 786796875000.0\\nsamples = 16\\nvalue = 2172500.0'),\n",
       " Text(1124.857142857143, 509.625, 'Region <= 0.947\\nmse = 205117187500.0\\nsamples = 4\\nvalue = 3293750.0'),\n",
       " Text(1116.0, 305.7750000000001, 'km_driven <= -0.542\\nmse = 43888888888.889\\nsamples = 3\\nvalue = 3533333.333'),\n",
       " Text(1107.142857142857, 101.92499999999995, 'mse = 0.0\\nsamples = 1\\nvalue = 3250000.0'),\n",
       " Text(1124.857142857143, 101.92499999999995, 'mse = 5625000000.0\\nsamples = 2\\nvalue = 3675000.0'),\n",
       " Text(1133.7142857142858, 305.7750000000001, 'mse = 0.0\\nsamples = 1\\nvalue = 2575000.0'),\n",
       " Text(1169.142857142857, 509.625, 'year <= -1.161\\nmse = 421933854166.666\\nsamples = 12\\nvalue = 1798750.0'),\n",
       " Text(1151.4285714285716, 305.7750000000001, 'City <= 0.699\\nmse = 13938888888.889\\nsamples = 3\\nvalue = 861666.667'),\n",
       " Text(1142.5714285714287, 101.92499999999995, 'mse = 900000000.0\\nsamples = 2\\nvalue = 780000.0'),\n",
       " Text(1160.2857142857144, 101.92499999999995, 'mse = 0.0\\nsamples = 1\\nvalue = 1025000.0'),\n",
       " Text(1186.857142857143, 305.7750000000001, 'seller_type <= -0.982\\nmse = 167654320987.654\\nsamples = 9\\nvalue = 2111111.111'),\n",
       " Text(1178.0, 101.92499999999995, 'mse = 0.0\\nsamples = 1\\nvalue = 2700000.0'),\n",
       " Text(1195.7142857142858, 101.92499999999995, 'mse = 139843750000.0\\nsamples = 8\\nvalue = 2037500.0'),\n",
       " Text(1319.7142857142858, 917.3249999999999, 'max_power <= 3.855\\nmse = 1173017876535.144\\nsamples = 88\\nvalue = 2987363.614'),\n",
       " Text(1275.4285714285716, 713.475, 'mileage <= -0.171\\nmse = 219661696298.774\\nsamples = 80\\nvalue = 2732974.975'),\n",
       " Text(1240.0, 509.625, 'mileage <= -1.77\\nmse = 174063390281.291\\nsamples = 48\\nvalue = 2498708.292'),\n",
       " Text(1222.2857142857144, 305.7750000000001, 'max_power <= 2.952\\nmse = 64055555555.555\\nsamples = 6\\nvalue = 1761666.667'),\n",
       " Text(1213.4285714285716, 101.92499999999995, 'mse = 24600000000.0\\nsamples = 5\\nvalue = 1855000.0'),\n",
       " Text(1231.142857142857, 101.92499999999995, 'mse = 0.0\\nsamples = 1\\nvalue = 1295000.0'),\n",
       " Text(1257.7142857142858, 305.7750000000001, 'engine <= 1.034\\nmse = 101088124714.33\\nsamples = 42\\nvalue = 2603999.952'),\n",
       " Text(1248.857142857143, 101.92499999999995, 'mse = 109055302750.25\\nsamples = 4\\nvalue = 1909749.5'),\n",
       " Text(1266.5714285714287, 101.92499999999995, 'mse = 44173809556.786\\nsamples = 38\\nvalue = 2677078.947'),\n",
       " Text(1310.857142857143, 509.625, 'mileage <= 0.702\\nmse = 82255859375.0\\nsamples = 32\\nvalue = 3084375.0'),\n",
       " Text(1293.142857142857, 305.7750000000001, 'mileage <= 0.011\\nmse = 4780521262.004\\nsamples = 27\\nvalue = 3185185.185'),\n",
       " Text(1284.2857142857144, 101.92499999999995, 'mse = 384000000.0\\nsamples = 25\\nvalue = 3204000.0'),\n",
       " Text(1302.0, 101.92499999999995, 'mse = 0.0\\nsamples = 2\\nvalue = 2950000.0'),\n",
       " Text(1328.5714285714287, 305.7750000000001, 'name <= -1.864\\nmse = 149400000000.0\\nsamples = 5\\nvalue = 2540000.0'),\n",
       " Text(1319.7142857142858, 101.92499999999995, 'mse = 0.0\\nsamples = 1\\nvalue = 3200000.0'),\n",
       " Text(1337.4285714285716, 101.92499999999995, 'mse = 50625000000.0\\nsamples = 4\\nvalue = 2375000.0'),\n",
       " Text(1364.0, 713.475, 'name <= 1.298\\nmse = 3588085937500.0\\nsamples = 8\\nvalue = 5531250.0'),\n",
       " Text(1355.142857142857, 509.625, 'km_driven <= -0.828\\nmse = 840306122448.984\\nsamples = 7\\nvalue = 4892857.143'),\n",
       " Text(1346.2857142857144, 305.7750000000001, 'mse = 0.0\\nsamples = 4\\nvalue = 4100000.0'),\n",
       " Text(1364.0, 305.7750000000001, 'km_driven <= -0.532\\nmse = 5000000000.0\\nsamples = 3\\nvalue = 5950000.0'),\n",
       " Text(1355.142857142857, 101.92499999999995, 'mse = 0.0\\nsamples = 2\\nvalue = 6000000.0'),\n",
       " Text(1372.857142857143, 101.92499999999995, 'mse = 0.0\\nsamples = 1\\nvalue = 5850000.0'),\n",
       " Text(1372.857142857143, 509.625, 'mse = 0.0\\nsamples = 1\\nvalue = 10000000.0'),\n",
       " Text(1525.6428571428573, 1121.175, 'name <= 0.122\\nmse = 977812074278.668\\nsamples = 148\\nvalue = 4699993.243'),\n",
       " Text(1443.7142857142858, 917.3249999999999, 'max_power <= 2.638\\nmse = 666097680758.281\\nsamples = 106\\nvalue = 5100556.604'),\n",
       " Text(1399.4285714285716, 713.475, 'engine <= 1.038\\nmse = 60468750000.0\\nsamples = 4\\nvalue = 2612500.0'),\n",
       " Text(1390.5714285714287, 509.625, 'mse = 0.0\\nsamples = 1\\nvalue = 2200000.0'),\n",
       " Text(1408.2857142857144, 509.625, 'mileage <= -1.026\\nmse = 5000000000.0\\nsamples = 3\\nvalue = 2750000.0'),\n",
       " Text(1399.4285714285716, 305.7750000000001, 'mse = 0.0\\nsamples = 2\\nvalue = 2700000.0'),\n",
       " Text(1417.1428571428573, 305.7750000000001, 'mse = 0.0\\nsamples = 1\\nvalue = 2850000.0'),\n",
       " Text(1488.0, 713.475, 'year <= 1.169\\nmse = 437565973952.324\\nsamples = 102\\nvalue = 5198127.451'),\n",
       " Text(1452.5714285714287, 509.625, 'seats <= -0.955\\nmse = 1016819135802.473\\nsamples = 18\\nvalue = 4274444.444'),\n",
       " Text(1434.857142857143, 305.7750000000001, 'state_or_province <= 0.842\\nmse = 33336000000.0\\nsamples = 5\\nvalue = 5832000.0'),\n",
       " Text(1426.0, 101.92499999999995, 'mse = 7225000000.0\\nsamples = 4\\nvalue = 5915000.0'),\n",
       " Text(1443.7142857142858, 101.92499999999995, 'mse = 0.0\\nsamples = 1\\nvalue = 5500000.0'),\n",
       " Text(1470.2857142857144, 305.7750000000001, 'name <= -1.838\\nmse = 103140236686.391\\nsamples = 13\\nvalue = 3675384.615'),\n",
       " Text(1461.4285714285716, 101.92499999999995, 'mse = 6581250000.0\\nsamples = 8\\nvalue = 3922500.0'),\n",
       " Text(1479.1428571428573, 101.92499999999995, 'mse = 3600000000.0\\nsamples = 5\\nvalue = 3280000.0'),\n",
       " Text(1523.4285714285716, 509.625, 'mileage <= -0.875\\nmse = 91436698837.863\\nsamples = 84\\nvalue = 5396059.524'),\n",
       " Text(1505.7142857142858, 305.7750000000001, 'year <= 1.428\\nmse = 223974187500.0\\nsamples = 4\\nvalue = 6467250.0'),\n",
       " Text(1496.857142857143, 101.92499999999995, 'mse = 60000000000.0\\nsamples = 3\\nvalue = 6223000.0'),\n",
       " Text(1514.5714285714287, 101.92499999999995, 'mse = 0.0\\nsamples = 1\\nvalue = 7200000.0'),\n",
       " Text(1541.1428571428573, 305.7750000000001, 'mileage <= -0.511\\nmse = 24568750000.0\\nsamples = 80\\nvalue = 5342500.0'),\n",
       " Text(1532.2857142857144, 101.92499999999995, 'mse = 4864000000.0\\nsamples = 50\\nvalue = 5456000.0'),\n",
       " Text(1550.0, 101.92499999999995, 'mse = 155555555.559\\nsamples = 30\\nvalue = 5153333.333'),\n",
       " Text(1607.5714285714287, 917.3249999999999, 'max_power <= 2.655\\nmse = 337560997732.428\\nsamples = 42\\nvalue = 3689047.619'),\n",
       " Text(1576.5714285714287, 713.475, 'seats <= 0.608\\nmse = 57564000000.0\\nsamples = 10\\nvalue = 2964000.0'),\n",
       " Text(1567.7142857142858, 509.625, 'mse = 0.0\\nsamples = 2\\nvalue = 2550000.0'),\n",
       " Text(1585.4285714285716, 509.625, 'name <= 1.572\\nmse = 18393750000.0\\nsamples = 8\\nvalue = 3067500.0'),\n",
       " Text(1576.5714285714287, 305.7750000000001, 'km_driven <= -0.561\\nmse = 1675000000.0\\nsamples = 4\\nvalue = 2935000.0'),\n",
       " Text(1567.7142857142858, 101.92499999999995, 'mse = 0.0\\nsamples = 1\\nvalue = 3000000.0'),\n",
       " Text(1585.4285714285716, 101.92499999999995, 'mse = 355555555.555\\nsamples = 3\\nvalue = 2913333.333'),\n",
       " Text(1594.2857142857144, 305.7750000000001, 'mse = 0.0\\nsamples = 4\\nvalue = 3200000.0'),\n",
       " Text(1638.5714285714287, 713.475, 'km_driven <= -0.996\\nmse = 209443359375.0\\nsamples = 32\\nvalue = 3915625.0'),\n",
       " Text(1620.857142857143, 509.625, 'engine <= 1.035\\nmse = 20000000000.0\\nsamples = 3\\nvalue = 5300000.0'),\n",
       " Text(1612.0, 305.7750000000001, 'mse = 0.0\\nsamples = 1\\nvalue = 5500000.0'),\n",
       " Text(1629.7142857142858, 305.7750000000001, 'mse = 0.0\\nsamples = 2\\nvalue = 5200000.0'),\n",
       " Text(1656.2857142857144, 509.625, 'seller_type <= -0.982\\nmse = 10273483947.684\\nsamples = 29\\nvalue = 3772413.793'),\n",
       " Text(1647.4285714285716, 305.7750000000001, 'mse = 0.0\\nsamples = 2\\nvalue = 3400000.0'),\n",
       " Text(1665.1428571428573, 305.7750000000001, 'mse = 0.0\\nsamples = 27\\nvalue = 3800000.0')]"
      ]
     },
     "execution_count": 117,
     "metadata": {},
     "output_type": "execute_result"
    },
    {
     "data": {
      "image/png": "[encoded data removed]",
      "text/plain": [
       "<Figure size 2160x2160 with 1 Axes>"
      ]
     },
     "metadata": {
      "needs_background": "light"
     },
     "output_type": "display_data"
    }
   ],
   "source": [
    "r = tree.DecisionTreeRegressor(max_depth=7)\n",
    "r.fit(xtrain,ytrain)\n",
    "r.score(xtest,ytest)\n",
    "plt.figure(figsize=(30,30))\n",
    "tree.plot_tree(r,feature_names=x.columns,\n",
    "              class_names=None,\n",
    "              filled = True)"
   ]
  },
  {
   "cell_type": "markdown",
   "id": "f5992530",
   "metadata": {},
   "source": [
    "Tree is quite big and unreadble"
   ]
  },
  {
   "cell_type": "markdown",
   "id": "cbb3482d",
   "metadata": {},
   "source": [
    "# Ensemble models"
   ]
  },
  {
   "cell_type": "markdown",
   "id": "b0ead9c2",
   "metadata": {},
   "source": [
    "# Adaboost Regressor"
   ]
  },
  {
   "cell_type": "code",
   "execution_count": 118,
   "id": "b3ad2335",
   "metadata": {},
   "outputs": [
    {
     "data": {
      "text/plain": [
       "0.7611696012318794"
      ]
     },
     "execution_count": 118,
     "metadata": {},
     "output_type": "execute_result"
    }
   ],
   "source": [
    "from sklearn.ensemble import AdaBoostRegressor\n",
    "reg3 = AdaBoostRegressor(n_estimators=2,random_state=400)\n",
    "reg3.fit(xtrain,ytrain)\n",
    "reg3.score(xtest,ytest)"
   ]
  },
  {
   "cell_type": "markdown",
   "id": "9171194e",
   "metadata": {},
   "source": [
    "Tried using n_estimators of range lower as well as higher to get perfect range that gives best score--checked for 2 to 140 and in all the range found value 11 giving best score so chose that "
   ]
  },
  {
   "cell_type": "code",
   "execution_count": 119,
   "id": "dea7cccd",
   "metadata": {},
   "outputs": [
    {
     "data": {
      "text/plain": [
       "GridSearchCV(estimator=AdaBoostRegressor(n_estimators=2, random_state=400),\n",
       "             param_grid={'n_estimators': array([ 2,  3,  4,  5,  6,  7,  8,  9, 10, 11, 12, 13, 14, 15, 16, 17, 18,\n",
       "       19, 20, 21, 22, 23, 24, 25, 26, 27, 28, 29])})"
      ]
     },
     "execution_count": 119,
     "metadata": {},
     "output_type": "execute_result"
    }
   ],
   "source": [
    "mod2 = GridSearchCV(reg3,param_grid={'n_estimators':np.arange(2,30)})\n",
    "mod2.fit(xtrain,ytrain)"
   ]
  },
  {
   "cell_type": "code",
   "execution_count": 120,
   "id": "bcae45a0",
   "metadata": {},
   "outputs": [
    {
     "data": {
      "text/plain": [
       "AdaBoostRegressor(n_estimators=11, random_state=400)"
      ]
     },
     "execution_count": 120,
     "metadata": {},
     "output_type": "execute_result"
    }
   ],
   "source": [
    "mod2.best_estimator_"
   ]
  },
  {
   "cell_type": "code",
   "execution_count": 121,
   "id": "86117525",
   "metadata": {},
   "outputs": [
    {
     "data": {
      "text/plain": [
       "0.8836346119727025"
      ]
     },
     "execution_count": 121,
     "metadata": {},
     "output_type": "execute_result"
    }
   ],
   "source": [
    "mod2.best_score_"
   ]
  },
  {
   "cell_type": "code",
   "execution_count": 122,
   "id": "0c031767",
   "metadata": {},
   "outputs": [
    {
     "data": {
      "text/plain": [
       "191733.6080540976"
      ]
     },
     "execution_count": 122,
     "metadata": {},
     "output_type": "execute_result"
    }
   ],
   "source": [
    "pr=mod2.predict(xtest)\n",
    "mae3 = mean_absolute_error(ytest,pr)\n",
    "mae3"
   ]
  },
  {
   "cell_type": "code",
   "execution_count": 123,
   "id": "df348b01",
   "metadata": {},
   "outputs": [
    {
     "data": {
      "text/plain": [
       "76750211115.53708"
      ]
     },
     "execution_count": 123,
     "metadata": {},
     "output_type": "execute_result"
    }
   ],
   "source": [
    "mse3 = mean_squared_error(ytest,pr)\n",
    "mse3"
   ]
  },
  {
   "cell_type": "code",
   "execution_count": 124,
   "id": "15f682e0",
   "metadata": {},
   "outputs": [
    {
     "data": {
      "text/plain": [
       "0.872753325403913"
      ]
     },
     "execution_count": 124,
     "metadata": {},
     "output_type": "execute_result"
    }
   ],
   "source": [
    "r3 = r2_score(ytest,pr)\n",
    "r3"
   ]
  },
  {
   "cell_type": "code",
   "execution_count": 125,
   "id": "00df7472",
   "metadata": {},
   "outputs": [
    {
     "data": {
      "text/plain": [
       "277038.28456647845"
      ]
     },
     "execution_count": 125,
     "metadata": {},
     "output_type": "execute_result"
    }
   ],
   "source": [
    "rmse3 = mean_squared_error(ytest,pr,squared=False)\n",
    "rmse3"
   ]
  },
  {
   "cell_type": "code",
   "execution_count": 126,
   "id": "52192741",
   "metadata": {},
   "outputs": [],
   "source": [
    "test_results_mae['Adaboost Regression']=mae3\n",
    "test_results_mse['Adaboost Regression']=mse3\n",
    "test_results_r2_score['Adaboost Regression']=r3\n",
    "test_result_score['Adaboost Regression']=rmse3"
   ]
  },
  {
   "cell_type": "code",
   "execution_count": 127,
   "id": "8b69081c",
   "metadata": {},
   "outputs": [
    {
     "data": {
      "text/plain": [
       "0.872753325403913"
      ]
     },
     "execution_count": 127,
     "metadata": {},
     "output_type": "execute_result"
    }
   ],
   "source": [
    "reg3 = AdaBoostRegressor(n_estimators=11,random_state=400)\n",
    "reg3.fit(xtrain,ytrain)\n",
    "reg3.score(xtest,ytest)"
   ]
  },
  {
   "cell_type": "code",
   "execution_count": 128,
   "id": "9e380bcc",
   "metadata": {},
   "outputs": [
    {
     "data": {
      "text/plain": [
       "array([0.02813499, 0.10936367, 0.06721414, 0.        , 0.        ,\n",
       "       0.        , 0.        , 0.01069103, 0.0101017 , 0.00834897,\n",
       "       0.00861205, 0.75655841, 0.00097504, 0.        , 0.        ])"
      ]
     },
     "execution_count": 128,
     "metadata": {},
     "output_type": "execute_result"
    }
   ],
   "source": [
    "reg3.feature_importances_"
   ]
  },
  {
   "cell_type": "code",
   "execution_count": 129,
   "id": "b0721625",
   "metadata": {},
   "outputs": [
    {
     "data": {
      "text/plain": [
       "<AxesSubplot:>"
      ]
     },
     "execution_count": 129,
     "metadata": {},
     "output_type": "execute_result"
    },
    {
     "data": {
      "image/png": "[encoded data removed]",
      "text/plain": [
       "<Figure size 432x288 with 1 Axes>"
      ]
     },
     "metadata": {
      "needs_background": "light"
     },
     "output_type": "display_data"
    }
   ],
   "source": [
    "feature_imp=pd.Series(reg3.feature_importances_,index=x.columns)\n",
    "feature_imp.sort_values(ascending=False).plot(kind='bar')"
   ]
  },
  {
   "cell_type": "markdown",
   "id": "583c0aff",
   "metadata": {},
   "source": [
    "This shows how adaboost gives your features importance to target"
   ]
  },
  {
   "cell_type": "markdown",
   "id": "a41f146d",
   "metadata": {},
   "source": [
    "# Gradient Boosting Regressor"
   ]
  },
  {
   "cell_type": "code",
   "execution_count": 130,
   "id": "2f26588a",
   "metadata": {},
   "outputs": [
    {
     "data": {
      "text/plain": [
       "0.4854516696966147"
      ]
     },
     "execution_count": 130,
     "metadata": {},
     "output_type": "execute_result"
    }
   ],
   "source": [
    "from sklearn.ensemble import GradientBoostingRegressor\n",
    "reg4 = GradientBoostingRegressor(n_estimators=4,random_state=25)\n",
    "reg4.fit(xtrain,ytrain)\n",
    "reg4.score(xtest,ytest)"
   ]
  },
  {
   "cell_type": "markdown",
   "id": "0c2e5cf2",
   "metadata": {},
   "source": [
    "Checked for best score with n_estimators on different range of one steps as weel from 2 to 30 also checked with steps of 10 for 10 to 140 and observed that we get best score at value 150"
   ]
  },
  {
   "cell_type": "code",
   "execution_count": 131,
   "id": "d8dc967e",
   "metadata": {},
   "outputs": [
    {
     "data": {
      "text/plain": [
       "GridSearchCV(estimator=GradientBoostingRegressor(n_estimators=4,\n",
       "                                                 random_state=25),\n",
       "             param_grid={'n_estimators': array([ 10,  20,  30,  40,  50,  60,  70,  80,  90, 100, 110, 120, 130,\n",
       "       140, 150])})"
      ]
     },
     "execution_count": 131,
     "metadata": {},
     "output_type": "execute_result"
    }
   ],
   "source": [
    "mod3 = GridSearchCV(reg4,param_grid={'n_estimators':np.arange(10,160,10)})\n",
    "mod3.fit(xtrain,ytrain)"
   ]
  },
  {
   "cell_type": "code",
   "execution_count": 132,
   "id": "61d640ef",
   "metadata": {},
   "outputs": [
    {
     "data": {
      "text/plain": [
       "GradientBoostingRegressor(n_estimators=150, random_state=25)"
      ]
     },
     "execution_count": 132,
     "metadata": {},
     "output_type": "execute_result"
    }
   ],
   "source": [
    "mod3.best_estimator_"
   ]
  },
  {
   "cell_type": "code",
   "execution_count": 133,
   "id": "651d723d",
   "metadata": {},
   "outputs": [
    {
     "data": {
      "text/plain": [
       "0.9613985205398341"
      ]
     },
     "execution_count": 133,
     "metadata": {},
     "output_type": "execute_result"
    }
   ],
   "source": [
    "mod3.best_score_"
   ]
  },
  {
   "cell_type": "code",
   "execution_count": 134,
   "id": "a32bf735",
   "metadata": {},
   "outputs": [
    {
     "data": {
      "text/plain": [
       "79311.9524090764"
      ]
     },
     "execution_count": 134,
     "metadata": {},
     "output_type": "execute_result"
    }
   ],
   "source": [
    "pr=mod3.predict(xtest)\n",
    "mae4 = mean_absolute_error(ytest,pr)\n",
    "mae4"
   ]
  },
  {
   "cell_type": "code",
   "execution_count": 135,
   "id": "16adb50a",
   "metadata": {},
   "outputs": [
    {
     "data": {
      "text/plain": [
       "21531132515.683826"
      ]
     },
     "execution_count": 135,
     "metadata": {},
     "output_type": "execute_result"
    }
   ],
   "source": [
    "mse4 = mean_squared_error(ytest,pr)\n",
    "mse4"
   ]
  },
  {
   "cell_type": "code",
   "execution_count": 136,
   "id": "576c75a0",
   "metadata": {},
   "outputs": [
    {
     "data": {
      "text/plain": [
       "146734.9055803827"
      ]
     },
     "execution_count": 136,
     "metadata": {},
     "output_type": "execute_result"
    }
   ],
   "source": [
    "rmse4 = mean_squared_error(ytest,pr,squared=False)\n",
    "rmse4"
   ]
  },
  {
   "cell_type": "code",
   "execution_count": 137,
   "id": "bfddb116",
   "metadata": {},
   "outputs": [
    {
     "data": {
      "text/plain": [
       "0.9643028341800376"
      ]
     },
     "execution_count": 137,
     "metadata": {},
     "output_type": "execute_result"
    }
   ],
   "source": [
    "r4 = r2_score(ytest,pr)\n",
    "r4"
   ]
  },
  {
   "cell_type": "code",
   "execution_count": 138,
   "id": "e0ca3333",
   "metadata": {},
   "outputs": [],
   "source": [
    "test_results_mae['Gradient Boosting Regression']=mae4\n",
    "test_results_mse['Gradient Boosting Regression']=mse4\n",
    "test_results_r2_score['Gradient Boosting Regression']=r4\n",
    "test_result_score['Gradient Boosting Regression']=rmse4"
   ]
  },
  {
   "cell_type": "code",
   "execution_count": 139,
   "id": "e2ec261d",
   "metadata": {},
   "outputs": [
    {
     "data": {
      "text/plain": [
       "0.9643028341800376"
      ]
     },
     "execution_count": 139,
     "metadata": {},
     "output_type": "execute_result"
    }
   ],
   "source": [
    "reg4 = GradientBoostingRegressor(n_estimators=150,random_state=25)\n",
    "reg4.fit(xtrain,ytrain)\n",
    "reg4.score(xtest,ytest)"
   ]
  },
  {
   "cell_type": "code",
   "execution_count": 140,
   "id": "2916b44f",
   "metadata": {},
   "outputs": [
    {
     "data": {
      "text/plain": [
       "array([1.34270801e-02, 1.88773272e-01, 1.97531985e-02, 1.40579910e-04,\n",
       "       4.29563910e-04, 2.75092343e-03, 7.10186221e-03, 1.43203488e-02,\n",
       "       2.32951044e-04, 8.15576672e-03, 1.95583700e-02, 7.22549709e-01,\n",
       "       2.58303427e-03, 0.00000000e+00, 2.23340725e-04])"
      ]
     },
     "execution_count": 140,
     "metadata": {},
     "output_type": "execute_result"
    }
   ],
   "source": [
    "reg4.feature_importances_"
   ]
  },
  {
   "cell_type": "code",
   "execution_count": 141,
   "id": "d4a31e6c",
   "metadata": {},
   "outputs": [],
   "source": [
    "feature_imp=pd.Series(reg4.feature_importances_,index=x.columns)"
   ]
  },
  {
   "cell_type": "code",
   "execution_count": 142,
   "id": "0290233f",
   "metadata": {},
   "outputs": [
    {
     "data": {
      "text/plain": [
       "<AxesSubplot:>"
      ]
     },
     "execution_count": 142,
     "metadata": {},
     "output_type": "execute_result"
    },
    {
     "data": {
      "image/png": "[encoded data removed]",
      "text/plain": [
       "<Figure size 432x288 with 1 Axes>"
      ]
     },
     "metadata": {
      "needs_background": "light"
     },
     "output_type": "display_data"
    }
   ],
   "source": [
    "feature_imp.sort_values(ascending=False).plot(kind='bar')"
   ]
  },
  {
   "cell_type": "markdown",
   "id": "2afc24bb",
   "metadata": {},
   "source": [
    "We can observe how features affect the model on predicting target "
   ]
  },
  {
   "cell_type": "markdown",
   "id": "a511bb78",
   "metadata": {},
   "source": [
    "# Random Forest Regressor"
   ]
  },
  {
   "cell_type": "code",
   "execution_count": 143,
   "id": "6b6c4ce8",
   "metadata": {},
   "outputs": [
    {
     "data": {
      "text/plain": [
       "0.9720895046951219"
      ]
     },
     "execution_count": 143,
     "metadata": {},
     "output_type": "execute_result"
    }
   ],
   "source": [
    "from sklearn.ensemble import RandomForestRegressor\n",
    "reg5=RandomForestRegressor(n_estimators=80,oob_score=True,n_jobs=-1,random_state=400)\n",
    "reg5.fit(xtrain,ytrain)\n",
    "reg5.score(xtest,ytest)"
   ]
  },
  {
   "cell_type": "code",
   "execution_count": 156,
   "id": "54d302c6",
   "metadata": {},
   "outputs": [],
   "source": [
    "import pickle\n",
    "# open a file, where you ant to store the data\n",
    "file = open('random_forest_reg_model.pkl', 'wb')\n",
    "\n",
    "# dump information to that file\n",
    "pickle.dump(reg5, file)"
   ]
  },
  {
   "cell_type": "markdown",
   "id": "caf0e276",
   "metadata": {},
   "source": [
    "out of bag score"
   ]
  },
  {
   "cell_type": "code",
   "execution_count": 144,
   "id": "1fb4c8bb",
   "metadata": {},
   "outputs": [
    {
     "data": {
      "text/plain": [
       "0.9660257255399624"
      ]
     },
     "execution_count": 144,
     "metadata": {},
     "output_type": "execute_result"
    }
   ],
   "source": [
    "reg5.oob_score_"
   ]
  },
  {
   "cell_type": "code",
   "execution_count": 145,
   "id": "556246ee",
   "metadata": {},
   "outputs": [
    {
     "name": "stderr",
     "output_type": "stream",
     "text": [
      "C:\\Users\\psarana\\Anaconda3\\lib\\site-packages\\sklearn\\ensemble\\_forest.py:833: UserWarning: Some inputs do not have OOB scores. This probably means too few trees were used to compute any reliable oob estimates.\n",
      "  warn(\"Some inputs do not have OOB scores. \"\n"
     ]
    },
    {
     "name": "stdout",
     "output_type": "stream",
     "text": [
      "For n_estimators = 10\n",
      "OOB score is 0.9363778092403325\n",
      "************************\n",
      "For n_estimators = 30\n",
      "OOB score is 0.9676328272153917\n",
      "************************\n",
      "For n_estimators = 50\n",
      "OOB score is 0.9672908314748463\n",
      "************************\n",
      "For n_estimators = 70\n",
      "OOB score is 0.9662996836455091\n",
      "************************\n",
      "For n_estimators = 90\n",
      "OOB score is 0.9665263115736863\n",
      "************************\n",
      "For n_estimators = 110\n",
      "OOB score is 0.9668317231859691\n",
      "************************\n",
      "For n_estimators = 130\n",
      "OOB score is 0.9671439165907829\n",
      "************************\n",
      "For n_estimators = 150\n",
      "OOB score is 0.9674806923337553\n",
      "************************\n",
      "For n_estimators = 170\n",
      "OOB score is 0.967128414383111\n",
      "************************\n",
      "For n_estimators = 190\n",
      "OOB score is 0.9672340226439919\n",
      "************************\n",
      "For n_estimators = 210\n",
      "OOB score is 0.9673094882880794\n",
      "************************\n",
      "For n_estimators = 230\n",
      "OOB score is 0.9674201244241534\n",
      "************************\n",
      "For n_estimators = 250\n",
      "OOB score is 0.9674275315144427\n",
      "************************\n",
      "For n_estimators = 270\n",
      "OOB score is 0.9674840242841266\n",
      "************************\n",
      "For n_estimators = 290\n",
      "OOB score is 0.9675287055910324\n",
      "************************\n"
     ]
    }
   ],
   "source": [
    "for w in range(10,300,20):\n",
    "    clf=RandomForestRegressor(n_estimators=w,oob_score=True,n_jobs=-1,random_state=400)\n",
    "    clf.fit(xtrain,ytrain)\n",
    "    oob=clf.oob_score_\n",
    "    print('For n_estimators = '+str(w))\n",
    "    print('OOB score is '+str(oob))\n",
    "    print('************************')"
   ]
  },
  {
   "cell_type": "code",
   "execution_count": 146,
   "id": "18855a4f",
   "metadata": {},
   "outputs": [
    {
     "data": {
      "text/plain": [
       "0.9674806923337553"
      ]
     },
     "execution_count": 146,
     "metadata": {},
     "output_type": "execute_result"
    }
   ],
   "source": [
    "mod4=RandomForestRegressor(n_estimators=150,oob_score=True,n_jobs=-1,random_state=400)\n",
    "mod4.fit(xtrain,ytrain)\n",
    "mod4.oob_score_"
   ]
  },
  {
   "cell_type": "code",
   "execution_count": 147,
   "id": "33f74f05",
   "metadata": {},
   "outputs": [
    {
     "data": {
      "text/plain": [
       "67303.68260088695"
      ]
     },
     "execution_count": 147,
     "metadata": {},
     "output_type": "execute_result"
    }
   ],
   "source": [
    "pr1=mod4.predict(xtest)\n",
    "mae5 = mean_absolute_error(ytest,pr1)\n",
    "mae5"
   ]
  },
  {
   "cell_type": "code",
   "execution_count": 148,
   "id": "cee205e7",
   "metadata": {},
   "outputs": [
    {
     "data": {
      "text/plain": [
       "16790921805.538332"
      ]
     },
     "execution_count": 148,
     "metadata": {},
     "output_type": "execute_result"
    }
   ],
   "source": [
    "mse5 = mean_squared_error(ytest,pr1)\n",
    "mse5"
   ]
  },
  {
   "cell_type": "code",
   "execution_count": 149,
   "id": "c856bb5b",
   "metadata": {},
   "outputs": [
    {
     "data": {
      "text/plain": [
       "129579.78934053848"
      ]
     },
     "execution_count": 149,
     "metadata": {},
     "output_type": "execute_result"
    }
   ],
   "source": [
    "rmse5 = mean_squared_error(ytest,pr1,squared=False)\n",
    "rmse5"
   ]
  },
  {
   "cell_type": "code",
   "execution_count": 150,
   "id": "82affcfc",
   "metadata": {},
   "outputs": [
    {
     "data": {
      "text/plain": [
       "0.9721617838947527"
      ]
     },
     "execution_count": 150,
     "metadata": {},
     "output_type": "execute_result"
    }
   ],
   "source": [
    "r5 = r2_score(ytest,pr1)\n",
    "r5"
   ]
  },
  {
   "cell_type": "code",
   "execution_count": 151,
   "id": "82b669fd",
   "metadata": {},
   "outputs": [],
   "source": [
    "test_results_mae['Random Forest Regression']=mae5\n",
    "test_results_mse['Random Forest Regression']=mse5\n",
    "test_results_r2_score['Random Forest Regression']=r5\n",
    "test_result_score['Random Forest Regression']=rmse5"
   ]
  },
  {
   "cell_type": "code",
   "execution_count": 152,
   "id": "8dd2f4b3",
   "metadata": {},
   "outputs": [
    {
     "data": {
      "text/plain": [
       "array([1.94248008e-02, 1.93012574e-01, 1.63422061e-02, 1.99344147e-03,\n",
       "       2.83873171e-03, 2.17498223e-03, 3.42261661e-03, 2.04053761e-03,\n",
       "       9.44377251e-04, 1.46928214e-02, 1.02010004e-02, 7.28089057e-01,\n",
       "       3.71473025e-03, 2.90233838e-04, 8.17888980e-04])"
      ]
     },
     "execution_count": 152,
     "metadata": {},
     "output_type": "execute_result"
    }
   ],
   "source": [
    "mod4.feature_importances_"
   ]
  },
  {
   "cell_type": "code",
   "execution_count": 153,
   "id": "66cbcae4",
   "metadata": {},
   "outputs": [],
   "source": [
    "imp_feat=pd.Series(mod4.feature_importances_,index=x.columns.tolist())"
   ]
  },
  {
   "cell_type": "code",
   "execution_count": 154,
   "id": "4a43acf7",
   "metadata": {},
   "outputs": [
    {
     "data": {
      "text/plain": [
       "<AxesSubplot:>"
      ]
     },
     "execution_count": 154,
     "metadata": {},
     "output_type": "execute_result"
    },
    {
     "data": {
      "image/png": "[encoded data removed]",
      "text/plain": [
       "<Figure size 432x288 with 1 Axes>"
      ]
     },
     "metadata": {
      "needs_background": "light"
     },
     "output_type": "display_data"
    }
   ],
   "source": [
    "imp_feat.sort_values(ascending=False).plot(kind='bar')"
   ]
  },
  {
   "cell_type": "markdown",
   "id": "f40cf455",
   "metadata": {},
   "source": [
    "We can observe how features affect the model in predicting selling price"
   ]
  },
  {
   "cell_type": "markdown",
   "id": "0b5c776f",
   "metadata": {},
   "source": [
    "# XGBoost Regressor"
   ]
  },
  {
   "cell_type": "code",
   "execution_count": 155,
   "id": "3db4b6b8",
   "metadata": {},
   "outputs": [
    {
     "ename": "ModuleNotFoundError",
     "evalue": "No module named 'xgboost'",
     "output_type": "error",
     "traceback": [
      "\u001b[1;31m---------------------------------------------------------------------------\u001b[0m",
      "\u001b[1;31mModuleNotFoundError\u001b[0m                       Traceback (most recent call last)",
      "\u001b[1;32m<ipython-input-155-2c02f0670723>\u001b[0m in \u001b[0;36m<module>\u001b[1;34m\u001b[0m\n\u001b[1;32m----> 1\u001b[1;33m \u001b[1;32mfrom\u001b[0m \u001b[0mxgboost\u001b[0m \u001b[1;32mimport\u001b[0m \u001b[0mXGBRegressor\u001b[0m\u001b[1;33m\u001b[0m\u001b[1;33m\u001b[0m\u001b[0m\n\u001b[0m",
      "\u001b[1;31mModuleNotFoundError\u001b[0m: No module named 'xgboost'"
     ]
    }
   ],
   "source": [
    "from xgboost import XGBRegressor"
   ]
  },
  {
   "cell_type": "code",
   "execution_count": null,
   "id": "9e489825",
   "metadata": {},
   "outputs": [],
   "source": [
    "reg6=XGBRegressor(n_estimators=80,random_state=400)\n",
    "reg6.fit(xtrain,ytrain)\n",
    "reg6.score(xtest,ytest)"
   ]
  },
  {
   "cell_type": "code",
   "execution_count": null,
   "id": "a00e1b54",
   "metadata": {},
   "outputs": [],
   "source": [
    "mod=GridSearchCV(reg6,param_grid={'n_estimators':[60,80,100,120,140,160]})\n",
    "mod.fit(xtrain,ytrain)"
   ]
  },
  {
   "cell_type": "code",
   "execution_count": null,
   "id": "765ee358",
   "metadata": {},
   "outputs": [],
   "source": [
    "mod.best_estimator_"
   ]
  },
  {
   "cell_type": "code",
   "execution_count": null,
   "id": "54b2d11b",
   "metadata": {},
   "outputs": [],
   "source": [
    "pr2=mod.predict(xtest)\n",
    "mae6 = mean_absolute_error(ytest,pr2)\n",
    "mae6"
   ]
  },
  {
   "cell_type": "code",
   "execution_count": null,
   "id": "3d5d024e",
   "metadata": {},
   "outputs": [],
   "source": [
    "mse6 = mean_squared_error(ytest,pr2)\n",
    "mse6"
   ]
  },
  {
   "cell_type": "code",
   "execution_count": null,
   "id": "d6888bd4",
   "metadata": {},
   "outputs": [],
   "source": [
    "rmse6 = mean_squared_error(ytest,pr2,squared=False)\n",
    "rmse6"
   ]
  },
  {
   "cell_type": "code",
   "execution_count": null,
   "id": "d95ea9c9",
   "metadata": {},
   "outputs": [],
   "source": [
    "r6 = r2_score(ytest,pr2)\n",
    "r6"
   ]
  },
  {
   "cell_type": "code",
   "execution_count": null,
   "id": "868b3d71",
   "metadata": {},
   "outputs": [],
   "source": [
    "test_results_mae['XGBoost Regression']=mae6\n",
    "test_results_mse['XGBoost Regression']=mse6\n",
    "test_results_r2_score['XGBoost Regression']=r6\n",
    "test_result_score['XGBoost Regression']=rmse6"
   ]
  },
  {
   "cell_type": "code",
   "execution_count": null,
   "id": "4294dfe9",
   "metadata": {},
   "outputs": [],
   "source": [
    "mod.best_score_"
   ]
  },
  {
   "cell_type": "markdown",
   "id": "e0d58e8d",
   "metadata": {},
   "source": [
    "# Clustering"
   ]
  },
  {
   "cell_type": "markdown",
   "id": "6f266877",
   "metadata": {},
   "source": [
    "Choosing values which are numerical and not categorical"
   ]
  },
  {
   "cell_type": "code",
   "execution_count": null,
   "id": "52e4ddcb",
   "metadata": {},
   "outputs": [],
   "source": [
    "data = xtrain[['max_power','km_driven','mileage','engine']]"
   ]
  },
  {
   "cell_type": "code",
   "execution_count": null,
   "id": "ece663e1",
   "metadata": {},
   "outputs": [],
   "source": [
    "import sklearn.cluster as cluster"
   ]
  },
  {
   "cell_type": "code",
   "execution_count": null,
   "id": "eaafb58f",
   "metadata": {},
   "outputs": [],
   "source": [
    "kmeans=cluster.KMeans(n_clusters=3,init=\"k-means++\")\n",
    "kmeans=kmeans.fit(data)"
   ]
  },
  {
   "cell_type": "code",
   "execution_count": null,
   "id": "03636e00",
   "metadata": {},
   "outputs": [],
   "source": [
    "kmeans.labels_"
   ]
  },
  {
   "cell_type": "code",
   "execution_count": null,
   "id": "a4ff04d7",
   "metadata": {},
   "outputs": [],
   "source": [
    "kmeans.cluster_centers_"
   ]
  },
  {
   "cell_type": "code",
   "execution_count": null,
   "id": "e26fa4f5",
   "metadata": {},
   "outputs": [],
   "source": [
    "from scipy.spatial.distance import cdist\n",
    "K=range(1,20)\n",
    "wss = []\n",
    "for k in K:\n",
    "    kmeans = cluster.KMeans(n_clusters=k,init=\"k-means++\")\n",
    "    kmeans.fit(data)\n",
    "    wss.append(sum(np.min(cdist(data, kmeans.cluster_centers_, 'euclidean'), \n",
    "                                      axis=1)) / data.shape[0])"
   ]
  },
  {
   "cell_type": "code",
   "execution_count": null,
   "id": "8aac3a66",
   "metadata": {},
   "outputs": [],
   "source": [
    "plt.plot(K, wss, 'bx')\n",
    "plt.xlabel('k')\n",
    "plt.ylabel('Average distortion')\n",
    "plt.title('Selecting k with the Elbow Method')\n",
    "plt.show()"
   ]
  },
  {
   "cell_type": "code",
   "execution_count": null,
   "id": "066cf1e8",
   "metadata": {},
   "outputs": [],
   "source": [
    "import sklearn.metrics as metrics\n",
    "labels=cluster.KMeans(n_clusters=8,random_state=200).fit(data).labels_"
   ]
  },
  {
   "cell_type": "code",
   "execution_count": null,
   "id": "34c14a05",
   "metadata": {},
   "outputs": [],
   "source": [
    "metrics.silhouette_score(data,labels,metric=\"euclidean\",sample_size=10000,random_state=200)"
   ]
  },
  {
   "cell_type": "code",
   "execution_count": null,
   "id": "d8b1d26a",
   "metadata": {},
   "outputs": [],
   "source": [
    "for i in range(2,13):\n",
    "    labels=cluster.KMeans(n_clusters=i,random_state=200).fit(data).labels_\n",
    "    print (\"Silhoutte score for k= \"+str(i)+\" is \"+str(metrics.silhouette_score(data,labels,metric=\"euclidean\",\n",
    "                                 sample_size=1000,random_state=200)))"
   ]
  },
  {
   "cell_type": "code",
   "execution_count": null,
   "id": "c778c334",
   "metadata": {},
   "outputs": [],
   "source": [
    "kmeans = cluster.KMeans(n_clusters = 3, init = \"k-means++\", random_state = 42)\n",
    "y_kmeans = kmeans.fit_predict(data)"
   ]
  },
  {
   "cell_type": "code",
   "execution_count": null,
   "id": "96bee5f4",
   "metadata": {},
   "outputs": [],
   "source": [
    "X = pd.DataFrame(data,columns=data.columns)\n",
    "X.head()"
   ]
  },
  {
   "cell_type": "code",
   "execution_count": null,
   "id": "3c79fdf8",
   "metadata": {},
   "outputs": [],
   "source": [
    "y_kmeans = pd.Series(y_kmeans)"
   ]
  },
  {
   "cell_type": "code",
   "execution_count": null,
   "id": "21514f0f",
   "metadata": {},
   "outputs": [],
   "source": [
    "finaldf= pd.concat([X, y_kmeans], axis=1)\n",
    "finaldf.head()"
   ]
  },
  {
   "cell_type": "code",
   "execution_count": null,
   "id": "a7626608",
   "metadata": {},
   "outputs": [],
   "source": [
    "finaldf.head()"
   ]
  },
  {
   "cell_type": "code",
   "execution_count": null,
   "id": "1433b064",
   "metadata": {},
   "outputs": [],
   "source": [
    "finaldf.columns = ['max_power','km_driven','mileage','engine','label']\n",
    "finaldf.head()"
   ]
  },
  {
   "cell_type": "code",
   "execution_count": null,
   "id": "69da8269",
   "metadata": {},
   "outputs": [],
   "source": [
    "finaldf['label'].unique()"
   ]
  },
  {
   "cell_type": "code",
   "execution_count": null,
   "id": "56f3d1e3",
   "metadata": {},
   "outputs": [],
   "source": [
    "plt.figure(figsize=(10,10))\n",
    "plt.scatter(finaldf['mileage'],finaldf['engine'],c=finaldf['label'])"
   ]
  },
  {
   "cell_type": "code",
   "execution_count": null,
   "id": "d3a0b059",
   "metadata": {},
   "outputs": [],
   "source": [
    "plt.figure(figsize=(10,10))\n",
    "plt.scatter(finaldf['mileage'],finaldf['max_power'],c=finaldf['label'])"
   ]
  },
  {
   "cell_type": "code",
   "execution_count": null,
   "id": "6c266247",
   "metadata": {},
   "outputs": [],
   "source": [
    "plt.figure(figsize=(10,10))\n",
    "plt.scatter(finaldf['mileage'],finaldf['km_driven'],c=finaldf['label'])"
   ]
  },
  {
   "cell_type": "markdown",
   "id": "620c254d",
   "metadata": {},
   "source": [
    "# Deep Neural Networks"
   ]
  },
  {
   "cell_type": "code",
   "execution_count": null,
   "id": "a3033751",
   "metadata": {},
   "outputs": [],
   "source": [
    "def build_and_compile_model(norm):\n",
    "    model = keras.Sequential([\n",
    "        norm,\n",
    "        layers.Dense(64, activation='relu'),\n",
    "        layers.Dense(64, activation='relu'),\n",
    "        layers.Dense(1)\n",
    "    ])\n",
    "    model.compile(loss='mean_absolute_error',\n",
    "                  optimizer=tf.keras.optimizers.Adam(0.001))\n",
    "    return model"
   ]
  },
  {
   "cell_type": "code",
   "execution_count": null,
   "id": "d6182cba",
   "metadata": {},
   "outputs": [],
   "source": [
    "import tensorflow as tf\n",
    "normalizer = tf.keras.layers.Normalization(axis=-1)"
   ]
  },
  {
   "cell_type": "code",
   "execution_count": null,
   "id": "502eb974",
   "metadata": {},
   "outputs": [],
   "source": [
    "from tensorflow import keras\n",
    "from tensorflow.keras import layers"
   ]
  },
  {
   "cell_type": "code",
   "execution_count": null,
   "id": "08924fcd",
   "metadata": {},
   "outputs": [],
   "source": [
    "normalizer.adapt(np.array(xtrain))"
   ]
  },
  {
   "cell_type": "code",
   "execution_count": null,
   "id": "a7716c7d",
   "metadata": {},
   "outputs": [],
   "source": [
    "dnn_model = build_and_compile_model(normalizer)\n",
    "dnn_model.summary()"
   ]
  },
  {
   "cell_type": "markdown",
   "id": "be1f8468",
   "metadata": {},
   "source": [
    "15 weghts 1 bias--16\n",
    "\n",
    "Dense layer = 1 node = 16 output 64 nodes = 1024 params\n",
    "\n",
    "Dense6 layer = 1 node = 65 output 64 nodes = 64*65 params\n",
    "\n",
    "Dense7 layer = 1 node = 65 params\n",
    "\n",
    "Trainable = all the weights and biases\n",
    "\n",
    "Non-trainable = 10 nodes, 15 x (norm and output layers)"
   ]
  },
  {
   "cell_type": "code",
   "execution_count": null,
   "id": "8001e8eb",
   "metadata": {},
   "outputs": [],
   "source": [
    "history = dnn_model.fit(\n",
    "    xtrain,\n",
    "    ytrain,\n",
    "    validation_split=0.2,\n",
    "    verbose=1, epochs=10)"
   ]
  },
  {
   "cell_type": "code",
   "execution_count": null,
   "id": "ddb79ad8",
   "metadata": {},
   "outputs": [],
   "source": [
    "def plot_loss(history):\n",
    "    plt.plot(history.history['loss'], label='loss')\n",
    "    plt.plot(history.history['val_loss'], label='val_loss')\n",
    "    plt.xlabel('Epoch')\n",
    "    plt.ylabel('Error')\n",
    "    plt.legend()\n",
    "    plt.grid(True)"
   ]
  },
  {
   "cell_type": "code",
   "execution_count": null,
   "id": "41786883",
   "metadata": {},
   "outputs": [],
   "source": [
    "plot_loss(history)"
   ]
  },
  {
   "cell_type": "code",
   "execution_count": null,
   "id": "3d415fe0",
   "metadata": {},
   "outputs": [],
   "source": [
    "test_results_mae['DNN model'] = dnn_model.evaluate(\n",
    "    xtest,\n",
    "    ytest, verbose=1)"
   ]
  },
  {
   "cell_type": "code",
   "execution_count": null,
   "id": "34019fbd",
   "metadata": {},
   "outputs": [],
   "source": [
    "def build_and_compile_model(norm):\n",
    "    model = keras.Sequential([\n",
    "        norm,\n",
    "        layers.Dense(64, activation='relu'),\n",
    "        layers.Dense(64, activation='relu'),\n",
    "        layers.Dense(1)\n",
    "    ])\n",
    "    model.compile(loss=tf.keras.losses.mean_squared_error,\n",
    "                  optimizer=tf.keras.optimizers.Adam(0.001))\n",
    "    return model"
   ]
  },
  {
   "cell_type": "code",
   "execution_count": null,
   "id": "01804e2d",
   "metadata": {},
   "outputs": [],
   "source": [
    "dnn_model2 = build_and_compile_model(normalizer)\n",
    "history = dnn_model2.fit(\n",
    "    xtrain,\n",
    "    ytrain,\n",
    "    validation_split=0.2,\n",
    "    verbose=1, epochs=10)"
   ]
  },
  {
   "cell_type": "code",
   "execution_count": null,
   "id": "6eb37aff",
   "metadata": {},
   "outputs": [],
   "source": [
    "test_results_mse['DNN model'] = dnn_model2.evaluate(\n",
    "    xtest,\n",
    "    ytest, verbose=1)"
   ]
  },
  {
   "cell_type": "markdown",
   "id": "b76420eb",
   "metadata": {},
   "source": [
    "# Model Comparison"
   ]
  },
  {
   "cell_type": "code",
   "execution_count": null,
   "id": "34dedae1",
   "metadata": {},
   "outputs": [],
   "source": [
    "results = pd.DataFrame([test_results_mae,test_results_mse,test_results_r2_score,test_result_score],index=['mae','mse','r2_score','rmse'])\n",
    "results"
   ]
  },
  {
   "cell_type": "markdown",
   "id": "14fcade2",
   "metadata": {},
   "source": [
    "From the observation we can see that Random forest regressor got lowest mean squared error,lowest root mean squared errorand highest r2_score . As these three metrics are lower in RandomForest, It is considered as the best model among the compared ones."
   ]
  },
  {
   "cell_type": "markdown",
   "id": "824af41c",
   "metadata": {},
   "source": [
    "# Metric"
   ]
  },
  {
   "cell_type": "markdown",
   "id": "34672b39",
   "metadata": {},
   "source": [
    "The MAE you get is in the same unit as the output variable.\n",
    "\n",
    "It is most Robust to outliers.\n",
    "\n",
    "The graph of MSE is differentiable, so you can easily use it as a loss function.\n",
    "\n",
    "As the value obtained from MSE is too big rott mean squared error value is used to bring to normal scale.\n",
    "\n",
    "All the above talks about losses, R2_score tells the performance of your model is present.\n",
    "\n",
    "These  are the most common and best metrics used for regression model comparisons."
   ]
  },
  {
   "cell_type": "markdown",
   "id": "7e4ea787",
   "metadata": {},
   "source": [
    "One can use all these metrics combination to come to a strong conclusion."
   ]
  },
  {
   "cell_type": "markdown",
   "id": "32bd5059",
   "metadata": {},
   "source": [
    "# Issues and Concerns "
   ]
  },
  {
   "cell_type": "code",
   "execution_count": null,
   "id": "88f2f0d4",
   "metadata": {},
   "outputs": [],
   "source": [
    "car.head()"
   ]
  },
  {
   "cell_type": "code",
   "execution_count": null,
   "id": "4bafbd78",
   "metadata": {},
   "outputs": [],
   "source": [
    "car.isnull().sum()"
   ]
  },
  {
   "cell_type": "markdown",
   "id": "63cc8190",
   "metadata": {},
   "source": [
    "As we can see there are no missing values in the dataset. "
   ]
  },
  {
   "cell_type": "code",
   "execution_count": null,
   "id": "38c8a12c",
   "metadata": {},
   "outputs": [],
   "source": [
    "cr.describe()"
   ]
  },
  {
   "cell_type": "code",
   "execution_count": null,
   "id": "a3432408",
   "metadata": {},
   "outputs": [],
   "source": [
    "plt.hist(cr.km_driven)"
   ]
  },
  {
   "cell_type": "markdown",
   "id": "9b77e943",
   "metadata": {},
   "source": [
    "This is also right skewed"
   ]
  },
  {
   "cell_type": "code",
   "execution_count": null,
   "id": "a08579c1",
   "metadata": {},
   "outputs": [],
   "source": [
    "plt.hist(cr.mileage)"
   ]
  },
  {
   "cell_type": "code",
   "execution_count": null,
   "id": "45bf4d77",
   "metadata": {},
   "outputs": [],
   "source": [
    "plt.hist(cr.engine)"
   ]
  },
  {
   "cell_type": "markdown",
   "id": "b0b6523d",
   "metadata": {},
   "source": [
    "This is a little right skewed"
   ]
  },
  {
   "cell_type": "code",
   "execution_count": null,
   "id": "869ee557",
   "metadata": {},
   "outputs": [],
   "source": [
    "plt.hist(cr.max_power)"
   ]
  },
  {
   "cell_type": "markdown",
   "id": "0c690b48",
   "metadata": {},
   "source": [
    "It is right skewed"
   ]
  },
  {
   "cell_type": "markdown",
   "id": "e350c3e8",
   "metadata": {},
   "source": [
    "There is skewness in some features. It can be overcome by log transformation."
   ]
  },
  {
   "cell_type": "markdown",
   "id": "a75ed72d",
   "metadata": {},
   "source": [
    "There were outliers on original dataset which was treated in EDA. The skewness is not that prominent that it will create problems in model training."
   ]
  },
  {
   "cell_type": "markdown",
   "id": "a4a11bf6",
   "metadata": {},
   "source": [
    "The dataset is a clean and relatively a good one there are no issues and much concerns."
   ]
  },
  {
   "cell_type": "code",
   "execution_count": null,
   "id": "bc1cea1a",
   "metadata": {},
   "outputs": [],
   "source": []
  }
 ],
 "metadata": {
  "kernelspec": {
   "display_name": "Python 3",
   "language": "python",
   "name": "python3"
  },
  "language_info": {
   "codemirror_mode": {
    "name": "ipython",
    "version": 3
   },
   "file_extension": ".py",
   "mimetype": "text/x-python",
   "name": "python",
   "nbconvert_exporter": "python",
   "pygments_lexer": "ipython3",
   "version": "3.8.8"
  }
 },
 "nbformat": 4,
 "nbformat_minor": 5
}
